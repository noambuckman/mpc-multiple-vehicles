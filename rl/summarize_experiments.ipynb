{
 "cells": [
  {
   "cell_type": "code",
   "execution_count": 44,
   "metadata": {},
   "outputs": [
    {
     "name": "stdout",
     "output_type": "stream",
     "text": [
      "The autoreload extension is already loaded. To reload it, use:\n",
      "  %reload_ext autoreload\n"
     ]
    }
   ],
   "source": [
    "%load_ext autoreload\n",
    "%autoreload 2\n",
    "\n",
    "from src.multiagent_mpc import MultiMPC \n",
    "from rl.rl_auxilliary import SVODatasetFromLog\n",
    "import numpy as np\n",
    "import glob, json, pickle, os, shutil"
   ]
  },
  {
   "cell_type": "code",
   "execution_count": 51,
   "metadata": {},
   "outputs": [],
   "source": [
    "results_dir = \"/home/nbuckman/mpc_results/rl_txt_0430\"\n",
    "log_dirs = glob.glob(results_directory + \"/*/\")"
   ]
  },
  {
   "cell_type": "code",
   "execution_count": 52,
   "metadata": {},
   "outputs": [],
   "source": [
    "# Remove directories without trajectories\n",
    "for log in log_dirs:\n",
    "    with open(log + \"/params.json\", 'rb') as f:\n",
    "        params = json.load(f)\n",
    "    try:\n",
    "        traj = np.load(log + \"/trajectories.npy\")\n",
    "    except FileNotFoundError:\n",
    "        shutil.rmtree(log)\n",
    "\n",
    "    "
   ]
  },
  {
   "cell_type": "code",
   "execution_count": 53,
   "metadata": {
    "scrolled": true
   },
   "outputs": [],
   "source": [
    "dataset = SVODatasetFromLog(log_dirs)"
   ]
  },
  {
   "cell_type": "code",
   "execution_count": 64,
   "metadata": {},
   "outputs": [
    {
     "data": {
      "text/plain": [
       "{'svos': array([1.56298142, 0.        , 0.        , 1.56298142, 1.56298142,\n",
       "        1.56298142, 0.78539816, 1.56298142, 0.78539816, 0.        ,\n",
       "        1.56298142]),\n",
       " 'values': array([-532.56107852, -446.97256066, -446.9654108 , -446.97255039,\n",
       "        -446.07444902, -444.97164838, -444.29192441, -443.84722101,\n",
       "        -442.96569179, -442.53      , -442.53      ]),\n",
       " 'log': '/home/nbuckman/mpc_results/rl_txt_0430/svorand26_04-26-2021-114129/'}"
      ]
     },
     "execution_count": 64,
     "metadata": {},
     "output_type": "execute_result"
    }
   ],
   "source": [
    "dataset[6]"
   ]
  },
  {
   "cell_type": "code",
   "execution_count": null,
   "metadata": {},
   "outputs": [],
   "source": []
  },
  {
   "cell_type": "code",
   "execution_count": null,
   "metadata": {},
   "outputs": [],
   "source": []
  }
 ],
 "metadata": {
  "kernelspec": {
   "display_name": "Python 3",
   "language": "python",
   "name": "python3"
  },
  "language_info": {
   "codemirror_mode": {
    "name": "ipython",
    "version": 3
   },
   "file_extension": ".py",
   "mimetype": "text/x-python",
   "name": "python",
   "nbconvert_exporter": "python",
   "pygments_lexer": "ipython3",
   "version": "3.7.4"
  },
  "toc": {
   "base_numbering": 1,
   "nav_menu": {},
   "number_sections": true,
   "sideBar": true,
   "skip_h1_title": false,
   "title_cell": "Table of Contents",
   "title_sidebar": "Contents",
   "toc_cell": false,
   "toc_position": {},
   "toc_section_display": true,
   "toc_window_display": false
  }
 },
 "nbformat": 4,
 "nbformat_minor": 4
}
