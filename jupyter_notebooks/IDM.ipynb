{
 "cells": [
  {
   "cell_type": "code",
   "execution_count": 1,
   "metadata": {},
   "outputs": [],
   "source": [
    "%load_ext autoreload\n",
    "%autoreload 2\n",
    "\n",
    "import numpy as np\n",
    "import matplotlib.pyplot as plt\n",
    "import src.solver_helper as helper\n",
    "from src.traffic_world import TrafficWorld\n",
    "from src.car_plotting_multiple import plot_multiple_cars, plot_cars, animate"
   ]
  },
  {
   "cell_type": "code",
   "execution_count": 2,
   "metadata": {},
   "outputs": [],
   "source": [
    "params = {}\n",
    "params[\"T\"] = 3\n",
    "params[\"dt\"] = 0.2\n",
    "params[\"p_exec\"] = 0.4\n",
    "params[\"n_lanes\"] = 2\n",
    "params[\"n_other\"] = 4\n",
    "params[\"car_density\"] = 5000\n",
    "params[\"seed\"] = 1\n",
    "params[\"random_svo\"] = 1\n",
    "\n",
    "i_mpc_start = 0\n",
    "params[\"N\"] = max(1, int(params[\"T\"] / params[\"dt\"]))\n",
    "\n",
    "params[\"number_ctrl_pts_executed\"] = max(1, int(np.floor(params[\"N\"] * params[\"p_exec\"])))\n",
    "\n",
    "### Create the world and vehicle objects\n",
    "world = TrafficWorld(params[\"n_lanes\"], 0, 999999)\n",
    "\n",
    "### Create the vehicle placement based on a Poisson distribution\n",
    "MAX_VELOCITY = 25 * 0.447  # m/s\n",
    "VEHICLE_LENGTH = 4.5  # m\n",
    "time_duration_s = (params[\"n_other\"] * 3600.0 /\n",
    "                   params[\"car_density\"]) * 10  # amount of time to generate traffic\n",
    "initial_vehicle_positions = helper.poission_positions(params[\"car_density\"],\n",
    "                                                      int(time_duration_s),\n",
    "                                                      params[\"n_lanes\"],\n",
    "                                                      MAX_VELOCITY,\n",
    "                                                      VEHICLE_LENGTH,\n",
    "                                                      position_random_seed=params[\"seed\"])\n",
    "position_list = initial_vehicle_positions[:params[\"n_other\"]]\n",
    "\n",
    "### Create the SVOs for each vehicle\n",
    "if params[\"random_svo\"] == 1:\n",
    "    list_of_svo = [np.random.choice([0, np.pi / 4.0, np.pi / 2.01]) for i in range(params[\"n_other\"])]\n",
    "else:\n",
    "    list_of_svo = [params[\"svo_theta\"] for i in range(params[\"n_other\"])]\n",
    "\n",
    "(ambulance, amb_x0, all_other_vehicles,\n",
    " all_other_x0) = helper.initialize_cars_from_positions(params[\"N\"], params[\"dt\"], world, True, position_list,\n",
    "                                                       list_of_svo)\n"
   ]
  },
  {
   "cell_type": "code",
   "execution_count": 3,
   "metadata": {
    "scrolled": true
   },
   "outputs": [
    {
     "data": {
      "image/png": "[encoded data removed]",
      "text/plain": [
       "<Figure size 1920x1080 with 1 Axes>"
      ]
     },
     "metadata": {
      "needs_background": "light"
     },
     "output_type": "display_data"
    }
   ],
   "source": [
    "plot_multiple_cars(0, world, ambulance, amb_x0.reshape(6,1), [x.reshape(6,1) for x in all_other_x0], \n",
    "          None, car_labels = [str(i) for i in range(len(all_other_x0))])\n",
    "plt.show()"
   ]
  },
  {
   "cell_type": "code",
   "execution_count": 4,
   "metadata": {},
   "outputs": [
    {
     "name": "stdout",
     "output_type": "stream",
     "text": [
      "0 [13.25666717  0.        ]\n",
      "1 [50.96625915  0.        ]\n",
      "2 [71.54523846  3.7       ]\n",
      "3 [81.20876602  0.        ]\n"
     ]
    }
   ],
   "source": [
    "for i in range(len(all_other_x0)):\n",
    "    print(i, all_other_x0[i][0:2], )"
   ]
  },
  {
   "cell_type": "code",
   "execution_count": 5,
   "metadata": {},
   "outputs": [
    {
     "name": "stdout",
     "output_type": "stream",
     "text": [
      "Veh Amb, Lead 0\n",
      "Veh 0, Lead 1\n",
      "Veh 1, Lead 3\n",
      "Veh 2, Lead: None\n",
      "Veh 3, Lead: None\n"
     ]
    }
   ],
   "source": [
    "lead_veh = helper.get_lead_vehicle(amb_x0, all_other_x0, world)\n",
    "if lead_veh is None:\n",
    "    print(\"Veh Amb, Lead: None\")\n",
    "else:\n",
    "    print(\"Veh Amb, Lead %d\"%(lead_veh))\n",
    "for i in range(len(all_other_x0)):\n",
    "    dummy_x0 = all_other_x0[i] - 10000\n",
    "    ado_x0s = all_other_x0[:i] + [dummy_x0] + all_other_x0[i+1:]  + [amb_x0]\n",
    "    lead_veh = helper.get_lead_vehicle(all_other_x0[i], ado_x0s, world)\n",
    "    if lead_veh is None:\n",
    "        print(\"Veh %d, Lead: None\"%(i))\n",
    "    else:\n",
    "        print(\"Veh %d, Lead %d\"%(i, lead_veh))\n"
   ]
  },
  {
   "cell_type": "code",
   "execution_count": null,
   "metadata": {
    "scrolled": true
   },
   "outputs": [],
   "source": [
    "N_total = 300\n",
    "X_other = [np.zeros((6, N_total+1)) for i in range(len(all_other_vehicles))]\n",
    "X_amb = np.zeros((6,N_total+1))\n",
    "\n",
    "X_amb[:,0] = amb_x0\n",
    "for i in range(len(X_other)):\n",
    "    X_other[i][:,0] = all_other_x0[i]\n",
    "\n",
    "    \n",
    "idm_params = {\n",
    "    \"desired_time_gap\": .2,\n",
    "    \"jam_distance\": 0.5,\n",
    "}\n",
    "# idm_params = None\n",
    "\n",
    "for t in range(N_total):\n",
    "    current_other_x0 = [X_other[i][:,t] for i in range(len(X_other))]\n",
    "    current_amb_x0 = X_amb[:,t]\n",
    "#     print(\"Current other:\", current_other_x0)\n",
    "#     print(\"Current amb:\", current_amb_x0)\n",
    "\n",
    "    # Mobile lane change\n",
    "    driver_x0 = X_amb[:,t]\n",
    "    driver_veh = ambulance\n",
    "    all_other_x0 = current_other_x0\n",
    "    MOBIL_params = {\n",
    "        \"politeness_factor\": 0.1,\n",
    "    }\n",
    "    lane, accel = helper.MOBIL_lanechange(driver_x0, driver_veh, all_other_x0, all_other_veh, world, MOBIL_params, idm_params)\n",
    "    if lane is not None:\n",
    "#         if t==128:\n",
    "#             raise Exception(\"Lane change at t=128\")\n",
    "\n",
    "        print(\"Lane change at t=%d\"%t)\n",
    "        new_y = world.get_lane_centerline_y(lane)\n",
    "        X_amb[1,t] = new_y\n",
    "    current_amb_x0 = X_amb[:, t]\n",
    "\n",
    "    # Ambulance\n",
    "    lead_veh = helper.get_lead_vehicle(current_amb_x0, current_other_x0, world)\n",
    "    if lead_veh is None:\n",
    "        x_lead = None\n",
    "        v_lead = None\n",
    "    else:\n",
    "        x_lead = current_other_x0[lead_veh]\n",
    "    X_0 = current_amb_x0\n",
    "    N=10\n",
    "    U_ego, X_ego, X_des = helper.IDM_trajectory_prediction(ambulance, N, X_0, x_lead, desired_speed=None, idm_params=idm_params)\n",
    "    X_amb[:,t+1] = X_ego[:,1]\n",
    "    \n",
    "\n",
    "    \n",
    "    print(\"Amb\", X_amb[:,t+1])\n",
    "    # Other vehicles\n",
    "    for ego_idx in range(len(all_other_vehicles)):\n",
    "        N = 1\n",
    "                           \n",
    "    \n",
    "        # Mobile lane change\n",
    "        driver_x0 = current_other_x0[ego_idx] \n",
    "        driver_veh = all_other_vehicles[ego_idx]\n",
    "        all_other_x0 = current_other_x0[:ego_idx] + current_other_x0[ego_idx+1:]  + [current_amb_x0]   \n",
    "        all_other_veh = all_other_vehicles[:ego_idx] + all_other_vehicles[ego_idx+1:]  + [ambulance]    \n",
    "        \n",
    "        MOBIL_params = {\n",
    "            \"politeness_factor\": 0.1,\n",
    "        }\n",
    "        lane, accel = helper.MOBIL_lanechange(driver_x0, driver_veh, all_other_x0, all_other_veh, world, MOBIL_params, idm_params)\n",
    "        if lane is not None:\n",
    "            print(\"Lane change at t=%d\"%t)\n",
    "            new_y = world.get_lane_centerline_y(lane)\n",
    "            X_other[ego_idx][1,t] = new_y\n",
    "        current_other_x0[ego_idx] = X_other[ego_idx][:, t]        \n",
    "        \n",
    "        \n",
    "        \n",
    "        X_0 = current_other_x0[ego_idx]\n",
    "        dummy_x0 = current_other_x0[ego_idx] - 10000\n",
    "        ado_x0s = current_other_x0[:ego_idx] + [dummy_x0] + current_other_x0[ego_idx+1:]  + [current_amb_x0]\n",
    "        lead_veh = helper.get_lead_vehicle(current_other_x0[ego_idx], ado_x0s, world)    \n",
    "\n",
    "        if lead_veh is None:\n",
    "            x_lead = None\n",
    "            v_lead = None\n",
    "        else:\n",
    "            x_lead = ado_x0s[lead_veh]\n",
    "\n",
    "\n",
    "        U_ego, X_ego, X_des = helper.IDM_trajectory_prediction(all_other_vehicles[ego_idx], N, X_0, x_lead, desired_speed=None, idm_params=idm_params)\n",
    "        \n",
    "        X_other[ego_idx][:,t+1] = X_ego[:, 1]\n",
    "        \n",
    "        \n",
    "\n",
    "        \n",
    "        \n",
    "        \n",
    "        \n",
    "        \n",
    "#         print(ego_idx, X_ego[:,1])"
   ]
  },
  {
   "cell_type": "code",
   "execution_count": null,
   "metadata": {},
   "outputs": [],
   "source": [
    "temp_folder = \"/home/nbuckman/mpc-multiple-vehicles/jupyter_notebooks/temp/\"\n",
    "plot_cars(world, ambulance, X_amb, X_other, temp_folder, \"image\")"
   ]
  },
  {
   "cell_type": "code",
   "execution_count": null,
   "metadata": {},
   "outputs": [],
   "source": [
    "vid_fname = temp_folder + \"MOBIL_Egoistic.mp4\"\n",
    "animate(temp_folder, vid_fname, fps=16)"
   ]
  },
  {
   "cell_type": "code",
   "execution_count": null,
   "metadata": {},
   "outputs": [],
   "source": [
    "from IPython.display import Video\n",
    "\n",
    "Video(vid_fname, embed=True, width=1024)"
   ]
  },
  {
   "cell_type": "code",
   "execution_count": null,
   "metadata": {},
   "outputs": [],
   "source": [
    "plot_multiple_cars(0, world, ambulance, np.zeros((6,1)), [np.array([[6, 0,0,0,0,0]]).T], \n",
    "              None, car_plot_shape = 'both')\n",
    "plt.show()"
   ]
  },
  {
   "cell_type": "code",
   "execution_count": null,
   "metadata": {},
   "outputs": [],
   "source": [
    "plot_multiple_cars(0, world, ambulance, np.zeros((6,1)), [np.array([[ambulance.L, 0,0,0,0,0]]).T], \n",
    "              None, car_plot_shape = 'image')\n",
    "plt.show()"
   ]
  },
  {
   "cell_type": "code",
   "execution_count": null,
   "metadata": {},
   "outputs": [],
   "source": [
    "np.array([[6, 0,0,0,0,0]]).shape"
   ]
  },
  {
   "cell_type": "code",
   "execution_count": null,
   "metadata": {},
   "outputs": [],
   "source": [
    "# driver_idx = 1\n",
    "# driver_x0 = X_other[driver_idx][:,-1]\n",
    "# driver_veh = all_other_vehicles[driver_idx]\n",
    "# all_other_x0 = [X_other[idx][:,-1] for idx in range(1,len(X_other)) if idx!=driver_idx] + [amb_x0]\n",
    "# all_other_veh = [all_other_vehicles[idx] for idx in range(1,len(X_other)) if idx!=driver_idx] + [ambulance]\n"
   ]
  },
  {
   "cell_type": "code",
   "execution_count": null,
   "metadata": {},
   "outputs": [],
   "source": [
    "driver_x0 = X_amb[:, -1]\n",
    "driver_veh = ambulance\n",
    "all_other_x0 = [X_other[idx][:,-1] for idx in range(1,len(X_other))] \n",
    "all_other_veh = [all_other_vehicles[idx] for idx in range(1,len(X_other))]\n"
   ]
  },
  {
   "cell_type": "code",
   "execution_count": null,
   "metadata": {},
   "outputs": [],
   "source": [
    "plot_multiple_cars(0, world, ambulance, driver_x0.reshape(6,1), [x.reshape(6,1) for x in all_other_x0], \n",
    "          None, car_labels = [str(i) for i in range(len(all_other_x0))])\n",
    "plt.show()"
   ]
  },
  {
   "cell_type": "code",
   "execution_count": null,
   "metadata": {},
   "outputs": [],
   "source": [
    "\n",
    "MOBIL_params = {}\n",
    "\n",
    "lane, accel = helper.MOBIL_lanechange(driver_x0, driver_veh, all_other_x0, all_other_veh, world, MOBIL_params, idm_params)\n"
   ]
  },
  {
   "cell_type": "code",
   "execution_count": null,
   "metadata": {},
   "outputs": [],
   "source": [
    "lane"
   ]
  },
  {
   "cell_type": "code",
   "execution_count": null,
   "metadata": {},
   "outputs": [],
   "source": [
    "lane"
   ]
  },
  {
   "cell_type": "code",
   "execution_count": null,
   "metadata": {},
   "outputs": [],
   "source": [
    "accel"
   ]
  },
  {
   "cell_type": "code",
   "execution_count": null,
   "metadata": {},
   "outputs": [],
   "source": []
  },
  {
   "cell_type": "code",
   "execution_count": null,
   "metadata": {},
   "outputs": [],
   "source": [
    "default_MOBIL_params = {\n",
    "    \"politeness_factor\": 0.5,\n",
    "    \"changing_threshold\": 0.1,\n",
    "    \"maximum_safe_deceleration\": 4,\n",
    "    \"bias_for_right_lane\": 0.3\n",
    "}\n",
    "if MOBIL_params:\n",
    "    for param in MOBIL_params:\n",
    "        try:\n",
    "            default_MOBIL_params[param] = MOBIL_params[param]\n",
    "        except KeyError:\n",
    "            raise Exception(\"Key Error:  Check if MOBIL Param is correct\")\n",
    "\n",
    "p = default_MOBIL_params[\"politeness_factor\"]\n",
    "a_thr = default_MOBIL_params[\"changing_threshold\"]\n",
    "b_safe = default_MOBIL_params[\"maximum_safe_deceleration\"]\n",
    "a_bias = default_MOBIL_params[\"bias_for_right_lane\"]\n",
    "\n",
    "\n",
    "safety_criteria = accel[\"newfollower_after\"] >= -b_safe\n",
    "\n",
    "driver_incentive = accel[\"driver_after\"] - accel[\"driver_before\"]\n",
    "new_follower_incentive = accel[\"newfollower_after\"] - accel[\"newfollower_before\"]\n",
    "old_follower_incentive = accel[\"oldfollower_after\"] - accel[\"oldfollower_before\"]\n",
    "\n",
    "incentive_criteria = (driver_incentive + p * (new_follower_incentive + old_follower_incentive)) >= (a_thr)"
   ]
  },
  {
   "cell_type": "code",
   "execution_count": null,
   "metadata": {},
   "outputs": [],
   "source": [
    "driver_incentive"
   ]
  },
  {
   "cell_type": "code",
   "execution_count": null,
   "metadata": {},
   "outputs": [],
   "source": [
    "((new_follower_incentive + old_follower_incentive)*p + driver_incentive >= a_thr)"
   ]
  },
  {
   "cell_type": "code",
   "execution_count": null,
   "metadata": {},
   "outputs": [],
   "source": [
    "a_thr"
   ]
  },
  {
   "cell_type": "code",
   "execution_count": null,
   "metadata": {},
   "outputs": [],
   "source": []
  }
 ],
 "metadata": {
  "kernelspec": {
   "display_name": "Python 3",
   "language": "python",
   "name": "python3"
  },
  "language_info": {
   "codemirror_mode": {
    "name": "ipython",
    "version": 3
   },
   "file_extension": ".py",
   "mimetype": "text/x-python",
   "name": "python",
   "nbconvert_exporter": "python",
   "pygments_lexer": "ipython3",
   "version": "3.8.3"
  }
 },
 "nbformat": 4,
 "nbformat_minor": 4
}
