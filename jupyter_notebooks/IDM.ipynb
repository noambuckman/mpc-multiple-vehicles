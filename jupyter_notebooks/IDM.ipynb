{
 "cells": [
  {
   "cell_type": "code",
   "execution_count": null,
   "metadata": {},
   "outputs": [],
   "source": [
    "%load_ext autoreload\n",
    "%autoreload 2\n",
    "\n",
    "import numpy as np\n",
    "import matplotlib.pyplot as plt\n",
    "import src.solver_helper as helper\n",
    "from src.traffic_world import TrafficWorld\n",
    "from src.car_plotting_multiple import plot_multiple_cars, plot_cars, animate, plot_single_frame\n",
    "from src.multiagent_mpc import MultiMPC, generate_warm_starts\n",
    "from src.vehicle import Vehicle\n",
    "from src.idm import IDM_acceleration, IDM_trajectory_prediction, get_lead_vehicle, MOBIL_lanechange\n",
    "from contextlib import redirect_stdout\n"
   ]
  },
  {
   "cell_type": "code",
   "execution_count": null,
   "metadata": {},
   "outputs": [],
   "source": [
    "params = {}\n",
    "params[\"T\"] = 3\n",
    "params[\"dt\"] = 0.2\n",
    "params[\"p_exec\"] = 0.4\n",
    "params[\"n_lanes\"] = 2\n",
    "params[\"n_other\"] = 4\n",
    "params[\"car_density\"] = 5000\n",
    "params[\"seed\"] = 0\n",
    "params[\"random_svo\"] = 1\n",
    "params[\"wall_CA\"] = 0\n",
    "\n",
    "i_mpc_start = 0\n",
    "params[\"N\"] = max(1, int(params[\"T\"] / params[\"dt\"]))\n",
    "\n",
    "params[\"number_ctrl_pts_executed\"] = max(1, int(np.floor(params[\"N\"] * params[\"p_exec\"])))\n",
    "\n",
    "### Create the world and vehicle objects\n",
    "world = TrafficWorld(params[\"n_lanes\"], 0, 999999)\n",
    "\n",
    "### Create the vehicle placement based on a Poisson distribution\n",
    "MAX_VELOCITY = 25 * 0.447  # m/s\n",
    "VEHICLE_LENGTH = 4.5  # m\n",
    "time_duration_s = (params[\"n_other\"] * 3600.0 /\n",
    "                   params[\"car_density\"]) * 10  # amount of time to generate traffic\n",
    "initial_vehicle_positions = helper.poission_positions(params[\"car_density\"],\n",
    "                                                      int(time_duration_s),\n",
    "                                                      params[\"n_lanes\"],\n",
    "                                                      MAX_VELOCITY,\n",
    "                                                      VEHICLE_LENGTH,\n",
    "                                                      position_random_seed=params[\"seed\"])\n",
    "position_list = initial_vehicle_positions[:params[\"n_other\"]]\n",
    "\n",
    "### Create the SVOs for each vehicle\n",
    "if params[\"random_svo\"] == 1:\n",
    "    list_of_svo = [np.random.choice([0, np.pi / 4.0, np.pi / 2.01]) for i in range(params[\"n_other\"])]\n",
    "else:\n",
    "    list_of_svo = [params[\"svo_theta\"] for i in range(params[\"n_other\"])]\n",
    "\n",
    "(ambulance, amb_x0, all_other_vehicles,\n",
    " all_other_x0) = helper.initialize_cars_from_positions(params[\"N\"], params[\"dt\"], world, True, position_list,\n",
    "                                                       list_of_svo)\n"
   ]
  },
  {
   "cell_type": "code",
   "execution_count": null,
   "metadata": {
    "scrolled": true
   },
   "outputs": [],
   "source": [
    "plot_multiple_cars(0, world, ambulance, amb_x0.reshape(6,1), [x.reshape(6,1) for x in all_other_x0], \n",
    "          None, car_labels = [str(i) for i in range(len(all_other_x0))])\n",
    "plt.show()"
   ]
  },
  {
   "cell_type": "code",
   "execution_count": null,
   "metadata": {
    "scrolled": true
   },
   "outputs": [],
   "source": [
    "N_total = 300\n",
    "X_other = [np.zeros((6, N_total+1)) for i in range(len(all_other_vehicles))]\n",
    "X_amb = np.zeros((6,N_total+1))\n",
    "\n",
    "X_amb[:,0] = amb_x0\n",
    "for i in range(len(X_other)):\n",
    "    X_other[i][:,0] = all_other_x0[i]\n",
    "\n",
    "    \n",
    "idm_params = {\n",
    "    \"desired_time_gap\": 0.1,\n",
    "    \"jam_distance\": 4,\n",
    "}\n",
    "\n",
    "# out_file = open('/dev/null','rb')\n",
    "\n",
    "for t in range(N_total):\n",
    "    print(t)\n",
    "    current_other_x0 = [X_other[i][:,t] for i in range(len(X_other))]\n",
    "    current_amb_x0 = X_amb[:,t]\n",
    "    current_other_veh = [all_other_vehicles[i] for i in range(len(X_other))]\n",
    "\n",
    "    # Mobile lane change\n",
    "    driver_x0 = current_amb_x0\n",
    "    driver_veh = ambulance\n",
    "    all_other_x0 = current_other_x0\n",
    "    MOBIL_params = {\n",
    "        \"politeness_factor\": 0.1,\n",
    "    }\n",
    "    # Compute whether lane change occurs\n",
    "    desired_lane = True\n",
    "    new_lane, accel = MOBIL_lanechange(driver_x0, driver_veh, all_other_x0, current_other_veh, world, desired_lane,\n",
    "                                       MOBIL_params, idm_params)\n",
    "    if new_lane is not None:\n",
    "        driver_veh.update_desired_lane(world, new_lane, True)\n",
    "    # Compute IDM acceleration (ambulance)\n",
    "    lead_veh = get_lead_vehicle(current_amb_x0, current_other_x0, world)\n",
    "    if lead_veh is None:\n",
    "        x_lead = current_amb_x0 + 999999\n",
    "        v_lead = 999999\n",
    "    else:\n",
    "        x_lead = current_other_x0[lead_veh]\n",
    "        v_lead = x_lead[4] * np.cos(x_lead[2])\n",
    "\n",
    "    v_current = current_amb_x0[4] * np.cos(current_amb_x0[2])\n",
    "    v_desired = ambulance.max_v\n",
    "    bumper_distance = x_lead[0] - current_amb_x0[0] \n",
    "\n",
    "    idm_params[\"maximum_acceleration\"] = ambulance.max_acceleration \n",
    "    a_IDM = IDM_acceleration(bumper_distance, v_lead, v_current, v_desired, idm_params)\n",
    "    \n",
    "    # Solve for steering angle\n",
    "    ambulance.k_lat = 5.0\n",
    "    ambulance.k_lan = 2.0\n",
    "    ambulance.k_x_dot = 0.0\n",
    "    ambulance.k_final = 0.0\n",
    "    \n",
    "    solver_params = {\n",
    "        \"k_slack\" : 1000,\n",
    "        \"k_CA\": 0.05,\n",
    "        \"k_CA_power\": 1.0,\n",
    "#         \"constant_v\": True,\n",
    "    }\n",
    "    \n",
    "    warm_starts = generate_warm_starts(ambulance, world, current_amb_x0, [], params)\n",
    "    u=None    \n",
    "    for k_warm in warm_starts:\n",
    "        try:\n",
    "            steering_mpc = MultiMPC(ambulance, [], [], world, solver_params)\n",
    "            n_mpc = 5\n",
    "            steering_mpc.generate_optimization(params[\"N\"], current_amb_x0, [], [], params=params, ipopt_params = {'print_level':0})\n",
    "            \n",
    "            u_warm, x_warm, x_des_warm = warm_starts[k_warm]\n",
    "\n",
    "            steering_mpc.opti.set_initial(steering_mpc.u_ego, u_warm)\n",
    "            steering_mpc.opti.set_initial(steering_mpc.x_ego, x_warm)\n",
    "            steering_mpc.opti.set_initial(steering_mpc.xd_ego, x_des_warm)\n",
    "#             with redirect_stdout(out_file):\n",
    "            steering_mpc.solve(None, None)\n",
    "            _, u, _ = steering_mpc.get_bestresponse_solution()            \n",
    "        except RuntimeError:\n",
    "            print(\"Solver didn't work\")\n",
    "            \n",
    "        if u is not None:\n",
    "            break\n",
    "    if u is None:\n",
    "        raise Exception(\"Solver didn't solve\")\n",
    "        \n",
    "    # Update control and step the simulator    \n",
    "    u_ego = np.array([[u[0,0]],[a_IDM*ambulance.dt]])\n",
    "    \n",
    "    # Update state with new control inputs\n",
    "    x_ego_traj, _ = ambulance.forward_simulate_all(current_amb_x0, u_ego)    \n",
    "    X_amb[:,t+1] = x_ego_traj[:, 1]\n",
    "    \n",
    "\n",
    "    # Other vehicles\n",
    "    for ego_idx in range(len(all_other_vehicles)):\n",
    "        N = 1\n",
    "                           \n",
    "    \n",
    "        # Mobile lane change\n",
    "        driver_x0 = current_other_x0[ego_idx] \n",
    "        driver_veh = all_other_vehicles[ego_idx]\n",
    "        all_other_x0 = current_other_x0[:ego_idx] + current_other_x0[ego_idx+1:]  + [current_amb_x0]   \n",
    "        all_other_veh = all_other_vehicles[:ego_idx] + all_other_vehicles[ego_idx+1:]  + [ambulance]    \n",
    "        \n",
    "        MOBIL_params = {\n",
    "            \"politeness_factor\": 0.5,\n",
    "        }\n",
    "        new_lane, accel = MOBIL_lanechange(driver_x0, driver_veh, all_other_x0, all_other_veh, world, desired_lane,\n",
    "                                       MOBIL_params, idm_params)\n",
    "        if new_lane is not None:\n",
    "            driver_veh.update_desired_lane(world, new_lane, True)\n",
    "       \n",
    "        \n",
    "        driver_x0 = current_other_x0[ego_idx]\n",
    "        dummy_x0 = current_other_x0[ego_idx] - 10000\n",
    "        ado_x0s = current_other_x0[:ego_idx] + [dummy_x0] + current_other_x0[ego_idx+1:]  + [current_amb_x0]\n",
    "        \n",
    "        lead_veh = get_lead_vehicle(current_other_x0[ego_idx], ado_x0s, world)    \n",
    "        if lead_veh is None:\n",
    "            x_lead = driver_x0 + 999999\n",
    "            v_lead = 999999\n",
    "        else:\n",
    "            x_lead = ado_x0s[lead_veh]\n",
    "            v_lead = x_lead[4] * np.cos(x_lead[2])\n",
    "\n",
    "        v_current = driver_x0[4] * np.cos(driver_x0[2])\n",
    "        v_desired = driver_veh.max_v\n",
    "#         v_desired = 0.001\n",
    "        v_desired = driver_veh.max_v * .5\n",
    "        bumper_distance = x_lead[0] - driver_x0[0] \n",
    "\n",
    "        idm_params[\"maximum_acceleration\"] = driver_veh.max_acceleration \n",
    "        a_IDM = IDM_acceleration(bumper_distance, v_lead, v_current, v_desired, idm_params)        \n",
    "                    \n",
    "            \n",
    "            \n",
    "\n",
    "\n",
    "    # Solve for steering angle\n",
    "        driver_veh.k_lat = 5.0\n",
    "        driver_veh.k_lan = 2.0\n",
    "        driver_veh.k_x_dot = 0.0\n",
    "        driver_veh.k_final = 0.0\n",
    "\n",
    "        solver_params = {\n",
    "            \"k_slack\" : 1000,\n",
    "            \"k_CA\": 0.05,\n",
    "            \"k_CA_power\": 1.0,\n",
    "    #         \"constant_v\": True,\n",
    "        }\n",
    "\n",
    "        warm_starts = generate_warm_starts(driver_veh, world, driver_x0, [], params)\n",
    "        u = None    \n",
    "        for k_warm in warm_starts:\n",
    "            try:\n",
    "                steering_mpc = MultiMPC(driver_veh, [], [], world, solver_params)\n",
    "                n_mpc = 5\n",
    "                steering_mpc.generate_optimization(params[\"N\"], driver_x0, [], [], params=params, ipopt_params = {'print_level':0})\n",
    "\n",
    "                u_warm, x_warm, x_des_warm = warm_starts[k_warm]\n",
    "\n",
    "                steering_mpc.opti.set_initial(steering_mpc.u_ego, u_warm)\n",
    "                steering_mpc.opti.set_initial(steering_mpc.x_ego, x_warm)\n",
    "                steering_mpc.opti.set_initial(steering_mpc.xd_ego, x_des_warm)\n",
    "#                 with redirect_stdout(out_file):\n",
    "                steering_mpc.solve(None, None)\n",
    "                _, u, _ = steering_mpc.get_bestresponse_solution()            \n",
    "            except RuntimeError:\n",
    "                print(\"Solver didn't work\")\n",
    "\n",
    "            if u is not None:\n",
    "                break\n",
    "        if u is None:\n",
    "            raise Exception(\"Solver didn't solve\")\n",
    "\n",
    "        # Update control and step the simulator    \n",
    "        u_ego = np.array([[u[0,0]],[a_IDM*driver_veh.dt]])\n",
    "\n",
    "        # Update state with new control inputs\n",
    "        x_ego_traj, _ = driver_veh.forward_simulate_all(driver_x0, u_ego)    \n",
    "        X_other[ego_idx][:,t+1] = x_ego_traj[:, 1]\n",
    "\n",
    "\n",
    "\n",
    "        \n",
    "        \n",
    "        \n",
    "        \n",
    "        \n",
    "#         print(ego_idx, X_ego[:,1])"
   ]
  },
  {
   "cell_type": "code",
   "execution_count": null,
   "metadata": {},
   "outputs": [],
   "source": [
    "X_amb = X_amb[:, :t+1]\n",
    "X_other = [x[:,:t+1] for x in X_other]"
   ]
  },
  {
   "cell_type": "code",
   "execution_count": null,
   "metadata": {},
   "outputs": [],
   "source": [
    "dummy_veh = Vehicle(0.2)"
   ]
  },
  {
   "cell_type": "code",
   "execution_count": null,
   "metadata": {},
   "outputs": [],
   "source": [
    "temp_folder = \"/home/nbuckman/mpc-multiple-vehicles/jupyter_notebooks/temp/\"\n",
    "plot_cars(world, dummy_veh, X_amb, X_other, temp_folder, \"image\")"
   ]
  },
  {
   "cell_type": "code",
   "execution_count": null,
   "metadata": {},
   "outputs": [],
   "source": [
    "vid_fname = temp_folder + \"imgs/MOBIL_halfspeed.mp4\"\n",
    "animate(temp_folder, vid_fname, fps=16)"
   ]
  },
  {
   "cell_type": "code",
   "execution_count": null,
   "metadata": {},
   "outputs": [],
   "source": [
    "from IPython.display import Video\n",
    "\n",
    "Video(vid_fname, embed=True, width=1024)"
   ]
  },
  {
   "cell_type": "code",
   "execution_count": null,
   "metadata": {},
   "outputs": [],
   "source": [
    "vid_fname = temp_folder + \"MOBIL_Egoistic.mp4\"\n",
    "animate(temp_folder, vid_fname, fps=16)"
   ]
  },
  {
   "cell_type": "code",
   "execution_count": null,
   "metadata": {},
   "outputs": [],
   "source": [
    "plot_multiple_cars(0, world, ambulance, np.zeros((6,1)), [np.array([[6, 0,0,0,0,0]]).T], \n",
    "              None, car_plot_shape = 'both')\n",
    "plt.show()"
   ]
  },
  {
   "cell_type": "code",
   "execution_count": null,
   "metadata": {},
   "outputs": [],
   "source": [
    "plot_multiple_cars(0, world, ambulance, np.zeros((6,1)), [np.array([[ambulance.L, 0,0,0,0,0]]).T], \n",
    "              None, car_plot_shape = 'image')\n",
    "plt.show()"
   ]
  },
  {
   "cell_type": "code",
   "execution_count": null,
   "metadata": {},
   "outputs": [],
   "source": [
    "np.array([[6, 0,0,0,0,0]]).shape"
   ]
  },
  {
   "cell_type": "code",
   "execution_count": null,
   "metadata": {},
   "outputs": [],
   "source": [
    "# driver_idx = 1\n",
    "# driver_x0 = X_other[driver_idx][:,-1]\n",
    "# driver_veh = all_other_vehicles[driver_idx]\n",
    "# all_other_x0 = [X_other[idx][:,-1] for idx in range(1,len(X_other)) if idx!=driver_idx] + [amb_x0]\n",
    "# all_other_veh = [all_other_vehicles[idx] for idx in range(1,len(X_other)) if idx!=driver_idx] + [ambulance]\n"
   ]
  },
  {
   "cell_type": "code",
   "execution_count": null,
   "metadata": {},
   "outputs": [],
   "source": [
    "driver_x0 = X_amb[:, -1]\n",
    "driver_veh = ambulance\n",
    "all_other_x0 = [X_other[idx][:,-1] for idx in range(1,len(X_other))] \n",
    "all_other_veh = [all_other_vehicles[idx] for idx in range(1,len(X_other))]\n"
   ]
  },
  {
   "cell_type": "code",
   "execution_count": null,
   "metadata": {},
   "outputs": [],
   "source": [
    "plot_multiple_cars(0, world, ambulance, driver_x0.reshape(6,1), [x.reshape(6,1) for x in all_other_x0], \n",
    "          None, car_labels = [str(i) for i in range(len(all_other_x0))])\n",
    "plt.show()"
   ]
  },
  {
   "cell_type": "code",
   "execution_count": null,
   "metadata": {},
   "outputs": [],
   "source": [
    "\n",
    "MOBIL_params = {}\n",
    "\n",
    "lane, accel = helper.MOBIL_lanechange(driver_x0, driver_veh, all_other_x0, all_other_veh, world, MOBIL_params, idm_params)\n"
   ]
  },
  {
   "cell_type": "code",
   "execution_count": null,
   "metadata": {},
   "outputs": [],
   "source": [
    "lane"
   ]
  },
  {
   "cell_type": "code",
   "execution_count": null,
   "metadata": {},
   "outputs": [],
   "source": [
    "lane"
   ]
  },
  {
   "cell_type": "code",
   "execution_count": null,
   "metadata": {},
   "outputs": [],
   "source": [
    "accel"
   ]
  },
  {
   "cell_type": "code",
   "execution_count": null,
   "metadata": {},
   "outputs": [],
   "source": []
  },
  {
   "cell_type": "code",
   "execution_count": null,
   "metadata": {},
   "outputs": [],
   "source": [
    "default_MOBIL_params = {\n",
    "    \"politeness_factor\": 0.5,\n",
    "    \"changing_threshold\": 0.1,\n",
    "    \"maximum_safe_deceleration\": 4,\n",
    "    \"bias_for_right_lane\": 0.3\n",
    "}\n",
    "if MOBIL_params:\n",
    "    for param in MOBIL_params:\n",
    "        try:\n",
    "            default_MOBIL_params[param] = MOBIL_params[param]\n",
    "        except KeyError:\n",
    "            raise Exception(\"Key Error:  Check if MOBIL Param is correct\")\n",
    "\n",
    "p = default_MOBIL_params[\"politeness_factor\"]\n",
    "a_thr = default_MOBIL_params[\"changing_threshold\"]\n",
    "b_safe = default_MOBIL_params[\"maximum_safe_deceleration\"]\n",
    "a_bias = default_MOBIL_params[\"bias_for_right_lane\"]\n",
    "\n",
    "\n",
    "safety_criteria = accel[\"newfollower_after\"] >= -b_safe\n",
    "\n",
    "driver_incentive = accel[\"driver_after\"] - accel[\"driver_before\"]\n",
    "new_follower_incentive = accel[\"newfollower_after\"] - accel[\"newfollower_before\"]\n",
    "old_follower_incentive = accel[\"oldfollower_after\"] - accel[\"oldfollower_before\"]\n",
    "\n",
    "incentive_criteria = (driver_incentive + p * (new_follower_incentive + old_follower_incentive)) >= (a_thr)"
   ]
  },
  {
   "cell_type": "code",
   "execution_count": null,
   "metadata": {},
   "outputs": [],
   "source": [
    "driver_incentive"
   ]
  },
  {
   "cell_type": "code",
   "execution_count": null,
   "metadata": {},
   "outputs": [],
   "source": [
    "((new_follower_incentive + old_follower_incentive)*p + driver_incentive >= a_thr)"
   ]
  },
  {
   "cell_type": "code",
   "execution_count": null,
   "metadata": {},
   "outputs": [],
   "source": [
    "a_thr"
   ]
  },
  {
   "cell_type": "code",
   "execution_count": null,
   "metadata": {},
   "outputs": [],
   "source": []
  }
 ],
 "metadata": {
  "kernelspec": {
   "display_name": "Python 3",
   "language": "python",
   "name": "python3"
  },
  "language_info": {
   "codemirror_mode": {
    "name": "ipython",
    "version": 3
   },
   "file_extension": ".py",
   "mimetype": "text/x-python",
   "name": "python",
   "nbconvert_exporter": "python",
   "pygments_lexer": "ipython3",
   "version": "3.8.3"
  }
 },
 "nbformat": 4,
 "nbformat_minor": 4
}
