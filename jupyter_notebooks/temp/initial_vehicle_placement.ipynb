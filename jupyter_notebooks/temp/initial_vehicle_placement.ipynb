{
 "cells": [
  {
   "cell_type": "code",
   "execution_count": 197,
   "id": "a0efa5fc",
   "metadata": {},
   "outputs": [
    {
     "name": "stdout",
     "output_type": "stream",
     "text": [
      "The autoreload extension is already loaded. To reload it, use:\n",
      "  %reload_ext autoreload\n"
     ]
    }
   ],
   "source": [
    "%load_ext autoreload\n",
    "%autoreload 2\n",
    "\n",
    "import matplotlib.pyplot as plt\n",
    "import matplotlib.patches as patches\n",
    "import numpy as np\n",
    "from collections import deque"
   ]
  },
  {
   "cell_type": "code",
   "execution_count": 243,
   "id": "d81ff67b",
   "metadata": {},
   "outputs": [],
   "source": [
    "cars_per_hour = 2000\n",
    "total_number_cars = 200\n",
    "n_lanes = 2\n",
    "average_velocity = 25 * 0.447\n",
    "intervehicle_spacing = 9.0\n",
    "position_random_seed = None"
   ]
  },
  {
   "cell_type": "code",
   "execution_count": 244,
   "id": "104bdc62",
   "metadata": {},
   "outputs": [
    {
     "data": {
      "text/plain": [
       "2.4833333333333334"
      ]
     },
     "execution_count": 244,
     "metadata": {},
     "output_type": "execute_result"
    }
   ],
   "source": [
    "average_velocity / intervehicle_spacing * n_lanes"
   ]
  },
  {
   "cell_type": "code",
   "execution_count": 245,
   "id": "a90ba17e",
   "metadata": {},
   "outputs": [
    {
     "data": {
      "text/plain": [
       "1.1111111111111112"
      ]
     },
     "execution_count": 245,
     "metadata": {},
     "output_type": "execute_result"
    }
   ],
   "source": [
    "cars_per_second"
   ]
  },
  {
   "cell_type": "code",
   "execution_count": 262,
   "id": "772c4ece",
   "metadata": {},
   "outputs": [],
   "source": [
    "def poission_positions(cars_per_hour: float,\n",
    "                       total_number_cars: int,\n",
    "                       n_lanes: int = 2,\n",
    "                       average_velocity: float = 25 * 0.447,\n",
    "                       intervehicle_spacing: float = 9.0,\n",
    "                       position_random_seed: int = None):\n",
    "    ''' Simulate a poisson queuing process where vehicles arrive according to a poisson distribution\n",
    "    and are assigned lanes.  Single arrival queue, n-queue departures.\n",
    "    Users specifiy a density in terms of cars per hour, number of lanes, and total number of desired cars\n",
    "    '''\n",
    "    cars_per_second = cars_per_hour / 3600.0\n",
    "#     if cars_per_second > (average_velocity / intervehicle_spacing * n_lanes):\n",
    "#         raise Exception(\"Car density is too large for given car velocity, number lanes, and inter-vehicle spacing\")\n",
    "\n",
    "    # Spatial resolution should be around 0.5 meters\n",
    "    spatial_resolution = 0.50 #m\n",
    "    dt = spatial_resolution / average_velocity\n",
    "    cars_per_dt = cars_per_second * dt\n",
    "    total_seconds = total_number_cars * 3600.0 / cars_per_hour * 10\n",
    "    total_dt = int(total_seconds / dt)\n",
    "\n",
    "    rng = np.random.default_rng(position_random_seed)\n",
    "    n_cars_arrival_per_dt = rng.poisson(cars_per_dt, int(total_dt))  # number cars arriving at each dt\n",
    "    # Exclude arrivals after we have achieved our desired number of vehicles\n",
    "    n_cars_arrival_per_dt = n_cars_arrival_per_dt[:np.argmax(np.cumsum(n_cars_arrival_per_dt) > total_number_cars)]\n",
    "\n",
    "    lane_car_positions = {0: [], 1: []}\n",
    "    lane_ids = list(lane_car_positions.keys())\n",
    "    road_queue = deque()\n",
    "    agent_id = 0\n",
    "\n",
    "    si = 0\n",
    "\n",
    "    while np.sum([len(lane_car_positions[lane]) for lane in lane_ids]) < total_number_cars:    \n",
    "        if si >= 2*len(n_cars_arrival_per_dt):\n",
    "            raise Exception(\"Too many vehicles in the system ??\")\n",
    "\n",
    "        # Add incoming cars to the system\n",
    "        if si < len(n_cars_arrival_per_dt) and n_cars_arrival_per_dt[si] > 0:\n",
    "            # Cars are arriving to the system\n",
    "            number_cars_arriving = n_cars_arrival_per_dt[si]\n",
    "            for i in range(number_cars_arriving):\n",
    "                agent_id += 1\n",
    "                road_queue.append(agent_id)\n",
    "\n",
    "        # Attempt to assign arriving cars into lane\n",
    "        if len(road_queue) > 0:\n",
    "            rng.shuffle(lane_ids)\n",
    "            for lane in lane_ids:\n",
    "                if len(lane_car_positions[lane]) > 0:\n",
    "                    closest_car = lane_car_positions[lane][0]\n",
    "                    if closest_car > intervehicle_spacing:\n",
    "                        car_id = road_queue.popleft()\n",
    "                        lane_car_positions[lane] = [0.0] + lane_car_positions[lane]\n",
    "                else:\n",
    "                    car_id = road_queue.popleft()\n",
    "                    lane_car_positions[lane] = [0.0] + lane_car_positions[lane]\n",
    "\n",
    "                if len(road_queue) == 0:\n",
    "                    break\n",
    "\n",
    "        # All cars move forward assuming constant velocity and update their position\n",
    "        for lane in lane_car_positions:\n",
    "            lane_car_positions[lane] = [pos + dt*average_velocity for pos in lane_car_positions[lane]]\n",
    "        si += 1\n",
    "\n",
    "    initial_vehicle_positions = []\n",
    "    for lane in lane_car_positions:\n",
    "        initial_vehicle_positions += [(lane, float(x)) for x in lane_car_positions[lane]]\n",
    "\n",
    "    initial_vehicle_positions = sorted(initial_vehicle_positions, key=lambda l: l[1])    \n",
    "    \n",
    "    return initial_vehicle_positions"
   ]
  },
  {
   "cell_type": "code",
   "execution_count": 267,
   "id": "287e9101",
   "metadata": {
    "scrolled": false
   },
   "outputs": [
    {
     "data": {
      "image/png": "[encoded data removed]",
      "text/plain": [
       "<Figure size 864x72 with 1 Axes>"
      ]
     },
     "metadata": {
      "needs_background": "light"
     },
     "output_type": "display_data"
    },
    {
     "data": {
      "image/png": "[encoded data removed]",
      "text/plain": [
       "<Figure size 864x72 with 1 Axes>"
      ]
     },
     "metadata": {
      "needs_background": "light"
     },
     "output_type": "display_data"
    },
    {
     "data": {
      "image/png": "[encoded data removed]",
      "text/plain": [
       "<Figure size 864x72 with 1 Axes>"
      ]
     },
     "metadata": {
      "needs_background": "light"
     },
     "output_type": "display_data"
    },
    {
     "data": {
      "image/png": "[encoded data removed]",
      "text/plain": [
       "<Figure size 864x72 with 1 Axes>"
      ]
     },
     "metadata": {
      "needs_background": "light"
     },
     "output_type": "display_data"
    },
    {
     "data": {
      "image/png": "[encoded data removed]",
      "text/plain": [
       "<Figure size 864x72 with 1 Axes>"
      ]
     },
     "metadata": {
      "needs_background": "light"
     },
     "output_type": "display_data"
    },
    {
     "data": {
      "image/png": "[encoded data removed]",
      "text/plain": [
       "<Figure size 864x72 with 1 Axes>"
      ]
     },
     "metadata": {
      "needs_background": "light"
     },
     "output_type": "display_data"
    },
    {
     "data": {
      "image/png": "[encoded data removed]",
      "text/plain": [
       "<Figure size 864x72 with 1 Axes>"
      ]
     },
     "metadata": {
      "needs_background": "light"
     },
     "output_type": "display_data"
    },
    {
     "data": {
      "image/png": "[encoded data removed]",
      "text/plain": [
       "<Figure size 864x72 with 1 Axes>"
      ]
     },
     "metadata": {
      "needs_background": "light"
     },
     "output_type": "display_data"
    }
   ],
   "source": [
    "for cars_per_hour in [500, 1000, 2000, 4000, 5000, 8000, 10000, 12000]:\n",
    "    total_number_cars = 100\n",
    "    n_lanes = 2\n",
    "    average_velocity = 30 * 0.447\n",
    "    intervehicle_spacing = 9.0\n",
    "    position_random_seed = 0\n",
    "    \n",
    "    initial_vehicle_positions = poission_positions(cars_per_hour, total_number_cars, n_lanes, average_velocity, intervehicle_spacing, position_random_seed)\n",
    "    max_distance = initial_vehicle_positions[-1][1]\n",
    "        \n",
    "    length = 4.5\n",
    "    width = 0.5\n",
    "#     for i in range(10):\n",
    "    fig = plt.gcf()\n",
    "    fig.set_size_inches(12, 1)\n",
    "    ax = plt.gca()\n",
    "\n",
    "    for (lane, x) in initial_vehicle_positions:\n",
    "        rect = patches.Rectangle((x-length/2.0, lane-width/2.0), length, width)\n",
    "        ax.add_patch(rect)\n",
    "#     ax.axis('square')\n",
    "    plt.xlim([0, 1000])\n",
    "    plt.title(\"Speed: %0.1f [m/s],  Density: %d\"%(average_velocity, cars_per_hour))\n",
    "    plt.show()"
   ]
  },
  {
   "cell_type": "code",
   "execution_count": 259,
   "id": "d6fbd37d",
   "metadata": {},
   "outputs": [
    {
     "data": {
      "text/plain": [
       "8941.34477825465"
      ]
     },
     "execution_count": 259,
     "metadata": {},
     "output_type": "execute_result"
    }
   ],
   "source": [
    "25 / (2*0.002796)*2"
   ]
  },
  {
   "cell_type": "code",
   "execution_count": null,
   "id": "9f2d7abc",
   "metadata": {},
   "outputs": [],
   "source": []
  },
  {
   "cell_type": "code",
   "execution_count": 257,
   "id": "ed84a118",
   "metadata": {},
   "outputs": [
    {
     "data": {
      "image/png": "[encoded data removed]",
      "text/plain": [
       "<Figure size 864x72 with 1 Axes>"
      ]
     },
     "metadata": {
      "needs_background": "light"
     },
     "output_type": "display_data"
    },
    {
     "data": {
      "image/png": "[encoded data removed]",
      "text/plain": [
       "<Figure size 864x72 with 1 Axes>"
      ]
     },
     "metadata": {
      "needs_background": "light"
     },
     "output_type": "display_data"
    },
    {
     "data": {
      "image/png": "[encoded data removed]",
      "text/plain": [
       "<Figure size 864x72 with 1 Axes>"
      ]
     },
     "metadata": {
      "needs_background": "light"
     },
     "output_type": "display_data"
    },
    {
     "data": {
      "image/png": "[encoded data removed]",
      "text/plain": [
       "<Figure size 864x72 with 1 Axes>"
      ]
     },
     "metadata": {
      "needs_background": "light"
     },
     "output_type": "display_data"
    },
    {
     "data": {
      "image/png": "[encoded data removed]",
      "text/plain": [
       "<Figure size 864x72 with 1 Axes>"
      ]
     },
     "metadata": {
      "needs_background": "light"
     },
     "output_type": "display_data"
    },
    {
     "data": {
      "image/png": "[encoded data removed]",
      "text/plain": [
       "<Figure size 864x72 with 1 Axes>"
      ]
     },
     "metadata": {
      "needs_background": "light"
     },
     "output_type": "display_data"
    },
    {
     "data": {
      "image/png": "[encoded data removed]",
      "text/plain": [
       "<Figure size 864x72 with 1 Axes>"
      ]
     },
     "metadata": {
      "needs_background": "light"
     },
     "output_type": "display_data"
    },
    {
     "data": {
      "image/png": "[encoded data removed]",
      "text/plain": [
       "<Figure size 864x72 with 1 Axes>"
      ]
     },
     "metadata": {
      "needs_background": "light"
     },
     "output_type": "display_data"
    },
    {
     "data": {
      "image/png": "[encoded data removed]",
      "text/plain": [
       "<Figure size 864x72 with 1 Axes>"
      ]
     },
     "metadata": {
      "needs_background": "light"
     },
     "output_type": "display_data"
    },
    {
     "data": {
      "image/png": "[encoded data removed]",
      "text/plain": [
       "<Figure size 864x72 with 1 Axes>"
      ]
     },
     "metadata": {
      "needs_background": "light"
     },
     "output_type": "display_data"
    }
   ],
   "source": [
    "length = 4.5\n",
    "width = 0.5\n",
    "for i in range(10):\n",
    "    fig = plt.gcf()\n",
    "    fig.set_size_inches(12, 1)\n",
    "    ax = plt.gca()\n",
    "\n",
    "    for (lane, x) in initial_vehicle_positions:\n",
    "        rect = patches.Rectangle((x-length/2.0, lane-width/2.0), length, width)\n",
    "        ax.add_patch(rect)\n",
    "#     ax.axis('square')\n",
    "    plt.xlim([100*i, 100*(i+1)])\n",
    "    \n",
    "    plt.show()\n",
    "    "
   ]
  },
  {
   "cell_type": "code",
   "execution_count": 125,
   "id": "a496d4f3",
   "metadata": {},
   "outputs": [
    {
     "data": {
      "text/plain": [
       "11.174999999998363"
      ]
     },
     "execution_count": 125,
     "metadata": {},
     "output_type": "execute_result"
    }
   ],
   "source": [
    "np.min(np.diff(lane_car_positions[lane]))"
   ]
  },
  {
   "cell_type": "code",
   "execution_count": null,
   "id": "cc313640",
   "metadata": {},
   "outputs": [],
   "source": []
  }
 ],
 "metadata": {
  "kernelspec": {
   "display_name": "Python 3",
   "language": "python",
   "name": "python3"
  },
  "language_info": {
   "codemirror_mode": {
    "name": "ipython",
    "version": 3
   },
   "file_extension": ".py",
   "mimetype": "text/x-python",
   "name": "python",
   "nbconvert_exporter": "python",
   "pygments_lexer": "ipython3",
   "version": "3.8.3"
  }
 },
 "nbformat": 4,
 "nbformat_minor": 5
}
