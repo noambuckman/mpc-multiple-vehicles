{
 "cells": [
  {
   "cell_type": "code",
   "execution_count": 1,
   "metadata": {},
   "outputs": [],
   "source": [
    "%load_ext autoreload\n",
    "%autoreload 2\n",
    "import numpy as np\n",
    "np.set_printoptions(precision=2)\n",
    "import matplotlib.pyplot as plt\n",
    "import copy as cp\n",
    "import sys, json, pickle\n",
    "PROJECT_PATHS = ['/home/nbuckman/Dropbox (MIT)/DRL/2020_01_cooperative_mpc/mpc-multiple-vehicles/', '/Users/noambuckman/mpc-multiple-vehicles/']\n",
    "for p in PROJECT_PATHS:\n",
    "    sys.path.append(p)\n",
    "import src.traffic_world as tw\n",
    "import src.multiagent_mpc as mpc\n",
    "import src.car_plotting_multiple as cmplot\n",
    "import src.solver_helper as helper\n",
    "import src.vehicle as vehicle"
   ]
  },
  {
   "cell_type": "code",
   "execution_count": 8,
   "metadata": {},
   "outputs": [],
   "source": [
    "i_mpc_start = 1\n",
    "i_mpc = i_mpc_start\n",
    "log_directory = '/home/nbuckman/mpc_results/f509-425f-20200907-153800/'"
   ]
  },
  {
   "cell_type": "code",
   "execution_count": 9,
   "metadata": {},
   "outputs": [],
   "source": [
    "with open(log_directory + \"params.json\",'rb') as fp:\n",
    "    params = json.load(fp)"
   ]
  },
  {
   "cell_type": "code",
   "execution_count": 13,
   "metadata": {},
   "outputs": [],
   "source": [
    "n_rounds_mpc = params['n_rounds_mpc']\n",
    "number_ctrl_pts_executed = params['number_ctrl_pts_executed']\n",
    "\n",
    "\n",
    "xamb_actual, uamb_actual = np.zeros((6, n_rounds_mpc*number_ctrl_pts_executed + 1)), np.zeros((2, n_rounds_mpc*number_ctrl_pts_executed)) \n",
    "xothers_actual = [np.zeros((6, n_rounds_mpc*number_ctrl_pts_executed + 1)) for i in range(params['n_other'])]\n",
    "uothers_actual = [np.zeros((2, n_rounds_mpc*number_ctrl_pts_executed)) for i in range(params['n_other'])]    "
   ]
  },
  {
   "cell_type": "code",
   "execution_count": 33,
   "metadata": {},
   "outputs": [
    {
     "name": "stdout",
     "output_type": "stream",
     "text": [
      "Loaded initial positions from /home/nbuckman/mpc_results/f509-425f-20200907-153800/data/mpc_104\n",
      "[ 20.    22.22  24.46  26.69  28.93  31.16  33.4   35.63  37.87  40.1\n",
      "  42.34  44.57  46.81  49.04  51.28  53.51  55.75  57.98  60.22  62.45\n",
      "  64.69  66.92  69.16  71.39  73.63  75.86  78.1   80.33  82.57  84.8\n",
      "  87.04  89.27  91.5   93.74  95.97  98.21 100.44 102.68 104.91 107.15\n",
      " 109.38 111.62 113.85 116.09 118.32 120.56 122.79 125.03 127.26 129.5\n",
      " 131.73 133.97 136.2  138.44 140.67 142.91 145.14 147.38 149.61 151.85\n",
      " 154.08 156.32 158.55 160.79 163.02 165.26 167.49 169.73 171.96 174.2\n",
      " 176.43 178.67 180.9  183.13 185.37 187.6  189.84 192.07 194.31 196.54\n",
      " 198.78 201.01 203.25 205.48 207.72 209.95 212.19 214.42 216.66 218.89\n",
      " 221.13 223.36 225.6  227.83 230.07 232.3  234.54 236.77 239.01 241.24\n",
      " 243.48 245.71 247.95 250.18 252.42 254.65 256.89 259.12 261.36 263.59\n",
      " 265.83 268.06 270.3  272.53 274.77 277.   279.24 281.47 283.71 285.94\n",
      " 288.18 290.41 292.65 294.88 297.12 299.35 301.59 303.82 306.06 308.29\n",
      " 310.53 312.76 315.   317.23 319.47 321.7  323.94 326.17 328.41 330.64\n",
      " 332.88 335.11 337.35 339.58 341.82 344.05 346.29 348.52 350.76 352.99\n",
      " 355.23 357.46 359.7  361.93 364.17 366.4  368.64 370.87 373.11 375.34\n",
      " 377.58 379.81 382.05 384.28 386.52 388.75 390.99 393.22 395.46 397.69\n",
      " 399.93 402.16 404.4  406.63 408.87 411.1  413.34 415.57 417.81 420.04\n",
      " 422.28 424.51 426.75 428.98 431.22 433.45 435.69 437.92 440.16 442.39\n",
      " 444.63 446.86 449.1  451.33 453.57 455.8  458.04 460.27 462.51 464.74\n",
      " 466.98 469.21 471.45 473.68 475.92 478.15 480.39 482.62 484.86 487.09\n",
      " 489.33]\n"
     ]
    }
   ],
   "source": [
    "actual_t = 0\n",
    "last_mpc_i = 104\n",
    "for i_mpc_start in range(1,last_mpc_i+2):\n",
    "    previous_mpc_file = folder + 'data/mpc_%02d'%(i_mpc_start - 1)\n",
    "    xamb_executed, uamb_executed, _, all_other_x_executed, all_other_u_executed, _,  = mpc.load_state(previous_mpc_file, params['n_other'])\n",
    "    all_other_u_mpc = all_other_u_executed\n",
    "    uamb_mpc = uamb_executed\n",
    "    previous_all_file = folder + 'data/all_%02d'%(i_mpc_start -1)\n",
    "#     xamb_actual_prev, uamb_actual_prev, _, xothers_actual_prev, uothers_actual_prev, _ = mpc.load_state(previous_all_file, params['n_other'], ignore_des = True)\n",
    "    t_end = actual_t+number_ctrl_pts_executed+1\n",
    "    xamb_actual[:, actual_t:t_end] = xamb_executed[:,:number_ctrl_pts_executed+1]\n",
    "    uamb_actual[:, actual_t:t_end] = uamb_executed[:,:number_ctrl_pts_executed+1]\n",
    "    for i in range(len(xothers_actual_prev)):\n",
    "        xothers_actual[i][:, actual_t:t_end] = all_other_x_executed[i][:,:number_ctrl_pts_executed+1]\n",
    "        uothers_actual[i][:, actual_t:t_end] = all_other_u_executed[i][:,:number_ctrl_pts_executed+1]\n",
    "#     print(xamb_actual[0,:t_end])\n",
    "\n",
    "# print(\" \")\n",
    "    file_name = folder + \"data/\"+'all_%02d'%(i_mpc_start-1)        \n",
    "    mpc.save_state(file_name, xamb_actual, uamb_actual, None, xothers_actual, uothers_actual, None, end_t = actual_t+number_ctrl_pts_executed+1)\n",
    "    actual_t += number_ctrl_pts_executed\n",
    "print(\"Loaded initial positions from %s\"%(previous_mpc_file))\n",
    "print(xothers_actual[0][0,:t_end])"
   ]
  },
  {
   "cell_type": "code",
   "execution_count": null,
   "metadata": {},
   "outputs": [],
   "source": []
  }
 ],
 "metadata": {
  "kernelspec": {
   "display_name": "Python 3",
   "language": "python",
   "name": "python3"
  },
  "language_info": {
   "codemirror_mode": {
    "name": "ipython",
    "version": 3
   },
   "file_extension": ".py",
   "mimetype": "text/x-python",
   "name": "python",
   "nbconvert_exporter": "python",
   "pygments_lexer": "ipython3",
   "version": "3.7.4"
  }
 },
 "nbformat": 4,
 "nbformat_minor": 4
}
