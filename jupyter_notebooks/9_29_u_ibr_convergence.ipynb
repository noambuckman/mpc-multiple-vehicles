{
 "cells": [
  {
   "cell_type": "code",
   "execution_count": 1,
   "metadata": {},
   "outputs": [],
   "source": [
    "%load_ext autoreload\n",
    "%autoreload 2\n",
    "import numpy as np\n",
    "np.set_printoptions(precision=5)\n",
    "import matplotlib.pyplot as plt\n",
    "import copy as cp\n",
    "import sys, json, pickle\n",
    "PROJECT_PATHS = ['/home/nbuckman/Dropbox (MIT)/DRL/2020_01_cooperative_mpc/mpc-multiple-vehicles/', '/Users/noambuckman/mpc-multiple-vehicles/']\n",
    "for p in PROJECT_PATHS:\n",
    "    sys.path.append(p)\n",
    "import src.traffic_world as tw\n",
    "import src.multiagent_mpc as mpc\n",
    "import src.car_plotting_multiple as cmplot\n",
    "import src.solver_helper as helper\n",
    "import src.vehicle as vehicle\n",
    "import tqdm"
   ]
  },
  {
   "cell_type": "code",
   "execution_count": 2,
   "metadata": {
    "scrolled": true
   },
   "outputs": [
    {
     "name": "stdout",
     "output_type": "stream",
     "text": [
      "load_log_dir :  None\n",
      "mpc_start_iteration :  0\n",
      "save_solver_input :  False\n",
      "T :  5\n",
      "dt :  0.2\n",
      "p_exec :  0.4\n",
      "car_density :  3000\n",
      "plot_flag :  False\n",
      "print_flag :  False\n",
      "n_other :  15\n",
      "n_mpc :  300\n",
      "n_ibr :  10\n",
      "n_processors :  15\n",
      "n_lanes :  2\n",
      "k_max_slack :  0.01\n",
      "k_solve_amb_max_ibr :  10\n",
      "k_max_solve_number :  3\n",
      "k_max_round_with_slack :  inf\n",
      "k_slack_d :  1000\n",
      "k_CA_d :  100\n",
      "k_CA_power :  4\n",
      "wall_CA :  False\n",
      "default_n_warm_starts :  10\n",
      "plan_fake_ambulance :  False\n",
      "default_positions :  False\n",
      "save_ibr :  1\n",
      "print_level :  0\n",
      "pid :  443831\n",
      "start_time_string :  20200924-145931\n",
      "save_flag :  True\n",
      "N :  25\n",
      "number_ctrl_pts_executed :  10\n",
      "svo_theta :  1.0471975511965976\n"
     ]
    }
   ],
   "source": [
    "log_directory = \"/home/nbuckman/mpc_results/0g5b-c3h6-20200924-145931/\"\n",
    "with open(log_directory + \"params.json\",'rb') as fp:\n",
    "    params = json.load(fp)\n",
    "for k in params:\n",
    "    print(k,\": \", params[k])"
   ]
  },
  {
   "cell_type": "code",
   "execution_count": 3,
   "metadata": {},
   "outputs": [],
   "source": [
    "def load_ibr_results(i_mpc, i_ibr, log_directory, params, executed=True):\n",
    "    file_name = log_directory + \"data/\"+'ibr_m%03di%03d'%(i_mpc, i_ibr)\n",
    "    n_other = params[\"n_other\"]\n",
    "    xamb_ibr, uamb_ibr, xamb_des_ibr, all_other_x_ibr, all_other_u_ibr, all_other_x_des_ibr = mpc.load_state(file_name, n_other)\n",
    "    if executed:\n",
    "        n_exec = params[\"number_ctrl_pts_executed\"]\n",
    "        uamb_ibr = uamb_ibr[:, :n_exec]\n",
    "        xamb_ibr = xamb_ibr[:, :n_exec+1]\n",
    "        xamb_des_ibr = xamb_des_ibr[:, :n_exec+1]\n",
    "        for j in range(len(all_other_x_ibr)):\n",
    "            all_other_u_ibr[j] = all_other_u_ibr[j][:, :n_exec]\n",
    "            all_other_x_ibr[j] = all_other_x_ibr[j][:, :n_exec+1]\n",
    "            all_other_x_des_ibr[j] = all_other_x_des_ibr[j][:, :n_exec+1]\n",
    "    return xamb_ibr, uamb_ibr, xamb_des_ibr, all_other_x_ibr, all_other_u_ibr, all_other_x_des_ibr"
   ]
  },
  {
   "cell_type": "code",
   "execution_count": 4,
   "metadata": {},
   "outputs": [],
   "source": [
    "xamb_ibr, uamb_ibr, xamb_des_ibr, all_other_x_ibr, all_other_u_ibr, all_other_x_des_ibr = load_ibr_results(0, 0, log_directory, params)"
   ]
  },
  {
   "cell_type": "code",
   "execution_count": 7,
   "metadata": {},
   "outputs": [
    {
     "data": {
      "text/plain": [
       "(6, 11)"
      ]
     },
     "execution_count": 7,
     "metadata": {},
     "output_type": "execute_result"
    }
   ],
   "source": [
    "xamb_ibr.shape"
   ]
  },
  {
   "cell_type": "markdown",
   "metadata": {},
   "source": [
    "### Compute the Norm Difference"
   ]
  },
  {
   "cell_type": "code",
   "execution_count": 8,
   "metadata": {},
   "outputs": [],
   "source": [
    "def u_tensor(rounds_mpc, log_directory, params, executed=True):\n",
    "    '''Generate a tensor whose size is [2, N, mpc, ibr] for a given agent\n",
    "    executed: True: Only return control inputs that are executed\n",
    "              False:  Return all control inputs generated during IBR\n",
    "    '''\n",
    "    if executed:\n",
    "        N = params[\"number_ctrl_pts_executed\"]\n",
    "    else:\n",
    "        N = params[\"N\"]\n",
    "        \n",
    "    U = np.zeros(shape=(2, N, rounds_mpc, params[\"n_ibr\"]))\n",
    "    Uother = np.zeros(shape=(2, N, rounds_mpc, params[\"n_ibr\"], params[\"n_other\"]))\n",
    "    for i_mpc in tqdm.trange(rounds_mpc):\n",
    "        for i_ibr in range(params[\"n_ibr\"]):\n",
    "            xamb_ibr, uamb_ibr, xamb_des_ibr, all_other_x_ibr, all_other_u_ibr, all_other_x_des_ibr = load_ibr_results(i_mpc, i_ibr, log_directory, params, executed)\n",
    "            U[:, :, i_mpc, i_ibr] = uamb_ibr\n",
    "            for j in range(params[\"n_other\"]):\n",
    "                Uother[:, :, i_mpc, i_ibr, j] = all_other_u_ibr[j]\n",
    "    return U, Uother"
   ]
  },
  {
   "cell_type": "code",
   "execution_count": 12,
   "metadata": {},
   "outputs": [],
   "source": [
    "def x_tensor(rounds_mpc, log_directory, params, executed=True):\n",
    "    '''Generate a tensor whose size is [2, N, mpc, ibr] for a given agent\n",
    "    executed: True: Only return control inputs that are executed\n",
    "              False:  Return all control inputs generated during IBR\n",
    "    '''\n",
    "    if executed:\n",
    "        N = params[\"number_ctrl_pts_executed\"]\n",
    "    else:\n",
    "        N = params[\"N\"]\n",
    "        \n",
    "    X = np.zeros(shape=(2, N+1, rounds_mpc, params[\"n_ibr\"]))\n",
    "    Xother = np.zeros(shape=(2, N+1, rounds_mpc, params[\"n_ibr\"], params[\"n_other\"]))\n",
    "    for i_mpc in tqdm.trange(rounds_mpc):\n",
    "        for i_ibr in range(params[\"n_ibr\"]):\n",
    "            xamb_ibr, uamb_ibr, xamb_des_ibr, all_other_x_ibr, all_other_u_ibr, all_other_x_des_ibr = load_ibr_results(i_mpc, i_ibr, log_directory, params, executed)\n",
    "            X[:, :, i_mpc, i_ibr] = xamb_ibr[:2,:]\n",
    "            for j in range(params[\"n_other\"]):\n",
    "                Xother[:, :, i_mpc, i_ibr, j] = all_other_x_ibr[j][:2,:]\n",
    "    return X, Xother"
   ]
  },
  {
   "cell_type": "code",
   "execution_count": 57,
   "metadata": {},
   "outputs": [
    {
     "name": "stderr",
     "output_type": "stream",
     "text": [
      "100%|██████████| 50/50 [00:18<00:00,  2.76it/s]\n"
     ]
    }
   ],
   "source": [
    "rounds_mpc = 50\n",
    "X, Xother = x_tensor(rounds_mpc, log_directory, params)"
   ]
  },
  {
   "cell_type": "code",
   "execution_count": 66,
   "metadata": {},
   "outputs": [
    {
     "data": {
      "text/plain": [
       "((2, 11, 50, 10), (2, 11, 50, 10, 15))"
      ]
     },
     "execution_count": 66,
     "metadata": {},
     "output_type": "execute_result"
    }
   ],
   "source": [
    "X.shape, Xother.shape"
   ]
  },
  {
   "cell_type": "code",
   "execution_count": 60,
   "metadata": {},
   "outputs": [],
   "source": []
  },
  {
   "cell_type": "code",
   "execution_count": 61,
   "metadata": {},
   "outputs": [],
   "source": []
  },
  {
   "cell_type": "code",
   "execution_count": 67,
   "metadata": {},
   "outputs": [
    {
     "data": {
      "text/plain": [
       "array([ 3,  2,  4,  5,  1,  6,  0,  7,  8,  9, 10, 11, 12, 13, 14])"
      ]
     },
     "execution_count": 67,
     "metadata": {},
     "output_type": "execute_result"
    }
   ],
   "source": [
    "Xn = np.repeat(X[:,:,:,:,np.newaxis], Xother.shape[-1], 4)\n",
    "deltaX = Xother - Xn\n",
    "deltaX0 = deltaX[:, 0, :, -1, :]\n",
    "sqdist = (deltaX0**2).sum(axis=0)\n",
    "np.argsort(sqdist[25,:])\n",
    "\n"
   ]
  },
  {
   "cell_type": "code",
   "execution_count": 68,
   "metadata": {},
   "outputs": [
    {
     "data": {
      "text/plain": [
       "(50, 15)"
      ]
     },
     "execution_count": 68,
     "metadata": {},
     "output_type": "execute_result"
    }
   ],
   "source": [
    "sqdist.shape"
   ]
  },
  {
   "cell_type": "code",
   "execution_count": 69,
   "metadata": {},
   "outputs": [
    {
     "data": {
      "text/plain": [
       "array([11026.49318,  8578.74828,  4533.41574,  1995.20452,  5502.04332,\n",
       "        7438.28907, 10015.82911, 13666.95958, 16201.05114, 20245.20561,\n",
       "       23650.21947, 27383.96696, 32003.50841, 36118.55988, 45297.85332])"
      ]
     },
     "execution_count": 69,
     "metadata": {},
     "output_type": "execute_result"
    }
   ],
   "source": [
    "sqdist[25, :]"
   ]
  },
  {
   "cell_type": "code",
   "execution_count": null,
   "metadata": {},
   "outputs": [],
   "source": []
  },
  {
   "cell_type": "markdown",
   "metadata": {},
   "source": [
    "## Defining Convergence Metric\n",
    "\n",
    "$\\delta(ibr) = \\vec{u}_{mpc, ibr + 1} - \\vec{u}_{mpc, ibr}$\n",
    "which has dimensions\n",
    "$ [2 x N] $\n"
   ]
  },
  {
   "cell_type": "markdown",
   "metadata": {},
   "source": [
    "Let's first take a look at $\\delta(ibr)[0]$ which is the convergence at the first control point"
   ]
  },
  {
   "cell_type": "code",
   "execution_count": 70,
   "metadata": {},
   "outputs": [
    {
     "data": {
      "image/png": "[encoded data removed]",
      "text/plain": [
       "<Figure size 432x288 with 1 Axes>"
      ]
     },
     "metadata": {
      "needs_background": "light"
     },
     "output_type": "display_data"
    }
   ],
   "source": [
    "delta_0 = np.diff(U[:,0, 0,:], axis=1)\n",
    "plt.plot(delta_0[0, :], label=\"Delta Steering\")\n",
    "plt.plot(delta_0[1, :], label=\"Delta Velocity\")\n",
    "plt.xlabel(\"Rounds Best Response\")\n",
    "plt.ylabel('$\\delta(u_i, u_{i+1})$')\n",
    "plt.legend()\n",
    "plt.title('Convergence of IBR, Ambulance, $i_{mpc}=0$')\n",
    "plt.show()"
   ]
  },
  {
   "cell_type": "markdown",
   "metadata": {},
   "source": [
    "#### Plot all agents together but seperate the control axis"
   ]
  },
  {
   "cell_type": "code",
   "execution_count": 71,
   "metadata": {},
   "outputs": [
    {
     "data": {
      "image/png": "[encoded data removed]",
      "text/plain": [
       "<Figure size 432x288 with 1 Axes>"
      ]
     },
     "metadata": {
      "needs_background": "light"
     },
     "output_type": "display_data"
    },
    {
     "data": {
      "image/png": "[encoded data removed]",
      "text/plain": [
       "<Figure size 432x288 with 1 Axes>"
      ]
     },
     "metadata": {
      "needs_background": "light"
     },
     "output_type": "display_data"
    }
   ],
   "source": [
    "for j in range(params['n_other']):\n",
    "    delta_0 = np.diff(Uother[:, 0, 0,:, j], axis=1)\n",
    "    plt.plot(delta_0[0, :])\n",
    "plt.xlabel(\"Rounds Best Response\")\n",
    "plt.ylabel('$\\delta(u_i, u_{i+1})$')\n",
    "plt.title('Convergence of All Agents, Steering, $i_{mpc}=0$')\n",
    "plt.show()\n",
    "\n",
    "for j in range(params['n_other']):\n",
    "    delta_0 = np.diff(Uother[:, 1, 0,:,j], axis=1)\n",
    "    plt.plot(delta_0[0, :])\n",
    "plt.xlabel(\"Rounds Best Response\")\n",
    "plt.ylabel('$\\delta(u_i, u_{i+1})$')\n",
    "plt.title('Convergence of All Agents, Acceleration, $i_{mpc}=0$')\n",
    "plt.show()"
   ]
  },
  {
   "cell_type": "markdown",
   "metadata": {},
   "source": [
    "### Let's Create a Convergence Metric for a control sequence of $N$ pts, we still split by control axis"
   ]
  },
  {
   "cell_type": "code",
   "execution_count": 74,
   "metadata": {},
   "outputs": [
    {
     "data": {
      "image/png": "[encoded data removed]",
      "text/plain": [
       "<Figure size 432x288 with 1 Axes>"
      ]
     },
     "metadata": {
      "needs_background": "light"
     },
     "output_type": "display_data"
    }
   ],
   "source": [
    "i_mpc = 0\n",
    "delta_U_mpc = np.diff(U[:, :, i_mpc, :], axis=2)\n",
    "delta0_norm = np.linalg.norm(delta_U_mpc[0,:,:], axis=0)\n",
    "delta1_norm = np.linalg.norm(delta_U_mpc[1,:,:], axis=0)\n",
    "plt.plot(delta0_norm[:], label=\"Norm delta over N steer cntrl\")\n",
    "plt.plot(delta1_norm[:], label=\"Norm delta over N accel cntrl\")\n",
    "plt.title(\"Convergence for Ambulance at $i_{mpc}$=0\")\n",
    "plt.legend()\n",
    "# plt.show()\n",
    "plt.savefig(log_directory + \"plots/amb_both_ctrl_i0.png\")\n",
    "plt.close()"
   ]
  },
  {
   "cell_type": "code",
   "execution_count": 73,
   "metadata": {},
   "outputs": [],
   "source": [
    "for i_mpc in range(U.shape[2]):\n",
    "    delta_U_mpc = np.diff(U[:, :, i_mpc, :], axis=2)\n",
    "    delta0_norm = np.linalg.norm(delta_U_mpc[0,:,:], axis=0)\n",
    "    plt.plot(delta0_norm[:])\n",
    "plt.title(\"Convergence of Ambulance's Steering @ Each Round of MPC\")\n",
    "plt.xlabel(\"Rds of Best Response\")\n",
    "plt.ylabel(\"$|u^s_{t+1} - u^s_{t}|$\")\n",
    "# plt.show()\n",
    "plt.savefig(log_directory + \"plots/amb_convergence_steering.png\")\n",
    "plt.close()"
   ]
  },
  {
   "cell_type": "code",
   "execution_count": 161,
   "metadata": {},
   "outputs": [],
   "source": [
    "for i_mpc in range(U.shape[2]):\n",
    "    delta_U_mpc = np.diff(U[:, :, i_mpc, :], axis=2)\n",
    "    delta1_norm = np.linalg.norm(delta_U_mpc[1,:,:], axis=0)\n",
    "    plt.plot(delta1_norm[:])\n",
    "plt.ylim([-.1, .1])\n",
    "plt.title(\"Convergence of Ag%0's Acceleration @ Each Round of MPC\")\n",
    "plt.xlabel(\"Rds of Best Response\")\n",
    "plt.ylabel(\"$|u^a_{t+1} - u^a_{t}|$\")\n",
    "# plt.show()\n",
    "plt.savefig(log_directory + \"plots/amb_convergence_acceleration.png\")\n",
    "plt.close()"
   ]
  },
  {
   "cell_type": "code",
   "execution_count": 162,
   "metadata": {},
   "outputs": [],
   "source": [
    "grid_w = 3\n",
    "grid_h = int(np.ceil(Uother.shape[4] / 3))\n",
    "fig, axs = plt.subplots(grid_h, grid_w,sharex=True, sharey=True, figsize=(8,15))\n",
    "fig.suptitle(\"Steering Convergence for All Agents\")\n",
    "for j in range(Uother.shape[4]):\n",
    "    grid_i = j//grid_w\n",
    "    grid_j = j%grid_w\n",
    "#     print(grid_i, grid_j)\n",
    "    axs[grid_i, grid_j].set_title(\"Ag %d\"%j)\n",
    "    for i_mpc in range(Uother.shape[2]):\n",
    "        delta_U_mpc = np.diff(Uother[:, :, i_mpc, :, j], axis=2)\n",
    "        delta0_norm = np.linalg.norm(delta_U_mpc[0,:,:], axis=0)\n",
    "        axs[grid_i, grid_j].plot(delta0_norm[:])\n",
    "# plt.title(\"Convergence of Ambulance's Steering @ Each Round of MPC\")\n",
    "\n",
    "# plt.xlabel(\"Rds of Best Response\")\n",
    "# plt.ylabel(\"$|u^s_{t+1} - u^s_{t}|$\")\n",
    "plt.tight_layout()\n",
    "fig.text(0.5, 0.00, 'Rounds IBR', ha='center')\n",
    "fig.text(0.0, 0.5, '$|u^s_{t+1} - u^s_{t}|$', va='center', rotation='vertical')\n",
    "# plt.show()\n",
    "plt.savefig(log_directory + \"plots/\" + \"allagents_conv_steering.png\")\n",
    "plt.close()"
   ]
  },
  {
   "cell_type": "code",
   "execution_count": null,
   "metadata": {},
   "outputs": [],
   "source": []
  }
 ],
 "metadata": {
  "kernelspec": {
   "display_name": "Python 3",
   "language": "python",
   "name": "python3"
  },
  "language_info": {
   "codemirror_mode": {
    "name": "ipython",
    "version": 3
   },
   "file_extension": ".py",
   "mimetype": "text/x-python",
   "name": "python",
   "nbconvert_exporter": "python",
   "pygments_lexer": "ipython3",
   "version": "3.7.4"
  }
 },
 "nbformat": 4,
 "nbformat_minor": 4
}
