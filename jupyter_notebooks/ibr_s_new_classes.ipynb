{
 "cells": [
  {
   "cell_type": "code",
   "execution_count": 101,
   "metadata": {
    "scrolled": true
   },
   "outputs": [
    {
     "name": "stdout",
     "output_type": "stream",
     "text": [
      "The autoreload extension is already loaded. To reload it, use:\n",
      "  %reload_ext autoreload\n"
     ]
    }
   ],
   "source": [
    "%load_ext autoreload\n",
    "%autoreload 2\n",
    "import datetime\n",
    "import os\n",
    "import numpy as np\n",
    "import matplotlib.pyplot as plt\n",
    "\n",
    "import casadi as cas\n",
    "\n",
    "##### For viewing the videos in Jupyter Notebook\n",
    "import io\n",
    "import base64\n",
    "from IPython.display import HTML\n",
    "\n",
    "import car_plotting as cplot\n",
    "import MPC_Casadi as mpc\n",
    "\n",
    "\n",
    "%matplotlib inline"
   ]
  },
  {
   "cell_type": "markdown",
   "metadata": {},
   "source": [
    "# Vehicle Dynamics $\\frac{d}{dt} \\vec{x} = f(\\vec{x}, \\vec{u})$"
   ]
  },
  {
   "cell_type": "code",
   "execution_count": null,
   "metadata": {},
   "outputs": [],
   "source": []
  },
  {
   "cell_type": "markdown",
   "metadata": {},
   "source": [
    "def gen_x_next(x_k, u_k, dt):\n",
    "    k1 = f(x_k, u_k)\n",
    "    k2 = f(x_k+dt/2*k1, u_k)\n",
    "    k3 = f(x_k+dt/2*k2, u_k)\n",
    "    k4 = f(x_k+dt*k3,   u_k)\n",
    "    x_next = x_k + dt/6*(k1+2*k2+2*k3+k4) \n",
    "    return x_next\n",
    "# F = cas.Function('F',[x,u,t],[ode],)"
   ]
  },
  {
   "cell_type": "markdown",
   "metadata": {},
   "source": [
    "#  States\n",
    "\n",
    "$\\vec{x}$ = $[x, y, \\phi, \\delta, V, s]^T$\n",
    "\n",
    "$\\vec{u}$ = $[\\delta^u, v^u]^T$"
   ]
  },
  {
   "cell_type": "markdown",
   "metadata": {},
   "source": [
    "# Discrete (integrated) dynamics $\\vec{x}_{t+1} = F(\\vec{x}_{t}, \\vec{u}_{t})$"
   ]
  },
  {
   "cell_type": "code",
   "execution_count": 102,
   "metadata": {},
   "outputs": [],
   "source": [
    "T = 4 #numbr of time horizons\n",
    "dt = 0.1\n",
    "N = int(T/dt) #Number of control intervals"
   ]
  },
  {
   "cell_type": "markdown",
   "metadata": {},
   "source": [
    "intg_options = {}\n",
    "intg_options['tf'] = dt # from dt\n",
    "intg_options['simplify'] = True\n",
    "intg_options['number_of_finite_elements'] = 6  #from 4\n",
    "\n",
    "dae = {}  #What's a DAE?\n",
    "dae['x'] = x\n",
    "dae['p'] = u\n",
    "dae['ode'] = f(x,u)\n",
    "intg = cas.integrator('intg','rk', dae, intg_options)\n",
    "res = intg(x0=x,p=u)\n",
    "x_next = res['xf']\n",
    "F = cas.Function('F',[x,u],[x_next],['x','u'],['x_next'])"
   ]
  },
  {
   "cell_type": "markdown",
   "metadata": {},
   "source": [
    "# Problem Definition\n",
    "### Parameterization of Desired Trajectory ($\\vec{x}_d = f_d(s)$)"
   ]
  },
  {
   "cell_type": "code",
   "execution_count": 103,
   "metadata": {},
   "outputs": [],
   "source": [
    "s = cas.MX.sym('s')\n",
    "xd = s\n",
    "yd = 0\n",
    "phid = 0\n",
    "des_traj = cas.vertcat(xd, yd, phid)\n",
    "fd = cas.Function('fd',[s],[des_traj],['s'],['des_traj'])"
   ]
  },
  {
   "cell_type": "code",
   "execution_count": 104,
   "metadata": {},
   "outputs": [],
   "source": [
    "#Globally true information\n",
    "min_dist = 2 * (2 * .5**2)**.5\n",
    "\n",
    "initial_speed = 6.7 \n",
    "# Initial Conditions\n",
    "x0 = np.array([2*min_dist, .6*min_dist, 0, 0, initial_speed, 0]).T\n",
    "x0_2 = np.array([2*min_dist,-.6*min_dist, .0, 0, initial_speed, 0]).T\n",
    "x0_amb = np.array([0, 0.0, 0, 0, 1.25 * initial_speed,0]).T"
   ]
  },
  {
   "cell_type": "markdown",
   "metadata": {},
   "source": [
    "### Solve it centrally just to warm start the solution"
   ]
  },
  {
   "cell_type": "code",
   "execution_count": 105,
   "metadata": {},
   "outputs": [],
   "source": [
    "x1_MPC = mpc.MPC()\n",
    "x2_MPC = mpc.MPC()\n",
    "\n",
    "x1_MPC.k_s = -1.0\n",
    "x2_MPC.k_s = -1.0\n",
    "\n",
    "\n",
    "amb_MPC = mpc.MPC()\n",
    "amb_MPC.theta_iamb = 0.0\n",
    "amb_MPC.k_u_v = 0.10\n",
    "amb_MPC.k_u_change = 1.0\n",
    "amb_MPC.k_s = -1.0\n",
    "amb_MPC.max_v = 20.0\n",
    "amb_MPC.max_X_dev = 5.0\n"
   ]
  },
  {
   "cell_type": "code",
   "execution_count": 106,
   "metadata": {},
   "outputs": [],
   "source": [
    "opt =  mpc.OptimizationMPC(x1_MPC, x2_MPC,amb_MPC)\n",
    "opt.generate_optimization(N, dt, min_dist, fd, T, x0, x0_2, x0_amb, 2)"
   ]
  },
  {
   "cell_type": "code",
   "execution_count": 107,
   "metadata": {},
   "outputs": [
    {
     "name": "stdout",
     "output_type": "stream",
     "text": [
      "      solver  :   t_proc      (avg)   t_wall      (avg)    n_eval\n",
      "       nlp_f  | 163.71ms (448.52us) 163.18ms (447.07us)       365\n",
      "       nlp_g  | 322.26ms (882.90us) 320.22ms (877.30us)       365\n",
      "    nlp_grad  |   3.34ms (  3.34ms)   3.32ms (  3.32ms)         1\n",
      "  nlp_grad_f  | 362.32ms (  1.06ms) 360.43ms (  1.05ms)       342\n",
      "  nlp_hess_l  |   3.35 s (  9.48ms)   3.32 s (  9.41ms)       353\n",
      "   nlp_jac_g  |   2.17 s (  6.09ms)   2.16 s (  6.04ms)       357\n",
      "       total  |   9.16 s (  9.16 s)   9.09 s (  9.09 s)         1\n"
     ]
    }
   ],
   "source": [
    "x1, u1, x1_des, x2, u2, x2_des, xamb, uamb, xamb_des = opt.get_solution()"
   ]
  },
  {
   "cell_type": "code",
   "execution_count": 108,
   "metadata": {},
   "outputs": [
    {
     "name": "stdout",
     "output_type": "stream",
     "text": [
      "results/20200213-182009_newsclassesibr/\n"
     ]
    }
   ],
   "source": [
    "optional_suffix = \"_newsclassesibr\"\n",
    "subdir_name = datetime.datetime.now().strftime(\"%Y%m%d-%H%M%S\") + optional_suffix\n",
    "folder = \"results/\" + subdir_name + \"/\"\n",
    "os.makedirs(folder)\n",
    "os.makedirs(folder+\"imgs/\")\n",
    "print(folder)"
   ]
  },
  {
   "cell_type": "code",
   "execution_count": 109,
   "metadata": {
    "scrolled": true
   },
   "outputs": [
    {
     "name": "stderr",
     "output_type": "stream",
     "text": [
      "Clipping input data to the valid range for imshow with RGB data ([0..1] for floats or [0..255] for integers).\n",
      "Clipping input data to the valid range for imshow with RGB data ([0..1] for floats or [0..255] for integers).\n",
      "Clipping input data to the valid range for imshow with RGB data ([0..1] for floats or [0..255] for integers).\n",
      "Clipping input data to the valid range for imshow with RGB data ([0..1] for floats or [0..255] for integers).\n",
      "Clipping input data to the valid range for imshow with RGB data ([0..1] for floats or [0..255] for integers).\n",
      "Clipping input data to the valid range for imshow with RGB data ([0..1] for floats or [0..255] for integers).\n",
      "Clipping input data to the valid range for imshow with RGB data ([0..1] for floats or [0..255] for integers).\n",
      "Clipping input data to the valid range for imshow with RGB data ([0..1] for floats or [0..255] for integers).\n",
      "Clipping input data to the valid range for imshow with RGB data ([0..1] for floats or [0..255] for integers).\n",
      "Clipping input data to the valid range for imshow with RGB data ([0..1] for floats or [0..255] for integers).\n",
      "Clipping input data to the valid range for imshow with RGB data ([0..1] for floats or [0..255] for integers).\n",
      "Clipping input data to the valid range for imshow with RGB data ([0..1] for floats or [0..255] for integers).\n",
      "Clipping input data to the valid range for imshow with RGB data ([0..1] for floats or [0..255] for integers).\n",
      "Clipping input data to the valid range for imshow with RGB data ([0..1] for floats or [0..255] for integers).\n",
      "Clipping input data to the valid range for imshow with RGB data ([0..1] for floats or [0..255] for integers).\n",
      "Clipping input data to the valid range for imshow with RGB data ([0..1] for floats or [0..255] for integers).\n",
      "Clipping input data to the valid range for imshow with RGB data ([0..1] for floats or [0..255] for integers).\n",
      "Clipping input data to the valid range for imshow with RGB data ([0..1] for floats or [0..255] for integers).\n",
      "Clipping input data to the valid range for imshow with RGB data ([0..1] for floats or [0..255] for integers).\n",
      "Clipping input data to the valid range for imshow with RGB data ([0..1] for floats or [0..255] for integers).\n",
      "Clipping input data to the valid range for imshow with RGB data ([0..1] for floats or [0..255] for integers).\n",
      "Clipping input data to the valid range for imshow with RGB data ([0..1] for floats or [0..255] for integers).\n",
      "Clipping input data to the valid range for imshow with RGB data ([0..1] for floats or [0..255] for integers).\n",
      "Clipping input data to the valid range for imshow with RGB data ([0..1] for floats or [0..255] for integers).\n",
      "Clipping input data to the valid range for imshow with RGB data ([0..1] for floats or [0..255] for integers).\n",
      "Clipping input data to the valid range for imshow with RGB data ([0..1] for floats or [0..255] for integers).\n",
      "Clipping input data to the valid range for imshow with RGB data ([0..1] for floats or [0..255] for integers).\n",
      "Clipping input data to the valid range for imshow with RGB data ([0..1] for floats or [0..255] for integers).\n",
      "Clipping input data to the valid range for imshow with RGB data ([0..1] for floats or [0..255] for integers).\n",
      "Clipping input data to the valid range for imshow with RGB data ([0..1] for floats or [0..255] for integers).\n",
      "Clipping input data to the valid range for imshow with RGB data ([0..1] for floats or [0..255] for integers).\n",
      "Clipping input data to the valid range for imshow with RGB data ([0..1] for floats or [0..255] for integers).\n",
      "Clipping input data to the valid range for imshow with RGB data ([0..1] for floats or [0..255] for integers).\n",
      "Clipping input data to the valid range for imshow with RGB data ([0..1] for floats or [0..255] for integers).\n",
      "Clipping input data to the valid range for imshow with RGB data ([0..1] for floats or [0..255] for integers).\n",
      "Clipping input data to the valid range for imshow with RGB data ([0..1] for floats or [0..255] for integers).\n",
      "Clipping input data to the valid range for imshow with RGB data ([0..1] for floats or [0..255] for integers).\n",
      "Clipping input data to the valid range for imshow with RGB data ([0..1] for floats or [0..255] for integers).\n",
      "Clipping input data to the valid range for imshow with RGB data ([0..1] for floats or [0..255] for integers).\n",
      "Clipping input data to the valid range for imshow with RGB data ([0..1] for floats or [0..255] for integers).\n",
      "Clipping input data to the valid range for imshow with RGB data ([0..1] for floats or [0..255] for integers).\n",
      "Clipping input data to the valid range for imshow with RGB data ([0..1] for floats or [0..255] for integers).\n",
      "Clipping input data to the valid range for imshow with RGB data ([0..1] for floats or [0..255] for integers).\n",
      "Clipping input data to the valid range for imshow with RGB data ([0..1] for floats or [0..255] for integers).\n",
      "Clipping input data to the valid range for imshow with RGB data ([0..1] for floats or [0..255] for integers).\n",
      "Clipping input data to the valid range for imshow with RGB data ([0..1] for floats or [0..255] for integers).\n",
      "Clipping input data to the valid range for imshow with RGB data ([0..1] for floats or [0..255] for integers).\n",
      "Clipping input data to the valid range for imshow with RGB data ([0..1] for floats or [0..255] for integers).\n",
      "Clipping input data to the valid range for imshow with RGB data ([0..1] for floats or [0..255] for integers).\n",
      "Clipping input data to the valid range for imshow with RGB data ([0..1] for floats or [0..255] for integers).\n",
      "Clipping input data to the valid range for imshow with RGB data ([0..1] for floats or [0..255] for integers).\n",
      "Clipping input data to the valid range for imshow with RGB data ([0..1] for floats or [0..255] for integers).\n",
      "Clipping input data to the valid range for imshow with RGB data ([0..1] for floats or [0..255] for integers).\n",
      "Clipping input data to the valid range for imshow with RGB data ([0..1] for floats or [0..255] for integers).\n",
      "Clipping input data to the valid range for imshow with RGB data ([0..1] for floats or [0..255] for integers).\n",
      "Clipping input data to the valid range for imshow with RGB data ([0..1] for floats or [0..255] for integers).\n",
      "Clipping input data to the valid range for imshow with RGB data ([0..1] for floats or [0..255] for integers).\n",
      "Clipping input data to the valid range for imshow with RGB data ([0..1] for floats or [0..255] for integers).\n",
      "Clipping input data to the valid range for imshow with RGB data ([0..1] for floats or [0..255] for integers).\n",
      "Clipping input data to the valid range for imshow with RGB data ([0..1] for floats or [0..255] for integers).\n",
      "Clipping input data to the valid range for imshow with RGB data ([0..1] for floats or [0..255] for integers).\n",
      "Clipping input data to the valid range for imshow with RGB data ([0..1] for floats or [0..255] for integers).\n",
      "Clipping input data to the valid range for imshow with RGB data ([0..1] for floats or [0..255] for integers).\n",
      "Clipping input data to the valid range for imshow with RGB data ([0..1] for floats or [0..255] for integers).\n",
      "Clipping input data to the valid range for imshow with RGB data ([0..1] for floats or [0..255] for integers).\n",
      "Clipping input data to the valid range for imshow with RGB data ([0..1] for floats or [0..255] for integers).\n",
      "Clipping input data to the valid range for imshow with RGB data ([0..1] for floats or [0..255] for integers).\n",
      "Clipping input data to the valid range for imshow with RGB data ([0..1] for floats or [0..255] for integers).\n",
      "Clipping input data to the valid range for imshow with RGB data ([0..1] for floats or [0..255] for integers).\n",
      "Clipping input data to the valid range for imshow with RGB data ([0..1] for floats or [0..255] for integers).\n",
      "Clipping input data to the valid range for imshow with RGB data ([0..1] for floats or [0..255] for integers).\n",
      "Clipping input data to the valid range for imshow with RGB data ([0..1] for floats or [0..255] for integers).\n",
      "Clipping input data to the valid range for imshow with RGB data ([0..1] for floats or [0..255] for integers).\n",
      "Clipping input data to the valid range for imshow with RGB data ([0..1] for floats or [0..255] for integers).\n",
      "Clipping input data to the valid range for imshow with RGB data ([0..1] for floats or [0..255] for integers).\n"
     ]
    },
    {
     "name": "stderr",
     "output_type": "stream",
     "text": [
      "Clipping input data to the valid range for imshow with RGB data ([0..1] for floats or [0..255] for integers).\n",
      "Clipping input data to the valid range for imshow with RGB data ([0..1] for floats or [0..255] for integers).\n",
      "Clipping input data to the valid range for imshow with RGB data ([0..1] for floats or [0..255] for integers).\n",
      "Clipping input data to the valid range for imshow with RGB data ([0..1] for floats or [0..255] for integers).\n",
      "Clipping input data to the valid range for imshow with RGB data ([0..1] for floats or [0..255] for integers).\n",
      "Clipping input data to the valid range for imshow with RGB data ([0..1] for floats or [0..255] for integers).\n",
      "Clipping input data to the valid range for imshow with RGB data ([0..1] for floats or [0..255] for integers).\n",
      "Clipping input data to the valid range for imshow with RGB data ([0..1] for floats or [0..255] for integers).\n",
      "Clipping input data to the valid range for imshow with RGB data ([0..1] for floats or [0..255] for integers).\n",
      "Clipping input data to the valid range for imshow with RGB data ([0..1] for floats or [0..255] for integers).\n",
      "Clipping input data to the valid range for imshow with RGB data ([0..1] for floats or [0..255] for integers).\n",
      "Clipping input data to the valid range for imshow with RGB data ([0..1] for floats or [0..255] for integers).\n",
      "Clipping input data to the valid range for imshow with RGB data ([0..1] for floats or [0..255] for integers).\n",
      "Clipping input data to the valid range for imshow with RGB data ([0..1] for floats or [0..255] for integers).\n",
      "Clipping input data to the valid range for imshow with RGB data ([0..1] for floats or [0..255] for integers).\n",
      "Clipping input data to the valid range for imshow with RGB data ([0..1] for floats or [0..255] for integers).\n",
      "Clipping input data to the valid range for imshow with RGB data ([0..1] for floats or [0..255] for integers).\n",
      "Clipping input data to the valid range for imshow with RGB data ([0..1] for floats or [0..255] for integers).\n",
      "Clipping input data to the valid range for imshow with RGB data ([0..1] for floats or [0..255] for integers).\n",
      "Clipping input data to the valid range for imshow with RGB data ([0..1] for floats or [0..255] for integers).\n",
      "Clipping input data to the valid range for imshow with RGB data ([0..1] for floats or [0..255] for integers).\n",
      "Clipping input data to the valid range for imshow with RGB data ([0..1] for floats or [0..255] for integers).\n",
      "Clipping input data to the valid range for imshow with RGB data ([0..1] for floats or [0..255] for integers).\n",
      "Clipping input data to the valid range for imshow with RGB data ([0..1] for floats or [0..255] for integers).\n",
      "Clipping input data to the valid range for imshow with RGB data ([0..1] for floats or [0..255] for integers).\n",
      "Clipping input data to the valid range for imshow with RGB data ([0..1] for floats or [0..255] for integers).\n",
      "Clipping input data to the valid range for imshow with RGB data ([0..1] for floats or [0..255] for integers).\n",
      "Clipping input data to the valid range for imshow with RGB data ([0..1] for floats or [0..255] for integers).\n",
      "Clipping input data to the valid range for imshow with RGB data ([0..1] for floats or [0..255] for integers).\n",
      "Clipping input data to the valid range for imshow with RGB data ([0..1] for floats or [0..255] for integers).\n",
      "Clipping input data to the valid range for imshow with RGB data ([0..1] for floats or [0..255] for integers).\n",
      "Clipping input data to the valid range for imshow with RGB data ([0..1] for floats or [0..255] for integers).\n",
      "Clipping input data to the valid range for imshow with RGB data ([0..1] for floats or [0..255] for integers).\n",
      "Clipping input data to the valid range for imshow with RGB data ([0..1] for floats or [0..255] for integers).\n",
      "Clipping input data to the valid range for imshow with RGB data ([0..1] for floats or [0..255] for integers).\n",
      "Clipping input data to the valid range for imshow with RGB data ([0..1] for floats or [0..255] for integers).\n",
      "Clipping input data to the valid range for imshow with RGB data ([0..1] for floats or [0..255] for integers).\n",
      "Clipping input data to the valid range for imshow with RGB data ([0..1] for floats or [0..255] for integers).\n",
      "Clipping input data to the valid range for imshow with RGB data ([0..1] for floats or [0..255] for integers).\n",
      "Clipping input data to the valid range for imshow with RGB data ([0..1] for floats or [0..255] for integers).\n",
      "Clipping input data to the valid range for imshow with RGB data ([0..1] for floats or [0..255] for integers).\n",
      "Clipping input data to the valid range for imshow with RGB data ([0..1] for floats or [0..255] for integers).\n",
      "Clipping input data to the valid range for imshow with RGB data ([0..1] for floats or [0..255] for integers).\n",
      "Clipping input data to the valid range for imshow with RGB data ([0..1] for floats or [0..255] for integers).\n",
      "Clipping input data to the valid range for imshow with RGB data ([0..1] for floats or [0..255] for integers).\n",
      "Clipping input data to the valid range for imshow with RGB data ([0..1] for floats or [0..255] for integers).\n",
      "Clipping input data to the valid range for imshow with RGB data ([0..1] for floats or [0..255] for integers).\n",
      "Clipping input data to the valid range for imshow with RGB data ([0..1] for floats or [0..255] for integers).\n"
     ]
    }
   ],
   "source": [
    "cplot.plot_cars(x1, x2, xamb, folder)"
   ]
  },
  {
   "cell_type": "code",
   "execution_count": 110,
   "metadata": {},
   "outputs": [
    {
     "name": "stdout",
     "output_type": "stream",
     "text": [
      "Saving video to: results/20200213-182009_newsclassesibr/20200213-182009_newsclassesibrcar.mp4\n"
     ]
    }
   ],
   "source": [
    "CIRCLES = False\n",
    "if CIRCLES:\n",
    "    vid_fname = folder + subdir_name + 'circle.mp4'\n",
    "else:\n",
    "    vid_fname = folder + subdir_name + 'car.mp4'   \n",
    "if os.path.exists(vid_fname):\n",
    "    os.remove(vid_fname)\n",
    "cmd = 'ffmpeg -r 16 -f image2 -i {}imgs/%03d.png -vcodec libx264 -crf 25  -pix_fmt yuv420p {}'.format(folder, vid_fname)\n",
    "os.system(cmd)\n",
    "print('Saving video to: {}'.format(vid_fname))"
   ]
  },
  {
   "cell_type": "code",
   "execution_count": 111,
   "metadata": {
    "scrolled": true
   },
   "outputs": [
    {
     "data": {
      "text/html": [
       "<video alt=\"test\" controls>\n",
       "                <source src=\"data:video/mp4;base64,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\" type=\"video/mp4\" />\n",
       "             </video>"
      ],
      "text/plain": [
       "<IPython.core.display.HTML object>"
      ]
     },
     "execution_count": 111,
     "metadata": {},
     "output_type": "execute_result"
    }
   ],
   "source": [
    "video = io.open(vid_fname, 'r+b').read()\n",
    "encoded = base64.b64encode(video)\n",
    "HTML(data='''<video alt=\"test\" controls>\n",
    "                <source src=\"data:video/mp4;base64,{0}\" type=\"video/mp4\" />\n",
    "             </video>'''.format(encoded.decode('ascii')))\n"
   ]
  },
  {
   "cell_type": "markdown",
   "metadata": {},
   "source": [
    "## IBR"
   ]
  },
  {
   "cell_type": "code",
   "execution_count": 121,
   "metadata": {},
   "outputs": [],
   "source": [
    "br1 = mpc.IterativeBestResponseMPC(x1_MPC, x2_MPC, amb_MPC)\n",
    "br1.generate_optimization(N, dt, min_dist, fd, T, x0, x0_2, x0_amb, 2)"
   ]
  },
  {
   "cell_type": "code",
   "execution_count": 122,
   "metadata": {},
   "outputs": [
    {
     "name": "stdout",
     "output_type": "stream",
     "text": [
      "      solver  :   t_proc      (avg)   t_wall      (avg)    n_eval\n",
      "       nlp_f  |   8.20ms ( 59.01us)   8.22ms ( 59.16us)       139\n",
      "       nlp_g  |  21.96ms (157.99us)  21.88ms (157.41us)       139\n",
      "    nlp_grad  | 628.00us (628.00us) 628.88us (628.88us)         1\n",
      "  nlp_grad_f  |   5.42ms (112.90us)   5.43ms (113.16us)        48\n",
      "  nlp_hess_l  | 255.91ms (  2.56ms) 255.11ms (  2.55ms)       100\n",
      "   nlp_jac_g  | 143.38ms (  1.33ms) 143.02ms (  1.32ms)       108\n",
      "       total  | 670.85ms (670.85ms) 668.25ms (668.25ms)         1\n"
     ]
    }
   ],
   "source": [
    "x1r1, u1r1, x1_desr1 = br1.get_solution(x2, u2, x2_des, xamb, uamb, xamb_des)"
   ]
  },
  {
   "cell_type": "code",
   "execution_count": 123,
   "metadata": {
    "scrolled": true
   },
   "outputs": [
    {
     "name": "stderr",
     "output_type": "stream",
     "text": [
      "Clipping input data to the valid range for imshow with RGB data ([0..1] for floats or [0..255] for integers).\n",
      "Clipping input data to the valid range for imshow with RGB data ([0..1] for floats or [0..255] for integers).\n",
      "Clipping input data to the valid range for imshow with RGB data ([0..1] for floats or [0..255] for integers).\n",
      "Clipping input data to the valid range for imshow with RGB data ([0..1] for floats or [0..255] for integers).\n",
      "Clipping input data to the valid range for imshow with RGB data ([0..1] for floats or [0..255] for integers).\n",
      "Clipping input data to the valid range for imshow with RGB data ([0..1] for floats or [0..255] for integers).\n",
      "Clipping input data to the valid range for imshow with RGB data ([0..1] for floats or [0..255] for integers).\n",
      "Clipping input data to the valid range for imshow with RGB data ([0..1] for floats or [0..255] for integers).\n",
      "Clipping input data to the valid range for imshow with RGB data ([0..1] for floats or [0..255] for integers).\n",
      "Clipping input data to the valid range for imshow with RGB data ([0..1] for floats or [0..255] for integers).\n",
      "Clipping input data to the valid range for imshow with RGB data ([0..1] for floats or [0..255] for integers).\n",
      "Clipping input data to the valid range for imshow with RGB data ([0..1] for floats or [0..255] for integers).\n",
      "Clipping input data to the valid range for imshow with RGB data ([0..1] for floats or [0..255] for integers).\n",
      "Clipping input data to the valid range for imshow with RGB data ([0..1] for floats or [0..255] for integers).\n",
      "Clipping input data to the valid range for imshow with RGB data ([0..1] for floats or [0..255] for integers).\n",
      "Clipping input data to the valid range for imshow with RGB data ([0..1] for floats or [0..255] for integers).\n",
      "Clipping input data to the valid range for imshow with RGB data ([0..1] for floats or [0..255] for integers).\n",
      "Clipping input data to the valid range for imshow with RGB data ([0..1] for floats or [0..255] for integers).\n",
      "Clipping input data to the valid range for imshow with RGB data ([0..1] for floats or [0..255] for integers).\n",
      "Clipping input data to the valid range for imshow with RGB data ([0..1] for floats or [0..255] for integers).\n",
      "Clipping input data to the valid range for imshow with RGB data ([0..1] for floats or [0..255] for integers).\n",
      "Clipping input data to the valid range for imshow with RGB data ([0..1] for floats or [0..255] for integers).\n",
      "Clipping input data to the valid range for imshow with RGB data ([0..1] for floats or [0..255] for integers).\n",
      "Clipping input data to the valid range for imshow with RGB data ([0..1] for floats or [0..255] for integers).\n",
      "Clipping input data to the valid range for imshow with RGB data ([0..1] for floats or [0..255] for integers).\n",
      "Clipping input data to the valid range for imshow with RGB data ([0..1] for floats or [0..255] for integers).\n",
      "Clipping input data to the valid range for imshow with RGB data ([0..1] for floats or [0..255] for integers).\n",
      "Clipping input data to the valid range for imshow with RGB data ([0..1] for floats or [0..255] for integers).\n",
      "Clipping input data to the valid range for imshow with RGB data ([0..1] for floats or [0..255] for integers).\n",
      "Clipping input data to the valid range for imshow with RGB data ([0..1] for floats or [0..255] for integers).\n",
      "Clipping input data to the valid range for imshow with RGB data ([0..1] for floats or [0..255] for integers).\n",
      "Clipping input data to the valid range for imshow with RGB data ([0..1] for floats or [0..255] for integers).\n",
      "Clipping input data to the valid range for imshow with RGB data ([0..1] for floats or [0..255] for integers).\n",
      "Clipping input data to the valid range for imshow with RGB data ([0..1] for floats or [0..255] for integers).\n",
      "Clipping input data to the valid range for imshow with RGB data ([0..1] for floats or [0..255] for integers).\n",
      "Clipping input data to the valid range for imshow with RGB data ([0..1] for floats or [0..255] for integers).\n",
      "Clipping input data to the valid range for imshow with RGB data ([0..1] for floats or [0..255] for integers).\n",
      "Clipping input data to the valid range for imshow with RGB data ([0..1] for floats or [0..255] for integers).\n",
      "Clipping input data to the valid range for imshow with RGB data ([0..1] for floats or [0..255] for integers).\n",
      "Clipping input data to the valid range for imshow with RGB data ([0..1] for floats or [0..255] for integers).\n",
      "Clipping input data to the valid range for imshow with RGB data ([0..1] for floats or [0..255] for integers).\n",
      "Clipping input data to the valid range for imshow with RGB data ([0..1] for floats or [0..255] for integers).\n",
      "Clipping input data to the valid range for imshow with RGB data ([0..1] for floats or [0..255] for integers).\n",
      "Clipping input data to the valid range for imshow with RGB data ([0..1] for floats or [0..255] for integers).\n",
      "Clipping input data to the valid range for imshow with RGB data ([0..1] for floats or [0..255] for integers).\n",
      "Clipping input data to the valid range for imshow with RGB data ([0..1] for floats or [0..255] for integers).\n",
      "Clipping input data to the valid range for imshow with RGB data ([0..1] for floats or [0..255] for integers).\n",
      "Clipping input data to the valid range for imshow with RGB data ([0..1] for floats or [0..255] for integers).\n",
      "Clipping input data to the valid range for imshow with RGB data ([0..1] for floats or [0..255] for integers).\n",
      "Clipping input data to the valid range for imshow with RGB data ([0..1] for floats or [0..255] for integers).\n",
      "Clipping input data to the valid range for imshow with RGB data ([0..1] for floats or [0..255] for integers).\n",
      "Clipping input data to the valid range for imshow with RGB data ([0..1] for floats or [0..255] for integers).\n",
      "Clipping input data to the valid range for imshow with RGB data ([0..1] for floats or [0..255] for integers).\n",
      "Clipping input data to the valid range for imshow with RGB data ([0..1] for floats or [0..255] for integers).\n",
      "Clipping input data to the valid range for imshow with RGB data ([0..1] for floats or [0..255] for integers).\n",
      "Clipping input data to the valid range for imshow with RGB data ([0..1] for floats or [0..255] for integers).\n",
      "Clipping input data to the valid range for imshow with RGB data ([0..1] for floats or [0..255] for integers).\n",
      "Clipping input data to the valid range for imshow with RGB data ([0..1] for floats or [0..255] for integers).\n",
      "Clipping input data to the valid range for imshow with RGB data ([0..1] for floats or [0..255] for integers).\n",
      "Clipping input data to the valid range for imshow with RGB data ([0..1] for floats or [0..255] for integers).\n",
      "Clipping input data to the valid range for imshow with RGB data ([0..1] for floats or [0..255] for integers).\n",
      "Clipping input data to the valid range for imshow with RGB data ([0..1] for floats or [0..255] for integers).\n",
      "Clipping input data to the valid range for imshow with RGB data ([0..1] for floats or [0..255] for integers).\n",
      "Clipping input data to the valid range for imshow with RGB data ([0..1] for floats or [0..255] for integers).\n",
      "Clipping input data to the valid range for imshow with RGB data ([0..1] for floats or [0..255] for integers).\n",
      "Clipping input data to the valid range for imshow with RGB data ([0..1] for floats or [0..255] for integers).\n",
      "Clipping input data to the valid range for imshow with RGB data ([0..1] for floats or [0..255] for integers).\n",
      "Clipping input data to the valid range for imshow with RGB data ([0..1] for floats or [0..255] for integers).\n",
      "Clipping input data to the valid range for imshow with RGB data ([0..1] for floats or [0..255] for integers).\n",
      "Clipping input data to the valid range for imshow with RGB data ([0..1] for floats or [0..255] for integers).\n",
      "Clipping input data to the valid range for imshow with RGB data ([0..1] for floats or [0..255] for integers).\n",
      "Clipping input data to the valid range for imshow with RGB data ([0..1] for floats or [0..255] for integers).\n",
      "Clipping input data to the valid range for imshow with RGB data ([0..1] for floats or [0..255] for integers).\n",
      "Clipping input data to the valid range for imshow with RGB data ([0..1] for floats or [0..255] for integers).\n",
      "Clipping input data to the valid range for imshow with RGB data ([0..1] for floats or [0..255] for integers).\n"
     ]
    },
    {
     "name": "stderr",
     "output_type": "stream",
     "text": [
      "Clipping input data to the valid range for imshow with RGB data ([0..1] for floats or [0..255] for integers).\n",
      "Clipping input data to the valid range for imshow with RGB data ([0..1] for floats or [0..255] for integers).\n",
      "Clipping input data to the valid range for imshow with RGB data ([0..1] for floats or [0..255] for integers).\n",
      "Clipping input data to the valid range for imshow with RGB data ([0..1] for floats or [0..255] for integers).\n",
      "Clipping input data to the valid range for imshow with RGB data ([0..1] for floats or [0..255] for integers).\n",
      "Clipping input data to the valid range for imshow with RGB data ([0..1] for floats or [0..255] for integers).\n",
      "Clipping input data to the valid range for imshow with RGB data ([0..1] for floats or [0..255] for integers).\n",
      "Clipping input data to the valid range for imshow with RGB data ([0..1] for floats or [0..255] for integers).\n",
      "Clipping input data to the valid range for imshow with RGB data ([0..1] for floats or [0..255] for integers).\n",
      "Clipping input data to the valid range for imshow with RGB data ([0..1] for floats or [0..255] for integers).\n",
      "Clipping input data to the valid range for imshow with RGB data ([0..1] for floats or [0..255] for integers).\n",
      "Clipping input data to the valid range for imshow with RGB data ([0..1] for floats or [0..255] for integers).\n",
      "Clipping input data to the valid range for imshow with RGB data ([0..1] for floats or [0..255] for integers).\n",
      "Clipping input data to the valid range for imshow with RGB data ([0..1] for floats or [0..255] for integers).\n",
      "Clipping input data to the valid range for imshow with RGB data ([0..1] for floats or [0..255] for integers).\n",
      "Clipping input data to the valid range for imshow with RGB data ([0..1] for floats or [0..255] for integers).\n",
      "Clipping input data to the valid range for imshow with RGB data ([0..1] for floats or [0..255] for integers).\n",
      "Clipping input data to the valid range for imshow with RGB data ([0..1] for floats or [0..255] for integers).\n",
      "Clipping input data to the valid range for imshow with RGB data ([0..1] for floats or [0..255] for integers).\n",
      "Clipping input data to the valid range for imshow with RGB data ([0..1] for floats or [0..255] for integers).\n",
      "Clipping input data to the valid range for imshow with RGB data ([0..1] for floats or [0..255] for integers).\n",
      "Clipping input data to the valid range for imshow with RGB data ([0..1] for floats or [0..255] for integers).\n",
      "Clipping input data to the valid range for imshow with RGB data ([0..1] for floats or [0..255] for integers).\n",
      "Clipping input data to the valid range for imshow with RGB data ([0..1] for floats or [0..255] for integers).\n",
      "Clipping input data to the valid range for imshow with RGB data ([0..1] for floats or [0..255] for integers).\n",
      "Clipping input data to the valid range for imshow with RGB data ([0..1] for floats or [0..255] for integers).\n",
      "Clipping input data to the valid range for imshow with RGB data ([0..1] for floats or [0..255] for integers).\n",
      "Clipping input data to the valid range for imshow with RGB data ([0..1] for floats or [0..255] for integers).\n",
      "Clipping input data to the valid range for imshow with RGB data ([0..1] for floats or [0..255] for integers).\n",
      "Clipping input data to the valid range for imshow with RGB data ([0..1] for floats or [0..255] for integers).\n",
      "Clipping input data to the valid range for imshow with RGB data ([0..1] for floats or [0..255] for integers).\n",
      "Clipping input data to the valid range for imshow with RGB data ([0..1] for floats or [0..255] for integers).\n",
      "Clipping input data to the valid range for imshow with RGB data ([0..1] for floats or [0..255] for integers).\n",
      "Clipping input data to the valid range for imshow with RGB data ([0..1] for floats or [0..255] for integers).\n",
      "Clipping input data to the valid range for imshow with RGB data ([0..1] for floats or [0..255] for integers).\n",
      "Clipping input data to the valid range for imshow with RGB data ([0..1] for floats or [0..255] for integers).\n",
      "Clipping input data to the valid range for imshow with RGB data ([0..1] for floats or [0..255] for integers).\n",
      "Clipping input data to the valid range for imshow with RGB data ([0..1] for floats or [0..255] for integers).\n",
      "Clipping input data to the valid range for imshow with RGB data ([0..1] for floats or [0..255] for integers).\n",
      "Clipping input data to the valid range for imshow with RGB data ([0..1] for floats or [0..255] for integers).\n",
      "Clipping input data to the valid range for imshow with RGB data ([0..1] for floats or [0..255] for integers).\n",
      "Clipping input data to the valid range for imshow with RGB data ([0..1] for floats or [0..255] for integers).\n",
      "Clipping input data to the valid range for imshow with RGB data ([0..1] for floats or [0..255] for integers).\n",
      "Clipping input data to the valid range for imshow with RGB data ([0..1] for floats or [0..255] for integers).\n",
      "Clipping input data to the valid range for imshow with RGB data ([0..1] for floats or [0..255] for integers).\n",
      "Clipping input data to the valid range for imshow with RGB data ([0..1] for floats or [0..255] for integers).\n",
      "Clipping input data to the valid range for imshow with RGB data ([0..1] for floats or [0..255] for integers).\n",
      "Clipping input data to the valid range for imshow with RGB data ([0..1] for floats or [0..255] for integers).\n"
     ]
    }
   ],
   "source": [
    "cplot.plot_cars(x1r1, x2, xamb, folder)"
   ]
  },
  {
   "cell_type": "code",
   "execution_count": 124,
   "metadata": {},
   "outputs": [
    {
     "name": "stdout",
     "output_type": "stream",
     "text": [
      "Saving video to: results/20200213-182009_newsclassesibr/20200213-182009_newsclassesibrcar1.mp4\n"
     ]
    }
   ],
   "source": [
    "CIRCLES = False\n",
    "if CIRCLES:\n",
    "    vid_fname = folder + subdir_name + 'circle1.mp4'\n",
    "else:\n",
    "    vid_fname = folder + subdir_name + 'car1.mp4'    \n",
    "if os.path.exists(vid_fname):\n",
    "    os.remove(vid_fname)\n",
    "cmd = 'ffmpeg -r 16 -f image2 -i {}imgs/%03d.png -vcodec libx264 -crf 25  -pix_fmt yuv420p {}'.format(folder, vid_fname)\n",
    "os.system(cmd)\n",
    "print('Saving video to: {}'.format(vid_fname))"
   ]
  },
  {
   "cell_type": "code",
   "execution_count": 125,
   "metadata": {
    "scrolled": false
   },
   "outputs": [
    {
     "data": {
      "text/html": [
       "<video alt=\"test\" controls>\n",
       "                <source src=\"data:video/mp4;base64,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\" type=\"video/mp4\" />\n",
       "             </video>"
      ],
      "text/plain": [
       "<IPython.core.display.HTML object>"
      ]
     },
     "execution_count": 125,
     "metadata": {},
     "output_type": "execute_result"
    }
   ],
   "source": [
    "video = io.open(vid_fname, 'r+b').read()\n",
    "encoded = base64.b64encode(video)\n",
    "HTML(data='''<video alt=\"test\" controls>\n",
    "                <source src=\"data:video/mp4;base64,{0}\" type=\"video/mp4\" />\n",
    "             </video>'''.format(encoded.decode('ascii')))\n"
   ]
  },
  {
   "cell_type": "code",
   "execution_count": 129,
   "metadata": {},
   "outputs": [
    {
     "data": {
      "text/plain": [
       "42.74086324864693"
      ]
     },
     "execution_count": 129,
     "metadata": {},
     "output_type": "execute_result"
    }
   ],
   "source": [
    "br1.solution.value(x1_MPC.lat_cost)"
   ]
  },
  {
   "cell_type": "code",
   "execution_count": 130,
   "metadata": {},
   "outputs": [
    {
     "data": {
      "text/plain": [
       "275.99856037723634"
      ]
     },
     "execution_count": 130,
     "metadata": {},
     "output_type": "execute_result"
    }
   ],
   "source": [
    "br1.solution.value(x1_MPC.lon_cost)"
   ]
  },
  {
   "cell_type": "markdown",
   "metadata": {},
   "source": [
    "# Warm Start"
   ]
  },
  {
   "cell_type": "code",
   "execution_count": 21,
   "metadata": {},
   "outputs": [
    {
     "data": {
      "text/plain": [
       "83.02240393190733"
      ]
     },
     "execution_count": 21,
     "metadata": {},
     "output_type": "execute_result"
    }
   ],
   "source": []
  },
  {
   "cell_type": "code",
   "execution_count": null,
   "metadata": {},
   "outputs": [],
   "source": [
    "speeding_amb_u = np.zeros((2,N))\n",
    "speeding_amb_u[1,:10] = np.ones((1,10)) * 3.999\n",
    "\n",
    "x = np.zeros((6,N+1))\n",
    "x1 = np.zeros((6,N+1))\n",
    "xamb = np.zeros((6,N+1))\n",
    "u0 = np.zeros((2,N))\n",
    "u0[0,:10] = np.ones((1,10)) * np.pi/5\n",
    "u0[1,:10] = np.ones((1,10)) * 3.999\n",
    "\n",
    "u1 = np.zeros((2,N))\n",
    "u1[0,:10] = np.ones((1,10)) * -np.pi/5\n",
    "u1[1,:10] = np.ones((1,10)) * 3.999\n",
    "\n",
    "x[:,0] = x0\n",
    "x1[:,0] = x0_2\n",
    "xamb[:,0] = x0_amb\n",
    "for t in range(N):\n",
    "    x[:,t+1:t+2] = F(x[:,t],u0[:,t])\n",
    "    x1[:,t+1:t+2] = F(x1[:,t],u1[:,t])\n",
    "    xamb[:,t+1:t+2] = F(xamb[:,t],speeding_amb_u[:,t])\n",
    "\n",
    "    \n",
    "\n",
    "opti.set_initial(uamb_opt, speeding_amb_u)\n",
    "opti.set_initial(u_opt, u0)\n",
    "opti.set_initial(u2_opt, u0)\n",
    "opti.set_initial(xamb_opt, xamb)\n",
    "opti.set_initial(x2_opt, x1)\n",
    "opti.set_initial(x_opt, x)\n",
    "\n"
   ]
  },
  {
   "cell_type": "code",
   "execution_count": null,
   "metadata": {
    "scrolled": true
   },
   "outputs": [],
   "source": [
    "opti.solve()"
   ]
  },
  {
   "cell_type": "code",
   "execution_count": null,
   "metadata": {},
   "outputs": [],
   "source": [
    "x_warm = sol.value(x_opt)\n",
    "u_warm = sol.value(u_opt)\n",
    "x2_warm = sol.value(x2_opt)\n",
    "u2_warm = sol.value(u2_opt)\n",
    "xamb_warm = sol.value(xamb_opt)\n",
    "uamb_warm = sol.value(uamb_opt)\n",
    "\n",
    "x_des = sol.value(x_desired)\n",
    "x2_des = sol.value(x2_desired)\n",
    "xamb_des = sol.value(xamb_desired)"
   ]
  },
  {
   "cell_type": "code",
   "execution_count": null,
   "metadata": {},
   "outputs": [],
   "source": []
  },
  {
   "cell_type": "code",
   "execution_count": null,
   "metadata": {},
   "outputs": [],
   "source": [
    "car1_v_cost = car1_s_cost\n",
    "car2_v_cost = car2_s_cost\n",
    "amb_v_cost = amb_s_cost"
   ]
  },
  {
   "cell_type": "code",
   "execution_count": null,
   "metadata": {},
   "outputs": [],
   "source": [
    "car1_sub_costs = [car1_u_delta_cost, car1_u_v_cost, k_lat1*car1_lat_cost, k_lon1*car1_lon_cost, k_phi1*car1_phi_cost, k_phid1*phid1_cost, q_v*car1_v_cost] \n",
    "car1_sub_costs_labels = ['udel1', 'uv1', 'elat1', 'lon1', 'ephi1', 'v1']\n",
    "plt.bar(range(len(car1_sub_costs)), [sol.value(c) for c in car1_sub_costs])\n",
    "plt.xticks(range(len(car1_sub_costs)), car1_sub_costs_labels,rotation=45)\n",
    "plt.title('Car 1')\n",
    "plt.xlabel(\"Subcost\")\n",
    "plt.ylabel(\"Cost Value\")\n",
    "plt.show()\n",
    "\n",
    "car2_sub_costs = [car2_u_delta_cost, car2_u_v_cost, 10*car2_lat_cost, 10*car2_lon_cost, k_phi2*car2_phi_cost, k_phid2*phid2_cost, q_v*car2_v_cost] \n",
    "car2_sub_costs_labels = ['udel2', 'uv2', 'elat2', 'lon2', 'ephi2', 'v2']\n",
    "plt.bar(range(len(car2_sub_costs)), [sol.value(c) for c in car2_sub_costs])\n",
    "plt.xticks(range(len(car2_sub_costs)), car2_sub_costs_labels,rotation=45)\n",
    "plt.title('Car 2')\n",
    "plt.xlabel(\"Subcost\")\n",
    "plt.ylabel(\"Cost Value\")\n",
    "plt.show()\n",
    "\n",
    "amb_sub_costs = [amb_u_delta_cost, amb_u_v_cost, 10*amb_lat_cost, 10*amb_lon_cost,k_phiamb*amb_phi_cost, k_phidamb*phidamb_cost, q_v*amb_v_cost] \n",
    "amb_sub_costs_labels = ['udelA', 'uvA', 'elatA', 'lonA', 'ephiA', 'vA']\n",
    "plt.bar(range(len(amb_sub_costs)), [sol.value(c) for c in amb_sub_costs])\n",
    "plt.xticks(range(len(amb_sub_costs)), amb_sub_costs_labels,rotation=45)\n",
    "\n",
    "plt.title('Amb')\n",
    "plt.xlabel(\"Subcost\")\n",
    "plt.ylabel(\"Cost Value\")\n",
    "plt.show()\n",
    "\n",
    "all_costs = [0.1*c for c in car1_sub_costs] + [0.1 for c in car2_sub_costs] + [10*c for c in amb_sub_costs]\n",
    "all_labels = car1_sub_costs_labels + car2_sub_costs_labels + amb_sub_costs_labels\n",
    "plt.bar(range(len(all_costs)), [sol.value(c) for c in all_costs])\n",
    "plt.xticks(range(len(all_labels)), all_labels,rotation=90)\n",
    "plt.title('All Cars')\n",
    "plt.xlabel(\"Subcost\")\n",
    "plt.ylabel(\"Cost Value\")"
   ]
  },
  {
   "cell_type": "markdown",
   "metadata": {},
   "source": [
    "## Optimization"
   ]
  },
  {
   "cell_type": "code",
   "execution_count": null,
   "metadata": {},
   "outputs": [],
   "source": [
    "## Best response for vehicle 1\n",
    "opti = cas.Opti()\n",
    "n_ctrl = 2\n",
    "n_state = 6\n",
    "\n",
    "#Variables\n",
    "x_opt = opti.variable(n_state, N+1) # initialize X for each car that we will optimize\n",
    "u_opt = opti.variable(n_ctrl, N)\n",
    "\n",
    "\n",
    "\n",
    "# These are now parameters!!\n",
    "x2_opt = opti.parameter(n_state, N+1)\n",
    "xamb_opt = opti.parameter(n_state, N+1)\n",
    "u2_opt = opti.parameter(n_ctrl, N)\n",
    "uamb_opt = opti.parameter(n_ctrl, N)\n",
    "\n",
    "p = opti.parameter(n_state, 1) #this will be the initial state\n",
    "p2 = opti.parameter(n_state, 1)\n",
    "pamb = opti.parameter(n_state, 1)\n",
    "\n",
    "\n",
    "x_desired = opti.variable(3, N+1)\n",
    "x2_desired = opti.variable(3, N+1)\n",
    "xamb_desired = opti.variable(3, N+1)\n",
    "\n",
    "#### Costs\n",
    "\n",
    "car1_u_delta_cost = 10 * cas.sumsqr(u_opt[0,:])\n",
    "car1_u_v_cost = 1 * cas.sumsqr(u_opt[1,:])\n",
    "\n",
    "car1_lat_cost = np.sum([(-cas.sin(x_desired[2,k]) * (x_opt[0,k]-x_desired[0,k]) + \n",
    "            cas.cos(x_desired[2,k]) * (x_opt[1,k]-x_desired[1,k]))**2\n",
    "           for k in range(N+1)])\n",
    "car1_lon_cost = np.sum([(cas.cos(x_desired[2,k]) * (x_opt[0,k]-x_desired[0,k]) + \n",
    "            cas.sin(x_desired[2,k]) * (x_opt[1,k]-x_desired[1,k]))**2\n",
    "           for k in range(N+1)]) \n",
    "car1_phi_cost = cas.sumsqr(x_desired[2,:]-x_opt[2,:]) \n",
    "car1_v_cost = cas.sumsqr(x_opt[4,:])   \n",
    "phid_1 = x_opt[4,:] * cas.tan(x_opt[3,:]) / L\n",
    "phid1_cost = cas.sumsqr(phid_1)\n",
    "\n",
    "k_lat1 = 10\n",
    "k_lon1 = 10\n",
    "k_phid1 = 1.0\n",
    "\n",
    "car1_costs = (car1_u_delta_cost + car1_u_v_cost + \n",
    "    k_lat1*car1_lat_cost + k_lon1*car1_lon_cost + car1_phi_cost + \n",
    "              k_phid1 * phid1_cost +\n",
    "             q_v*car1_v_cost)\n",
    "\n",
    "\n",
    "car2_u_delta_cost = 10 * cas.sumsqr(u2_opt[0,:])\n",
    "car2_u_v_cost = 1 * cas.sumsqr(u2_opt[1,:])\n",
    "\n",
    "car2_lat_cost = np.sum([(-cas.sin(x2_desired[2,k]) * (x2_opt[0,k]-x2_desired[0,k]) + \n",
    "            cas.cos(x2_desired[2,k]) * (x2_opt[1,k]-x2_desired[1,k]))**2\n",
    "           for k in range(N+1)])\n",
    "car2_lon_cost = np.sum([(cas.cos(x2_desired[2,k]) * (x2_opt[0,k]-x2_desired[0,k]) + \n",
    "            cas.sin(x2_desired[2,k]) * (x2_opt[1,k]-x2_desired[1,k]))**2\n",
    "           for k in range(N+1)]) \n",
    "car2_phi_cost = cas.sumsqr(x2_desired[2,:]-x2_opt[2,:]) \n",
    "car2_v_cost = cas.sumsqr(x2_opt[4,:])   \n",
    "phid_2 = x2_opt[4,:] * cas.tan(x2_opt[3,:]) / L\n",
    "phid2_cost =cas.sumsqr(phid_2)    \n",
    "\n",
    "\n",
    "k_lat2 = 10\n",
    "k_lon2 = 10    \n",
    "k_phid2 = 1.0\n",
    "\n",
    "car2_costs = (car2_u_delta_cost + car2_u_v_cost + \n",
    "    k_lat2*car2_lat_cost + k_lon2*car2_lon_cost + car2_phi_cost + \n",
    "              k_phid2*phid2_cost + q_v*car2_v_cost)    \n",
    "\n",
    "R_k = 1*R_k\n",
    "\n",
    "#     amb_u_v_cost = np.sum([cas.transpose(uamb_opt[:,k]) @ R_k @ uamb_opt[:,k] for k in range(N)])\n",
    "\n",
    "amb_u_delta_cost = 10 * cas.sumsqr(uamb_opt[0,:])\n",
    "amb_u_v_cost = 0.1 * cas.sumsqr(uamb_opt[1,:])\n",
    "\n",
    "amb_lat_cost = np.sum([(-cas.sin(xamb_desired[2,k]) * (xamb_opt[0,k]-xamb_desired[0,k]) + \n",
    "            cas.cos(xamb_desired[2,k]) * (xamb_opt[1,k]-xamb_desired[1,k]))**2\n",
    "           for k in range(N+1)])\n",
    "\n",
    "\n",
    "amb_lon_cost = np.sum([(cas.cos(xamb_desired[2,k]) * (xamb_opt[0,k]-xamb_desired[0,k]) + \n",
    "            cas.sin(xamb_desired[2,k]) * (xamb_opt[1,k]-xamb_desired[1,k]))**2\n",
    "           for k in range(N+1)]) \n",
    "\n",
    "amb_phi_cost = cas.sumsqr(xamb_desired[2,:]-xamb_opt[2,:]) \n",
    "amb_v_cost = cas.sumsqr(xamb_opt[4,:])  \n",
    "\n",
    "phid_amb= xamb_opt[4,:] * cas.tan(xamb_opt[3,:]) / L\n",
    "phidamb_cost =cas.sumsqr(phid_amb)   \n",
    "\n",
    "k_latamb = 20\n",
    "k_lonamb = 10        \n",
    "k_phidamb = 1.0\n",
    "amb_costs = (amb_u_delta_cost + amb_u_v_cost + \n",
    "             k_latamb*amb_lat_cost + k_lonamb*amb_lon_cost + amb_phi_cost + \n",
    "             k_phidamb * phidamb_cost + q_v*amb_v_cost\n",
    "            )\n",
    "\n",
    "\n",
    "theta_1 = np.pi/4\n",
    "theta_2 = np.pi/4\n",
    "theta_amb = 0\n",
    "######## optimization  ##################################\n",
    "opti.minimize(np.cos(theta_1)*car1_costs + np.sin(theta_1)*amb_costs)    \n",
    "##########################################################\n",
    "\n",
    "\n",
    "\n",
    "#constraints\n",
    "\n",
    "for k in range(N):\n",
    "    opti.subject_to( x_opt[:, k+1] == F(x_opt[:, k], u_opt[:, k]))\n",
    "\n",
    "for k in range(N+1):\n",
    "    opti.subject_to( x_desired[:, k] == fd(x_opt[-1, k]) ) #This should be the trajectory dynamic constraint        \n",
    "\n",
    "\n",
    "opti.subject_to(opti.bounded(-np.pi/6, u_opt[0,:], np.pi/6))\n",
    "opti.subject_to(opti.bounded(-4, u_opt[1,:], 4)) # 0-60 around 4 m/s^2\n",
    "v_max = 10\n",
    "opti.subject_to(opti.bounded(0, x_opt[4,:],v_max))    \n",
    "opti.subject_to(x_opt[:,0] == p)\n",
    "\n",
    "#     min_dist = 0.6\n",
    "for k in range(N+1):\n",
    "    opti.subject_to( cas.sumsqr(x_opt[0:2,k] - x2_opt[0:2,k]) > min_dist**2 )\n",
    "    opti.subject_to( cas.sumsqr(x_opt[0:2,k] - xamb_opt[0:2,k]) > min_dist**2 )\n",
    "\n",
    "# constraints to help out\n",
    "opti.subject_to( opti.bounded(-1, x_opt[0,:], 30) )\n",
    "opti.subject_to( opti.bounded(-10, x_opt[1,:], 10) )\n",
    "opti.subject_to( opti.bounded(-np.pi/2, x_opt[2,:], np.pi/4) )\n",
    "\n",
    "\n",
    "# constrain the lane deviations to prevent wacky solutions\n",
    "#     opti.subject_to( opti.bounded(-5, x_opt[0,:] - x_desired[0,:], 5))\n",
    "#     opti.subject_to( opti.bounded(-5, x2_opt[0,:] - x2_desired[0,:], 5))\n",
    "opti.subject_to( opti.bounded(-5, xamb_opt[0,:] - xamb_desired[0,:], 5))\n",
    "opti.subject_to( opti.bounded(-10, x_opt[1,:] - x_desired[1,:], 10))\n",
    "\n",
    "opti.solver('ipopt',{'warn_initial_bounds':True},{'print_level':0})\n",
    "\n",
    "opti.set_value(p,x0)\n",
    "opti.set_value(p2,x0_2)\n",
    "opti.set_value(pamb,x0_amb)     \n",
    "\n",
    "\n"
   ]
  },
  {
   "cell_type": "code",
   "execution_count": null,
   "metadata": {},
   "outputs": [],
   "source": [
    "opti2 = cas.Opti()\n",
    "n_ctrl = 2\n",
    "n_state = 6\n",
    "\n",
    "#Variables\n",
    "x2_opt2 = opti2.variable(n_state, N+1)\n",
    "u2_opt2 = opti2.variable(n_ctrl, N)\n",
    "\n",
    "### Agent 2 has these as parameters!!!\n",
    "x_opt2 = opti2.parameter(n_state, N+1) # initialize X for each car that we will opti2mize\n",
    "xamb_opt2 = opti2.parameter(n_state, N+1)\n",
    "u_opt2 = opti2.parameter(n_ctrl, N)\n",
    "uamb_opt2 = opti2.parameter(n_ctrl, N)\n",
    "\n",
    "p_2 = opti2.parameter(n_state, 1) #this will be the initial state\n",
    "p2_2 = opti2.parameter(n_state, 1)\n",
    "pamb_2 = opti2.parameter(n_state, 1)\n",
    "\n",
    "x_desired_2 = opti2.variable(3, N+1)\n",
    "x2_desired_2 = opti2.variable(3, N+1)\n",
    "xamb_desired_2 = opti2.variable(3, N+1)\n",
    "\n",
    "#### Costs\n",
    "car1_u_delta_cost_2 = 10 * cas.sumsqr(u_opt2[0,:])\n",
    "car1_u_v_cost_2 = 1 * cas.sumsqr(u_opt2[1,:])\n",
    "car1_lat_cost_2 = np.sum([(-cas.sin(x_desired_2[2,k]) * (x_opt2[0,k]-x_desired_2[0,k]) + \n",
    "            cas.cos(x_desired_2[2,k]) * (x_opt2[1,k]-x_desired_2[1,k]))**2\n",
    "           for k in range(N+1)])\n",
    "car1_lon_cost_2 = np.sum([(cas.cos(x_desired_2[2,k]) * (x_opt2[0,k]-x_desired_2[0,k]) + \n",
    "            cas.sin(x_desired_2[2,k]) * (x_opt2[1,k]-x_desired_2[1,k]))**2\n",
    "           for k in range(N+1)]) \n",
    "car1_phi_cost_2 = cas.sumsqr(x_desired_2[2,:]-x_opt2[2,:]) \n",
    "car1_v_cost_2 = cas.sumsqr(x_opt2[4,:])   \n",
    "phid_1_2 = x_opt2[4,:] * cas.tan(x_opt2[3,:]) / L\n",
    "phid1_cost_2 = cas.sumsqr(phid_1_2)\n",
    "\n",
    "k_lat1_2 = 10\n",
    "k_lon1_2 = 10\n",
    "k_phid1_2 = 1.0\n",
    "\n",
    "car1_costs_2 = (car1_u_delta_cost_2 + car1_u_v_cost_2 + \n",
    "    k_lat1_2*car1_lat_cost_2 + k_lon1_2*car1_lon_cost_2 + car1_phi_cost_2 + \n",
    "              k_phid1_2 * phid1_cost_2 +\n",
    "             q_v*car1_v_cost_2)\n",
    "\n",
    "\n",
    "car2_u_delta_cost_2 = 10 * cas.sumsqr(u2_opt2[0,:])\n",
    "car2_u_v_cost_2 = 1 * cas.sumsqr(u2_opt2[1,:])\n",
    "car2_lat_cost_2 = np.sum([(-cas.sin(x2_desired_2[2,k]) * (x2_opt2[0,k]-x2_desired_2[0,k]) + \n",
    "            cas.cos(x2_desired_2[2,k]) * (x2_opt2[1,k]-x2_desired_2[1,k]))**2\n",
    "           for k in range(N+1)])\n",
    "car2_lon_cost_2 = np.sum([(cas.cos(x2_desired_2[2,k]) * (x2_opt2[0,k]-x2_desired_2[0,k]) + \n",
    "            cas.sin(x2_desired_2[2,k]) * (x2_opt2[1,k]-x2_desired_2[1,k]))**2\n",
    "           for k in range(N+1)]) \n",
    "car2_phi_cost_2 = cas.sumsqr(x2_desired_2[2,:]-x2_opt2[2,:]) \n",
    "car2_v_cost_2 = cas.sumsqr(x2_opt2[4,:])   \n",
    "phid_2_2 = x2_opt2[4,:] * cas.tan(x2_opt2[3,:]) / L\n",
    "phid2_cost_2 =cas.sumsqr(phid_2_2)    \n",
    "\n",
    "k_lat2_2 = 10\n",
    "k_lon2_2 = 10    \n",
    "k_phid2_2 = 1.0\n",
    "\n",
    "car2_costs_2 = (car2_u_delta_cost_2 + car2_u_v_cost_2 + \n",
    "    k_lat2*car2_lat_cost_2 + k_lon2*car2_lon_cost_2 + car2_phi_cost_2 + \n",
    "              k_phid2_2*phid2_cost_2 + q_v*car2_v_cost_2)    \n",
    "\n",
    "R_k_2 = 1*R_k\n",
    "\n",
    "#     amb_u_v_cost = np.sum([cas.transpose(uamb_opt2[:,k]) @ R_k @ uamb_opt2[:,k] for k in range(N)])\n",
    "\n",
    "amb_u_delta_cost_2 = 10 * cas.sumsqr(uamb_opt2[0,:])\n",
    "amb_u_v_cost_2 = 0.1 * cas.sumsqr(uamb_opt2[1,:])\n",
    "amb_lat_cost_2 = np.sum([(-cas.sin(xamb_desired_2[2,k]) * (xamb_opt2[0,k]-xamb_desired_2[0,k]) + \n",
    "            cas.cos(xamb_desired_2[2,k]) * (xamb_opt2[1,k]-xamb_desired_2[1,k]))**2\n",
    "           for k in range(N+1)])\n",
    "amb_lon_cost_2 = np.sum([(cas.cos(xamb_desired_2[2,k]) * (xamb_opt2[0,k]-xamb_desired_2[0,k]) + \n",
    "            cas.sin(xamb_desired_2[2,k]) * (xamb_opt2[1,k]-xamb_desired_2[1,k]))**2\n",
    "           for k in range(N+1)]) \n",
    "amb_phi_cost_2 = cas.sumsqr(xamb_desired_2[2,:]-xamb_opt2[2,:]) \n",
    "amb_v_cost_2 = cas.sumsqr(xamb_opt2[4,:])  \n",
    "phid_amb_2 = xamb_opt2[4,:] * cas.tan(xamb_opt2[3,:]) / L\n",
    "phidamb_cost_2 =cas.sumsqr(phid_amb_2)   \n",
    "\n",
    "k_latamb_2 = 20\n",
    "k_lonamb_2 = 10        \n",
    "k_phidamb_2 = 1.0\n",
    "amb_costs_2 = (amb_u_delta_cost_2 + amb_u_v_cost_2 + \n",
    "             k_latamb_2*amb_lat_cost_2 + k_lonamb_2*amb_lon_cost_2 + amb_phi_cost_2 + \n",
    "             k_phidamb_2 * phidamb_cost_2 + q_v*amb_v_cost_2\n",
    "            )\n",
    "\n",
    "theta_2 = np.pi/4\n",
    "######## opti2mization  ##################################\n",
    "opti2.minimize(np.cos(theta_2)*car2_costs_2 + np.sin(theta_2)*amb_costs_2)    \n",
    "########################################################\n",
    "#constraints\n",
    "\n",
    "#Just repeat constraints for x2\n",
    "for k in range(N):\n",
    "    opti2.subject_to( x2_opt2[:, k+1] == F(x2_opt2[:, k], u2_opt2[:, k]))\n",
    "for k in range(N+1):\n",
    "    opti2.subject_to( x2_desired_2[:, k] == fd(x2_opt2[-1, k]) ) #This should be the trajectory dynamic constraint             \n",
    "\n",
    "\n",
    "opti2.subject_to(opti2.bounded(-np.pi/6, u2_opt2[0,:], np.pi/6))\n",
    "opti2.subject_to(opti2.bounded(-4, u2_opt2[1,:], 4))\n",
    "v_max = 10\n",
    "opti2.subject_to(opti2.bounded(0, x2_opt2[4,:],v_max))    \n",
    "opti2.subject_to(x2_opt2[:,0] == p2_2)\n",
    "\n",
    "#     min_dist = 0.6\n",
    "for k in range(N+1):\n",
    "    opti2.subject_to( cas.sumsqr(x_opt2[0:2,k] - x2_opt2[0:2,k]) > min_dist**2 )\n",
    "    opti2.subject_to( cas.sumsqr(x2_opt2[0:2,k] - xamb_opt2[0:2,k]) > min_dist**2 )\n",
    "\n",
    "\n",
    "\n",
    "\n",
    "# constraints to help out\n",
    "opti2.subject_to( opti2.bounded(-1, x2_opt2[0,:], 30) )\n",
    "opti2.subject_to( opti2.bounded(-10, x2_opt2[1,:], 10) )\n",
    "opti2.subject_to( opti2.bounded(-np.pi/4, x2_opt2[2,:], np.pi/4) )\n",
    "\n",
    "# constrain the lane deviations to prevent wacky solutions\n",
    "#     opti2.subject_to( opti2.bounded(-5, x_opt2[0,:] - x_desired_2[0,:], 5))\n",
    "#     opti2.subject_to( opti2.bounded(-5, x2_opt2[0,:] - x2_desired_2[0,:], 5))\n",
    "opti2.subject_to( opti2.bounded(-10, x2_opt2[1,:] - x2_desired_2[1,:], 10))\n",
    "\n",
    "\n",
    "opti2.solver('ipopt',{'warn_initial_bounds':True},{'print_level':10})\n",
    "\n",
    "opti2.set_value(p_2,x0)\n",
    "opti2.set_value(p2_2,x0_2)\n",
    "opti2.set_value(pamb_2,x0_amb)         "
   ]
  },
  {
   "cell_type": "markdown",
   "metadata": {},
   "source": [
    "### Ambulance Optimization"
   ]
  },
  {
   "cell_type": "code",
   "execution_count": null,
   "metadata": {},
   "outputs": [],
   "source": [
    "opti3 = cas.Opti()\n",
    "n_ctrl = 2\n",
    "n_state = 6\n",
    "\n",
    "#Variables\n",
    "xamb_opt3 = opti3.variable(n_state, N+1)\n",
    "uamb_opt3 = opti3.variable(n_ctrl, N)\n",
    "\n",
    "### Agent 2 has these as parameters!!!\n",
    "x_opt3 = opti3.parameter(n_state, N+1) # initialize X for each car that we will opti3mize\n",
    "x2_opt3 = opti3.parameter(n_state, N+1)\n",
    "u_opt3 = opti3.parameter(n_ctrl, N)\n",
    "u2_opt3 = opti3.parameter(n_ctrl, N)\n",
    "\n",
    "p_3 = opti3.parameter(n_state, 1) #this will be the initial state\n",
    "p2_3 = opti3.parameter(n_state, 1)\n",
    "pamb_3 = opti3.parameter(n_state, 1)\n",
    "\n",
    "x_desired_3 = opti3.variable(3, N+1)\n",
    "x2_desired_3 = opti3.variable(3, N+1)\n",
    "xamb_desired_3 = opti3.variable(3, N+1)\n",
    "\n",
    "#### Costs\n",
    "amb_u_delta_cost_3 = 10 * cas.sumsqr(uamb_opt3[0,:])\n",
    "amb_u_v_cost_3 = 0.1 * cas.sumsqr(uamb_opt3[1,:])\n",
    "amb_lat_cost_3 = np.sum([(-cas.sin(xamb_desired_3[2,k]) * (xamb_opt3[0,k]-xamb_desired_3[0,k]) + \n",
    "            cas.cos(xamb_desired_3[2,k]) * (xamb_opt3[1,k]-xamb_desired_3[1,k]))**2\n",
    "           for k in range(N+1)])\n",
    "amb_lon_cost_3 = np.sum([(cas.cos(xamb_desired_3[2,k]) * (xamb_opt3[0,k]-xamb_desired_3[0,k]) + \n",
    "            cas.sin(xamb_desired_3[2,k]) * (xamb_opt3[1,k]-xamb_desired_3[1,k]))**2\n",
    "           for k in range(N+1)]) \n",
    "amb_phi_cost_3 = cas.sumsqr(xamb_desired_3[2,:]-xamb_opt3[2,:]) \n",
    "amb_v_cost_3 = cas.sumsqr(xamb_opt3[4,:])  \n",
    "phid_amb_3 = xamb_opt3[4,:] * cas.tan(xamb_opt3[3,:]) / L\n",
    "phidamb_cost_3 =cas.sumsqr(phid_amb_3)   \n",
    "\n",
    "k_latamb_3 = 20\n",
    "k_lonamb_3 = 10        \n",
    "k_phidamb_3 = 1.0\n",
    "amb_costs_3 = (amb_u_delta_cost_3 + amb_u_v_cost_3 + \n",
    "             k_latamb_3*amb_lat_cost_3 + k_lonamb_3*amb_lon_cost_3 + amb_phi_cost_3 + \n",
    "             k_phidamb_3 * phidamb_cost_3 + q_v*amb_v_cost_3\n",
    "            )\n",
    "\n",
    "theta_3 = np.pi/4\n",
    "######## opti3mization  ##################################\n",
    "opti3.minimize(amb_costs_3)    \n",
    "########################################################\n",
    "#constraints\n",
    "\n",
    "#Just repeat constraints for x2\n",
    "for k in range(N):\n",
    "    opti3.subject_to( xamb_opt3[:, k+1] == F(xamb_opt3[:, k], u2_opt3[:, k]))\n",
    "for k in range(N+1):\n",
    "    opti3.subject_to( xamb_desired_3[:, k] == fd(xamb_opt3[-1, k]) ) #This should be the trajectory dynamic constraint             \n",
    "\n",
    "\n",
    "opti3.subject_to(opti3.bounded(-np.pi/6, uamb_opt3[0,:], np.pi/6))\n",
    "opti3.subject_to(opti3.bounded(-4, uamb_opt3[1,:], 4))\n",
    "v_max = 10\n",
    "opti3.subject_to(opti3.bounded(0, xamb_opt3[4,:],v_max))    \n",
    "opti3.subject_to(xamb_opt3[:,0] == pamb_3)\n",
    "\n",
    "#     min_dist = 0.6\n",
    "for k in range(N+1):\n",
    "    opti3.subject_to( cas.sumsqr(xamb_opt3[0:2,k] - x2_opt3[0:2,k]) > min_dist**2 )\n",
    "    opti3.subject_to( cas.sumsqr(x_opt3[0:2,k] - xamb_opt3[0:2,k]) > min_dist**2 )\n",
    "\n",
    "\n",
    "\n",
    "\n",
    "# constraints to help out\n",
    "opti3.subject_to( opti3.bounded(-1, xamb_opt3[0,:], 30) )\n",
    "opti3.subject_to( opti3.bounded(-10, xamb_opt3[1,:], 10) )\n",
    "opti3.subject_to( opti3.bounded(-np.pi/4, xamb_opt3[2,:], np.pi/4) )\n",
    "\n",
    "# constrain the lane deviations to prevent wacky solutions\n",
    "opti3.subject_to( opti3.bounded(-10, xamb_opt3[1,:] - xamb_desired_3[1,:], 10))\n",
    "\n",
    "\n",
    "opti3.solver('ipopt',{'warn_initial_bounds':True},{'print_level':5})\n",
    "\n",
    "opti3.set_value(p_3,x0)\n",
    "opti3.set_value(p2_3,x0_2)\n",
    "opti3.set_value(pamb_3,x0_amb)         "
   ]
  },
  {
   "cell_type": "markdown",
   "metadata": {},
   "source": []
  },
  {
   "cell_type": "markdown",
   "metadata": {},
   "source": [
    "# Best Response, V1"
   ]
  },
  {
   "cell_type": "code",
   "execution_count": null,
   "metadata": {},
   "outputs": [],
   "source": [
    "opti.set_value(x2_opt, x2_warm)\n",
    "opti.set_value(xamb_opt, xamb_warm)\n",
    "opti.set_value(u2_opt, u2_warm)\n",
    "opti.set_value(uamb_opt, uamb_warm)\n",
    "\n",
    "opti.set_initial(x_opt, x_warm)\n",
    "opti.set_initial(u_opt, u_warm)"
   ]
  },
  {
   "cell_type": "code",
   "execution_count": null,
   "metadata": {
    "scrolled": true
   },
   "outputs": [],
   "source": [
    "sol = opti.solve()"
   ]
  },
  {
   "cell_type": "code",
   "execution_count": null,
   "metadata": {},
   "outputs": [],
   "source": [
    "x1_1 = opti.debug.value(x_opt)\n",
    "x2_1 = opti.debug.value(x2_opt)\n",
    "xamb_1 = opti.debug.value(xamb_opt)\n",
    "\n",
    "x_des = opti.debug.value(x_desired)\n",
    "# x2_des = opti.debug.value(x2_desired)"
   ]
  },
  {
   "cell_type": "code",
   "execution_count": null,
   "metadata": {
    "scrolled": true
   },
   "outputs": [],
   "source": [
    "for k in range(N+1):\n",
    "\n",
    "    fig, ax = ego_car.get_frame(x1_1[:,k])\n",
    "    fig, ax = ego_car.get_frame(x2_1[:,k], ax)\n",
    "    fig, ax = ego_car.get_frame(xamb_1[:,k], ax, amb=True)\n",
    "\n",
    "    \n",
    "    ax.plot(x_des[0,:], x_des[1,:], '--')\n",
    "#     ax.plot(x2_des[0,:], x2_des[1,:], '--')        \n",
    "\n",
    "    ax = plt.gca()\n",
    "    window_width = 24\n",
    "    window_height = window_width\n",
    "    xmin, xmax = -1, -1+window_width\n",
    "    ymin, ymax = -int(window_height/4.0), int(window_height/4.0)\n",
    "    ax.set_ylim((ymin, ymax))\n",
    "    ax.set_xlim((xmin, xmax))\n",
    "\n",
    "    fig.savefig(folder + 'imgs/' '{:03d}.png'.format(k))\n",
    "    plt.close(fig)     "
   ]
  },
  {
   "cell_type": "code",
   "execution_count": null,
   "metadata": {},
   "outputs": [],
   "source": [
    "vid_fname = folder + 'car1.mp4'\n",
    "if os.path.exists(vid_fname):\n",
    "    os.remove(vid_fname)\n",
    "cmd = 'ffmpeg -r 16 -f image2 -i {}imgs/%03d.png -vcodec libx264 -crf 25  -pix_fmt yuv420p {}'.format(folder, vid_fname)\n",
    "os.system(cmd)\n",
    "print('Saving video to: {}'.format(vid_fname))"
   ]
  },
  {
   "cell_type": "code",
   "execution_count": null,
   "metadata": {
    "scrolled": false
   },
   "outputs": [],
   "source": [
    "video = io.open(vid_fname, 'r+b').read()\n",
    "encoded = base64.b64encode(video)\n",
    "HTML(data='''<video alt=\"test\" controls>\n",
    "                <source src=\"data:video/mp4;base64,{0}\" type=\"video/mp4\" />\n",
    "             </video>'''.format(encoded.decode('ascii')))"
   ]
  },
  {
   "cell_type": "code",
   "execution_count": null,
   "metadata": {},
   "outputs": [],
   "source": [
    "x_warm = sol.value(x_opt)\n",
    "u_warm = sol.value(u_opt)\n",
    "x2_warm = sol.value(x2_opt)\n",
    "u2_warm = sol.value(u2_opt)\n",
    "xamb_warm = sol.value(xamb_opt)\n",
    "uamb_warm = sol.value(uamb_opt)"
   ]
  },
  {
   "cell_type": "code",
   "execution_count": null,
   "metadata": {},
   "outputs": [],
   "source": [
    "x_warm = sol.value(x_opt)\n",
    "u_warm = sol.value(u_opt)\n",
    "\n",
    "BR_iteration = 0\n",
    "\n",
    "\n",
    "opti2.set_value(x_opt2, x_warm)\n",
    "opti2.set_value(u_opt2, u_warm)\n",
    "\n",
    "opti2.set_value(xamb_opt2, xamb_warm)\n",
    "opti2.set_value(uamb_opt2, uamb_warm)\n",
    "\n",
    "\n",
    "# opti2.set_value(xamb_opt2, sol.value(xamb_opt))\n",
    "# opti2.set_value(uamb_opt2, sol.value(uamb_opt))\n",
    "\n",
    "opti2.set_initial(x2_opt2, x2_warm)\n",
    "opti2.set_initial(u2_opt2, u2_warm)\n",
    "sol2 = opti2.solve()\n",
    "x2_warm = sol2.value(x2_opt2)\n",
    "u2_warm = sol2.value(u2_opt2)\n",
    "\n",
    "opti3.set_value(x_opt3, x_warm)\n",
    "opti3.set_value(u_opt3, u_warm)\n",
    "\n",
    "opti3.set_value(x2_opt3, x2_warm)\n",
    "opti3.set_value(u2_opt3, u2_warm)\n",
    "\n",
    "opti3.set_initial(xamb_opt3, xamb_warm)\n",
    "opti3.set_initial(uamb_opt3, uamb_warm)    \n",
    "sol3 = opti3.solve()\n",
    "xamb_warm = sol3.value(xamb_opt3)\n",
    "uamb_warm = sol3.value(uamb_opt3)\n",
    "\n",
    "\n",
    "opti.set_value(x2_opt, x2_warm)\n",
    "opti.set_value(xamb_opt, xamb_warm)\n",
    "opti.set_value(u2_opt, u2_warm)\n",
    "opti.set_value(uamb_opt, uamb_warm)\n",
    "\n",
    "opti.set_initial(x_opt, x_warm)\n",
    "opti.set_initial(u_opt, u_warm)    \n",
    "sol = opti.solve()\n",
    "x_warm = sol.value(x_opt)\n",
    "u_warm = sol.value(u_opt)\n",
    "\n",
    "# x2_warm = sol.value(x2_opt)\n",
    "# u2_warm = sol.value(u2_opt)\n",
    "# xamb_warm = sol.value(xamb_opt)\n",
    "# uamb_warm = sol.value(uamb_opt)\n",
    "\n",
    "#     x_des = sol/\n",
    "\n",
    "for k in range(N+1):\n",
    "\n",
    "    fig, ax = ego_car.get_frame(x_warm[:,k])\n",
    "    fig, ax = ego_car.get_frame(x2_warm[:,k], ax)\n",
    "    fig, ax = ego_car.get_frame(xamb_warm[:,k], ax, amb=True)\n",
    "\n",
    "\n",
    "#         ax.plot(x_des[0,:], x_des[1,:], '--')\n",
    "#         ax.plot(x2_des[0,:], x2_des[1,:], '--')        \n",
    "\n",
    "    ax = plt.gca()\n",
    "    window_width = 24\n",
    "    window_height = window_width\n",
    "    xmin, xmax = -1, -1+window_width\n",
    "    ymin, ymax = -int(window_height/4.0), int(window_height/4.0)\n",
    "    ax.set_ylim((ymin, ymax))\n",
    "    ax.set_xlim((xmin, xmax))\n",
    "\n",
    "    fig.savefig(folder + 'imgs/' '{:03d}.png'.format(k))\n",
    "    plt.close(fig)         \n",
    "\n",
    "vid_fname = folder + '%02d'%BR_iteration + 'car.mp4'\n",
    "if os.path.exists(vid_fname):\n",
    "    os.remove(vid_fname)\n",
    "cmd = 'ffmpeg -r 16 -f image2 -i {}imgs/%03d.png -vcodec libx264 -crf 25  -pix_fmt yuv420p {}'.format(folder, vid_fname)\n",
    "os.system(cmd)\n",
    "print('Saving video to: {}'.format(vid_fname))"
   ]
  },
  {
   "cell_type": "code",
   "execution_count": null,
   "metadata": {},
   "outputs": [],
   "source": [
    "opti3.set_value(x_opt3, x_warm)\n",
    "opti3.set_value(u_opt3, u_warm)\n",
    "\n",
    "opti3.set_value(x2_opt3, x2_warm)\n",
    "opti3.set_value(u2_opt3, u2_warm)\n",
    "\n",
    "opti3.set_initial(xamb_opt3, xamb_warm)\n",
    "opti3.set_initial(uamb_opt3, uamb_warm)    \n",
    "sol3 = opti3.solve()"
   ]
  },
  {
   "cell_type": "code",
   "execution_count": null,
   "metadata": {},
   "outputs": [],
   "source": [
    "x_plot = opti3.debug.value(x_opt3)\n",
    "x2_plot = opti3.debug.value(x2_opt3)\n",
    "xamb_plot = opti3.debug.value(xamb_opt3)\n",
    "\n",
    "BR_iteration = 2\n",
    "\n",
    "\n",
    "for k in range(N+1):\n",
    "\n",
    "    fig, ax = ego_car.get_frame(x_plot[:,k],None, False,min_dist,True)\n",
    "    fig, ax = ego_car.get_frame(x2_plot[:,k], ax, False,min_dist,True)\n",
    "    fig, ax = ego_car.get_frame(xamb_plot[:,k], ax, False,min_dist,True)\n",
    "\n",
    "\n",
    "#         ax.plot(x_des[0,:], x_des[1,:], '--')\n",
    "#         ax.plot(x2_des[0,:], x2_des[1,:], '--')        \n",
    "\n",
    "    ax = plt.gca()\n",
    "    window_width = 24\n",
    "    window_height = window_width\n",
    "    xmin, xmax = -1, -1+window_width\n",
    "    ymin, ymax = -int(window_height/4.0), int(window_height/4.0)\n",
    "    ax.set_ylim((ymin, ymax))\n",
    "    ax.set_xlim((xmin, xmax))\n",
    "\n",
    "    fig.savefig(folder + 'imgs/' '{:03d}.png'.format(k))\n",
    "    plt.close(fig)         \n",
    "\n",
    "vid_fname = folder + 'circ'+'%02d'%BR_iteration + 'car.mp4'\n",
    "if os.path.exists(vid_fname):\n",
    "    os.remove(vid_fname)\n",
    "cmd = 'ffmpeg -r 16 -f image2 -i {}imgs/%03d.png -vcodec libx264 -crf 25  -pix_fmt yuv420p {}'.format(folder, vid_fname)\n",
    "os.system(cmd)\n",
    "print('Saving video to: {}'.format(vid_fname))\n"
   ]
  },
  {
   "cell_type": "code",
   "execution_count": null,
   "metadata": {
    "scrolled": false
   },
   "outputs": [],
   "source": [
    "x_plot = sol2.value(x_opt2)\n",
    "x2_plot = sol2.value(x2_opt2)\n",
    "xamb_plot = sol2.value(xamb_opt2)\n",
    "\n",
    "x2_plot = sol2.value(x2_opt2)\n",
    "x_plot = x_warm\n",
    "xamb_plot = xamb_warm\n",
    "\n",
    "\n",
    "\n",
    "\n",
    "\n",
    "BR_iteration = 1\n",
    "\n",
    "\n",
    "for k in range(N+1):\n",
    "\n",
    "    fig, ax = ego_car.get_frame(x_plot[:,k],None, False,min_dist,True)\n",
    "    fig, ax = ego_car.get_frame(x2_plot[:,k], ax, False,min_dist,True)\n",
    "    fig, ax = ego_car.get_frame(xamb_plot[:,k], ax, False,min_dist,True)\n",
    "\n",
    "\n",
    "#         ax.plot(x_des[0,:], x_des[1,:], '--')\n",
    "#         ax.plot(x2_des[0,:], x2_des[1,:], '--')        \n",
    "\n",
    "    ax = plt.gca()\n",
    "    window_width = 24\n",
    "    window_height = window_width\n",
    "    xmin, xmax = -1, -1+window_width\n",
    "    ymin, ymax = -int(window_height/4.0), int(window_height/4.0)\n",
    "    ax.set_ylim((ymin, ymax))\n",
    "    ax.set_xlim((xmin, xmax))\n",
    "\n",
    "    fig.savefig(folder + 'imgs/' '{:03d}.png'.format(k))\n",
    "    plt.close(fig)         \n",
    "\n",
    "vid_fname = folder + 'circ'+'%02d'%BR_iteration + 'car.mp4'\n",
    "if os.path.exists(vid_fname):\n",
    "    os.remove(vid_fname)\n",
    "cmd = 'ffmpeg -r 16 -f image2 -i {}imgs/%03d.png -vcodec libx264 -crf 25  -pix_fmt yuv420p {}'.format(folder, vid_fname)\n",
    "os.system(cmd)\n",
    "print('Saving video to: {}'.format(vid_fname))"
   ]
  },
  {
   "cell_type": "code",
   "execution_count": null,
   "metadata": {},
   "outputs": [],
   "source": []
  },
  {
   "cell_type": "code",
   "execution_count": null,
   "metadata": {},
   "outputs": [],
   "source": [
    "for BR_iteration in range(20):\n",
    "    opti2.set_value(x_opt2, sol.value(x_opt))\n",
    "    opti2.set_value(u_opt2, sol.value(u_opt))\n",
    "\n",
    "    opti2.set_value(xamb_opt2, sol.value(xamb_opt))\n",
    "    opti2.set_value(uamb_opt2, sol.value(uamb_opt))\n",
    "\n",
    "    opti2.set_initial(x2_opt2, sol.value(x2_opt))\n",
    "    opti2.set_initial(u2_opt2, sol.value(u2_opt))\n",
    "    sol2 = opti2.solve()\n",
    "\n",
    "    opti3.set_value(x_opt3, sol2.value(x_opt2))\n",
    "    opti3.set_value(u_opt3, sol2.value(u_opt2))\n",
    "\n",
    "    opti3.set_value(x2_opt3, sol2.value(x2_opt2))\n",
    "    opti3.set_value(u2_opt3, sol2.value(uamb_opt2))\n",
    "\n",
    "    opti3.set_initial(xamb_opt3, sol2.value(xamb_opt2))\n",
    "    opti3.set_initial(uamb_opt3, sol2.value(uamb_opt2))    \n",
    "    sol3 = opti3.solve()\n",
    "    \n",
    "    \n",
    "    opti.set_value(x2_opt, sol3.value(x2_opt3))\n",
    "    opti.set_value(xamb_opt, sol3.value(xamb_opt3))\n",
    "    opti.set_value(u2_opt, sol3.value(u2_opt3))\n",
    "    opti.set_value(uamb_opt, sol3.value(uamb_opt3))\n",
    "\n",
    "    opti.set_initial(x_opt, sol3.value(x_opt3))\n",
    "    opti.set_initial(u_opt, sol3.value(u_opt3))    \n",
    "    sol = opti.solve()\n",
    "    \n",
    "    x_warm = sol.value(x_opt)\n",
    "    u_warm = sol.value(u_opt)\n",
    "    x2_warm = sol.value(x2_opt)\n",
    "    u2_warm = sol.value(u2_opt)\n",
    "    xamb_warm = sol.value(xamb_opt)\n",
    "    uamb_warm = sol.value(uamb_opt)\n",
    "\n",
    "#     x_des = sol/\n",
    "\n",
    "    for k in range(N+1):\n",
    "\n",
    "        fig, ax = ego_car.get_frame(x_warm[:,k])\n",
    "        fig, ax = ego_car.get_frame(x2_warm[:,k], ax)\n",
    "        fig, ax = ego_car.get_frame(xamb_warm[:,k], ax, amb=True)\n",
    "\n",
    "\n",
    "#         ax.plot(x_des[0,:], x_des[1,:], '--')\n",
    "#         ax.plot(x2_des[0,:], x2_des[1,:], '--')        \n",
    "\n",
    "        ax = plt.gca()\n",
    "        window_width = 24\n",
    "        window_height = window_width\n",
    "        xmin, xmax = -1, -1+window_width\n",
    "        ymin, ymax = -int(window_height/4.0), int(window_height/4.0)\n",
    "        ax.set_ylim((ymin, ymax))\n",
    "        ax.set_xlim((xmin, xmax))\n",
    "\n",
    "        fig.savefig(folder + 'imgs/' '{:03d}.png'.format(k))\n",
    "        plt.close(fig)         \n",
    "\n",
    "    vid_fname = folder + '%02d'%BR_iteration + 'car.mp4'\n",
    "    if os.path.exists(vid_fname):\n",
    "        os.remove(vid_fname)\n",
    "    cmd = 'ffmpeg -r 16 -f image2 -i {}imgs/%03d.png -vcodec libx264 -crf 25  -pix_fmt yuv420p {}'.format(folder, vid_fname)\n",
    "    os.system(cmd)\n",
    "    print('Saving video to: {}'.format(vid_fname))"
   ]
  },
  {
   "cell_type": "code",
   "execution_count": null,
   "metadata": {},
   "outputs": [],
   "source": []
  },
  {
   "cell_type": "code",
   "execution_count": null,
   "metadata": {},
   "outputs": [],
   "source": [
    "for BR_iteration in range(20):        \n",
    "    vid_fname = folder + '%02d'%BR_iteration + 'car.mp4'\n",
    "    \n",
    "    print('Saving video to: {}'.format(vid_fname))"
   ]
  },
  {
   "cell_type": "code",
   "execution_count": null,
   "metadata": {},
   "outputs": [],
   "source": []
  },
  {
   "cell_type": "markdown",
   "metadata": {},
   "source": [
    "## Best Response V2"
   ]
  },
  {
   "cell_type": "code",
   "execution_count": null,
   "metadata": {},
   "outputs": [],
   "source": []
  },
  {
   "cell_type": "code",
   "execution_count": null,
   "metadata": {
    "scrolled": true
   },
   "outputs": [],
   "source": []
  },
  {
   "cell_type": "code",
   "execution_count": null,
   "metadata": {},
   "outputs": [],
   "source": []
  },
  {
   "cell_type": "code",
   "execution_count": null,
   "metadata": {
    "scrolled": false
   },
   "outputs": [],
   "source": []
  },
  {
   "cell_type": "code",
   "execution_count": null,
   "metadata": {},
   "outputs": [],
   "source": []
  },
  {
   "cell_type": "code",
   "execution_count": null,
   "metadata": {},
   "outputs": [],
   "source": [
    "x1 = sol3.value(x_opt3)\n",
    "x2 = sol3.value(x2_opt3)\n",
    "xamb = sol3.value(xamb_opt3)\n",
    "x_des = sol3.value(xamb_desired_3)\n",
    "\n",
    "for k in range(N+1):\n",
    "\n",
    "    fig, ax = ego_car.get_frame(x1[:,k])\n",
    "    fig, ax = ego_car.get_frame(x2[:,k], ax)\n",
    "    fig, ax = ego_car.get_frame(xamb[:,k], ax, amb=True)\n",
    "\n",
    "    \n",
    "    ax.plot(x_des[0,:], x_des[1,:], '--')\n",
    "#     ax.plot(x2_des[0,:], x2_des[1,:], '--')        \n",
    "\n",
    "    ax = plt.gca()\n",
    "    window_width = 24\n",
    "    window_height = window_width\n",
    "    xmin, xmax = -1, -1+window_width\n",
    "    ymin, ymax = -int(window_height/4.0), int(window_height/4.0)\n",
    "    ax.set_ylim((ymin, ymax))\n",
    "    ax.set_xlim((xmin, xmax))\n",
    "\n",
    "    fig.savefig(folder + 'imgs/' '{:03d}.png'.format(k))\n",
    "    plt.close(fig)     \n",
    "    \n",
    "vid_fname = folder + 'caramb.mp4'\n",
    "if os.path.exists(vid_fname):\n",
    "    os.remove(vid_fname)\n",
    "cmd = 'ffmpeg -r 16 -f image2 -i {}imgs/%03d.png -vcodec libx264 -crf 25  -pix_fmt yuv420p {}'.format(folder, vid_fname)\n",
    "os.system(cmd)\n",
    "print('Saving video to: {}'.format(vid_fname))"
   ]
  },
  {
   "cell_type": "code",
   "execution_count": null,
   "metadata": {},
   "outputs": [],
   "source": []
  },
  {
   "cell_type": "code",
   "execution_count": null,
   "metadata": {},
   "outputs": [],
   "source": []
  },
  {
   "cell_type": "code",
   "execution_count": null,
   "metadata": {},
   "outputs": [],
   "source": []
  },
  {
   "cell_type": "code",
   "execution_count": null,
   "metadata": {},
   "outputs": [],
   "source": []
  },
  {
   "cell_type": "code",
   "execution_count": null,
   "metadata": {
    "scrolled": false
   },
   "outputs": [],
   "source": [
    "car1_sub_costs = [car1_u_delta_cost, car1_u_v_cost, 10*car1_lat_cost, 10*car1_lon_cost, car1_phi_cost, phid1_cost, q_v*car1_v_cost] \n",
    "car1_sub_costs_labels = ['udel1', 'uv1', 'elat1', 'lon1', 'ephi1', 'v1']\n",
    "plt.bar(range(len(car1_sub_costs)), [sol.value(c) for c in car1_sub_costs])\n",
    "plt.xticks(range(len(car1_sub_costs)), car1_sub_costs_labels,rotation=45)\n",
    "plt.title('Car 1')\n",
    "plt.xlabel(\"Subcost\")\n",
    "plt.ylabel(\"Cost Value\")\n",
    "plt.show()\n",
    "\n",
    "car2_sub_costs = [car2_u_delta_cost, car2_u_v_cost, 10*car2_lat_cost, 10*car2_lon_cost, car2_phi_cost, phid2_cost, q_v*car2_v_cost] \n",
    "car2_sub_costs_labels = ['udel2', 'uv2', 'elat2', 'lon2', 'ephi2', 'v2']\n",
    "plt.bar(range(len(car2_sub_costs)), [sol.value(c) for c in car2_sub_costs])\n",
    "plt.xticks(range(len(car2_sub_costs)), car2_sub_costs_labels,rotation=45)\n",
    "plt.title('Car 2')\n",
    "plt.xlabel(\"Subcost\")\n",
    "plt.ylabel(\"Cost Value\")\n",
    "plt.show()\n",
    "\n",
    "amb_sub_costs = [amb_u_delta_cost, amb_u_v_cost, 10*amb_lat_cost, 10*amb_lon_cost, amb_phi_cost, phidamb_cost, q_v*amb_v_cost] \n",
    "amb_sub_costs_labels = ['udelA', 'uvA', 'elatA', 'lonA', 'ephiA', 'vA']\n",
    "plt.bar(range(len(amb_sub_costs)), [sol.value(c) for c in amb_sub_costs])\n",
    "plt.xticks(range(len(amb_sub_costs)), amb_sub_costs_labels,rotation=45)\n",
    "\n",
    "plt.title('Amb')\n",
    "plt.xlabel(\"Subcost\")\n",
    "plt.ylabel(\"Cost Value\")\n",
    "plt.show()\n",
    "\n",
    "all_costs = [0.1*c for c in car1_sub_costs] + [0.1 for c in car2_sub_costs] + [10*c for c in amb_sub_costs]\n",
    "all_labels = car1_sub_costs_labels + car2_sub_costs_labels + amb_sub_costs_labels\n",
    "plt.bar(range(len(all_costs)), [sol.value(c) for c in all_costs])\n",
    "plt.xticks(range(len(all_labels)), all_labels,rotation=90)\n",
    "plt.title('All Cars')\n",
    "plt.xlabel(\"Subcost\")\n",
    "plt.ylabel(\"Cost Value\")"
   ]
  },
  {
   "cell_type": "code",
   "execution_count": null,
   "metadata": {},
   "outputs": [],
   "source": [
    "sol.value(x_opt)[3:5, 10:20]"
   ]
  },
  {
   "cell_type": "code",
   "execution_count": null,
   "metadata": {},
   "outputs": [],
   "source": [
    "dt"
   ]
  },
  {
   "cell_type": "code",
   "execution_count": null,
   "metadata": {},
   "outputs": [],
   "source": [
    "plt.plot(opti.debug.value(x_opt)[4,:],'o',c='b')\n",
    "plt.plot(opti.debug.value(x2_opt)[4,:],'o',c='g')\n",
    "plt.plot(opti.debug.value(xamb_opt)[4,:],'o',c='r')\n",
    "plt.ylabel(\"Velocity\")\n",
    "plt.show()"
   ]
  },
  {
   "cell_type": "code",
   "execution_count": null,
   "metadata": {},
   "outputs": [],
   "source": [
    "plt.plot(opti.debug.value(u_opt)[1,:],'o',c='b')\n",
    "plt.plot(opti.debug.value(u2_opt)[1,:],'o',c='g')\n",
    "plt.plot(opti.debug.value(uamb_opt)[1,:],'o',c='r')\n",
    "plt.ylabel(\"Acceleration $\\delta V_u$\")\n",
    "plt.show()"
   ]
  },
  {
   "cell_type": "code",
   "execution_count": null,
   "metadata": {},
   "outputs": [],
   "source": [
    "plt.plot([np.sqrt(opti.debug.value(cas.sumsqr(x_opt[0:2,k] - x2_opt[0:2,k]))) for k in range(opti.debug.value(x_opt).shape[1])],'o',c='b')\n",
    "plt.plot([np.sqrt(opti.debug.value(cas.sumsqr(x_opt[0:2,k] - x2_opt[0:2,k]))) for k in range(opti.debug.value(x_opt).shape[1])],'x',c='g')\n",
    "\n",
    "plt.plot([np.sqrt(opti.debug.value(cas.sumsqr(x_opt[0:2,k] - xamb_opt[0:2,k]))) for k in range(opti.debug.value(x_opt).shape[1])],'o',c='b')\n",
    "plt.plot([np.sqrt(opti.debug.value(cas.sumsqr(x_opt[0:2,k] - xamb_opt[0:2,k]))) for k in range(opti.debug.value(x_opt).shape[1])],'x',c='r')\n",
    "\n",
    "plt.plot([np.sqrt(opti.debug.value(cas.sumsqr(xamb_opt[0:2,k] - x2_opt[0:2,k]))) for k in range(opti.debug.value(x_opt).shape[1])],'o',c='g')\n",
    "plt.plot([np.sqrt(opti.debug.value(cas.sumsqr(xamb_opt[0:2,k] - x2_opt[0:2,k]))) for k in range(opti.debug.value(x_opt).shape[1])],'x',c='r')\n",
    "\n",
    "plt.hlines(min_dist,0,50)\n",
    "plt.ylabel('Intervehicle Distance')\n",
    "plt.ylim([-.1, 2*min_dist])"
   ]
  },
  {
   "cell_type": "code",
   "execution_count": null,
   "metadata": {},
   "outputs": [],
   "source": [
    "plt.plot([opti.debug.value(slack1) for k in range(opti.debug.value(x_opt).shape[1])],'.',c='b')\n",
    "plt.plot([opti.debug.value(slack2) for k in range(opti.debug.value(x_opt).shape[1])],'.',c='r')\n",
    "plt.plot([opti.debug.value(slack3) for k in range(opti.debug.value(x_opt).shape[1])],'.',c='g')\n",
    "\n",
    "\n",
    "# plt.plot([np.sqrt(opti.debug.value(cas.sumsqr(x_opt[0:2,k] - x2_opt[0:2,k]))) for k in range(opti.debug.value(x_opt).shape[1])],'o',c='b')\n",
    "# plt.plot([np.sqrt(opti.debug.value(cas.sumsqr(x_opt[0:2,k] - x2_opt[0:2,k]))) for k in range(opti.debug.value(x_opt).shape[1])],'x',c='g')\n",
    "\n",
    "# plt.plot([np.sqrt(opti.debug.value(cas.sumsqr(x_opt[0:2,k] - xamb_opt[0:2,k]))) for k in range(opti.debug.value(x_opt).shape[1])],'o',c='b')\n",
    "# plt.plot([np.sqrt(opti.debug.value(cas.sumsqr(x_opt[0:2,k] - xamb_opt[0:2,k]))) for k in range(opti.debug.value(x_opt).shape[1])],'x',c='r')\n",
    "\n",
    "# plt.plot([np.sqrt(opti.debug.value(cas.sumsqr(xamb_opt[0:2,k] - x2_opt[0:2,k]))) for k in range(opti.debug.value(x_opt).shape[1])],'o',c='g')\n",
    "# plt.plot([np.sqrt(opti.debug.value(cas.sumsqr(xamb_opt[0:2,k] - x2_opt[0:2,k]))) for k in range(opti.debug.value(x_opt).shape[1])],'x',c='r')\n",
    "\n",
    "plt.ylabel('slack')\n",
    "# plt.ylim([.7,.71])"
   ]
  },
  {
   "cell_type": "code",
   "execution_count": null,
   "metadata": {
    "scrolled": true
   },
   "outputs": [],
   "source": [
    "if not PLOT_LIVE:\n",
    "    for k in range(N+1):\n",
    "        \n",
    "        fig, ax = ego_car.get_frame(x_mpc[:,k])\n",
    "        fig, ax = ego_car.get_frame(x2_mpc[:,k], ax)\n",
    "        fig, ax = ego_car.get_frame(xamb_mpc[:,k], ax, amb=True)\n",
    "        \n",
    "        ax.plot(x_des[0,:], x_des[1,:], '--')\n",
    "        ax.plot(x2_des[0,:], x2_des[1,:], '--')        \n",
    "        \n",
    "        ax = plt.gca()\n",
    "        window_width = 24\n",
    "        window_height = window_width\n",
    "        xmin, xmax = -1, -1+window_width\n",
    "        ymin, ymax = -int(window_height/4.0), int(window_height/4.0)\n",
    "        ax.set_ylim((ymin, ymax))\n",
    "        ax.set_xlim((xmin, xmax))\n",
    "        \n",
    "        fig.savefig(folder + 'imgs/' '{:03d}.png'.format(k))\n",
    "        plt.close(fig)     "
   ]
  }
 ],
 "metadata": {
  "kernelspec": {
   "display_name": "Python 3",
   "language": "python",
   "name": "python3"
  },
  "language_info": {
   "codemirror_mode": {
    "name": "ipython",
    "version": 3
   },
   "file_extension": ".py",
   "mimetype": "text/x-python",
   "name": "python",
   "nbconvert_exporter": "python",
   "pygments_lexer": "ipython3",
   "version": "3.7.4"
  }
 },
 "nbformat": 4,
 "nbformat_minor": 2
}
