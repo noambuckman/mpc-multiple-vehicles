{
 "cells": [
  {
   "cell_type": "code",
   "execution_count": 1,
   "metadata": {
    "scrolled": true
   },
   "outputs": [],
   "source": [
    "%load_ext autoreload\n",
    "%autoreload 2\n",
    "import datetime\n",
    "import os, sys\n",
    "import numpy as np\n",
    "import matplotlib.pyplot as plt\n",
    "\n",
    "import casadi as cas\n",
    "\n",
    "##### For viewing the videos in Jupyter Notebook\n",
    "import io\n",
    "import base64\n",
    "from IPython.display import HTML\n",
    "\n",
    "# from ..</src> import car_plotting\n",
    "# from .import src.car_plotting\n",
    "PROJECT_PATH = '/home/nbuckman/Dropbox (MIT)/DRL/2020_01_cooperative_mpc/mpc-multiple-vehicles/'\n",
    "sys.path.append(PROJECT_PATH)\n",
    "import src.MPC_Casadi as mpc\n",
    "import src.car_plotting as cplot\n",
    "\n",
    "%matplotlib inline"
   ]
  },
  {
   "cell_type": "markdown",
   "metadata": {},
   "source": [
    "# Vehicle Dynamics $\\frac{d}{dt} \\vec{x} = f(\\vec{x}, \\vec{u})$"
   ]
  },
  {
   "cell_type": "code",
   "execution_count": null,
   "metadata": {},
   "outputs": [],
   "source": []
  },
  {
   "cell_type": "markdown",
   "metadata": {},
   "source": [
    "def gen_x_next(x_k, u_k, dt):\n",
    "    k1 = f(x_k, u_k)\n",
    "    k2 = f(x_k+dt/2*k1, u_k)\n",
    "    k3 = f(x_k+dt/2*k2, u_k)\n",
    "    k4 = f(x_k+dt*k3,   u_k)\n",
    "    x_next = x_k + dt/6*(k1+2*k2+2*k3+k4) \n",
    "    return x_next\n",
    "# F = cas.Function('F',[x,u,t],[ode],)"
   ]
  },
  {
   "cell_type": "markdown",
   "metadata": {},
   "source": [
    "#  States\n",
    "\n",
    "$\\vec{x}$ = $[x, y, \\phi, \\delta, V, s]^T$\n",
    "\n",
    "$\\vec{u}$ = $[\\delta^u, v^u]^T$"
   ]
  },
  {
   "cell_type": "markdown",
   "metadata": {},
   "source": [
    "# Discrete (integrated) dynamics $\\vec{x}_{t+1} = F(\\vec{x}_{t}, \\vec{u}_{t})$"
   ]
  },
  {
   "cell_type": "code",
   "execution_count": 2,
   "metadata": {},
   "outputs": [],
   "source": [
    "T = 10 #numbr of time horizons\n",
    "dt = 0.1\n",
    "N = int(T/dt) #Number of control intervals"
   ]
  },
  {
   "cell_type": "markdown",
   "metadata": {},
   "source": [
    "intg_options = {}\n",
    "intg_options['tf'] = dt # from dt\n",
    "intg_options['simplify'] = True\n",
    "intg_options['number_of_finite_elements'] = 6  #from 4\n",
    "\n",
    "dae = {}  #What's a DAE?\n",
    "dae['x'] = x\n",
    "dae['p'] = u\n",
    "dae['ode'] = f(x,u)\n",
    "intg = cas.integrator('intg','rk', dae, intg_options)\n",
    "res = intg(x0=x,p=u)\n",
    "x_next = res['xf']\n",
    "F = cas.Function('F',[x,u],[x_next],['x','u'],['x_next'])"
   ]
  },
  {
   "cell_type": "markdown",
   "metadata": {},
   "source": [
    "# Problem Definition\n",
    "### Parameterization of Desired Trajectory ($\\vec{x}_d = f_d(s)$)"
   ]
  },
  {
   "cell_type": "code",
   "execution_count": 25,
   "metadata": {},
   "outputs": [],
   "source": [
    "s = cas.MX.sym('s')\n",
    "xd = s\n",
    "yd = 0\n",
    "phid = 0\n",
    "des_traj = cas.vertcat(xd, yd, phid)\n",
    "fd = cas.Function('fd',[s],[des_traj],['s'],['des_traj'])"
   ]
  },
  {
   "cell_type": "code",
   "execution_count": 26,
   "metadata": {},
   "outputs": [],
   "source": [
    "#Globally true information\n",
    "min_dist = 2 * (2 * .5**2)**.5\n",
    "\n",
    "# initial_speed = 6.7 \n",
    "initial_speed = 20 * 0.447 # m/s\n",
    "\n",
    "# Initial Conditions\n",
    "x0 = np.array([2*min_dist, 1.2*min_dist, 0, 0, initial_speed, 0]).T\n",
    "x0_2 = np.array([2*min_dist, 0, .0, 0, initial_speed, 0]).T\n",
    "x0_amb = np.array([0, 0.0, 0, 0, 1.1 * initial_speed , 0]).T"
   ]
  },
  {
   "cell_type": "code",
   "execution_count": 27,
   "metadata": {},
   "outputs": [],
   "source": [
    "LANE_WIDTH = min_dist\n",
    "xd2 = s\n",
    "yd2 = LANE_WIDTH\n",
    "phid = 0\n",
    "des_traj2 = cas.vertcat(xd2, yd2, phid)\n",
    "fd2 = cas.Function('fd',[s],[des_traj2],['s'],['des_traj2'])"
   ]
  },
  {
   "cell_type": "markdown",
   "metadata": {},
   "source": [
    "## Warm Start"
   ]
  },
  {
   "cell_type": "markdown",
   "metadata": {},
   "source": [
    "### Solve it centrally just to warm start the solution"
   ]
  },
  {
   "cell_type": "code",
   "execution_count": 44,
   "metadata": {},
   "outputs": [],
   "source": [
    "x1_MPC = mpc.MPC(dt)\n",
    "x2_MPC = mpc.MPC(dt)\n",
    "\n",
    "x1_MPC.k_s = -1.0\n",
    "x2_MPC.k_s = -1.0\n",
    "\n",
    "x1_MPC.theta_iamb = 0\n",
    "x2_MPC.theta_iamb = 0\n",
    "\n",
    "\n",
    "amb_MPC = mpc.MPC(dt)\n",
    "amb_MPC.theta_iamb = 0.0\n",
    "\n",
    "\n",
    "# amb_MPC.k_u_v = 0.10\n",
    "# amb_MPC.k_u_change = 1.0\n",
    "amb_MPC.k_s = -1.0\n",
    "amb_MPC.max_v = 40 * 0.447 # m/s\n",
    "amb_MPC.max_X_dev = 5.0\n",
    "\n",
    "\n",
    "x2_MPC.fd = fd\n",
    "amb_MPC.fd = fd\n",
    "x1_MPC.fd = fd2\n",
    "\n",
    "\n",
    "x1_MPC.min_y = -1.1 * LANE_WIDTH\n",
    "x2_MPC.min_y = -1.1 * LANE_WIDTH\n",
    "amb_MPC.min_y = -1.1 * LANE_WIDTH"
   ]
  },
  {
   "cell_type": "code",
   "execution_count": 45,
   "metadata": {},
   "outputs": [],
   "source": [
    "opt =  mpc.OptimizationMPC(x1_MPC, x2_MPC,amb_MPC)\n",
    "opt.generate_optimization(N, min_dist, fd, T, x0, x0_2, x0_amb, 2)"
   ]
  },
  {
   "cell_type": "code",
   "execution_count": 46,
   "metadata": {},
   "outputs": [
    {
     "name": "stdout",
     "output_type": "stream",
     "text": [
      "      solver  :   t_proc      (avg)   t_wall      (avg)    n_eval\n",
      "       nlp_f  | 323.64ms (783.62us) 322.23ms (780.21us)       413\n",
      "       nlp_g  | 753.27ms (  1.82ms) 748.00ms (  1.81ms)       413\n",
      "    nlp_grad  |   5.61ms (  5.61ms)   5.58ms (  5.58ms)         1\n",
      "  nlp_grad_f  | 485.13ms (  1.36ms) 482.43ms (  1.36ms)       356\n",
      "  nlp_hess_l  |   9.61 s ( 23.97ms)   9.54 s ( 23.79ms)       401\n",
      "   nlp_jac_g  |   4.71 s ( 11.62ms)   4.67 s ( 11.54ms)       405\n",
      "       total  |  22.20 s ( 22.20 s)  22.03 s ( 22.03 s)         1\n"
     ]
    }
   ],
   "source": [
    "x1, u1, x1_des, x2, u2, x2_des, xamb, uamb, xamb_des = opt.get_solution()"
   ]
  },
  {
   "cell_type": "code",
   "execution_count": 47,
   "metadata": {
    "scrolled": true
   },
   "outputs": [
    {
     "name": "stdout",
     "output_type": "stream",
     "text": [
      "results/20200218-113006_svo_ego_homog/\n"
     ]
    }
   ],
   "source": [
    "optional_suffix = \"_svo_ego_homog\"\n",
    "subdir_name = datetime.datetime.now().strftime(\"%Y%m%d-%H%M%S\") + optional_suffix\n",
    "folder = \"results/\" + subdir_name + \"/\"\n",
    "os.makedirs(folder)\n",
    "os.makedirs(folder+\"imgs/\")\n",
    "print(folder)"
   ]
  },
  {
   "cell_type": "code",
   "execution_count": 48,
   "metadata": {},
   "outputs": [
    {
     "data": {
      "text/plain": [
       "'results/20200218-113006_svo_ego_homog/'"
      ]
     },
     "execution_count": 48,
     "metadata": {},
     "output_type": "execute_result"
    }
   ],
   "source": [
    "opt.save_state(folder,x1, u1, x1_des, x2, u2, x2_des, xamb, uamb, xamb_des)"
   ]
  },
  {
   "cell_type": "code",
   "execution_count": 1,
   "metadata": {
    "scrolled": true
   },
   "outputs": [
    {
     "ename": "NameError",
     "evalue": "name 'cplot' is not defined",
     "output_type": "error",
     "traceback": [
      "\u001b[0;31m---------------------------------------------------------------------------\u001b[0m",
      "\u001b[0;31mNameError\u001b[0m                                 Traceback (most recent call last)",
      "\u001b[0;32m<ipython-input-1-6b2543b2e817>\u001b[0m in \u001b[0;36m<module>\u001b[0;34m\u001b[0m\n\u001b[0;32m----> 1\u001b[0;31m \u001b[0mcplot\u001b[0m\u001b[0;34m.\u001b[0m\u001b[0mplot_cars\u001b[0m\u001b[0;34m(\u001b[0m\u001b[0mx1\u001b[0m\u001b[0;34m,\u001b[0m \u001b[0mx2\u001b[0m\u001b[0;34m,\u001b[0m \u001b[0mxamb\u001b[0m\u001b[0;34m,\u001b[0m \u001b[0mfolder\u001b[0m\u001b[0;34m,\u001b[0m\u001b[0mx1_des\u001b[0m\u001b[0;34m,\u001b[0m \u001b[0mx2_des\u001b[0m\u001b[0;34m,\u001b[0m \u001b[0mxamb_des\u001b[0m\u001b[0;34m)\u001b[0m\u001b[0;34m\u001b[0m\u001b[0;34m\u001b[0m\u001b[0m\n\u001b[0m",
      "\u001b[0;31mNameError\u001b[0m: name 'cplot' is not defined"
     ]
    }
   ],
   "source": [
    "cplot.plot_cars(x1, x2, xamb, folder,x1_des, x2_des, xamb_des)"
   ]
  },
  {
   "cell_type": "code",
   "execution_count": 50,
   "metadata": {},
   "outputs": [
    {
     "name": "stdout",
     "output_type": "stream",
     "text": [
      "Saving video to: results/20200218-113006_svo_ego_homog/20200218-113006_svo_ego_homogcar_central.mp4\n"
     ]
    }
   ],
   "source": [
    "CIRCLES = False\n",
    "if CIRCLES:\n",
    "    vid_fname = folder + subdir_name + 'circle_central.mp4'\n",
    "else:\n",
    "    vid_fname = folder + subdir_name + 'car_central.mp4'   \n",
    "if os.path.exists(vid_fname):\n",
    "    os.remove(vid_fname)\n",
    "cmd = 'ffmpeg -r 16 -f image2 -i {}imgs/%03d.png -vcodec libx264 -crf 25  -pix_fmt yuv420p {}'.format(folder, vid_fname)\n",
    "os.system(cmd)\n",
    "print('Saving video to: {}'.format(vid_fname))"
   ]
  },
  {
   "cell_type": "code",
   "execution_count": 51,
   "metadata": {
    "scrolled": false
   },
   "outputs": [
    {
     "data": {
      "text/html": [
       "<video alt=\"test\" controls>\n",
       "                <source src=\"data:video/mp4;base64,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\" type=\"video/mp4\" />\n",
       "             </video>"
      ],
      "text/plain": [
       "<IPython.core.display.HTML object>"
      ]
     },
     "execution_count": 51,
     "metadata": {},
     "output_type": "execute_result"
    }
   ],
   "source": [
    "video = io.open(vid_fname, 'r+b').read()\n",
    "encoded = base64.b64encode(video)\n",
    "HTML(data='''<video alt=\"test\" controls>\n",
    "                <source src=\"data:video/mp4;base64,{0}\" type=\"video/mp4\" />\n",
    "             </video>'''.format(encoded.decode('ascii')))\n"
   ]
  },
  {
   "cell_type": "markdown",
   "metadata": {},
   "source": [
    "## Decentralized:  IBR to Converge"
   ]
  },
  {
   "cell_type": "code",
   "execution_count": null,
   "metadata": {},
   "outputs": [],
   "source": [
    "## Initialize values from the centralized version\n",
    "x1_current, u1_current, x1_desired_current = x1, u1, x1_des\n",
    "x2_current, u2_current, x2_desired_current = x2, u2, x2_des\n",
    "xamb_current, uamb_current, xamb_desired_current = xamb, uamb, xamb_des"
   ]
  },
  {
   "cell_type": "code",
   "execution_count": null,
   "metadata": {
    "scrolled": true
   },
   "outputs": [],
   "source": [
    "br1 = mpc.IterativeBestResponseMPC(x1_MPC, x2_MPC, amb_MPC)\n",
    "br1.generate_optimization(N, min_dist, fd, T, x0, x0_2, x0_amb, 2)\n",
    "\n",
    "x1r1, u1r1, x1_desr1 = br1.get_solution(x2_current, u2_current, x2_desired_current, xamb_current, uamb_current, xamb_desired_current)\n",
    "x1_current, u1_current, x1_desired_current = x1r1, u1r1, x1_desr1\n",
    "\n",
    "cplot.plot_cars(x1_current, x2_current, xamb_current, folder)\n",
    "CIRCLES = False\n",
    "if CIRCLES:\n",
    "    vid_fname = folder + subdir_name + 'circle1.mp4'\n",
    "else:\n",
    "    vid_fname = folder + subdir_name + 'car1.mp4'    \n",
    "if os.path.exists(vid_fname):\n",
    "    os.remove(vid_fname)\n",
    "cmd = 'ffmpeg -r 16 -f image2 -i {}imgs/%03d.png -vcodec libx264 -crf 25  -pix_fmt yuv420p {}'.format(folder, vid_fname)\n",
    "os.system(cmd)\n",
    "print('Saving video to: {}'.format(vid_fname))"
   ]
  },
  {
   "cell_type": "code",
   "execution_count": null,
   "metadata": {},
   "outputs": [],
   "source": []
  },
  {
   "cell_type": "code",
   "execution_count": null,
   "metadata": {},
   "outputs": [],
   "source": [
    "br2 = mpc.IterativeBestResponseMPC(x2_MPC, x1_MPC, amb_MPC)\n",
    "br2.generate_optimization(N, min_dist, fd, T, x0_2, x0, x0_amb, 2)\n",
    "br2.opti.set_initial(br2.x_opt, x2_current) # initialize it with the previous solution\n",
    "x2r2, u2r2, x2_desr2 = br2.get_solution(x1_current, u1_current, x1_desired_current, xamb_current, uamb_current, xamb_desired_current)\n",
    "x2_current, u2_current, x2_desired_current = x2r2, u2r2, x2_desr2"
   ]
  },
  {
   "cell_type": "code",
   "execution_count": null,
   "metadata": {},
   "outputs": [],
   "source": [
    "cplot.plot_cars(x1_current, x2_current, xamb_current, folder)"
   ]
  },
  {
   "cell_type": "code",
   "execution_count": null,
   "metadata": {},
   "outputs": [],
   "source": [
    "CIRCLES = False\n",
    "if CIRCLES:\n",
    "    vid_fname = folder + subdir_name + 'circle2.mp4'\n",
    "else:\n",
    "    vid_fname = folder + subdir_name + 'car2.mp4'    \n",
    "if os.path.exists(vid_fname):\n",
    "    os.remove(vid_fname)\n",
    "cmd = 'ffmpeg -r 16 -f image2 -i {}imgs/%03d.png -vcodec libx264 -crf 25  -pix_fmt yuv420p {}'.format(folder, vid_fname)\n",
    "os.system(cmd)\n",
    "print('Saving video to: {}'.format(vid_fname))"
   ]
  },
  {
   "cell_type": "code",
   "execution_count": null,
   "metadata": {},
   "outputs": [],
   "source": [
    "car1_v_cost = car1_s_cost\n",
    "car2_v_cost = car2_s_cost\n",
    "amb_v_cost = amb_s_cost"
   ]
  },
  {
   "cell_type": "code",
   "execution_count": null,
   "metadata": {},
   "outputs": [],
   "source": [
    "car1_sub_costs = [car1_u_delta_cost, car1_u_v_cost, k_lat1*car1_lat_cost, k_lon1*car1_lon_cost, k_phi1*car1_phi_cost, k_phid1*phid1_cost, q_v*car1_v_cost] \n",
    "car1_sub_costs_labels = ['udel1', 'uv1', 'elat1', 'lon1', 'ephi1', 'v1']\n",
    "plt.bar(range(len(car1_sub_costs)), [sol.value(c) for c in car1_sub_costs])\n",
    "plt.xticks(range(len(car1_sub_costs)), car1_sub_costs_labels,rotation=45)\n",
    "plt.title('Car 1')\n",
    "plt.xlabel(\"Subcost\")\n",
    "plt.ylabel(\"Cost Value\")\n",
    "plt.show()\n",
    "\n",
    "car2_sub_costs = [car2_u_delta_cost, car2_u_v_cost, 10*car2_lat_cost, 10*car2_lon_cost, k_phi2*car2_phi_cost, k_phid2*phid2_cost, q_v*car2_v_cost] \n",
    "car2_sub_costs_labels = ['udel2', 'uv2', 'elat2', 'lon2', 'ephi2', 'v2']\n",
    "plt.bar(range(len(car2_sub_costs)), [sol.value(c) for c in car2_sub_costs])\n",
    "plt.xticks(range(len(car2_sub_costs)), car2_sub_costs_labels,rotation=45)\n",
    "plt.title('Car 2')\n",
    "plt.xlabel(\"Subcost\")\n",
    "plt.ylabel(\"Cost Value\")\n",
    "plt.show()\n",
    "\n",
    "amb_sub_costs = [amb_u_delta_cost, amb_u_v_cost, 10*amb_lat_cost, 10*amb_lon_cost,k_phiamb*amb_phi_cost, k_phidamb*phidamb_cost, q_v*amb_v_cost] \n",
    "amb_sub_costs_labels = ['udelA', 'uvA', 'elatA', 'lonA', 'ephiA', 'vA']\n",
    "plt.bar(range(len(amb_sub_costs)), [sol.value(c) for c in amb_sub_costs])\n",
    "plt.xticks(range(len(amb_sub_costs)), amb_sub_costs_labels,rotation=45)\n",
    "\n",
    "plt.title('Amb')\n",
    "plt.xlabel(\"Subcost\")\n",
    "plt.ylabel(\"Cost Value\")\n",
    "plt.show()\n",
    "\n",
    "all_costs = [0.1*c for c in car1_sub_costs] + [0.1 for c in car2_sub_costs] + [10*c for c in amb_sub_costs]\n",
    "all_labels = car1_sub_costs_labels + car2_sub_costs_labels + amb_sub_costs_labels\n",
    "plt.bar(range(len(all_costs)), [sol.value(c) for c in all_costs])\n",
    "plt.xticks(range(len(all_labels)), all_labels,rotation=90)\n",
    "plt.title('All Cars')\n",
    "plt.xlabel(\"Subcost\")\n",
    "plt.ylabel(\"Cost Value\")"
   ]
  },
  {
   "cell_type": "code",
   "execution_count": null,
   "metadata": {},
   "outputs": [],
   "source": []
  },
  {
   "cell_type": "code",
   "execution_count": null,
   "metadata": {},
   "outputs": [],
   "source": [
    "for BR_iteration in range(20):\n",
    "    opti2.set_value(x_opt2, sol.value(x_opt))\n",
    "    opti2.set_value(u_opt2, sol.value(u_opt))\n",
    "\n",
    "    opti2.set_value(xamb_opt2, sol.value(xamb_opt))\n",
    "    opti2.set_value(uamb_opt2, sol.value(uamb_opt))\n",
    "\n",
    "    opti2.set_initial(x2_opt2, sol.value(x2_opt))\n",
    "    opti2.set_initial(u2_opt2, sol.value(u2_opt))\n",
    "    sol2 = opti2.solve()\n",
    "\n",
    "    opti3.set_value(x_opt3, sol2.value(x_opt2))\n",
    "    opti3.set_value(u_opt3, sol2.value(u_opt2))\n",
    "\n",
    "    opti3.set_value(x2_opt3, sol2.value(x2_opt2))\n",
    "    opti3.set_value(u2_opt3, sol2.value(uamb_opt2))\n",
    "\n",
    "    opti3.set_initial(xamb_opt3, sol2.value(xamb_opt2))\n",
    "    opti3.set_initial(uamb_opt3, sol2.value(uamb_opt2))    \n",
    "    sol3 = opti3.solve()\n",
    "    \n",
    "    \n",
    "    opti.set_value(x2_opt, sol3.value(x2_opt3))\n",
    "    opti.set_value(xamb_opt, sol3.value(xamb_opt3))\n",
    "    opti.set_value(u2_opt, sol3.value(u2_opt3))\n",
    "    opti.set_value(uamb_opt, sol3.value(uamb_opt3))\n",
    "\n",
    "    opti.set_initial(x_opt, sol3.value(x_opt3))\n",
    "    opti.set_initial(u_opt, sol3.value(u_opt3))    \n",
    "    sol = opti.solve()\n",
    "    \n",
    "    x_warm = sol.value(x_opt)\n",
    "    u_warm = sol.value(u_opt)\n",
    "    x2_warm = sol.value(x2_opt)\n",
    "    u2_warm = sol.value(u2_opt)\n",
    "    xamb_warm = sol.value(xamb_opt)\n",
    "    uamb_warm = sol.value(uamb_opt)\n",
    "\n",
    "#     x_des = sol/\n",
    "\n",
    "    for k in range(N+1):\n",
    "\n",
    "        fig, ax = ego_car.get_frame(x_warm[:,k])\n",
    "        fig, ax = ego_car.get_frame(x2_warm[:,k], ax)\n",
    "        fig, ax = ego_car.get_frame(xamb_warm[:,k], ax, amb=True)\n",
    "\n",
    "\n",
    "#         ax.plot(x_des[0,:], x_des[1,:], '--')\n",
    "#         ax.plot(x2_des[0,:], x2_des[1,:], '--')        \n",
    "\n",
    "        ax = plt.gca()\n",
    "        window_width = 24\n",
    "        window_height = window_width\n",
    "        xmin, xmax = -1, -1+window_width\n",
    "        ymin, ymax = -int(window_height/4.0), int(window_height/4.0)\n",
    "        ax.set_ylim((ymin, ymax))\n",
    "        ax.set_xlim((xmin, xmax))\n",
    "\n",
    "        fig.savefig(folder + 'imgs/' '{:03d}.png'.format(k))\n",
    "        plt.close(fig)         \n",
    "\n",
    "    vid_fname = folder + '%02d'%BR_iteration + 'car.mp4'\n",
    "    if os.path.exists(vid_fname):\n",
    "        os.remove(vid_fname)\n",
    "    cmd = 'ffmpeg -r 16 -f image2 -i {}imgs/%03d.png -vcodec libx264 -crf 25  -pix_fmt yuv420p {}'.format(folder, vid_fname)\n",
    "    os.system(cmd)\n",
    "    print('Saving video to: {}'.format(vid_fname))"
   ]
  },
  {
   "cell_type": "code",
   "execution_count": null,
   "metadata": {},
   "outputs": [],
   "source": []
  },
  {
   "cell_type": "code",
   "execution_count": null,
   "metadata": {},
   "outputs": [],
   "source": [
    "for BR_iteration in range(20):        \n",
    "    vid_fname = folder + '%02d'%BR_iteration + 'car.mp4'\n",
    "    \n",
    "    print('Saving video to: {}'.format(vid_fname))"
   ]
  },
  {
   "cell_type": "code",
   "execution_count": null,
   "metadata": {},
   "outputs": [],
   "source": []
  },
  {
   "cell_type": "markdown",
   "metadata": {},
   "source": [
    "## Best Response V2"
   ]
  },
  {
   "cell_type": "code",
   "execution_count": null,
   "metadata": {},
   "outputs": [],
   "source": []
  },
  {
   "cell_type": "code",
   "execution_count": null,
   "metadata": {
    "scrolled": true
   },
   "outputs": [],
   "source": []
  },
  {
   "cell_type": "code",
   "execution_count": null,
   "metadata": {},
   "outputs": [],
   "source": []
  },
  {
   "cell_type": "code",
   "execution_count": null,
   "metadata": {
    "scrolled": false
   },
   "outputs": [],
   "source": []
  },
  {
   "cell_type": "code",
   "execution_count": null,
   "metadata": {},
   "outputs": [],
   "source": []
  },
  {
   "cell_type": "code",
   "execution_count": null,
   "metadata": {},
   "outputs": [],
   "source": [
    "x1 = sol3.value(x_opt3)\n",
    "x2 = sol3.value(x2_opt3)\n",
    "xamb = sol3.value(xamb_opt3)\n",
    "x_des = sol3.value(xamb_desired_3)\n",
    "\n",
    "for k in range(N+1):\n",
    "\n",
    "    fig, ax = ego_car.get_frame(x1[:,k])\n",
    "    fig, ax = ego_car.get_frame(x2[:,k], ax)\n",
    "    fig, ax = ego_car.get_frame(xamb[:,k], ax, amb=True)\n",
    "\n",
    "    \n",
    "    ax.plot(x_des[0,:], x_des[1,:], '--')\n",
    "#     ax.plot(x2_des[0,:], x2_des[1,:], '--')        \n",
    "\n",
    "    ax = plt.gca()\n",
    "    window_width = 24\n",
    "    window_height = window_width\n",
    "    xmin, xmax = -1, -1+window_width\n",
    "    ymin, ymax = -int(window_height/4.0), int(window_height/4.0)\n",
    "    ax.set_ylim((ymin, ymax))\n",
    "    ax.set_xlim((xmin, xmax))\n",
    "\n",
    "    fig.savefig(folder + 'imgs/' '{:03d}.png'.format(k))\n",
    "    plt.close(fig)     \n",
    "    \n",
    "vid_fname = folder + 'caramb.mp4'\n",
    "if os.path.exists(vid_fname):\n",
    "    os.remove(vid_fname)\n",
    "cmd = 'ffmpeg -r 16 -f image2 -i {}imgs/%03d.png -vcodec libx264 -crf 25  -pix_fmt yuv420p {}'.format(folder, vid_fname)\n",
    "os.system(cmd)\n",
    "print('Saving video to: {}'.format(vid_fname))"
   ]
  },
  {
   "cell_type": "code",
   "execution_count": null,
   "metadata": {},
   "outputs": [],
   "source": []
  },
  {
   "cell_type": "code",
   "execution_count": null,
   "metadata": {},
   "outputs": [],
   "source": []
  },
  {
   "cell_type": "code",
   "execution_count": null,
   "metadata": {},
   "outputs": [],
   "source": []
  },
  {
   "cell_type": "code",
   "execution_count": null,
   "metadata": {},
   "outputs": [],
   "source": []
  },
  {
   "cell_type": "code",
   "execution_count": null,
   "metadata": {
    "scrolled": false
   },
   "outputs": [],
   "source": [
    "car1_sub_costs = [car1_u_delta_cost, car1_u_v_cost, 10*car1_lat_cost, 10*car1_lon_cost, car1_phi_cost, phid1_cost, q_v*car1_v_cost] \n",
    "car1_sub_costs_labels = ['udel1', 'uv1', 'elat1', 'lon1', 'ephi1', 'v1']\n",
    "plt.bar(range(len(car1_sub_costs)), [sol.value(c) for c in car1_sub_costs])\n",
    "plt.xticks(range(len(car1_sub_costs)), car1_sub_costs_labels,rotation=45)\n",
    "plt.title('Car 1')\n",
    "plt.xlabel(\"Subcost\")\n",
    "plt.ylabel(\"Cost Value\")\n",
    "plt.show()\n",
    "\n",
    "car2_sub_costs = [car2_u_delta_cost, car2_u_v_cost, 10*car2_lat_cost, 10*car2_lon_cost, car2_phi_cost, phid2_cost, q_v*car2_v_cost] \n",
    "car2_sub_costs_labels = ['udel2', 'uv2', 'elat2', 'lon2', 'ephi2', 'v2']\n",
    "plt.bar(range(len(car2_sub_costs)), [sol.value(c) for c in car2_sub_costs])\n",
    "plt.xticks(range(len(car2_sub_costs)), car2_sub_costs_labels,rotation=45)\n",
    "plt.title('Car 2')\n",
    "plt.xlabel(\"Subcost\")\n",
    "plt.ylabel(\"Cost Value\")\n",
    "plt.show()\n",
    "\n",
    "amb_sub_costs = [amb_u_delta_cost, amb_u_v_cost, 10*amb_lat_cost, 10*amb_lon_cost, amb_phi_cost, phidamb_cost, q_v*amb_v_cost] \n",
    "amb_sub_costs_labels = ['udelA', 'uvA', 'elatA', 'lonA', 'ephiA', 'vA']\n",
    "plt.bar(range(len(amb_sub_costs)), [sol.value(c) for c in amb_sub_costs])\n",
    "plt.xticks(range(len(amb_sub_costs)), amb_sub_costs_labels,rotation=45)\n",
    "\n",
    "plt.title('Amb')\n",
    "plt.xlabel(\"Subcost\")\n",
    "plt.ylabel(\"Cost Value\")\n",
    "plt.show()\n",
    "\n",
    "all_costs = [0.1*c for c in car1_sub_costs] + [0.1 for c in car2_sub_costs] + [10*c for c in amb_sub_costs]\n",
    "all_labels = car1_sub_costs_labels + car2_sub_costs_labels + amb_sub_costs_labels\n",
    "plt.bar(range(len(all_costs)), [sol.value(c) for c in all_costs])\n",
    "plt.xticks(range(len(all_labels)), all_labels,rotation=90)\n",
    "plt.title('All Cars')\n",
    "plt.xlabel(\"Subcost\")\n",
    "plt.ylabel(\"Cost Value\")"
   ]
  },
  {
   "cell_type": "code",
   "execution_count": null,
   "metadata": {},
   "outputs": [],
   "source": [
    "sol.value(x_opt)[3:5, 10:20]"
   ]
  },
  {
   "cell_type": "code",
   "execution_count": null,
   "metadata": {},
   "outputs": [],
   "source": [
    "dt"
   ]
  },
  {
   "cell_type": "code",
   "execution_count": null,
   "metadata": {},
   "outputs": [],
   "source": [
    "plt.plot(opti.debug.value(x_opt)[4,:],'o',c='b')\n",
    "plt.plot(opti.debug.value(x2_opt)[4,:],'o',c='g')\n",
    "plt.plot(opti.debug.value(xamb_opt)[4,:],'o',c='r')\n",
    "plt.ylabel(\"Velocity\")\n",
    "plt.show()"
   ]
  },
  {
   "cell_type": "code",
   "execution_count": null,
   "metadata": {},
   "outputs": [],
   "source": [
    "plt.plot(opti.debug.value(u_opt)[1,:],'o',c='b')\n",
    "plt.plot(opti.debug.value(u2_opt)[1,:],'o',c='g')\n",
    "plt.plot(opti.debug.value(uamb_opt)[1,:],'o',c='r')\n",
    "plt.ylabel(\"Acceleration $\\delta V_u$\")\n",
    "plt.show()"
   ]
  },
  {
   "cell_type": "code",
   "execution_count": null,
   "metadata": {},
   "outputs": [],
   "source": [
    "plt.plot([np.sqrt(opti.debug.value(cas.sumsqr(x_opt[0:2,k] - x2_opt[0:2,k]))) for k in range(opti.debug.value(x_opt).shape[1])],'o',c='b')\n",
    "plt.plot([np.sqrt(opti.debug.value(cas.sumsqr(x_opt[0:2,k] - x2_opt[0:2,k]))) for k in range(opti.debug.value(x_opt).shape[1])],'x',c='g')\n",
    "\n",
    "plt.plot([np.sqrt(opti.debug.value(cas.sumsqr(x_opt[0:2,k] - xamb_opt[0:2,k]))) for k in range(opti.debug.value(x_opt).shape[1])],'o',c='b')\n",
    "plt.plot([np.sqrt(opti.debug.value(cas.sumsqr(x_opt[0:2,k] - xamb_opt[0:2,k]))) for k in range(opti.debug.value(x_opt).shape[1])],'x',c='r')\n",
    "\n",
    "plt.plot([np.sqrt(opti.debug.value(cas.sumsqr(xamb_opt[0:2,k] - x2_opt[0:2,k]))) for k in range(opti.debug.value(x_opt).shape[1])],'o',c='g')\n",
    "plt.plot([np.sqrt(opti.debug.value(cas.sumsqr(xamb_opt[0:2,k] - x2_opt[0:2,k]))) for k in range(opti.debug.value(x_opt).shape[1])],'x',c='r')\n",
    "\n",
    "plt.hlines(min_dist,0,50)\n",
    "plt.ylabel('Intervehicle Distance')\n",
    "plt.ylim([-.1, 2*min_dist])"
   ]
  },
  {
   "cell_type": "code",
   "execution_count": null,
   "metadata": {},
   "outputs": [],
   "source": [
    "plt.plot([opti.debug.value(slack1) for k in range(opti.debug.value(x_opt).shape[1])],'.',c='b')\n",
    "plt.plot([opti.debug.value(slack2) for k in range(opti.debug.value(x_opt).shape[1])],'.',c='r')\n",
    "plt.plot([opti.debug.value(slack3) for k in range(opti.debug.value(x_opt).shape[1])],'.',c='g')\n",
    "\n",
    "\n",
    "# plt.plot([np.sqrt(opti.debug.value(cas.sumsqr(x_opt[0:2,k] - x2_opt[0:2,k]))) for k in range(opti.debug.value(x_opt).shape[1])],'o',c='b')\n",
    "# plt.plot([np.sqrt(opti.debug.value(cas.sumsqr(x_opt[0:2,k] - x2_opt[0:2,k]))) for k in range(opti.debug.value(x_opt).shape[1])],'x',c='g')\n",
    "\n",
    "# plt.plot([np.sqrt(opti.debug.value(cas.sumsqr(x_opt[0:2,k] - xamb_opt[0:2,k]))) for k in range(opti.debug.value(x_opt).shape[1])],'o',c='b')\n",
    "# plt.plot([np.sqrt(opti.debug.value(cas.sumsqr(x_opt[0:2,k] - xamb_opt[0:2,k]))) for k in range(opti.debug.value(x_opt).shape[1])],'x',c='r')\n",
    "\n",
    "# plt.plot([np.sqrt(opti.debug.value(cas.sumsqr(xamb_opt[0:2,k] - x2_opt[0:2,k]))) for k in range(opti.debug.value(x_opt).shape[1])],'o',c='g')\n",
    "# plt.plot([np.sqrt(opti.debug.value(cas.sumsqr(xamb_opt[0:2,k] - x2_opt[0:2,k]))) for k in range(opti.debug.value(x_opt).shape[1])],'x',c='r')\n",
    "\n",
    "plt.ylabel('slack')\n",
    "# plt.ylim([.7,.71])"
   ]
  },
  {
   "cell_type": "code",
   "execution_count": null,
   "metadata": {
    "scrolled": true
   },
   "outputs": [],
   "source": [
    "if not PLOT_LIVE:\n",
    "    for k in range(N+1):\n",
    "        \n",
    "        fig, ax = ego_car.get_frame(x_mpc[:,k])\n",
    "        fig, ax = ego_car.get_frame(x2_mpc[:,k], ax)\n",
    "        fig, ax = ego_car.get_frame(xamb_mpc[:,k], ax, amb=True)\n",
    "        \n",
    "        ax.plot(x_des[0,:], x_des[1,:], '--')\n",
    "        ax.plot(x2_des[0,:], x2_des[1,:], '--')        \n",
    "        \n",
    "        ax = plt.gca()\n",
    "        window_width = 24\n",
    "        window_height = window_width\n",
    "        xmin, xmax = -1, -1+window_width\n",
    "        ymin, ymax = -int(window_height/4.0), int(window_height/4.0)\n",
    "        ax.set_ylim((ymin, ymax))\n",
    "        ax.set_xlim((xmin, xmax))\n",
    "        \n",
    "        fig.savefig(folder + 'imgs/' '{:03d}.png'.format(k))\n",
    "        plt.close(fig)     "
   ]
  }
 ],
 "metadata": {
  "kernelspec": {
   "display_name": "Python 3",
   "language": "python",
   "name": "python3"
  },
  "language_info": {
   "codemirror_mode": {
    "name": "ipython",
    "version": 3
   },
   "file_extension": ".py",
   "mimetype": "text/x-python",
   "name": "python",
   "nbconvert_exporter": "python",
   "pygments_lexer": "ipython3",
   "version": "3.7.4"
  }
 },
 "nbformat": 4,
 "nbformat_minor": 2
}
