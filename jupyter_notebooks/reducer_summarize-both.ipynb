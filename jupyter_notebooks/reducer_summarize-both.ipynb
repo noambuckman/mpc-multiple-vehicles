{
 "cells": [
  {
   "cell_type": "code",
   "execution_count": 1,
   "id": "1ca4fc2e",
   "metadata": {},
   "outputs": [],
   "source": [
    "%load_ext autoreload\n",
    "%autoreload 2\n",
    "import numpy as np\n",
    "import json, pickle, glob\n",
    "\n",
    "import matplotlib.pyplot as plt\n",
    "from src.utils.plotting.car_plotting import plot_cars, plot_multiple_cars"
   ]
  },
  {
   "cell_type": "code",
   "execution_count": 2,
   "id": "56324649",
   "metadata": {},
   "outputs": [
    {
     "name": "stdout",
     "output_type": "stream",
     "text": [
      "# Sim Dirs: 160\n"
     ]
    }
   ],
   "source": [
    "sim_dirs = glob.glob('/home/nbuckman/mpc_results/rl_results_11152021/results/*-*')\n",
    "print(\"# Sim Dirs: %d\"%len(sim_dirs))"
   ]
  },
  {
   "cell_type": "code",
   "execution_count": 3,
   "id": "7f04acf2",
   "metadata": {},
   "outputs": [
    {
     "name": "stdout",
     "output_type": "stream",
     "text": [
      "# Simulations: 113\n"
     ]
    }
   ],
   "source": [
    "CONV_MS_TO_MPH = 2.23694\n",
    "all_params = []\n",
    "all_trajs = []\n",
    "all_vehicles = []\n",
    "all_dirs = []\n",
    "\n",
    "for sim_dir in sim_dirs:\n",
    "    params_path = glob.glob(sim_dir + '/params.json')\n",
    "    trajs_path = glob.glob(sim_dir + '/trajectories.npy')\n",
    "    vehicles_path = glob.glob(sim_dir + '/other_vehicles.p')\n",
    "    \n",
    "    if len(trajs_path) > 0:\n",
    "        all_params += [json.load(open(params_path[0],'rb'))]\n",
    "        all_trajs += [np.load(trajs_path[0])]\n",
    "        all_vehicles += [pickle.load(open(vehicles_path[0],'rb'))]\n",
    "        all_dirs += [sim_dir]\n",
    "print(\"# Simulations: %d\"%len(all_dirs))"
   ]
  },
  {
   "cell_type": "code",
   "execution_count": 4,
   "id": "14d5dbef",
   "metadata": {},
   "outputs": [
    {
     "name": "stdout",
     "output_type": "stream",
     "text": [
      "Max MPC_END: 500\n"
     ]
    }
   ],
   "source": [
    "print(\"Max MPC_END: %d\"%(all_trajs[0].shape[2]-1))\n",
    "n_mpc_end = 500"
   ]
  },
  {
   "cell_type": "code",
   "execution_count": 5,
   "id": "849b471b",
   "metadata": {},
   "outputs": [
    {
     "name": "stdout",
     "output_type": "stream",
     "text": [
      "Total Sim Time 100.0\n"
     ]
    }
   ],
   "source": [
    "params = all_params[0]\n",
    "total_time = params[\"T\"] * params['p_exec'] * params['n_mpc']\n",
    "total_time = params[\"dt\"] * n_mpc_end\n",
    "print(\"Total Sim Time\", total_time)"
   ]
  },
  {
   "cell_type": "code",
   "execution_count": 6,
   "id": "dc5bfb66",
   "metadata": {},
   "outputs": [
    {
     "data": {
      "text/plain": [
       "(10, 6, 501)"
      ]
     },
     "execution_count": 6,
     "metadata": {},
     "output_type": "execute_result"
    }
   ],
   "source": [
    "all_trajs[0].shape"
   ]
  },
  {
   "cell_type": "markdown",
   "id": "27144c78",
   "metadata": {},
   "source": [
    "# Experiment Describer"
   ]
  },
  {
   "cell_type": "code",
   "execution_count": 7,
   "id": "1f28268c",
   "metadata": {},
   "outputs": [
    {
     "name": "stderr",
     "output_type": "stream",
     "text": [
      "<ipython-input-7-a4b5c72c80dd>:30: UserWarning: Matplotlib is currently using module://ipykernel.pylab.backend_inline, which is a non-GUI backend, so cannot show the figure.\n",
      "  fig.show()\n"
     ]
    },
    {
     "data": {
      "image/png": "[encoded data removed]",
      "text/plain": [
       "<Figure size 432x288 with 4 Axes>"
      ]
     },
     "metadata": {
      "needs_background": "light"
     },
     "output_type": "display_data"
    }
   ],
   "source": [
    "all_seeds = [param[\"seed\"] for param in all_params]\n",
    "all_densities = [param[\"car_density\"] for param in all_params]\n",
    "all_p_cooperative = [param[\"p_cooperative\"] for param in all_params]\n",
    "\n",
    "fig, axs = plt.subplots(2,2)\n",
    "\n",
    "color=iter(plt.cm.rainbow(np.linspace(0,1,4)))\n",
    "counter = 0\n",
    "for param_key in [\"seed\", \"car_density\", \"p_cooperative\"]:\n",
    "    row = counter%2\n",
    "    col = counter // 2\n",
    "    ax = axs[row, col]\n",
    "    all_p_key = [param[param_key] for param in all_params]\n",
    "    c = next(color)\n",
    "    ax.hist(all_p_key, facecolor=c)\n",
    "    ax.set_xlabel(param_key)\n",
    "    ax.set_ylabel(\"# Exp\")\n",
    "    counter+=1\n",
    "\n",
    "    \n",
    "    \n",
    "c = next(color)    \n",
    "all_max_speeds = [veh.max_v for vehicles in all_vehicles for veh in vehicles ]\n",
    "axs[1,1].hist(all_max_speeds)\n",
    "axs[1,1].set_xlabel('Max Speed')\n",
    "axs[1,1].set_ylabel('# Vehicles')\n",
    "fig.suptitle(\"Experiment Settings\")\n",
    "\n",
    "fig.tight_layout()\n",
    "fig.show()"
   ]
  },
  {
   "cell_type": "code",
   "execution_count": 8,
   "id": "a00a7b81",
   "metadata": {},
   "outputs": [],
   "source": [
    "def n_vehicles_behind(x_array):\n",
    "    ''' Input: [n_veh x 1] array of x-positions\n",
    "        Output: [n_veh x 1] array of # of vehicles behind vehicle i\n",
    "    '''\n",
    "    final_distance = np.tile(x_array, (10,1))    \n",
    "    n_vehicles = np.sum(final_distance.T > final_distance, axis=1)\n",
    "    return n_vehicles"
   ]
  },
  {
   "cell_type": "markdown",
   "id": "218b24d6",
   "metadata": {},
   "source": [
    "# Check for Collisions"
   ]
  },
  {
   "cell_type": "code",
   "execution_count": 9,
   "id": "c8f4122a",
   "metadata": {},
   "outputs": [],
   "source": [
    "def check_collision_experiment(traj):\n",
    "    ''' Check for collision in experiment\n",
    "        If coollision occurs, the trajectory will be zeros(1,6)\n",
    "    '''\n",
    "    if np.any(np.all(traj[:,:,1:] == np.zeros((1, 6, 1)), axis=1)):\n",
    "        return True\n",
    "    return False"
   ]
  },
  {
   "cell_type": "code",
   "execution_count": 10,
   "id": "b96beb1a",
   "metadata": {},
   "outputs": [
    {
     "name": "stdout",
     "output_type": "stream",
     "text": [
      "N_collisions: 1,  N_exp: 113, P_collisions: 0.01,  Collisions/Km: 7.284e-04, Collisions/BKm 7.3e+05\n"
     ]
    }
   ],
   "source": [
    "distances_array = np.array([all_trajs[exi][:,0,n_mpc_end] - all_trajs[exi][:,0,0] for exi in range(len(all_params))])\n",
    "total_distance_meters = np.sum(distances_array)\n",
    "total_collisions = np.sum([check_collision_experiment(traj) for traj in all_trajs])\n",
    "total_experiments = len(all_trajs)\n",
    "percentage_collisions_experiments = float(total_collisions) / total_experiments\n",
    "collisions_per_km = float(total_collisions) / (total_distance_meters / 1000.0) \n",
    "collisions_per_bkm = collisions_per_km * (1e9)\n",
    "\n",
    "print(\"N_collisions: %d,  N_exp: %d, P_collisions: %.2f,  Collisions/Km: %.3e, Collisions/BKm %.1e\"%(\n",
    "                    total_collisions, total_experiments, percentage_collisions_experiments, collisions_per_km, collisions_per_bkm))"
   ]
  },
  {
   "cell_type": "code",
   "execution_count": 11,
   "id": "578cd597",
   "metadata": {},
   "outputs": [],
   "source": [
    "def get_collision_index(traj):\n",
    "    ''' Check for collision in experiment\n",
    "        If coollision occurs, the trajectory will be zeros(1,6)\n",
    "    '''\n",
    "    collision_array = np.all(traj[:,:,1:] == np.zeros((1, 6, 1)), axis=1) # vehs x time\n",
    "    collision_array = np.any(collision_array, axis=0) # time\n",
    "    return np.argmax(collision_array)"
   ]
  },
  {
   "cell_type": "markdown",
   "id": "9c878357",
   "metadata": {},
   "source": [
    "## Investigate Collisions"
   ]
  },
  {
   "cell_type": "code",
   "execution_count": 12,
   "id": "5af4915c",
   "metadata": {
    "scrolled": true
   },
   "outputs": [
    {
     "name": "stdout",
     "output_type": "stream",
     "text": [
      "/home/nbuckman/mpc_results/rl_results_11152021/results/56e9-ehc7-20211115-221128\n",
      "P 0.0\n",
      "Density 9000\n",
      "Collision Index 320\n",
      "Seed 731\n"
     ]
    }
   ],
   "source": [
    "for exp_i in range(len(all_trajs)):\n",
    "    if check_collision_experiment(all_trajs[exp_i]):\n",
    "        print(all_dirs[exp_i])\n",
    "        print(\"P\", all_params[exp_i][\"p_cooperative\"])\n",
    "        print(\"Density\",  all_params[exp_i][\"car_density\"])\n",
    "        print(\"Collision Index\", get_collision_index(all_trajs[exp_i]))\n",
    "        print(\"Seed\", all_params[exp_i][\"seed\"])"
   ]
  },
  {
   "cell_type": "code",
   "execution_count": 13,
   "id": "e587ec08",
   "metadata": {},
   "outputs": [
    {
     "name": "stderr",
     "output_type": "stream",
     "text": [
      "<ipython-input-13-73d180ce9ccf>:27: UserWarning: Matplotlib is currently using module://ipykernel.pylab.backend_inline, which is a non-GUI backend, so cannot show the figure.\n",
      "  fig.show()\n"
     ]
    },
    {
     "data": {
      "image/png": "[encoded data removed]",
      "text/plain": [
       "<Figure size 432x288 with 4 Axes>"
      ]
     },
     "metadata": {
      "needs_background": "light"
     },
     "output_type": "display_data"
    }
   ],
   "source": [
    "fig, axs = plt.subplots(2,2)\n",
    "collision_params = [all_params[exp_i] for exp_i in range(len(all_trajs)) if check_collision_experiment(all_trajs[exp_i])]    \n",
    "\n",
    "color=iter(plt.cm.rainbow(np.linspace(0,1,4)))\n",
    "counter = 0\n",
    "for param_key in [\"seed\", \"car_density\", \"p_cooperative\"]:\n",
    "    row = counter%2\n",
    "    col = counter // 2\n",
    "    ax = axs[row, col]\n",
    "    all_p_key = [param[param_key] for param in collision_params]\n",
    "    c = next(color)\n",
    "    ax.hist(all_p_key, facecolor=c)\n",
    "    ax.set_xlabel(param_key)\n",
    "    ax.set_ylabel(\"# Exp\")\n",
    "    counter+=1\n",
    "\n",
    "    \n",
    "    \n",
    "c = next(color)    \n",
    "all_max_speeds = [veh.max_v for vehicles in all_vehicles for veh in vehicles ]\n",
    "axs[1,1].hist(all_max_speeds)\n",
    "axs[1,1].set_xlabel('Max Speed')\n",
    "axs[1,1].set_ylabel('# Vehicles')\n",
    "fig.suptitle(\"Collision Experiment Settings\")\n",
    "\n",
    "fig.tight_layout()\n",
    "fig.show()"
   ]
  },
  {
   "cell_type": "markdown",
   "id": "d97df1d3",
   "metadata": {},
   "source": [
    "# Analyze Performance of Vehicles"
   ]
  },
  {
   "cell_type": "code",
   "execution_count": 22,
   "id": "1faefcc4",
   "metadata": {},
   "outputs": [
    {
     "name": "stdout",
     "output_type": "stream",
     "text": [
      "Unique P_coop [0.  0.2 0.4 0.6 0.8 1. ]\n"
     ]
    }
   ],
   "source": [
    "noncollision_expi = [exp_i for exp_i in range(len(all_trajs)) if not check_collision_experiment(all_trajs[exp_i])]\n",
    "\n",
    "density_array = np.array([all_params[exi]['car_density'] for exi in noncollision_expi])\n",
    "seed_array = np.array([all_params[exi]['seed'] for exi in noncollision_expi])\n",
    "p_coop_array = np.array([all_params[exi]['p_cooperative'] for exi in noncollision_expi])\n",
    "distances_array = np.array([all_trajs[exi][:,0,n_mpc_end] - all_trajs[exi][:,0,0] for exi in noncollision_expi])\n",
    "passing_array = np.array([n_vehicles_behind(all_trajs[exi][:,0,n_mpc_end]) - n_vehicles_behind(all_trajs[exi][:,0,0]) for exi in noncollision_expi])\n",
    "max_v_array = np.array([np.array([v.max_v for v in all_vehicles[exi]]) for exi in noncollision_expi])\n",
    "avg_v_array = np.array([np.mean(all_trajs[exi][:,4,:n_mpc_end], axis=1) for exi in noncollision_expi])\n",
    "perc_max_v_array = avg_v_array/max_v_array\n",
    "\n",
    "p_distance_dict = {}\n",
    "p_passing_dict = {}\n",
    "for exi in range(distances_array.shape[0]):\n",
    "    if p_coop_array[exi] not in p_distance_dict:\n",
    "        p_distance_dict[p_coop_array[exi]] = []\n",
    "    p_distance_dict[p_coop_array[exi]] += [distances_array[exi]]\n",
    "    \n",
    "    if p_coop_array[exi] not in p_passing_dict:\n",
    "        p_passing_dict[p_coop_array[exi]] = []\n",
    "    p_passing_dict[p_coop_array[exi]] += [passing_array[exi]]\n",
    "    \n",
    "for p in p_distance_dict:\n",
    "    p_distance_dict[p] = np.array(p_distance_dict[p])\n",
    "for p in p_passing_dict:\n",
    "    p_passing_dict[p] = np.array(p_passing_dict[p])\n",
    "p_unique = np.array(list(p_distance_dict.keys()))\n",
    "p_unique = np.sort(p_unique)\n",
    "print(\"Unique P_coop\",p_unique)"
   ]
  },
  {
   "cell_type": "code",
   "execution_count": 23,
   "id": "fa419a04",
   "metadata": {},
   "outputs": [],
   "source": [
    "def collapse(x, y, sort=True):\n",
    "    ''' Input:  x: m x 1 array with n different catetories\n",
    "                y: m x 1 array with values\n",
    "        Output: x_coll: n x 1 array of distinct x values\n",
    "                y_coll: n x 1 array of mean values for each x_coll'''\n",
    "        \n",
    "    \n",
    "    x_coll = np.unique(x)\n",
    "    if sort:\n",
    "        x_coll = np.sort(x_coll)\n",
    "    \n",
    "    y_coll = []\n",
    "    means = []\n",
    "    medians = []\n",
    "    std_devs = []\n",
    "    \n",
    "    y_coll = [y[x == x_i] for x_i in x_coll]\n",
    "\n",
    "    \n",
    "    means = np.array([np.mean(y) for y in y_coll])\n",
    "    medians = np.array([np.median(y) for y in y_coll])\n",
    "    std_devs = np.array([np.std(y) for y in y_coll])\n",
    "    \n",
    "    \n",
    "    return x_coll, y_coll, means, medians, std_devs"
   ]
  },
  {
   "cell_type": "markdown",
   "id": "33dcd672",
   "metadata": {},
   "source": [
    "## Distance Traveled Averaged Over Vehicles + Experiments"
   ]
  },
  {
   "cell_type": "code",
   "execution_count": 24,
   "id": "8d144315",
   "metadata": {
    "scrolled": false
   },
   "outputs": [
    {
     "data": {
      "image/png": "[encoded data removed]",
      "text/plain": [
       "<Figure size 432x288 with 1 Axes>"
      ]
     },
     "metadata": {
      "needs_background": "light"
     },
     "output_type": "display_data"
    },
    {
     "data": {
      "image/png": "[encoded data removed]",
      "text/plain": [
       "<Figure size 432x288 with 1 Axes>"
      ]
     },
     "metadata": {
      "needs_background": "light"
     },
     "output_type": "display_data"
    }
   ],
   "source": [
    "p_unique, avg_speeds_by_p, means, medians, std_devs = collapse(p_coop_array, np.mean(distances_array, axis=1))\n",
    "\n",
    "# means = np.array([np.mean(p_distance_dict[p][p_distance_dict[p]>0],axis=0) for p in p_unique])\n",
    "# std_devs = np.array([np.std(p_distance_dict[p][p_distance_dict[p]>0],axis=0) for p in p_unique])\n",
    "plt.plot([p for p in p_unique], means, '-')\n",
    "plt.fill_between([p for p in p_unique], means-std_devs, means+std_devs, alpha=.2)\n",
    "\n",
    "plt.xlabel('p_cooperative')\n",
    "plt.ylabel('Mean Distance Traveled')\n",
    "plt.show()\n",
    "\n",
    "p_unique, avg_speedsmph_by_p, means, medians, std_devs = collapse(p_coop_array, np.mean(distances_array, axis=1)/total_time*CONV_MS_TO_MPH)\n",
    "plt.plot([p for p in p_unique], means, '-')\n",
    "plt.fill_between([p for p in p_unique], means-std_devs, means+std_devs, alpha=.2)\n",
    "\n",
    "\n",
    "\n",
    "plt.xlabel('p_cooperative')\n",
    "plt.ylabel('Mean Speed [MPH]')\n",
    "plt.show()"
   ]
  },
  {
   "cell_type": "code",
   "execution_count": 25,
   "id": "85423569",
   "metadata": {},
   "outputs": [
    {
     "data": {
      "image/png": "[encoded data removed]",
      "text/plain": [
       "<Figure size 432x288 with 1 Axes>"
      ]
     },
     "metadata": {
      "needs_background": "light"
     },
     "output_type": "display_data"
    }
   ],
   "source": [
    "avg_veff = np.mean(perc_max_v_array, axis=1)\n",
    "p_unique, avg_eff_by_p, means, medians, std_devs = collapse(p_coop_array, avg_veff)\n",
    "\n",
    "plt.plot([p for p in p_unique], means, '-')\n",
    "plt.fill_between([p for p in p_unique], means-std_devs, means+std_devs, alpha=.2)\n",
    "\n",
    "plt.xlabel('p_cooperative')\n",
    "plt.ylabel('Mean Velocity Efficiency')\n",
    "plt.show()"
   ]
  },
  {
   "cell_type": "code",
   "execution_count": 26,
   "id": "4b41ba4d",
   "metadata": {
    "scrolled": false
   },
   "outputs": [
    {
     "name": "stdout",
     "output_type": "stream",
     "text": [
      "Densities [2500 5000 9000]\n"
     ]
    },
    {
     "data": {
      "image/png": "[encoded data removed]",
      "text/plain": [
       "<Figure size 432x288 with 1 Axes>"
      ]
     },
     "metadata": {
      "needs_background": "light"
     },
     "output_type": "display_data"
    },
    {
     "data": {
      "image/png": "[encoded data removed]",
      "text/plain": [
       "<Figure size 432x288 with 1 Axes>"
      ]
     },
     "metadata": {
      "needs_background": "light"
     },
     "output_type": "display_data"
    },
    {
     "data": {
      "image/png": "[encoded data removed]",
      "text/plain": [
       "<Figure size 432x288 with 1 Axes>"
      ]
     },
     "metadata": {
      "needs_background": "light"
     },
     "output_type": "display_data"
    }
   ],
   "source": [
    "unique_densities = np.sort(np.unique(density_array))\n",
    "print(\"Densities\", unique_densities)\n",
    "\n",
    "for d in unique_densities:\n",
    "    p_coop_d = p_coop_array[density_array == d]\n",
    "    avg_veff = np.mean(perc_max_v_array, axis=1)\n",
    "    perc_max_v_d = avg_veff[density_array == d]\n",
    "    x, y, means, medians, std_devs = collapse(p_coop_d, perc_max_v_d)\n",
    "\n",
    "    plt.plot(p_coop_d, perc_max_v_d, '.')    \n",
    "    plt.plot(x, means, '-')\n",
    "    plt.fill_between(x, means-std_devs, means+std_devs, alpha=.2)\n",
    "    plt.xlabel(\"p_cooperative\")\n",
    "    plt.ylabel(\"Mean Velocity Efficiency\")\n",
    "    plt.title(\"Car Density: %d \"%d)\n",
    "    plt.show()\n",
    "    "
   ]
  },
  {
   "cell_type": "code",
   "execution_count": 204,
   "id": "46cc54c2",
   "metadata": {},
   "outputs": [
    {
     "name": "stdout",
     "output_type": "stream",
     "text": [
      "dict_keys(['load_log_dir', 'log_subdir', 'n_processors', 'mpc_start_iteration', 'save_solver_input', 'seed', 'car_density', 'n_other', 'n_lanes', 'random_svo', 'svo_theta', 'n_mpc', 'plot_flag', 'print_flag', 'T', 'dt', 'p_exec', 'n_ibr', 'n_cntrld', 'rnds_shrd_cntrl', 'shrd_cntrl_scheduler', 'k_solve_amb_max_ibr', 'plan_fake_ambulance', 'save_ibr', 'save_state', 'default_n_warm_starts', 'k_max_slack', 'k_max_solve_number', 'k_max_round_with_slack', 'k_slack_d', 'k_CA_d', 'k_CA_power', 'wall_CA', 'print_level', 'k_lat', 'k_politeness', 'safety_constraint', 'my_task_id', 'num_tasks', 'experiment_random_seed', 'input_params', 'results_dir', 'n_experiments', 'p_cooperative', 'start_time_string', 'N', 'number_ctrl_pts_executed', 'pid'])\n",
      "/home/nbuckman/mpc_results/rl_results_11102021/results/a40c-44fd-20211110-104940\n",
      "/home/nbuckman/mpc_results/rl_results_11102021/results/9126-2g3h-20211110-114936\n",
      "/home/nbuckman/mpc_results/rl_results_11102021/results/c3f4-1895-20211110-171125\n",
      "/home/nbuckman/mpc_results/rl_results_11102021/results/0c21-h856-20211110-100535\n",
      "/home/nbuckman/mpc_results/rl_results_11102021/results/5bd3-e58d-20211110-120345\n",
      "/home/nbuckman/mpc_results/rl_results_11102021/results/3022-g755-20211110-163110\n",
      "/home/nbuckman/mpc_results/rl_results_11102021/results/e8fa-g5fd-20211110-161401\n",
      "/home/nbuckman/mpc_results/rl_results_11102021/results/064d-fa52-20211110-100535\n",
      "/home/nbuckman/mpc_results/rl_results_11102021/results/2199-4gd6-20211110-130713\n",
      "/home/nbuckman/mpc_results/rl_results_11102021/results/daa4-148g-20211110-120553\n",
      "/home/nbuckman/mpc_results/rl_results_11102021/results/g7a0-4288-20211110-121510\n",
      "/home/nbuckman/mpc_results/rl_results_11102021/results/28e6-ge20-20211110-110434\n",
      "/home/nbuckman/mpc_results/rl_results_11102021/results/a534-0e3b-20211110-132354\n",
      "/home/nbuckman/mpc_results/rl_results_11102021/results/c7g6-4b5b-20211110-133513\n",
      "/home/nbuckman/mpc_results/rl_results_11102021/results/63d1-3192-20211110-162106\n",
      "/home/nbuckman/mpc_results/rl_results_11102021/results/d13d-e107-20211110-183902\n",
      "/home/nbuckman/mpc_results/rl_results_11102021/results/0820-54ac-20211110-104512\n",
      "/home/nbuckman/mpc_results/rl_results_11102021/results/fb94-0a43-20211110-105515\n",
      "/home/nbuckman/mpc_results/rl_results_11102021/results/g923-309b-20211110-132501\n",
      "/home/nbuckman/mpc_results/rl_results_11102021/results/e5h7-17dg-20211110-104828\n",
      "/home/nbuckman/mpc_results/rl_results_11102021/results/0211-050b-20211110-110310\n",
      "/home/nbuckman/mpc_results/rl_results_11102021/results/g6ga-g0gc-20211110-110840\n",
      "/home/nbuckman/mpc_results/rl_results_11102021/results/7e68-9816-20211110-140353\n",
      "/home/nbuckman/mpc_results/rl_results_11102021/results/fh5f-81dd-20211110-105315\n",
      "/home/nbuckman/mpc_results/rl_results_11102021/results/e8d9-313e-20211110-122514\n",
      "/home/nbuckman/mpc_results/rl_results_11102021/results/4d86-2700-20211110-135646\n",
      "/home/nbuckman/mpc_results/rl_results_11102021/results/5eh9-g067-20211110-110826\n",
      "/home/nbuckman/mpc_results/rl_results_11102021/results/deb3-fhg5-20211110-100534\n",
      "/home/nbuckman/mpc_results/rl_results_11102021/results/dhe9-320d-20211110-100534\n",
      "/home/nbuckman/mpc_results/rl_results_11102021/results/916f-d8ce-20211110-100538\n",
      "/home/nbuckman/mpc_results/rl_results_11102021/results/06ag-818g-20211110-110152\n",
      "/home/nbuckman/mpc_results/rl_results_11102021/results/0ga1-e3e7-20211110-173929\n",
      "/home/nbuckman/mpc_results/rl_results_11102021/results/8d0b-2b6h-20211110-105414\n",
      "/home/nbuckman/mpc_results/rl_results_11102021/results/a24h-59g8-20211110-125835\n",
      "/home/nbuckman/mpc_results/rl_results_11102021/results/6f69-h7bd-20211110-190940\n",
      "/home/nbuckman/mpc_results/rl_results_11102021/results/e2e3-hge4-20211110-180435\n",
      "/home/nbuckman/mpc_results/rl_results_11102021/results/79fa-b18b-20211110-123143\n",
      "/home/nbuckman/mpc_results/rl_results_11102021/results/fhef-91a1-20211110-152923\n",
      "/home/nbuckman/mpc_results/rl_results_11102021/results/7405-54e3-20211110-100538\n",
      "/home/nbuckman/mpc_results/rl_results_11102021/results/78g5-0486-20211110-171854\n",
      "/home/nbuckman/mpc_results/rl_results_11102021/results/9hgc-c323-20211110-165955\n",
      "/home/nbuckman/mpc_results/rl_results_11102021/results/9ab8-319f-20211110-100535\n",
      "/home/nbuckman/mpc_results/rl_results_11102021/results/0161-abd2-20211110-110614\n",
      "/home/nbuckman/mpc_results/rl_results_11102021/results/a151-8f0f-20211110-100535\n",
      "/home/nbuckman/mpc_results/rl_results_11102021/results/fh6c-9577-20211110-144320\n",
      "/home/nbuckman/mpc_results/rl_results_11102021/results/h1gh-ab1c-20211110-100535\n",
      "/home/nbuckman/mpc_results/rl_results_11102021/results/71bg-1a63-20211110-142308\n"
     ]
    }
   ],
   "source": [
    "print(all_params[0].keys())\n",
    "for i in range(len(all_params)):\n",
    "#     print(all_params[i][\"car_density\"])\n",
    "    if all_params[i][\"car_density\"] == 2500:\n",
    "        print(all_dirs[i])"
   ]
  },
  {
   "cell_type": "markdown",
   "id": "4b67e896",
   "metadata": {},
   "source": [
    "# Everyone"
   ]
  },
  {
   "cell_type": "code",
   "execution_count": null,
   "id": "ac137d2c",
   "metadata": {},
   "outputs": [],
   "source": [
    "means = np.array([np.mean(np.mean(p_distance_dict[p][:,:]/total_time*CONV_MS_TO_MPH,axis=1),axis=0) for p in p_unique])\n",
    "std_devs = np.array([np.std(np.mean(p_distance_dict[p][:,:]/total_time*CONV_MS_TO_MPH,axis=1),axis=0) for p in p_unique])\n",
    "plt.plot([p for p in p_unique], means, '-', label='All vehicles')\n",
    "plt.fill_between([p for p in p_unique], means-std_devs, means+std_devs, alpha=.2)\n",
    "\n",
    "plt.xlabel('Proportion Vehicles Cooperative')\n",
    "plt.ylabel('Mean Speed (MPH)')\n",
    "plt.legend()\n",
    "plt.show()"
   ]
  },
  {
   "cell_type": "markdown",
   "id": "7ac51cf0",
   "metadata": {},
   "source": [
    "## Direct Comparisons"
   ]
  },
  {
   "cell_type": "markdown",
   "id": "adc7ebb8",
   "metadata": {},
   "source": [
    "# New:  Reduced by Seed #"
   ]
  },
  {
   "cell_type": "code",
   "execution_count": null,
   "id": "01dfd5af",
   "metadata": {},
   "outputs": [],
   "source": [
    "p_coop_array = np.array([all_params[exi]['p_cooperative'] for exi in range(len(all_params))])\n",
    "distances_array = np.array([all_trajs[exi][:,0,n_mpc_end] - all_trajs[exi][:,0,0] for exi in range(len(all_params))])\n",
    "passing_array = np.array([np.sum(all_trajs[exi][0,0,n_mpc_end] > all_trajs[exi][:,0,n_mpc_end]) for exi in range(len(all_params))])\n",
    "\n",
    "p_passing_seed = {}\n",
    "for exi in range(passing_array.shape[0]):\n",
    "    if p_coop_array[exi] not in p_distance_dict:\n",
    "        p_distance_dict[p_coop_array[exi]] = []\n",
    "    p_distance_dict[p_coop_array[exi]] += [distances_array[exi]]\n",
    "    \n",
    "    if p_coop_array[exi] not in p_passing_dict:\n",
    "        p_passing_dict[p_coop_array[exi]] = []\n",
    "    p_passing_dict[p_coop_array[exi]] += [passing_array[exi]]\n",
    "    \n",
    "for p in p_distance_dict:\n",
    "    p_distance_dict[p] = np.array(p_distance_dict[p])\n",
    "for p in p_passing_dict:\n",
    "    p_passing_dict[p] = np.array(p_passing_dict[p])\n",
    "p_unique = np.array(list(p_distance_dict.keys()))\n",
    "p_unique = np.sort(p_unique)\n",
    "\n",
    "\n",
    "\n",
    "seed_pcoop_distances = {}\n",
    "seed_pcoop_passing = {}\n",
    "\n",
    "for exi in range(len(all_params)):\n",
    "    seed = all_params[exi]['seed']\n",
    "    p_coop = all_params[exi]['p_cooperative']\n",
    "    distances_array = np.array([all_trajs[exi][:,0,n_mpc_end] - all_trajs[exi][:,0,0]])\n",
    "    passing_array = np.sum(all_trajs[exi][0,0,n_mpc_end] > all_trajs[exi][:,0,n_mpc_end])\n",
    "    \n",
    "    if seed not in seed_pcoop_distances:\n",
    "        seed_pcoop_distances[seed] = {}\n",
    "        seed_pcoop_passing[seed] = {}\n",
    "    if p_coop not in seed_pcoop_distances[seed]:\n",
    "        seed_pcoop_distances[seed][p_coop] = []\n",
    "        seed_pcoop_passing[seed][p_coop] = []\n",
    "        \n",
    "    seed_pcoop_distances[seed][p_coop] += [distances_array]\n",
    "    seed_pcoop_passing[seed][p_coop] += [passing_array]\n",
    "\n",
    "for seed in seed_pcoop_distances:\n",
    "    for p_coop in seed_pcoop_distances[seed]:\n",
    "        seed_pcoop_distances[seed][p_coop] = np.array(seed_pcoop_distances[seed][p_coop])\n",
    "        seed_pcoop_passing[seed][p_coop] = np.array(seed_pcoop_passing[seed][p_coop])\n",
    "    \n",
    "    \n",
    "## Generate dictionary of speedups\n",
    "pcoop_distances_seed = {}\n",
    "pcoop_passing_seed = {}\n",
    "for seed in seed_pcoop_distances:\n",
    "    baseline_p = 0\n",
    "    if baseline_p not in seed_pcoop_distances[seed]:\n",
    "        continue\n",
    "    \n",
    "    baseline_dist = np.mean(seed_pcoop_distances[seed][baseline_p][:, 0, 0])\n",
    "    baseline_passing = np.mean(seed_pcoop_passing[seed][baseline_p][:])\n",
    "    \n",
    "    for p in seed_pcoop_distances[seed]:\n",
    "        avg_dist = np.mean(seed_pcoop_distances[seed][p][:, 0, 0])\n",
    "        delta_dist = avg_dist - baseline_dist\n",
    "        delta_passing = np.mean(seed_pcoop_passing[seed][p][:]) - baseline_passing\n",
    "        if p not in pcoop_distances_seed:\n",
    "            pcoop_distances_seed[p] = []\n",
    "            pcoop_passing_seed[p] = []\n",
    "            \n",
    "        pcoop_distances_seed[p] += [delta_dist]\n",
    "        pcoop_passing_seed[p] += [delta_passing]\n",
    "\n",
    "        \n",
    "for p in pcoop_distances_seed:\n",
    "    pcoop_distances_seed[p] = np.array(pcoop_distances_seed[p])\n",
    "    pcoop_passing_seed[p] = np.array(pcoop_passing_seed[p])\n",
    "p_unique_seed = np.array([p for p in pcoop_distances_seed])\n",
    "p_unique_seed.sort()\n",
    "\n",
    "\n",
    "\n"
   ]
  },
  {
   "cell_type": "code",
   "execution_count": null,
   "id": "b8648210",
   "metadata": {},
   "outputs": [],
   "source": [
    "print(\"# Experiments: %d\"%len(pcoop_distances_seed[0.0]))"
   ]
  },
  {
   "cell_type": "code",
   "execution_count": null,
   "id": "ec38f14f",
   "metadata": {
    "scrolled": false
   },
   "outputs": [],
   "source": [
    "means = np.array([np.mean(pcoop_distances_seed[p][:]) for p in p_unique])\n",
    "std_devs = np.array([np.std(pcoop_distances_seed[p][:]) for p in p_unique])\n",
    "plt.plot([p for p in p_unique], means, '-')\n",
    "plt.fill_between([p for p in p_unique], means-std_devs, means+std_devs, alpha=.2)\n",
    "# plt.plot([p for p in p_unique], [np.mean(p_distance_dict[p][:,0]) for p in p_unique], 'o')\n",
    "plt.hlines(0, 0, 1.0, linestyle='dotted', color='blue', label=\"Baseline\")\n",
    "\n",
    "plt.xlabel('p_cooperative')\n",
    "plt.ylabel('Increase in Ambulance Distance Traveled')\n",
    "plt.show()\n",
    "\n",
    "\n",
    "means = np.array([np.mean(pcoop_distances_seed[p][:]/total_time*CONV_MS_TO_MPH) for p in p_unique])\n",
    "std_devs = np.array([np.std(pcoop_distances_seed[p][:]/total_time*CONV_MS_TO_MPH) for p in p_unique])\n",
    "plt.plot([p for p in p_unique], means, '-')\n",
    "plt.fill_between([p for p in p_unique], means-std_devs, means+std_devs, alpha=.2)\n",
    "plt.hlines(0, 0, 1.0, linestyle='dotted', color='blue', label=\"Baseline\")\n",
    "\n",
    "# plt.plot([p for p in p_unique], [np.mean(p_distance_dict[p][:,0]) for p in p_unique], 'o')\n",
    "\n",
    "plt.xlabel('p_cooperative')\n",
    "plt.ylabel('Increase in Ambulance Average Speed')\n",
    "plt.savefig('ambulance_avg_speed_increase.png',bbox_inches='tight', dpi=400)\n",
    "plt.show()\n",
    "\n",
    "\n",
    "means = np.array([np.mean(pcoop_passing_seed[p]) for p in p_unique])\n",
    "std_devs = np.array([np.std(pcoop_passing_seed[p]) for p in p_unique])\n",
    "plt.plot([p for p in p_unique], means, '-', color='green')\n",
    "plt.fill_between([p for p in p_unique], means-std_devs, means+std_devs, alpha=.2, color='green')\n",
    "plt.hlines(0, 0, 1.0, linestyle='dotted', color='green', label=\"Baseline\")\n",
    "# plt.plot([p for p in p_unique], [np.mean(p_distance_dict[p][:,0]) for p in p_unique], 'o')\n",
    "\n",
    "plt.xlabel('Increase Proportion Vehicles Cooperative')\n",
    "plt.ylabel('# Vehicles Passed')\n",
    "plt.savefig('ambulance_veh_passing_increase.png',bbox_inches='tight', dpi=400)\n",
    "\n",
    "plt.show()"
   ]
  },
  {
   "cell_type": "code",
   "execution_count": null,
   "id": "bc3214af",
   "metadata": {},
   "outputs": [],
   "source": [
    "means = np.array([np.mean(pcoop_distances_seed[p][:]) for p in p_unique])\n",
    "std_devs = np.array([np.std(pcoop_distances_seed[p][:]) for p in p_unique])\n",
    "plt.plot([p for p in p_unique], means, '-')\n",
    "plt.fill_between([p for p in p_unique], means-std_devs, means+std_devs, alpha=.2)\n",
    "# plt.plot([p for p in p_unique], [np.mean(p_distance_dict[p][:,0]) for p in p_unique], 'o')\n",
    "plt.hlines(0, 0, 1.0, linestyle='dotted', color='blue', label=\"Baseline\")\n",
    "\n",
    "plt.xlabel('p_cooperative')\n",
    "plt.ylabel('Increase in Ambulance Distance Traveled')\n",
    "plt.show()\n"
   ]
  },
  {
   "cell_type": "code",
   "execution_count": null,
   "id": "854985c2",
   "metadata": {},
   "outputs": [],
   "source": [
    "means = np.array([np.mean(pcoop_distances_seed[p][:]) for p in p_unique])\n",
    "std_devs = np.array([np.std(pcoop_distances_seed[p][:]) for p in p_unique])\n",
    "plt.plot([p for p in p_unique], means, '-')\n",
    "plt.fill_between([p for p in p_unique], means-std_devs, means+std_devs, alpha=.2)\n",
    "# plt.plot([p for p in p_unique], [np.mean(p_distance_dict[p][:,0]) for p in p_unique], 'o')\n",
    "plt.hlines(0, 0, 1.0, linestyle='dotted', color='blue', label=\"Baseline\")\n",
    "\n",
    "plt.xlabel('p_cooperative')\n",
    "plt.ylabel('Increase in Ambulance Distance Traveled')\n",
    "plt.show()\n"
   ]
  },
  {
   "cell_type": "code",
   "execution_count": null,
   "id": "5336dd7e",
   "metadata": {},
   "outputs": [],
   "source": []
  }
 ],
 "metadata": {
  "kernelspec": {
   "display_name": "Python 3",
   "language": "python",
   "name": "python3"
  },
  "language_info": {
   "codemirror_mode": {
    "name": "ipython",
    "version": 3
   },
   "file_extension": ".py",
   "mimetype": "text/x-python",
   "name": "python",
   "nbconvert_exporter": "python",
   "pygments_lexer": "ipython3",
   "version": "3.8.3"
  },
  "toc": {
   "base_numbering": 1,
   "nav_menu": {},
   "number_sections": true,
   "sideBar": true,
   "skip_h1_title": false,
   "title_cell": "Table of Contents",
   "title_sidebar": "Contents",
   "toc_cell": false,
   "toc_position": {},
   "toc_section_display": true,
   "toc_window_display": false
  }
 },
 "nbformat": 4,
 "nbformat_minor": 5
}
