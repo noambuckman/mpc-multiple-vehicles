{
 "cells": [
  {
   "cell_type": "code",
   "execution_count": 128,
   "metadata": {
    "scrolled": true
   },
   "outputs": [
    {
     "name": "stdout",
     "output_type": "stream",
     "text": [
      "results/20200227_112411allsame/\n"
     ]
    }
   ],
   "source": [
    "import datetime\n",
    "import os, sys\n",
    "import numpy as np\n",
    "import matplotlib.pyplot as plt\n",
    "\n",
    "import casadi as cas\n",
    "import pickle\n",
    "import copy as cp\n",
    "\n",
    "PROJECT_PATH = '/home/nbuckman/Dropbox (MIT)/DRL/2020_01_cooperative_mpc/mpc-multiple-vehicles/'\n",
    "sys.path.append(PROJECT_PATH)\n",
    "\n",
    "import src.MPC_Casadi as mpc\n",
    "import src.TrafficWorld as tw\n",
    "import src.IterativeBestResponseMPCMultiple as mibr\n",
    "import src.car_plotting_multiple as cmplot\n",
    "\n",
    "np.set_printoptions(precision=2)\n",
    "\n",
    "\n",
    "NEW = True\n",
    "if NEW:\n",
    "    optional_suffix = \"allsame\"\n",
    "    subdir_name = datetime.datetime.now().strftime(\"%Y%m%d_%H%M%S\") + optional_suffix\n",
    "    folder = \"results/\" + subdir_name + \"/\"\n",
    "    os.makedirs(folder)\n",
    "    os.makedirs(folder+\"imgs/\")\n",
    "    os.makedirs(folder+\"data/\")\n",
    "    os.makedirs(folder+\"vids/\")\n",
    "    os.makedirs(folder+\"plots/\")\n",
    "else:\n",
    "    subdir_name = \"20200224-103456_real_dim_CA\"\n",
    "    folder = \"results/\" + subdir_name + \"/\"\n",
    "print(folder)\n",
    "\n",
    "\n",
    "\n",
    "T = 10\n",
    "dt = 0.2\n",
    "N = int(T/dt) #Number of control intervals\n",
    "world = tw.TrafficWorld(2, 0, 1000)\n",
    "n_other = 4\n",
    "\n",
    "\n",
    "all_other_x0 = []\n",
    "all_other_u = []\n",
    "all_other_MPC = []\n",
    "next_x0 = 0\n",
    "for i in range(n_other):\n",
    "    x1_MPC = mpc.MPC(dt)\n",
    "    x1_MPC.n_circles = 3\n",
    "    x1_MPC.theta_iamb = np.pi/4.0\n",
    "    x1_MPC.k_final = 1.0\n",
    "    x1_MPC.k_s = 0\n",
    "    x1_MPC.k_x = 0\n",
    "    x1_MPC.k_x_dot = -1.0 / 1000.0    \n",
    "    \n",
    "    # x1_MPC.k_u_v = 1.0\n",
    "    # x1_MPC.k_u_delta = 1.00\n",
    "    # x1_MPC.k_lat = .25\n",
    "    # x1_MPC.k_change_u_v = .50\n",
    "    # x1_MPC.k_change_u_delta = .50    \n",
    "\n",
    "    x1_MPC.k_u_v = .10\n",
    "    x1_MPC.k_u_delta = .01\n",
    "    # x1_MPC.k_lat = .25\n",
    "    x1_MPC.k_change_u_v = .01\n",
    "    x1_MPC.k_change_u_delta = .01        \n",
    "    \n",
    "    \n",
    "    x1_MPC.min_y = world.y_min\n",
    "    x1_MPC.max_y = world.y_max\n",
    "    # x1_MPC.k_phi_error = 25\n",
    "\n",
    "    if i%2 == 0:\n",
    "        lane_number = 0\n",
    "        next_x0 += x1_MPC.L/2.0 + 2*x1_MPC.min_dist\n",
    "    else:\n",
    "        lane_number = 1\n",
    "    \n",
    "    initial_speed = 20 * 0.447 # m/s\n",
    "    initial_speed = x1_MPC.max_v\n",
    "    x1_MPC.fd = x1_MPC.gen_f_desired_lane(world, lane_number, True)\n",
    "    \n",
    "    x0 = np.array([next_x0, world.get_lane_centerline_y(lane_number), 0, 0, initial_speed, 0]).T\n",
    "    u1 = np.zeros((2,N))\n",
    "    u1[0,:] = np.clip(np.pi/180 *np.random.normal(size=(1,N)), -2 * np.pi/180, 2 * np.pi/180)\n",
    "    all_other_MPC += [x1_MPC]\n",
    "    all_other_x0 += [x0]\n",
    "    all_other_u += [u1]    \n",
    "\n",
    "\n",
    "amb_MPC = cp.deepcopy(x1_MPC)\n",
    "amb_MPC.theta_iamb = 0.0\n",
    "\n",
    "amb_MPC.k_u_v = 0.10\n",
    "amb_MPC.k_u_delta = .01\n",
    "amb_MPC.k_change_u_v = 0.01\n",
    "amb_MPC.k_change_u_delta = 0.01\n",
    "\n",
    "amb_MPC.k_s = 0\n",
    "amb_MPC.k_x = 0\n",
    "amb_MPC.k_x_dot = -1.0 / 1000.0\n",
    "\n",
    "amb_MPC.min_v = 0.8*initial_speed\n",
    "amb_MPC.max_v = 30 * 0.447 # m/s\n",
    "\n",
    "amb_MPC.fd = amb_MPC.gen_f_desired_lane(world, 0, True)\n",
    "\n",
    "x0_amb = np.array([0, 0, 0, 0, amb_MPC.max_v , 0]).T\n",
    "uamb = np.zeros((2,N))\n",
    "uamb[0,:] = np.clip(np.pi/180 * np.random.normal(size=(1,N)), -2 * np.pi/180, 2 * np.pi/180)\n",
    "\n",
    "ibr_sub_it=1\n",
    "\n",
    "WARM = True\n",
    "n_total_round = 60\n",
    "ibr_sub_it = 1\n",
    "runtimeerrors = 0\n",
    "min_slack = 100000.0\n",
    "xamb = None\n"
   ]
  },
  {
   "cell_type": "code",
   "execution_count": 129,
   "metadata": {},
   "outputs": [],
   "source": [
    "n_round = 0\n",
    "if n_round > 5:\n",
    "    min_slack = 2.0\n",
    "if n_round > 10:\n",
    "    min_slack = 1.0\n",
    "if n_round > 20:\n",
    "    min_slack = 0.5\n",
    "response_MPC = amb_MPC\n",
    "response_x0 = x0_amb\n",
    "\n",
    "nonresponse_MPC_list = all_other_MPC\n",
    "nonresponse_x0_list = all_other_x0\n",
    "nonresponse_u_list = all_other_u\n",
    "bri = mibr.IterativeBestResponseMPCMultiple(response_MPC, None, nonresponse_MPC_list )\n",
    "bri.k_slack = 9999\n",
    "bri.generate_optimization(N, T, response_x0, None, nonresponse_x0_list,  1, slack=True)\n",
    "if WARM and (xamb is not None):\n",
    "    bri.opti.set_initial(bri.x_opt, xamb)"
   ]
  },
  {
   "cell_type": "code",
   "execution_count": 133,
   "metadata": {},
   "outputs": [
    {
     "data": {
      "text/plain": [
       "array([[-0.01,  0.  ,  0.  , -0.01, -0.01, -0.03, -0.02,  0.01,  0.  ,\n",
       "        -0.  , -0.02, -0.01,  0.02,  0.01, -0.03, -0.01,  0.  ,  0.03,\n",
       "        -0.  , -0.02, -0.01, -0.03, -0.02, -0.02, -0.  ,  0.01, -0.01,\n",
       "         0.02, -0.01, -0.02,  0.01,  0.03, -0.01, -0.  , -0.02, -0.  ,\n",
       "         0.03,  0.02,  0.  ,  0.01,  0.02,  0.03, -0.  , -0.03,  0.01,\n",
       "         0.03, -0.  ,  0.02, -0.02,  0.01],\n",
       "       [ 0.  ,  0.  ,  0.  ,  0.  ,  0.  ,  0.  ,  0.  ,  0.  ,  0.  ,\n",
       "         0.  ,  0.  ,  0.  ,  0.  ,  0.  ,  0.  ,  0.  ,  0.  ,  0.  ,\n",
       "         0.  ,  0.  ,  0.  ,  0.  ,  0.  ,  0.  ,  0.  ,  0.  ,  0.  ,\n",
       "         0.  ,  0.  ,  0.  ,  0.  ,  0.  ,  0.  ,  0.  ,  0.  ,  0.  ,\n",
       "         0.  ,  0.  ,  0.  ,  0.  ,  0.  ,  0.  ,  0.  ,  0.  ,  0.  ,\n",
       "         0.  ,  0.  ,  0.  ,  0.  ,  0.  ]])"
      ]
     },
     "execution_count": 133,
     "metadata": {},
     "output_type": "execute_result"
    }
   ],
   "source": [
    "nonresponse_u_list[2]"
   ]
  },
  {
   "cell_type": "code",
   "execution_count": 134,
   "metadata": {},
   "outputs": [
    {
     "name": "stdout",
     "output_type": "stream",
     "text": [
      "      solver  :   t_proc      (avg)   t_wall      (avg)    n_eval\n",
      "       nlp_f  | 186.65ms ( 65.49us) 185.28ms ( 65.01us)      2850\n",
      "       nlp_g  |   5.09 s (  1.79ms)   5.06 s (  1.77ms)      2850\n",
      "    nlp_grad  |   6.10ms (  6.10ms)   6.09ms (  6.09ms)         1\n",
      "  nlp_grad_f  | 413.66ms (156.27us) 411.35ms (155.40us)      2647\n",
      "  nlp_hess_l  |  62.82 s ( 22.46ms)  62.39 s ( 22.31ms)      2797\n",
      "   nlp_jac_g  |  30.78 s ( 10.96ms)  30.57 s ( 10.88ms)      2809\n",
      "       total  | 155.19 s (155.19 s) 154.12 s (154.12 s)         1\n",
      "n_round 0 i 03 Cost 145756.92 Slack 14.52 \n",
      "Dir: results/20200227_112411allsame/\n"
     ]
    }
   ],
   "source": [
    "try:\n",
    "    bri.solve(None, nonresponse_u_list)\n",
    "\n",
    "    x1, u1, x1_des, _, _, _, other_x, other_u, other_des = bri.get_solution()\n",
    "    xothers = other_x # initialize the x values of the other vehicles\n",
    "    uothers = other_u\n",
    "\n",
    "    print(\"n_round %d i %02d Cost %.02f Slack %.02f \"%(n_round, i, bri.solution.value(bri.total_svo_cost), bri.solution.value(bri.slack_cost)))\n",
    "    print(\"Dir:\", folder)\n",
    "    if bri.solution.value(bri.slack_cost) <= min_slack:\n",
    "        uamb = u1\n",
    "        xamb = x1\n",
    "#         all_other_u[i] = u1\n",
    "        file_name = folder + \"data/\"+'%03d'%ibr_sub_it\n",
    "        mibr.save_state(file_name, x1, u1, x1_des, other_x, other_u, other_des)\n",
    "        mibr.save_costs(file_name, bri)          \n",
    "    else: \n",
    "        print(\"Slack too large\")\n",
    "except RuntimeError:\n",
    "    print(\"Max Iterations or Infeasible\")\n",
    "    runtimeerrors += 1                \n",
    "ibr_sub_it +=1"
   ]
  },
  {
   "cell_type": "code",
   "execution_count": 153,
   "metadata": {},
   "outputs": [
    {
     "name": "stdout",
     "output_type": "stream",
     "text": [
      "1\n",
      "2\n",
      "3\n"
     ]
    },
    {
     "data": {
      "text/plain": [
       "2.0"
      ]
     },
     "execution_count": 153,
     "metadata": {},
     "output_type": "execute_result"
    }
   ],
   "source": [
    "print(int((6-1)/5))\n",
    "print(int((11-1)/5))\n",
    "print(int((16-1)/5))"
   ]
  },
  {
   "cell_type": "code",
   "execution_count": null,
   "metadata": {},
   "outputs": [],
   "source": [
    "for i in range(len(all_other_MPC)):\n",
    "    response_MPC = all_other_MPC[i]\n",
    "    response_x0 = all_other_x0[i]\n",
    "\n",
    "    nonresponse_MPC_list = all_other_MPC[:i] + all_other_MPC[i+1:]\n",
    "    nonresponse_x0_list = all_other_x0[:i] + all_other_x0[i+1:]\n",
    "\n",
    "    # all_other_u changes over time\n",
    "    nonresponse_u_list = all_other_u[:i] + all_other_u[i+1:]\n",
    "\n",
    "    bri = mibr.IterativeBestResponseMPCMultiple(response_MPC, amb_MPC, nonresponse_MPC_list )\n",
    "    bri.k_slack = 9999\n",
    "\n",
    "    bri.generate_optimization(N, T, response_x0, x0_amb, nonresponse_x0_list,  1, slack=True)\n",
    "\n",
    "    try:\n",
    "        if WARM:\n",
    "            bri.opti.set_initial(bri.x_opt, xothers[i])\n",
    "            bri.opti.set_initial(bri.u_opt, uothers[i])\n",
    "\n",
    "        bri.solve(uamb, nonresponse_u_list)\n",
    "        x1, u1, x1_des, xamb, uamb, xamb_des, other_x, other_u, other_des = bri.get_solution()\n",
    "        print(\"n_round %d  i %02d Cost %.02f Slack %.02f \"%(n_round, i, bri.solution.value(bri.total_svo_cost), bri.solution.value(bri.slack_cost)))\n",
    "        print(\"Dir:\", folder)\n",
    "\n",
    "        if bri.solution.value(bri.slack_cost) <= min_slack:\n",
    "            # Update the responder\n",
    "            all_other_u[i] = u1\n",
    "\n",
    "            #for saving\n",
    "            xothers = other_x[:i] + [x1] + other_x[i:]\n",
    "            uothers = other_u[:i] + [u1] + other_u[i:]\n",
    "            xothers_des = other_des[:i] + [x1_des] + other_des[i:]\n",
    "\n",
    "            file_name = folder + \"data/\"+'%03d'%ibr_sub_it\n",
    "            mibr.save_state(file_name, xamb, xamb, xamb_des, xothers, uothers, xothers_des)\n",
    "            mibr.save_costs(file_name, bri)\n",
    "        else: \n",
    "            print(\"Slack too large\")    \n",
    "        ibr_sub_it+=1\n",
    "    except RuntimeError:\n",
    "        print(\"Max Iterations or Infeasible\")\n",
    "        runtimeerrors += 1         \n",
    "\n",
    "\n",
    "# if WARM:\n",
    "#     br1.opti.set_initial(br1.u_opt, u1) \n",
    "#     br1.opti.set_initial(br1.x_opt, x1)                 \n",
    "#     br1.opti.set_initial(br1.x_desired, x1_des)                 \n"
   ]
  }
 ],
 "metadata": {
  "kernelspec": {
   "display_name": "Python 3",
   "language": "python",
   "name": "python3"
  },
  "language_info": {
   "codemirror_mode": {
    "name": "ipython",
    "version": 3
   },
   "file_extension": ".py",
   "mimetype": "text/x-python",
   "name": "python",
   "nbconvert_exporter": "python",
   "pygments_lexer": "ipython3",
   "version": "3.7.4"
  }
 },
 "nbformat": 4,
 "nbformat_minor": 4
}
