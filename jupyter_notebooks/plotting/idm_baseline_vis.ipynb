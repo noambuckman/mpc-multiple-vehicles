{
 "cells": [
  {
   "cell_type": "code",
   "execution_count": 1,
   "metadata": {},
   "outputs": [],
   "source": [
    "%load_ext autoreload\n",
    "%autoreload 2\n",
    "    \n",
    "import src.multiagent_mpc as mpc\n",
    "import src.traffic_world as tw\n",
    "import src.car_plotting_multiple as cmplot\n",
    "import glob\n",
    "import argparse\n",
    "import json\n",
    "import pickle\n",
    "import os\n",
    "import numpy as np\n",
    "import matplotlib.pyplot as plt"
   ]
  },
  {
   "cell_type": "markdown",
   "metadata": {},
   "source": [
    "## IDM Seed 2"
   ]
  },
  {
   "cell_type": "code",
   "execution_count": 3,
   "metadata": {},
   "outputs": [
    {
     "name": "stdout",
     "output_type": "stream",
     "text": [
      "['/home/nbuckman/mpc_results/idm_3_4_longer/1ad0-e9g4-20210304-232908', '/home/nbuckman/mpc_results/idm_3_4_longer/dh26-6d9a-20210304-232912', '/home/nbuckman/mpc_results/idm_3_4_longer/d64h-f15h-20210304-232940', '/home/nbuckman/mpc_results/idm_3_4_longer/8g88-94b7-20210304-233007', '/home/nbuckman/mpc_results/idm_3_4_longer/1g11-b770-20210304-233011', '/home/nbuckman/mpc_results/idm_3_4_longer/2afg-ca6c-20210304-232932', '/home/nbuckman/mpc_results/idm_3_4_longer/aae7-ch90-20210304-233018', '/home/nbuckman/mpc_results/idm_3_4_longer/h79c-f8f4-20210304-232920', '/home/nbuckman/mpc_results/idm_3_4_longer/9g19-76da-20210304-233025', '/home/nbuckman/mpc_results/idm_3_4_longer/d573-82bb-20210304-233031', '/home/nbuckman/mpc_results/idm_3_4_longer/4931-1e29-20210304-233014', '/home/nbuckman/mpc_results/idm_3_4_longer/0g6c-d270-20210304-233021', '/home/nbuckman/mpc_results/idm_3_4_longer/2hb2-fd63-20210304-232947', '/home/nbuckman/mpc_results/idm_3_4_longer/hacc-944g-20210304-232916', '/home/nbuckman/mpc_results/idm_3_4_longer/3acb-3ebh-20210304-232904', '/home/nbuckman/mpc_results/idm_3_4_longer/4h6e-1b1c-20210304-233003', '/home/nbuckman/mpc_results/idm_3_4_longer/18hb-32f2-20210304-232926', '/home/nbuckman/mpc_results/idm_3_4_longer/h86a-09c0-20210304-232936', '/home/nbuckman/mpc_results/idm_3_4_longer/aa6g-25aa-20210304-233000', '/home/nbuckman/mpc_results/idm_3_4_longer/a11d-75f2-20210304-233036']\n"
     ]
    }
   ],
   "source": [
    "logs = glob.glob('/home/nbuckman/mpc_results/idm_3_4_longer/*')\n",
    "print(logs)"
   ]
  },
  {
   "cell_type": "code",
   "execution_count": 4,
   "metadata": {
    "scrolled": true
   },
   "outputs": [
    {
     "name": "stdout",
     "output_type": "stream",
     "text": [
      "seed 8\n",
      "Saving photos to /home/nbuckman/mpc_results/idm_3_4_longer/1ad0-e9g4-20210304-232908/temp/...\n"
     ]
    },
    {
     "data": {
      "application/vnd.jupyter.widget-view+json": {
       "model_id": "5cf260e8de754814aea80b6805d53621",
       "version_major": 2,
       "version_minor": 0
      },
      "text/plain": [
       "HBox(children=(FloatProgress(value=0.0, max=300.0), HTML(value='')))"
      ]
     },
     "metadata": {},
     "output_type": "display_data"
    },
    {
     "name": "stdout",
     "output_type": "stream",
     "text": [
      "\n",
      "seed 7\n",
      "Saving photos to /home/nbuckman/mpc_results/idm_3_4_longer/dh26-6d9a-20210304-232912/temp/...\n"
     ]
    },
    {
     "data": {
      "application/vnd.jupyter.widget-view+json": {
       "model_id": "58c66242de7d468397480af52d61b056",
       "version_major": 2,
       "version_minor": 0
      },
      "text/plain": [
       "HBox(children=(FloatProgress(value=0.0, max=300.0), HTML(value='')))"
      ]
     },
     "metadata": {},
     "output_type": "display_data"
    },
    {
     "name": "stdout",
     "output_type": "stream",
     "text": [
      "\n",
      "seed 1\n",
      "Saving photos to /home/nbuckman/mpc_results/idm_3_4_longer/d64h-f15h-20210304-232940/temp/...\n"
     ]
    },
    {
     "data": {
      "application/vnd.jupyter.widget-view+json": {
       "model_id": "e34af7b84bde4dd8b66b795cfc38fe94",
       "version_major": 2,
       "version_minor": 0
      },
      "text/plain": [
       "HBox(children=(FloatProgress(value=0.0, max=300.0), HTML(value='')))"
      ]
     },
     "metadata": {},
     "output_type": "display_data"
    },
    {
     "name": "stdout",
     "output_type": "stream",
     "text": [
      "\n",
      "seed 2\n",
      "Saving photos to /home/nbuckman/mpc_results/idm_3_4_longer/8g88-94b7-20210304-233007/temp/...\n"
     ]
    },
    {
     "data": {
      "application/vnd.jupyter.widget-view+json": {
       "model_id": "667fb0ca3ef94b56919464aca0124ff3",
       "version_major": 2,
       "version_minor": 0
      },
      "text/plain": [
       "HBox(children=(FloatProgress(value=0.0, max=300.0), HTML(value='')))"
      ]
     },
     "metadata": {},
     "output_type": "display_data"
    },
    {
     "name": "stdout",
     "output_type": "stream",
     "text": [
      "\n",
      "seed 3\n",
      "Saving photos to /home/nbuckman/mpc_results/idm_3_4_longer/1g11-b770-20210304-233011/temp/...\n"
     ]
    },
    {
     "data": {
      "application/vnd.jupyter.widget-view+json": {
       "model_id": "62cb76ab3fbc40c096d59f11de521de3",
       "version_major": 2,
       "version_minor": 0
      },
      "text/plain": [
       "HBox(children=(FloatProgress(value=0.0, max=300.0), HTML(value='')))"
      ]
     },
     "metadata": {},
     "output_type": "display_data"
    },
    {
     "name": "stdout",
     "output_type": "stream",
     "text": [
      "\n",
      "seed 3\n",
      "Saving photos to /home/nbuckman/mpc_results/idm_3_4_longer/2afg-ca6c-20210304-232932/temp/...\n"
     ]
    },
    {
     "data": {
      "application/vnd.jupyter.widget-view+json": {
       "model_id": "a66306dd5a7d49b19514723ad36d5fe2",
       "version_major": 2,
       "version_minor": 0
      },
      "text/plain": [
       "HBox(children=(FloatProgress(value=0.0, max=300.0), HTML(value='')))"
      ]
     },
     "metadata": {},
     "output_type": "display_data"
    },
    {
     "name": "stdout",
     "output_type": "stream",
     "text": [
      "\n",
      "seed 5\n",
      "Saving photos to /home/nbuckman/mpc_results/idm_3_4_longer/aae7-ch90-20210304-233018/temp/...\n"
     ]
    },
    {
     "data": {
      "application/vnd.jupyter.widget-view+json": {
       "model_id": "ded60b50abd24d1da8cfdc9f3e86fc2e",
       "version_major": 2,
       "version_minor": 0
      },
      "text/plain": [
       "HBox(children=(FloatProgress(value=0.0, max=300.0), HTML(value='')))"
      ]
     },
     "metadata": {},
     "output_type": "display_data"
    },
    {
     "name": "stdout",
     "output_type": "stream",
     "text": [
      "\n",
      "seed 5\n",
      "Saving photos to /home/nbuckman/mpc_results/idm_3_4_longer/h79c-f8f4-20210304-232920/temp/...\n"
     ]
    },
    {
     "data": {
      "application/vnd.jupyter.widget-view+json": {
       "model_id": "4bd4cad4ca3142e4b7cc89d89784c181",
       "version_major": 2,
       "version_minor": 0
      },
      "text/plain": [
       "HBox(children=(FloatProgress(value=0.0, max=300.0), HTML(value='')))"
      ]
     },
     "metadata": {},
     "output_type": "display_data"
    },
    {
     "name": "stdout",
     "output_type": "stream",
     "text": [
      "\n",
      "seed 7\n",
      "Saving photos to /home/nbuckman/mpc_results/idm_3_4_longer/9g19-76da-20210304-233025/temp/...\n"
     ]
    },
    {
     "data": {
      "application/vnd.jupyter.widget-view+json": {
       "model_id": "2a608ea97fa54f6eaa0d121ce3e1c0ec",
       "version_major": 2,
       "version_minor": 0
      },
      "text/plain": [
       "HBox(children=(FloatProgress(value=0.0, max=300.0), HTML(value='')))"
      ]
     },
     "metadata": {},
     "output_type": "display_data"
    },
    {
     "name": "stdout",
     "output_type": "stream",
     "text": [
      "\n",
      "seed 8\n",
      "Saving photos to /home/nbuckman/mpc_results/idm_3_4_longer/d573-82bb-20210304-233031/temp/...\n"
     ]
    },
    {
     "data": {
      "application/vnd.jupyter.widget-view+json": {
       "model_id": "e57864e328f04540905f84284d2660bb",
       "version_major": 2,
       "version_minor": 0
      },
      "text/plain": [
       "HBox(children=(FloatProgress(value=0.0, max=300.0), HTML(value='')))"
      ]
     },
     "metadata": {},
     "output_type": "display_data"
    },
    {
     "name": "stdout",
     "output_type": "stream",
     "text": [
      "\n",
      "seed 4\n",
      "Saving photos to /home/nbuckman/mpc_results/idm_3_4_longer/4931-1e29-20210304-233014/temp/...\n"
     ]
    },
    {
     "data": {
      "application/vnd.jupyter.widget-view+json": {
       "model_id": "5e5648929ca34876ac0b6344654ec258",
       "version_major": 2,
       "version_minor": 0
      },
      "text/plain": [
       "HBox(children=(FloatProgress(value=0.0, max=300.0), HTML(value='')))"
      ]
     },
     "metadata": {},
     "output_type": "display_data"
    },
    {
     "name": "stdout",
     "output_type": "stream",
     "text": [
      "\n",
      "seed 6\n",
      "Saving photos to /home/nbuckman/mpc_results/idm_3_4_longer/0g6c-d270-20210304-233021/temp/...\n"
     ]
    },
    {
     "data": {
      "application/vnd.jupyter.widget-view+json": {
       "model_id": "a9065cd07c0945618bd00a5dc6ececa7",
       "version_major": 2,
       "version_minor": 0
      },
      "text/plain": [
       "HBox(children=(FloatProgress(value=0.0, max=300.0), HTML(value='')))"
      ]
     },
     "metadata": {},
     "output_type": "display_data"
    },
    {
     "name": "stdout",
     "output_type": "stream",
     "text": [
      "\n",
      "seed 0\n",
      "Saving photos to /home/nbuckman/mpc_results/idm_3_4_longer/2hb2-fd63-20210304-232947/temp/...\n"
     ]
    },
    {
     "data": {
      "application/vnd.jupyter.widget-view+json": {
       "model_id": "57a33f7cf415441d8746dacc6a31fc33",
       "version_major": 2,
       "version_minor": 0
      },
      "text/plain": [
       "HBox(children=(FloatProgress(value=0.0, max=300.0), HTML(value='')))"
      ]
     },
     "metadata": {},
     "output_type": "display_data"
    },
    {
     "name": "stdout",
     "output_type": "stream",
     "text": [
      "\n",
      "seed 6\n",
      "Saving photos to /home/nbuckman/mpc_results/idm_3_4_longer/hacc-944g-20210304-232916/temp/...\n"
     ]
    },
    {
     "data": {
      "application/vnd.jupyter.widget-view+json": {
       "model_id": "1a907168a71a48dc8c42898e750b1cc6",
       "version_major": 2,
       "version_minor": 0
      },
      "text/plain": [
       "HBox(children=(FloatProgress(value=0.0, max=300.0), HTML(value='')))"
      ]
     },
     "metadata": {},
     "output_type": "display_data"
    },
    {
     "name": "stdout",
     "output_type": "stream",
     "text": [
      "\n",
      "seed 9\n",
      "Saving photos to /home/nbuckman/mpc_results/idm_3_4_longer/3acb-3ebh-20210304-232904/temp/...\n"
     ]
    },
    {
     "data": {
      "application/vnd.jupyter.widget-view+json": {
       "model_id": "baac32cfc5254946add9432e5c490d64",
       "version_major": 2,
       "version_minor": 0
      },
      "text/plain": [
       "HBox(children=(FloatProgress(value=0.0, max=300.0), HTML(value='')))"
      ]
     },
     "metadata": {},
     "output_type": "display_data"
    },
    {
     "name": "stdout",
     "output_type": "stream",
     "text": [
      "\n",
      "seed 1\n",
      "Saving photos to /home/nbuckman/mpc_results/idm_3_4_longer/4h6e-1b1c-20210304-233003/temp/...\n"
     ]
    },
    {
     "data": {
      "application/vnd.jupyter.widget-view+json": {
       "model_id": "3bf1aa562f804bac8634b7d8ea33849f",
       "version_major": 2,
       "version_minor": 0
      },
      "text/plain": [
       "HBox(children=(FloatProgress(value=0.0, max=300.0), HTML(value='')))"
      ]
     },
     "metadata": {},
     "output_type": "display_data"
    },
    {
     "name": "stdout",
     "output_type": "stream",
     "text": [
      "\n",
      "seed 4\n",
      "Saving photos to /home/nbuckman/mpc_results/idm_3_4_longer/18hb-32f2-20210304-232926/temp/...\n"
     ]
    },
    {
     "data": {
      "application/vnd.jupyter.widget-view+json": {
       "model_id": "bf1423b48f0941ccb4a242c1d41e6971",
       "version_major": 2,
       "version_minor": 0
      },
      "text/plain": [
       "HBox(children=(FloatProgress(value=0.0, max=300.0), HTML(value='')))"
      ]
     },
     "metadata": {},
     "output_type": "display_data"
    },
    {
     "name": "stdout",
     "output_type": "stream",
     "text": [
      "\n",
      "seed 2\n",
      "Saving photos to /home/nbuckman/mpc_results/idm_3_4_longer/h86a-09c0-20210304-232936/temp/...\n"
     ]
    },
    {
     "data": {
      "application/vnd.jupyter.widget-view+json": {
       "model_id": "a26bd42f8d004ddd99845e8f19a2b5e0",
       "version_major": 2,
       "version_minor": 0
      },
      "text/plain": [
       "HBox(children=(FloatProgress(value=0.0, max=300.0), HTML(value='')))"
      ]
     },
     "metadata": {},
     "output_type": "display_data"
    },
    {
     "name": "stdout",
     "output_type": "stream",
     "text": [
      "\n",
      "seed 0\n",
      "Saving photos to /home/nbuckman/mpc_results/idm_3_4_longer/aa6g-25aa-20210304-233000/temp/...\n"
     ]
    },
    {
     "data": {
      "application/vnd.jupyter.widget-view+json": {
       "model_id": "8c07f374ae23486586eaea9f3b0070ac",
       "version_major": 2,
       "version_minor": 0
      },
      "text/plain": [
       "HBox(children=(FloatProgress(value=0.0, max=300.0), HTML(value='')))"
      ]
     },
     "metadata": {},
     "output_type": "display_data"
    },
    {
     "name": "stdout",
     "output_type": "stream",
     "text": [
      "\n",
      "seed 9\n",
      "Saving photos to /home/nbuckman/mpc_results/idm_3_4_longer/a11d-75f2-20210304-233036/temp/...\n"
     ]
    },
    {
     "data": {
      "application/vnd.jupyter.widget-view+json": {
       "model_id": "5b7e9a0c789d4f42b67143f0b626e98c",
       "version_major": 2,
       "version_minor": 0
      },
      "text/plain": [
       "HBox(children=(FloatProgress(value=0.0, max=300.0), HTML(value='')))"
      ]
     },
     "metadata": {},
     "output_type": "display_data"
    },
    {
     "name": "stdout",
     "output_type": "stream",
     "text": [
      "\n"
     ]
    }
   ],
   "source": [
    "for LOG_DIRECTORY in logs:\n",
    "    # Arguments\n",
    "    camera_speed = -1\n",
    "    shape = 'image'\n",
    "    svo_colors = 1\n",
    "    n_workers = 8\n",
    "    fps = 16\n",
    "    LOG_DIRECTORY = LOG_DIRECTORY + '/'\n",
    "#     LOG_DIRECTORY = '/home/nbuckman/mpc_results/0h2e-dd2f-20210304-214006/'\n",
    "\n",
    "    VEHICLE_PATH = LOG_DIRECTORY + 'ambulance.p'\n",
    "    OTHER_VEHICLE_PATH = LOG_DIRECTORY + 'other_vehicles.p'\n",
    "    TRAJ_PATH = LOG_DIRECTORY + 'trajectories.npy'\n",
    "    PARAMS_PATH = LOG_DIRECTORY + 'params.json'\n",
    "    WORLD_PATH = LOG_DIRECTORY + 'world.p'\n",
    "\n",
    "\n",
    "    trajectory = np.load(open(TRAJ_PATH,'rb'))\n",
    "    xamb = trajectory[0, :, :]\n",
    "    xothers = trajectory[1:, :, :]\n",
    "\n",
    "    log_string = LOG_DIRECTORY.split('/')[-2]\n",
    "    VIDEO_OUT_PATH = LOG_DIRECTORY + log_string + '.mp4'\n",
    "\n",
    "\n",
    "    # generate pictures for animation\n",
    "\n",
    "\n",
    "    # Load data\n",
    "    with open(PARAMS_PATH) as fp:\n",
    "        params = json.load(fp)\n",
    "\n",
    "    response_vehicle = pickle.load(open(VEHICLE_PATH,'rb'))\n",
    "    other_vehicles = pickle.load(open(OTHER_VEHICLE_PATH,'rb')) #TODO:  save all the vehicles in one file\n",
    "    #\n",
    "    try:\n",
    "        world = pickle.load(open(WORLD_PATH,'rb'))\n",
    "    except FileNotFoundError:\n",
    "        WORLD_PATH = LOG_DIRECTORY + 'data/world.p'\n",
    "        world = pickle.load(open(WORLD_PATH,'rb'))\n",
    "\n",
    "#     print(\"k_lat\", other_vehicles[0].k_lat)\n",
    "    print(\"seed\", params['seed'])\n",
    "    # Prep a temp image directory\n",
    "\n",
    "\n",
    "    if camera_speed == -1:\n",
    "        camera_speed = np.mean(xamb[4,:])\n",
    "\n",
    "    if svo_colors == 1:\n",
    "        svo = []\n",
    "        for veh in other_vehicles:\n",
    "            if hasattr(veh, \"theta_ij\"):\n",
    "                svo += [veh.theta_ij[-1]]\n",
    "            else:\n",
    "                svo += [veh.theta_iamb]\n",
    "        car_colors = ['r' for i in range(len(svo))]\n",
    "        for i in range(len(svo)):\n",
    "            if svo[i] < np.pi/8.0:\n",
    "                car_colors[i] = 'red'\n",
    "            elif np.pi/8 <= svo[i] <= 3*np.pi/8.0:\n",
    "                car_colors[i] = 'purple'\n",
    "            elif np.pi/8 <= svo[i] <= np.pi/2.0:\n",
    "                car_colors[i] = 'blue'\n",
    "    else:\n",
    "        car_colors = None\n",
    "\n",
    "\n",
    "\n",
    "    IMG_DIR = LOG_DIRECTORY + 'temp/'\n",
    "    print(\"Saving photos to %s...\"%(IMG_DIR))\n",
    "\n",
    "    os.makedirs(IMG_DIR, exist_ok=True)    \n",
    "    for f in glob.glob(os.path.join(IMG_DIR, \"*.png\")):\n",
    "        os.remove(f)\n",
    "    try:\n",
    "        os.remove(VIDEO_OUT_PATH)\n",
    "    except OSError:\n",
    "        pass\n",
    "\n",
    "    cmplot.plot_cars(world, response_vehicle, xamb, [xothers[i,:,:] for i in range(xothers.shape[0])],\n",
    "                    IMG_DIR, shape, camera_speed, None, car_colors, n_workers)              \n",
    "\n",
    "    outfile = cmplot.animate(IMG_DIR, VIDEO_OUT_PATH, fps)\n",
    "\n",
    "    vid_directory = '/home/nbuckman/mpc-vids/'\n",
    "    cmd = 'cp %s %s'%(VIDEO_OUT_PATH, vid_directory)\n",
    "    os.system(cmd)\n",
    "\n",
    "\n",
    "#     from IPython.display import Video\n",
    "\n",
    "#     Video(outfile, embed=True, width=1024)"
   ]
  },
  {
   "cell_type": "markdown",
   "metadata": {},
   "source": [
    "## Analysis"
   ]
  },
  {
   "cell_type": "code",
   "execution_count": 9,
   "metadata": {},
   "outputs": [],
   "source": [
    "data_x = dict()\n",
    "for seed in range(10):\n",
    "    data_x[seed] = dict()"
   ]
  },
  {
   "cell_type": "code",
   "execution_count": 11,
   "metadata": {},
   "outputs": [],
   "source": [
    "for LOG_DIRECTORY in logs:\n",
    "    # Arguments\n",
    "    camera_speed = -1\n",
    "    shape = 'image'\n",
    "    svo_colors = 1\n",
    "    n_workers = 8\n",
    "    fps = 16\n",
    "    LOG_DIRECTORY = LOG_DIRECTORY + '/'\n",
    "#     LOG_DIRECTORY = '/home/nbuckman/mpc_results/0h2e-dd2f-20210304-214006/'\n",
    "\n",
    "    VEHICLE_PATH = LOG_DIRECTORY + 'ambulance.p'\n",
    "    OTHER_VEHICLE_PATH = LOG_DIRECTORY + 'other_vehicles.p'\n",
    "    TRAJ_PATH = LOG_DIRECTORY + 'trajectories.npy'\n",
    "    PARAMS_PATH = LOG_DIRECTORY + 'params.json'\n",
    "    WORLD_PATH = LOG_DIRECTORY + 'world.p'\n",
    "\n",
    "\n",
    "    trajectory = np.load(open(TRAJ_PATH,'rb'))\n",
    "    xamb = trajectory[0, :, :]\n",
    "    xothers = trajectory[1:, :, :]\n",
    "\n",
    "    log_string = LOG_DIRECTORY.split('/')[-2]\n",
    "    VIDEO_OUT_PATH = LOG_DIRECTORY + log_string + '.mp4'\n",
    "\n",
    "\n",
    "    # generate pictures for animation\n",
    "\n",
    "\n",
    "    # Load data\n",
    "    with open(PARAMS_PATH) as fp:\n",
    "        params = json.load(fp)\n",
    "\n",
    "    delta_x = xamb[0,-1] - xamb[0,0]\n",
    "    data_x[params[\"seed\"]][params[\"svo_theta\"]] = delta_x"
   ]
  },
  {
   "cell_type": "code",
   "execution_count": 20,
   "metadata": {},
   "outputs": [
    {
     "data": {
      "image/png": "[encoded data removed]",
      "text/plain": [
       "<Figure size 432x288 with 1 Axes>"
      ]
     },
     "metadata": {
      "needs_background": "light"
     },
     "output_type": "display_data"
    }
   ],
   "source": [
    "for svo in data_x[0]:\n",
    "    plt.plot([svo for seed in data_x],[data_x[seed][svo] for seed in data_x],'o')"
   ]
  },
  {
   "cell_type": "code",
   "execution_count": 21,
   "metadata": {},
   "outputs": [
    {
     "data": {
      "image/png": "[encoded data removed]",
      "text/plain": [
       "<Figure size 432x288 with 1 Axes>"
      ]
     },
     "metadata": {
      "needs_background": "light"
     },
     "output_type": "display_data"
    }
   ],
   "source": [
    "for svo in data_x[0]:\n",
    "    plt.plot([data_x[seed][1.56] - data_x[seed][0.0] for seed in data_x],'o')"
   ]
  },
  {
   "cell_type": "code",
   "execution_count": 22,
   "metadata": {},
   "outputs": [
    {
     "data": {
      "text/plain": [
       "0.0"
      ]
     },
     "execution_count": 22,
     "metadata": {},
     "output_type": "execute_result"
    }
   ],
   "source": [
    "np.median([data_x[seed][1.56] - data_x[seed][0.0] for seed in data_x])"
   ]
  },
  {
   "cell_type": "code",
   "execution_count": 23,
   "metadata": {},
   "outputs": [
    {
     "data": {
      "text/plain": [
       "7.633916521435049"
      ]
     },
     "execution_count": 23,
     "metadata": {},
     "output_type": "execute_result"
    }
   ],
   "source": [
    "np.mean([data_x[seed][1.56] - data_x[seed][0.0] for seed in data_x])"
   ]
  },
  {
   "cell_type": "code",
   "execution_count": null,
   "metadata": {},
   "outputs": [],
   "source": []
  }
 ],
 "metadata": {
  "kernelspec": {
   "display_name": "Python 3",
   "language": "python",
   "name": "python3"
  },
  "language_info": {
   "codemirror_mode": {
    "name": "ipython",
    "version": 3
   },
   "file_extension": ".py",
   "mimetype": "text/x-python",
   "name": "python",
   "nbconvert_exporter": "python",
   "pygments_lexer": "ipython3",
   "version": "3.8.3"
  }
 },
 "nbformat": 4,
 "nbformat_minor": 4
}
