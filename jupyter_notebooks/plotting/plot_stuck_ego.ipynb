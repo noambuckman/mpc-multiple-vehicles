{
 "cells": [
  {
   "cell_type": "code",
   "execution_count": 1,
   "metadata": {},
   "outputs": [],
   "source": [
    "%load_ext autoreload\n",
    "%autoreload 2\n",
    "\n",
    "import src.multiagent_mpc as mpc\n",
    "import src.traffic_world as tw\n",
    "import src.car_plotting_multiple as cmplot\n",
    "import glob\n",
    "import argparse\n",
    "import json\n",
    "import pickle\n",
    "import os\n",
    "import numpy as np\n",
    "import matplotlib.pyplot as plt\n",
    "import matplotlib.patches as patches\n",
    "import matplotlib.offsetbox as offsetbox\n",
    "import gc"
   ]
  },
  {
   "cell_type": "code",
   "execution_count": 75,
   "metadata": {},
   "outputs": [],
   "source": [
    "class Args:\n",
    "    def __init__(self):\n",
    "        self.i = 0\n",
    "args = Args()\n",
    "args.end_mpc = -1\n",
    "args.camera_speed = -1\n",
    "args.shape = \"ellipse\"\n",
    "args.svo_colors = 1\n",
    "args.n_workers = 8\n",
    "args.fps = 16\n",
    "log_directory = \"/home/nbuckman/mpc_results/svo_10_21/e015/\""
   ]
  },
  {
   "cell_type": "code",
   "execution_count": 4,
   "metadata": {},
   "outputs": [
    {
     "name": "stdout",
     "output_type": "stream",
     "text": [
      "Loading data...\n",
      "/home/nbuckman/mpc_results/svo_10_21/e015/data/all_037\n"
     ]
    }
   ],
   "source": [
    "with open(log_directory + \"params.json\",'rb') as fp:\n",
    "    params = json.load(fp)\n",
    "# filename = concat_imgs(args.folder) \n",
    "print(\"Loading data...\")\n",
    "if args.end_mpc == -1:\n",
    "    # Find the last run.  We currently assumes that all runs start from 0 and increment by 1\n",
    "    list_of_mpc_data = glob.glob(log_directory + 'data/all_*xamb.npy')\n",
    "    n_mpc_runs = len(list_of_mpc_data)\n",
    "    data_filename = log_directory + 'data/all_%03d'%(n_mpc_runs - 1)\n",
    "    if os.path.isfile(data_filename + \"xamb.npy\"):\n",
    "        pass\n",
    "    else:\n",
    "        data_filename = log_directory + 'data/all_%02d'%(n_mpc_runs - 1)\n",
    "    print(data_filename)\n",
    "else:\n",
    "    n_mpc_runs = (args.end_mpc + 1)\n",
    "    data_filename = log_directory + 'data/all_%03d'%args.end_mpc\n",
    "    if os.path.isfile(data_filename +\"xamb.npy\"):\n",
    "        pass\n",
    "    else:\n",
    "        data_filename = log_directory + 'data/all_%02d'%args.end_mpc\n",
    "start_frame = 0\n",
    "end_frame = (n_mpc_runs + 1) * params['number_ctrl_pts_executed'] - 1 #Not exactly sure why we need minus 1\n",
    "\n",
    "xamb_actual, _, _, xothers_actual, _, _, = mpc.load_state(data_filename, params['n_other'], ignore_des=True)\n",
    "response_vehicle = pickle.load(open(log_directory + \"data/\" + \"mpcamb.p\",'rb'))\n",
    "if os.path.isfile(log_directory + \"data/mpcother%03d.p\"%0):\n",
    "    other_vehicles = [pickle.load(open(log_directory + \"data/mpcother%03d.p\"%i,'rb')) for i in range(params[\"n_other\"])]\n",
    "elif os.path.isfile(log_directory + \"data/mpcother%02d.p\"%0):\n",
    "    other_vehicles = [pickle.load(open(log_directory + \"data/mpcother%02d.p\"%i,'rb')) for i in range(params[\"n_other\"])]\n",
    "else:\n",
    "    other_vehicles = [pickle.load(open(log_directory + \"data/mpcother%d.p\"%i,'rb')) for i in range(params[\"n_other\"])]\n",
    "world = tw.TrafficWorld(params[\"n_lanes\"], 0, 999999) "
   ]
  },
  {
   "cell_type": "code",
   "execution_count": 5,
   "metadata": {},
   "outputs": [],
   "source": [
    "# Prep the image directory\n",
    "os.makedirs(log_directory+\"imgs2/\", exist_ok=True)    \n",
    "filelist = glob.glob(os.path.join(log_directory+\"imgs2/\", \"*.png\"))\n",
    "for f in filelist:\n",
    "    os.remove(f)\n"
   ]
  },
  {
   "cell_type": "code",
   "execution_count": 6,
   "metadata": {},
   "outputs": [
    {
     "name": "stdout",
     "output_type": "stream",
     "text": [
      "Saving photos to /home/nbuckman/mpc_results/svo_10_21/e015/imgs2/...\n"
     ]
    }
   ],
   "source": [
    "# For when we would return a large vector that included datapoints defaulted to zero\n",
    "if xamb_actual.shape[1] > end_frame:\n",
    "    xamb_actual = xamb_actual[:, :end_frame]\n",
    "    xothers_actual = [x[:, :end_frame] for x in xothers_actual]\n",
    "\n",
    "print(\"Saving photos to %s...\"%(log_directory+\"imgs2/\"))\n",
    "if args.camera_speed == -1:\n",
    "    camera_speed = np.mean(xamb_actual[4,:])\n",
    "else:\n",
    "    camera_speed = args.camera_speed\n",
    "if args.svo_colors == 1:\n",
    "    svo = []\n",
    "    for veh in other_vehicles:\n",
    "        if hasattr(veh, \"theta_ij\"):\n",
    "            svo += [veh.theta_ij[-1]]\n",
    "        else:\n",
    "            svo += [veh.theta_iamb]\n",
    "    car_colors = ['r' for i in range(len(svo))]\n",
    "    for i in range(len(svo)):\n",
    "        if svo[i] < np.pi/8.0:\n",
    "            car_colors[i] = 'red'\n",
    "        elif np.pi/8 <= svo[i] <= 3*np.pi/8.0:\n",
    "            car_colors[i] = 'purple'\n",
    "        elif np.pi/8 <= svo[i] <= np.pi/2.0:\n",
    "            car_colors[i] = 'blue'\n",
    "else:\n",
    "    car_colors = None\n",
    "# if args.image:\n",
    "#     cmplot.plot_cars(world, response_vehicle, xamb_actual[:,start_frame:end_frame], [x[:,start_frame:end_frame] for x in xothers_actual], log_directory, \"image\", True, camera_speed)              \n",
    "# else:"
   ]
  },
  {
   "cell_type": "code",
   "execution_count": 7,
   "metadata": {},
   "outputs": [],
   "source": [
    "dummy_camera_positions = list(range(600))\n",
    "dummy_camera_positions[220] = 580"
   ]
  },
  {
   "cell_type": "code",
   "execution_count": 9,
   "metadata": {},
   "outputs": [
    {
     "data": {
      "image/png": "[encoded data removed]",
      "text/plain": [
       "<Figure size 1920x1080 with 1 Axes>"
      ]
     },
     "metadata": {
      "needs_background": "light"
     },
     "output_type": "display_data"
    }
   ],
   "source": [
    "f, a = cmplot.plot_multiple_cars(220, world, response_vehicle, xamb_actual[:,start_frame:end_frame], [x[:,start_frame:end_frame] for x in xothers_actual], None, args.shape, dummy_camera_positions, None, car_colors)\n"
   ]
  },
  {
   "cell_type": "code",
   "execution_count": 11,
   "metadata": {},
   "outputs": [],
   "source": []
  },
  {
   "cell_type": "code",
   "execution_count": 20,
   "metadata": {},
   "outputs": [],
   "source": []
  },
  {
   "cell_type": "code",
   "execution_count": 41,
   "metadata": {},
   "outputs": [],
   "source": []
  },
  {
   "cell_type": "code",
   "execution_count": 66,
   "metadata": {},
   "outputs": [],
   "source": [
    "x_dist = np.array([(x[0,start_frame] - xamb_actual[0, start_frame])for x in xothers_actual])\n",
    "idxs_plot = np.argsort(x_dist)\n",
    "idxs_plot = [i for i in idxs_plot if x_dist[i]>=-.5]\n",
    "idxs_plot = idxs_plot[:3]\n",
    "start_frame = 220\n",
    "end_frame = 250"
   ]
  },
  {
   "cell_type": "code",
   "execution_count": 67,
   "metadata": {},
   "outputs": [
    {
     "data": {
      "image/png": "[encoded data removed]",
      "text/plain": [
       "<Figure size 1728x288 with 1 Axes>"
      ]
     },
     "metadata": {
      "needs_background": "light"
     },
     "output_type": "display_data"
    }
   ],
   "source": [
    "cmplot.plot_single_frame(world, response_vehicle, xamb_actual[:, start_frame:end_frame:4], [xothers_actual[i][:,start_frame:end_frame:4] for i in range(len(xothers_actual)) if i in idxs_plot], None, \"image\", None, None, None,  None, [560, 680])"
   ]
  },
  {
   "cell_type": "code",
   "execution_count": 74,
   "metadata": {},
   "outputs": [],
   "source": [
    "x_mpc = response_vehicle\n",
    "xamb_plot = xamb_actual[:, start_frame:end_frame:14]\n",
    "xothers_plot = [xothers_actual[i][:,start_frame:end_frame:14] for i in range(len(xothers_actual)) if i in idxs_plot]\n",
    "folder = None\n",
    "car_plot_shape=\"Image\"\n",
    "parallelize=True\n",
    "camera_speed = None\n",
    "plot_range = None\n",
    "car_ids = None\n",
    "xlims = [575, 680]\n",
    "colors_sub = [car_colors[i] for i in idxs_plot]\n",
    "folder = log_directory\n",
    "'''Plots the progression of all cars in one frame'''\n",
    "if camera_speed is None:\n",
    "    camera_speed = x_mpc.max_v\n",
    "figsize=\"LARGE\"\n",
    "if figsize == \"LARGE\":\n",
    "    figwidth_in=12.0\n",
    "else:\n",
    "    figwidth_in=6.0\n",
    "ymax = world.y_max\n",
    "ymin = world.y_min     \n",
    "# initial_speed = 0.9 * x_mpc.max_v\n",
    "# center_frame = xamb_plot[0,k]\n",
    "\n",
    "k = 0\n",
    "center_frame = xamb_plot[0,0] + k*camera_speed*x_mpc.dt\n",
    "# center_frame = xamb_plot[0,0]\n",
    "if xlims is None:\n",
    "    axlim_minx, axlim_maxx = center_frame - 40, center_frame + 100,    \n",
    "else:\n",
    "    axlim_minx, axlim_maxx = xlims[0], xlims[1]\n",
    "fig_height = np.ceil(1.1 * figwidth_in * (ymax - ymin) / (axlim_maxx - axlim_minx ))\n",
    "fig, ax = plt.subplots(figsize=(figwidth_in, fig_height), dpi=144)\n",
    "ax.axis('square')\n",
    "ax.set_ylim((ymin, ymax))\n",
    "ax.set_xlim((axlim_minx , axlim_maxx))\n",
    "\n",
    "cmplot.add_lanes(ax, world)\n",
    "cmplot.add_grass(ax, world, k)   \n",
    "if car_plot_shape.lower() not in [\"ellipse\", \"both\", \"ellipses\", \"image\", \"dot\"]:\n",
    "    raise Exception(\"Incorrect car_plot_shape\")\n",
    "if plot_range is None:\n",
    "    plot_range = range(xamb_plot.shape[1])\n",
    "for ki in range(len(plot_range)):\n",
    "    k = plot_range[ki]       \n",
    "    if len(plot_range) == 1:\n",
    "        alpha_k = 1.0\n",
    "    else:\n",
    "        alpha_k = .2 + float(ki/(len(plot_range) - 1)) * (1 - .2) \n",
    "#         if ki != len(plot_range) - 1:\n",
    "#             alpha_k = 0.25\n",
    "    if car_plot_shape.lower() == \"ellipse\" or car_plot_shape.lower() == \"both\" or car_plot_shape.lower() == \"ellipses\":\n",
    "        # Plot the ambulance as circles\n",
    "        centers, radius = x_mpc.get_car_circles_np(xamb_plot[:,k:k+1])\n",
    "\n",
    "        # for ci in range(len(centers)):\n",
    "        #     xy_f = centers[ci]\n",
    "        #     circle_patch_f = patches.Circle((xy_f[0], xy_f[1]), radius=radius, color='red',alpha=alpha_k)\n",
    "        #     ax.add_patch(circle_patch_f)\n",
    "\n",
    "        x, y, phi = xamb_plot[0,k], xamb_plot[1,k], xamb_plot[2,k]\n",
    "        a, b = x_mpc.ax, x_mpc.by\n",
    "        ellipse_patch = patches.Ellipse((x, y), 2*a, 2*b, angle=np.rad2deg(phi), fill=True, color='black', alpha=alpha_k)\n",
    "        ax.add_patch(ellipse_patch)                \n",
    "\n",
    "        for i in range(len(xothers_plot)):\n",
    "\n",
    "            if car_ids is not None:\n",
    "                car_id = car_ids[i+1]  \n",
    "            else:\n",
    "                car_id = i\n",
    "\n",
    "            color = cmplot.get_car_color(car_id)\n",
    "            # if (car_id%2)==0:\n",
    "            #     color=\"red\"\n",
    "            # else:\n",
    "            #     color=\"green\"\n",
    "\n",
    "            x1_plot = xothers_plot[i]\n",
    "            x, y, phi = x1_plot[0,k], x1_plot[1,k], x1_plot[2,k]\n",
    "            a, b = x_mpc.ax, x_mpc.by\n",
    "            ellipse_patch = patches.Ellipse((x, y), 2*a, 2*b, angle=np.rad2deg(phi), fill=True, color=color, alpha=alpha_k)\n",
    "            ax.add_patch(ellipse_patch)\n",
    "            if car_ids is not None:\n",
    "                ax.annotate(str(car_id), (x,y))\n",
    "\n",
    "\n",
    "        centers, radius = x_mpc.get_car_circles_np(xamb_plot[:,k:k+1])                  \n",
    "\n",
    "    if car_plot_shape.lower() == \"image\" or car_plot_shape.lower() == \"both\":\n",
    "        for i in range(len(xothers_plot)):\n",
    "            x1_plot = xothers_plot[i]\n",
    "            if car_ids is not None:\n",
    "                car_id = car_ids[i+1]  \n",
    "            else:\n",
    "                car_id = i\n",
    "            color = cmplot.get_car_color(car_id)\n",
    "            color = colors_sub[car_id]\n",
    "\n",
    "            ax = cmplot.get_frame(x1_plot[:,k], x_mpc, ax, color, alpha=alpha_k)\n",
    "\n",
    "        ax = cmplot.get_frame(xamb_plot[:,k], x_mpc, ax, \"Amb\", alpha=alpha_k)\n",
    "    if car_plot_shape.lower() == \"dot\":\n",
    "        for i in range(len(xothers_plot)):\n",
    "            x1_plot = xothers_plot[i]\n",
    "            if car_ids is not None:\n",
    "                car_id = car_ids[i+1]  \n",
    "            else:\n",
    "                car_id = i\n",
    "            color = cmplot.get_car_color(car_id)\n",
    "\n",
    "            ax.plot(x1_plot[0,k], x1_plot[1,k], '.', c=color, alpha=alpha_k)\n",
    "        ax.plot(xamb_plot[0,k], xamb_plot[1,k], '.', c='black', alpha=alpha_k)\n",
    "\n",
    "fig = plt.gcf()\n",
    "if folder is not None:\n",
    "    fig.savefig(folder + 'imgs2/' 'stuck_one.png'.format(k))\n",
    "    plt.close(fig)        \n",
    "    gc.collect()\n",
    "else:\n",
    "    plt.show()"
   ]
  },
  {
   "cell_type": "markdown",
   "metadata": {},
   "source": [
    "### Nice Picture of AH3C"
   ]
  },
  {
   "cell_type": "code",
   "execution_count": 2,
   "metadata": {},
   "outputs": [],
   "source": [
    "class Args:\n",
    "    def __init__(self):\n",
    "        self.i = 0\n",
    "args = Args()\n",
    "args.end_mpc = -1\n",
    "args.camera_speed = -1\n",
    "args.shape = \"ellipse\"\n",
    "args.svo_colors = 1\n",
    "args.n_workers = 8\n",
    "args.fps = 16\n",
    "log_directory = \"/home/nbuckman/mpc_results/ah3c-010c-20201019-203541/\""
   ]
  },
  {
   "cell_type": "code",
   "execution_count": 3,
   "metadata": {},
   "outputs": [
    {
     "name": "stdout",
     "output_type": "stream",
     "text": [
      "Loading data...\n",
      "/home/nbuckman/mpc_results/ah3c-010c-20201019-203541/data/all_106\n"
     ]
    }
   ],
   "source": [
    "with open(log_directory + \"params.json\",'rb') as fp:\n",
    "    params = json.load(fp)\n",
    "# filename = concat_imgs(args.folder) \n",
    "print(\"Loading data...\")\n",
    "if args.end_mpc == -1:\n",
    "    # Find the last run.  We currently assumes that all runs start from 0 and increment by 1\n",
    "    list_of_mpc_data = glob.glob(log_directory + 'data/all_*xamb.npy')\n",
    "    n_mpc_runs = len(list_of_mpc_data)\n",
    "    data_filename = log_directory + 'data/all_%03d'%(n_mpc_runs - 1)\n",
    "    if os.path.isfile(data_filename + \"xamb.npy\"):\n",
    "        pass\n",
    "    else:\n",
    "        data_filename = log_directory + 'data/all_%02d'%(n_mpc_runs - 1)\n",
    "    print(data_filename)\n",
    "else:\n",
    "    n_mpc_runs = (args.end_mpc + 1)\n",
    "    data_filename = log_directory + 'data/all_%03d'%args.end_mpc\n",
    "    if os.path.isfile(data_filename +\"xamb.npy\"):\n",
    "        pass\n",
    "    else:\n",
    "        data_filename = log_directory + 'data/all_%02d'%args.end_mpc\n",
    "start_frame = 0\n",
    "end_frame = (n_mpc_runs + 1) * params['number_ctrl_pts_executed'] - 1 #Not exactly sure why we need minus 1\n",
    "\n",
    "xamb_actual, _, _, xothers_actual, _, _, = mpc.load_state(data_filename, params['n_other'], ignore_des=True)\n",
    "response_vehicle = pickle.load(open(log_directory + \"data/\" + \"mpcamb.p\",'rb'))\n",
    "if os.path.isfile(log_directory + \"data/mpcother%03d.p\"%0):\n",
    "    other_vehicles = [pickle.load(open(log_directory + \"data/mpcother%03d.p\"%i,'rb')) for i in range(params[\"n_other\"])]\n",
    "elif os.path.isfile(log_directory + \"data/mpcother%02d.p\"%0):\n",
    "    other_vehicles = [pickle.load(open(log_directory + \"data/mpcother%02d.p\"%i,'rb')) for i in range(params[\"n_other\"])]\n",
    "else:\n",
    "    other_vehicles = [pickle.load(open(log_directory + \"data/mpcother%d.p\"%i,'rb')) for i in range(params[\"n_other\"])]\n",
    "world = tw.TrafficWorld(params[\"n_lanes\"], 0, 999999) "
   ]
  },
  {
   "cell_type": "code",
   "execution_count": 4,
   "metadata": {},
   "outputs": [
    {
     "name": "stdout",
     "output_type": "stream",
     "text": [
      "Saving photos to /home/nbuckman/mpc_results/ah3c-010c-20201019-203541/imgs2/...\n"
     ]
    }
   ],
   "source": [
    "# For when we would return a large vector that included datapoints defaulted to zero\n",
    "if xamb_actual.shape[1] > end_frame:\n",
    "    xamb_actual = xamb_actual[:, :end_frame]\n",
    "    xothers_actual = [x[:, :end_frame] for x in xothers_actual]\n",
    "\n",
    "print(\"Saving photos to %s...\"%(log_directory+\"imgs2/\"))\n",
    "if args.camera_speed == -1:\n",
    "    camera_speed = np.mean(xamb_actual[4,:])\n",
    "else:\n",
    "    camera_speed = args.camera_speed\n",
    "if args.svo_colors == 1:\n",
    "    svo = []\n",
    "    for veh in other_vehicles:\n",
    "        if hasattr(veh, \"theta_ij\"):\n",
    "            svo += [veh.theta_ij[-1]]\n",
    "        else:\n",
    "            svo += [veh.theta_iamb]\n",
    "    car_colors = ['r' for i in range(len(svo))]\n",
    "    for i in range(len(svo)):\n",
    "        if svo[i] < np.pi/8.0:\n",
    "            car_colors[i] = 'red'\n",
    "        elif np.pi/8 <= svo[i] <= 3*np.pi/8.0:\n",
    "            car_colors[i] = 'purple'\n",
    "        elif np.pi/8 <= svo[i] <= np.pi/2.0:\n",
    "            car_colors[i] = 'blue'\n",
    "else:\n",
    "    car_colors = None\n",
    "# if args.image:\n",
    "#     cmplot.plot_cars(world, response_vehicle, xamb_actual[:,start_frame:end_frame], [x[:,start_frame:end_frame] for x in xothers_actual], log_directory, \"image\", True, camera_speed)              \n",
    "# else:"
   ]
  },
  {
   "cell_type": "code",
   "execution_count": 104,
   "metadata": {},
   "outputs": [],
   "source": [
    "start_frame = 200\n",
    "end_frame = 280\n",
    "\n",
    "x_dist = np.array([(x[0,start_frame] - xamb_actual[0, start_frame])for x in xothers_actual])\n",
    "idxs_plot = np.argsort(x_dist)\n",
    "# idxs_plot = [i for i in idxs_plot if 40>=x_dist[i]>=-15]\n",
    "idxs_plot = [i for i in idxs_plot if 300>=x_dist[i]>=-300]\n",
    "\n",
    "# idxs_plot = idxs_plot[:7]\n"
   ]
  },
  {
   "cell_type": "code",
   "execution_count": 125,
   "metadata": {},
   "outputs": [],
   "source": [
    "x_mpc = response_vehicle\n",
    "xamb_plot = xamb_actual[:, start_frame:end_frame:10]\n",
    "xothers_plot = [xothers_actual[i][:,start_frame:end_frame:10] for i in range(len(xothers_actual)) if i in idxs_plot]\n",
    "folder = None\n",
    "car_plot_shape=\"both\"\n",
    "parallelize=True\n",
    "camera_speed = None\n",
    "plot_range = None\n",
    "car_ids = None\n",
    "xlims = [510,660]\n",
    "colors_sub = [car_colors[i] for i in idxs_plot]\n",
    "folder = log_directory\n",
    "# folder = None"
   ]
  },
  {
   "cell_type": "code",
   "execution_count": 126,
   "metadata": {},
   "outputs": [],
   "source": [
    "plot_range= [0]"
   ]
  },
  {
   "cell_type": "code",
   "execution_count": 127,
   "metadata": {},
   "outputs": [],
   "source": [
    "for tk in range(5):\n",
    "    plot_range = [tk]\n",
    "    '''Plots the progression of all cars in one frame'''\n",
    "    if camera_speed is None:\n",
    "        camera_speed = x_mpc.max_v\n",
    "    figsize=\"LARGE\"\n",
    "    if figsize == \"LARGE\":\n",
    "        figwidth_in=12.0\n",
    "    else:\n",
    "        figwidth_in=6.0\n",
    "    figwidth_in = 48\n",
    "    ymax = world.y_max\n",
    "    ymin = world.y_min     \n",
    "    # initial_speed = 0.9 * x_mpc.max_v\n",
    "    # center_frame = xamb_plot[0,k]\n",
    "\n",
    "    k = 0\n",
    "    center_frame = xamb_plot[0,0] + k*camera_speed*x_mpc.dt\n",
    "    # center_frame = xamb_plot[0,0]\n",
    "    if xlims is None:\n",
    "        axlim_minx, axlim_maxx = center_frame - 40, center_frame + 100,    \n",
    "    else:\n",
    "        axlim_minx, axlim_maxx = xlims[0], xlims[1]\n",
    "    fig_height = np.ceil(1.1 * figwidth_in * (ymax - ymin) / (axlim_maxx - axlim_minx ))\n",
    "    fig, ax = plt.subplots(figsize=(figwidth_in, fig_height), dpi=144)\n",
    "    ax.axis('square')\n",
    "    ax.set_ylim((ymin, ymax))\n",
    "    ax.set_xlim((axlim_minx , axlim_maxx))\n",
    "\n",
    "    cmplot.add_lanes(ax, world)\n",
    "    cmplot.add_grass(ax, world, k)   \n",
    "    if car_plot_shape.lower() not in [\"ellipse\", \"both\", \"ellipses\", \"image\", \"dot\"]:\n",
    "        raise Exception(\"Incorrect car_plot_shape\")\n",
    "    if plot_range is None:\n",
    "        plot_range = range(xamb_plot.shape[1])\n",
    "    for ki in range(len(plot_range)):\n",
    "        k = plot_range[ki]       \n",
    "        if len(plot_range) == 1:\n",
    "            alpha_k = 1.0\n",
    "        else:\n",
    "    #         alpha_k = .5 + float(ki/(len(plot_range) - 1)) * (1 - .5) \n",
    "            alpha_k = 1.0\n",
    "    #         if ki != len(plot_range) - 1:\n",
    "    #             alpha_k = 0.25\n",
    "        if xamb_plot[0,k] > axlim_maxx or xamb_plot[0,k]<axlim_minx:\n",
    "            continue\n",
    "        if car_plot_shape.lower() == \"ellipse\" or car_plot_shape.lower() == \"both\" or car_plot_shape.lower() == \"ellipses\":\n",
    "            # Plot the ambulance as circles\n",
    "            x, y, phi = xamb_plot[0,k], xamb_plot[1,k], xamb_plot[2,k]\n",
    "            a, b = x_mpc.ax, x_mpc.by\n",
    "            ellipse_patch = patches.Ellipse((x, y), 2*a, 2*b, angle=np.rad2deg(phi), fill=False, color='black', alpha=alpha_k, linewidth=8)\n",
    "            ax.add_patch(ellipse_patch)                \n",
    "\n",
    "            for i in range(len(xothers_plot)):\n",
    "                if car_ids is not None:\n",
    "                    car_id = car_ids[i+1]  \n",
    "                else:\n",
    "                    car_id = i\n",
    "\n",
    "                color = cmplot.get_car_color(car_id)\n",
    "                x1_plot = xothers_plot[i]\n",
    "                x, y, phi = x1_plot[0,k], x1_plot[1,k], x1_plot[2,k]\n",
    "                a, b = x_mpc.ax, x_mpc.by\n",
    "                ellipse_patch = patches.Ellipse((x, y), 2*a, 2*b, angle=np.rad2deg(phi), fill=False, color=color, alpha=alpha_k, linewidth=1)\n",
    "                ax.add_patch(ellipse_patch)\n",
    "                if car_ids is not None:\n",
    "                    ax.annotate(str(car_id), (x,y))\n",
    "            centers, radius = x_mpc.get_car_circles_np(xamb_plot[:,k:k+1])                  \n",
    "\n",
    "        if car_plot_shape.lower() == \"image\" or car_plot_shape.lower() == \"both\":\n",
    "            for i in range(len(xothers_plot)):\n",
    "                x1_plot = xothers_plot[i]\n",
    "                if car_ids is not None:\n",
    "                    car_id = car_ids[i+1]  \n",
    "                else:\n",
    "                    car_id = i\n",
    "                color = cmplot.get_car_color(car_id)\n",
    "                color = colors_sub[car_id]\n",
    "                ax = cmplot.get_frame(x1_plot[:,k], x_mpc, ax, color, alpha=alpha_k)\n",
    "            ax = cmplot.get_frame(xamb_plot[:,k], x_mpc, ax, \"Amb\", alpha=alpha_k)\n",
    "        if car_plot_shape.lower() == \"dot\":\n",
    "            for i in range(len(xothers_plot)):\n",
    "                x1_plot = xothers_plot[i]\n",
    "                if car_ids is not None:\n",
    "                    car_id = car_ids[i+1]  \n",
    "                else:\n",
    "                    car_id = i\n",
    "                color = cmplot.get_car_color(car_id)\n",
    "                ax.plot(x1_plot[0,k], x1_plot[1,k], '.', c=color, alpha=alpha_k)\n",
    "            ax.plot(xamb_plot[0,k], xamb_plot[1,k], '.', c='black', alpha=alpha_k)\n",
    "\n",
    "\n",
    "        fig = plt.gcf()\n",
    "        ax = plt.gca()\n",
    "        ax.get_yaxis().set_visible(False)\n",
    "        ax.get_xaxis().set_visible(False)\n",
    "#         plt.tight_layout()\n",
    "#         folder = None\n",
    "        if folder is not None:\n",
    "            fig.savefig(folder+'imgs3/{}bv3.png'.format(k),dpi=140)\n",
    "            plt.close(fig)        \n",
    "            gc.collect()\n",
    "        else:\n",
    "            plt.show()"
   ]
  },
  {
   "cell_type": "code",
   "execution_count": 115,
   "metadata": {},
   "outputs": [
    {
     "data": {
      "text/plain": [
       "[0,\n",
       " 1,\n",
       " 2,\n",
       " 3,\n",
       " 4,\n",
       " 5,\n",
       " 6,\n",
       " 7,\n",
       " 8,\n",
       " 9,\n",
       " 10,\n",
       " 11,\n",
       " 12,\n",
       " 13,\n",
       " 15,\n",
       " 14,\n",
       " 16,\n",
       " 17,\n",
       " 18,\n",
       " 19,\n",
       " 20,\n",
       " 21,\n",
       " 23,\n",
       " 22,\n",
       " 24,\n",
       " 25,\n",
       " 26,\n",
       " 27,\n",
       " 29,\n",
       " 28,\n",
       " 30,\n",
       " 31,\n",
       " 32,\n",
       " 33,\n",
       " 34,\n",
       " 35,\n",
       " 36]"
      ]
     },
     "execution_count": 115,
     "metadata": {},
     "output_type": "execute_result"
    }
   ],
   "source": [
    "len(xothers_actual)\n",
    "idxs_plot"
   ]
  },
  {
   "cell_type": "code",
   "execution_count": 84,
   "metadata": {},
   "outputs": [],
   "source": [
    "start_frame = 200\n",
    "end_frame = 260\n",
    "\n",
    "x_dist = np.array([(x[0,start_frame] - xamb_actual[0, start_frame])for x in xothers_actual])\n",
    "idxs_plot = np.argsort(x_dist)\n",
    "idxs_plot = [i for i in idxs_plot if x_dist[i]>= -80]\n",
    "idxs_plot = idxs_plot[:20]\n",
    "\n",
    "xamb_plot = xamb_actual[:, start_frame:end_frame:10]\n",
    "xothers_plot = [xothers_actual[i][:,start_frame:end_frame:10] for i in range(len(xothers_actual)) if i in idxs_plot]\n",
    "colors_sub = [car_colors[i] for i in idxs_plot]\n",
    "\n",
    "\n",
    "\n",
    "\n",
    "xlim = [520, 620]"
   ]
  },
  {
   "cell_type": "code",
   "execution_count": 93,
   "metadata": {},
   "outputs": [],
   "source": [
    "temp_folder = log_directory + \"imgs2/\""
   ]
  },
  {
   "cell_type": "code",
   "execution_count": 94,
   "metadata": {},
   "outputs": [],
   "source": [
    "cmplot.plot_multiple_cars(0, world, response_vehicle, xamb_plot, xothers_plot, temp_folder, \"Image\", None, None, colors_sub, xlim)"
   ]
  },
  {
   "cell_type": "code",
   "execution_count": 95,
   "metadata": {},
   "outputs": [],
   "source": [
    "cmplot.plot_multiple_cars(1, world, response_vehicle, xamb_plot, xothers_plot, temp_folder, \"Image\", None, None, colors_sub, xlim)"
   ]
  },
  {
   "cell_type": "code",
   "execution_count": 96,
   "metadata": {},
   "outputs": [],
   "source": [
    "cmplot.plot_multiple_cars(2, world, response_vehicle, xamb_plot, xothers_plot, temp_folder, \"Image\", None, None, colors_sub, xlim)"
   ]
  },
  {
   "cell_type": "code",
   "execution_count": 97,
   "metadata": {},
   "outputs": [],
   "source": [
    "cmplot.plot_multiple_cars(3, world, response_vehicle, xamb_plot, xothers_plot, temp_folder, \"Image\", None, None, colors_sub, xlim)"
   ]
  },
  {
   "cell_type": "code",
   "execution_count": null,
   "metadata": {},
   "outputs": [],
   "source": [
    "\n",
    "cmplot.plot_cars(world, response_vehicle, xamb_actual[:,start_frame:end_frame], [x[:,start_frame:end_frame] for x in xothers_actual], None, args.shape, camera_speed, None, car_colors, args.n_workers)              \n",
    "# generate pictures for animation\n",
    "log_string = log_directory[:-1]\n",
    "log_string = log_string.replace(\"/\",\"_\")\n",
    "if args.shape == \"both\" or args.shape == \"image\":\n",
    "    video_filename = log_directory + 'vids/' + log_string +'_%03d_%03di.mp4'%(start_frame, end_frame)\n",
    "else:\n",
    "    video_filename = log_directory + 'vids/' + log_string +'_%03d_%03d.mp4'%(start_frame, end_frame)\n",
    "\n",
    "outfile = cmplot.animate(log_directory, video_filename, args.fps)\n",
    "\n",
    "print(\"Saved video to: %s\"%outfile)\n",
    "vid_directory = '/home/nbuckman/mpc-vids/'\n",
    "cmd = 'cp %s %s'%(video_filename, vid_directory)\n",
    "os.system(cmd)\n",
    "print(\"Saved video to: %s\"%vid_directory)\n"
   ]
  },
  {
   "cell_type": "code",
   "execution_count": 13,
   "metadata": {},
   "outputs": [
    {
     "data": {
      "image/png": "[encoded data removed]",
      "text/plain": [
       "<Figure size 1920x1080 with 1 Axes>"
      ]
     },
     "metadata": {
      "needs_background": "light"
     },
     "output_type": "display_data"
    }
   ],
   "source": [
    "amb_x0 = amb_x0.reshape(6,1)\n",
    "all_other_x0 = [x.reshape(6,1) for x in all_other_x0]\n",
    "\n",
    "cmplot.plot_multiple_cars(0, world, amb_MPC, amb_x0, all_other_x0, None, 'Ellipse', None, None, None, [0, 750])\n",
    "plt.show()"
   ]
  },
  {
   "cell_type": "code",
   "execution_count": 14,
   "metadata": {},
   "outputs": [
    {
     "data": {
      "image/png": "[encoded data removed]",
      "text/plain": [
       "<Figure size 1920x1080 with 1 Axes>"
      ]
     },
     "metadata": {
      "needs_background": "light"
     },
     "output_type": "display_data"
    }
   ],
   "source": [
    "amb_x0 = amb_x0.reshape(6,1)\n",
    "all_other_x0 = [x.reshape(6,1) for x in all_other_x0]\n",
    "\n",
    "cmplot.plot_multiple_cars(0, world, amb_MPC, amb_x0, all_other_x0, None, 'Ellipse', None, None, None, [750, 1500])\n",
    "plt.show()"
   ]
  },
  {
   "cell_type": "code",
   "execution_count": 15,
   "metadata": {},
   "outputs": [
    {
     "data": {
      "image/png": "[encoded data removed]",
      "text/plain": [
       "<Figure size 1920x1080 with 1 Axes>"
      ]
     },
     "metadata": {
      "needs_background": "light"
     },
     "output_type": "display_data"
    }
   ],
   "source": [
    "amb_x0 = amb_x0.reshape(6,1)\n",
    "all_other_x0 = [x.reshape(6,1) for x in all_other_x0]\n",
    "\n",
    "cmplot.plot_multiple_cars(0, world, amb_MPC, amb_x0, all_other_x0, None, 'Ellipse', None, None, None, [1500, 1500+750])\n",
    "plt.show()"
   ]
  },
  {
   "cell_type": "code",
   "execution_count": 16,
   "metadata": {},
   "outputs": [
    {
     "data": {
      "image/png": "[encoded data removed]",
      "text/plain": [
       "<Figure size 1920x1080 with 1 Axes>"
      ]
     },
     "metadata": {
      "needs_background": "light"
     },
     "output_type": "display_data"
    }
   ],
   "source": [
    "amb_x0 = amb_x0.reshape(6,1)\n",
    "all_other_x0 = [x.reshape(6,1) for x in all_other_x0]\n",
    "\n",
    "cmplot.plot_multiple_cars(0, world, amb_MPC, amb_x0, all_other_x0, None, 'Ellipse', None, None, None, [2250, 3000])\n",
    "plt.show()"
   ]
  },
  {
   "cell_type": "code",
   "execution_count": 60,
   "metadata": {},
   "outputs": [
    {
     "data": {
      "text/plain": [
       "array([2930.74756,    3.7    ,    0.     ,    0.     ,   11.06325,\n",
       "          0.     ])"
      ]
     },
     "execution_count": 60,
     "metadata": {},
     "output_type": "execute_result"
    }
   ],
   "source": [
    "max(all_other_x0,key=lambda x: x[0])"
   ]
  },
  {
   "cell_type": "code",
   "execution_count": 2,
   "metadata": {},
   "outputs": [],
   "source": [
    "load_log_dir = \"/home/nbuckman/mpc_results/d1dh-0h64-20200918-160320/\"\n",
    "with open(load_log_dir + \"params.json\",'rb') as fp:\n",
    "    params = json.load(fp)"
   ]
  },
  {
   "cell_type": "code",
   "execution_count": 3,
   "metadata": {},
   "outputs": [],
   "source": [
    "params[\"svo_theta\"] = np.pi/3.0\n",
    "no_grass = False\n",
    "random_lane = False\n",
    "x_variance = 1.0\n",
    "list_of_positions = None\n",
    "params[\"n_lanes\"] = 2\n",
    "params[\"n_other\"] = 100"
   ]
  },
  {
   "cell_type": "code",
   "execution_count": 4,
   "metadata": {},
   "outputs": [],
   "source": [
    "world = tw.TrafficWorld(params[\"n_lanes\"], 0, 999999)"
   ]
  },
  {
   "cell_type": "code",
   "execution_count": 5,
   "metadata": {},
   "outputs": [],
   "source": [
    "params[\"car_density\"] = [5000, \n",
    "params[\"random_svo\"] = True"
   ]
  },
  {
   "cell_type": "code",
   "execution_count": 6,
   "metadata": {},
   "outputs": [],
   "source": [
    "# This should be replaced with random placement\n",
    "MAX_VELOCITY = 25 * 0.447 # m/s\n",
    "VEHICLE_LENGTH = 4.5 #m\n",
    "time_duration_s = (params[\"n_other\"] * 3600.0 / params[\"car_density\"] ) * 5 # amount of time to generate traffic\n",
    "initial_vehicle_positions = helper.poission_positions(params[\"car_density\"], int(time_duration_s), params[\"n_lanes\"] , MAX_VELOCITY, VEHICLE_LENGTH)\n",
    "position_list = initial_vehicle_positions[:params[\"n_other\"]]\n",
    "if params['random_svo']:\n",
    "    list_of_svo = [np.random.choice([0, np.pi/4.0, np.pi/2.01]) for i in range(params[\"n_other\"])]\n",
    "else:\n",
    "    list_of_svo = None\n",
    "amb_MPC, amb_x0, all_other_MPC, all_other_x0 = helper.initialize_cars_from_positions(params[\"N\"], params[\"dt\"], world, params[\"svo_theta\"], \n",
    "                                                            True, \n",
    "                                                            position_list, list_of_svo)    "
   ]
  },
  {
   "cell_type": "code",
   "execution_count": 9,
   "metadata": {},
   "outputs": [
    {
     "data": {
      "image/png": "[encoded data removed]",
      "text/plain": [
       "<Figure size 1920x1080 with 1 Axes>"
      ]
     },
     "metadata": {
      "needs_background": "light"
     },
     "output_type": "display_data"
    }
   ],
   "source": [
    "amb_x0 = amb_x0.reshape(6,1)\n",
    "all_other_x0 = [x.reshape(6,1) for x in all_other_x0]\n",
    "\n",
    "cmplot.plot_multiple_cars(0, world, amb_MPC, amb_x0, all_other_x0, None, 'Ellipse', None, None, None, [0, 650])\n",
    "plt.show()"
   ]
  },
  {
   "cell_type": "code",
   "execution_count": 92,
   "metadata": {},
   "outputs": [
    {
     "data": {
      "text/plain": [
       "100"
      ]
     },
     "execution_count": 92,
     "metadata": {},
     "output_type": "execute_result"
    }
   ],
   "source": [
    "len(all_other_x0)"
   ]
  },
  {
   "cell_type": "code",
   "execution_count": 34,
   "metadata": {},
   "outputs": [
    {
     "ename": "TypeError",
     "evalue": "'float' object cannot be interpreted as an integer",
     "output_type": "error",
     "traceback": [
      "\u001b[0;31m---------------------------------------------------------------------------\u001b[0m",
      "\u001b[0;31mTypeError\u001b[0m                                 Traceback (most recent call last)",
      "\u001b[0;32m<ipython-input-34-ff6de3bdd837>\u001b[0m in \u001b[0;36m<module>\u001b[0;34m\u001b[0m\n\u001b[1;32m      5\u001b[0m \u001b[0mcars_per_dt\u001b[0m \u001b[0;34m=\u001b[0m \u001b[0mcars_per_second\u001b[0m \u001b[0;34m*\u001b[0m \u001b[0mdt\u001b[0m\u001b[0;34m\u001b[0m\u001b[0;34m\u001b[0m\u001b[0m\n\u001b[1;32m      6\u001b[0m \u001b[0mrng\u001b[0m \u001b[0;34m=\u001b[0m \u001b[0mnp\u001b[0m\u001b[0;34m.\u001b[0m\u001b[0mrandom\u001b[0m\u001b[0;34m.\u001b[0m\u001b[0mdefault_rng\u001b[0m\u001b[0;34m(\u001b[0m\u001b[0;34m)\u001b[0m\u001b[0;34m\u001b[0m\u001b[0;34m\u001b[0m\u001b[0m\n\u001b[0;32m----> 7\u001b[0;31m \u001b[0mn_cars_per_second\u001b[0m \u001b[0;34m=\u001b[0m \u001b[0mrng\u001b[0m\u001b[0;34m.\u001b[0m\u001b[0mpoisson\u001b[0m\u001b[0;34m(\u001b[0m\u001b[0mcars_per_second\u001b[0m\u001b[0;34m,\u001b[0m \u001b[0mtotal_seconds\u001b[0m\u001b[0;34m)\u001b[0m\u001b[0;34m\u001b[0m\u001b[0;34m\u001b[0m\u001b[0m\n\u001b[0m\u001b[1;32m      8\u001b[0m \u001b[0mtotal_dt\u001b[0m \u001b[0;34m=\u001b[0m \u001b[0mint\u001b[0m\u001b[0;34m(\u001b[0m\u001b[0mtotal_seconds\u001b[0m \u001b[0;34m/\u001b[0m \u001b[0mdt\u001b[0m\u001b[0;34m)\u001b[0m\u001b[0;34m\u001b[0m\u001b[0;34m\u001b[0m\u001b[0m\n\u001b[1;32m      9\u001b[0m \u001b[0mn_cars_per_dt\u001b[0m \u001b[0;34m=\u001b[0m \u001b[0mrng\u001b[0m\u001b[0;34m.\u001b[0m\u001b[0mpoisson\u001b[0m\u001b[0;34m(\u001b[0m\u001b[0mcars_per_dt\u001b[0m\u001b[0;34m,\u001b[0m \u001b[0mtotal_dt\u001b[0m\u001b[0;34m)\u001b[0m\u001b[0;34m\u001b[0m\u001b[0;34m\u001b[0m\u001b[0m\n",
      "\u001b[0;32m_generator.pyx\u001b[0m in \u001b[0;36mnumpy.random._generator.Generator.poisson\u001b[0;34m()\u001b[0m\n",
      "\u001b[0;32m_common.pyx\u001b[0m in \u001b[0;36mnumpy.random._common.disc\u001b[0;34m()\u001b[0m\n",
      "\u001b[0;31mTypeError\u001b[0m: 'float' object cannot be interpreted as an integer"
     ]
    }
   ],
   "source": [
    "cars_per_hour = 5000\n",
    "total_seconds = time_duration_s\n",
    "cars_per_second = cars_per_hour / 3600.0\n",
    "dt = 0.20\n",
    "cars_per_dt = cars_per_second * dt\n",
    "rng = np.random.default_rng()\n",
    "n_cars_per_second = rng.poisson(cars_per_second, total_seconds)\n",
    "total_dt = int(total_seconds / dt)\n",
    "n_cars_per_dt = rng.poisson(cars_per_dt, total_dt)\n",
    "\n",
    "\n",
    "vehicle_x_distance = [[(rng.uniform(0.95, 1.0)*average_velocity)*(s + rng.uniform(0,1))]*n_cars_per_second[s] for s in range(len(n_cars_per_second))]\n",
    "vehicle_x_distance = [[(rng.uniform(0.95, 1.0)*average_velocity)*(s*dt)]*n_cars_per_dt[s] for s in range(len(n_cars_per_second))]\n",
    "\n",
    "\n",
    "all_vehicle_positions = []\n",
    "\n",
    "### Random place vehicles in the lanes\n",
    "for s in range(len(vehicle_x_distance)):\n",
    "    if len(vehicle_x_distance[s]) == 0:\n",
    "        continue\n",
    "    else:\n",
    "        for j in range(len(vehicle_x_distance[s])):\n",
    "            all_vehicle_positions += [(rng.integers(0, n_lanes), vehicle_x_distance[s][j])]\n",
    "\n",
    "# Remove cars that would have collided\n",
    "prev_car_lane = -9999 * np.ones((n_lanes,1))\n",
    "prev_car_lane[0] = 0.0\n",
    "initial_vehicle_positions = []\n",
    "for (lane, x) in all_vehicle_positions:\n",
    "    if x > prev_car_lane[lane] + 1.4*car_length:\n",
    "        initial_vehicle_positions += [(lane, float(x))]\n",
    "        prev_car_lane[lane] = x\n"
   ]
  },
  {
   "cell_type": "code",
   "execution_count": null,
   "metadata": {},
   "outputs": [],
   "source": []
  },
  {
   "cell_type": "code",
   "execution_count": null,
   "metadata": {
    "scrolled": true
   },
   "outputs": [],
   "source": []
  },
  {
   "cell_type": "code",
   "execution_count": 8,
   "metadata": {},
   "outputs": [],
   "source": [
    "import numpy as np\n"
   ]
  },
  {
   "cell_type": "code",
   "execution_count": 9,
   "metadata": {},
   "outputs": [
    {
     "name": "stdout",
     "output_type": "stream",
     "text": [
      "0.1388888888888889\n"
     ]
    }
   ],
   "source": [
    "cars_per_hour = 500 #cars per hour\n",
    "cars_per_second = cars_per_hour / 3600.0\n",
    "total_minutes = 15\n",
    "total_seconds = total_minutes * 60\n",
    "print(cars_per_second)"
   ]
  },
  {
   "cell_type": "code",
   "execution_count": 10,
   "metadata": {},
   "outputs": [],
   "source": [
    "average_velocity = all_other_x0[4][4]"
   ]
  },
  {
   "cell_type": "code",
   "execution_count": 93,
   "metadata": {},
   "outputs": [],
   "source": [
    "def poission_positions(cars_per_hour, total_seconds, n_lanes, average_velocity, car_length):\n",
    "    cars_per_second = cars_per_hour / 3600.0\n",
    "    rng = np.random.default_rng()\n",
    "    n_cars_per_second = rng.poisson(cars_per_second, total_seconds)\n",
    "    \n",
    "    vehicle_x_distance = [[average_velocity*(s + rng.uniform(0,1))]*n_cars_per_second[s] for s in range(len(n_cars_per_second))]\n",
    "    \n",
    "    all_vehicle_positions = []\n",
    "    for s in range(len(vehicle_x_distance)):\n",
    "        if len(vehicle_x_distance[s]) == 0:\n",
    "            continue\n",
    "        else:\n",
    "            for j in range(len(vehicle_x_distance[s])):\n",
    "                all_vehicle_positions += [(rng.integers(0, n_lanes), vehicle_x_distance[s][j])]\n",
    "\n",
    "#     all_vehicle_positions = [(x, rng.integers(0,params[\"n_lanes\"])) for x in all_vehicle_distances]\n",
    "\n",
    "    # Remove cars that would have collided\n",
    "    prev_car_lane = -9999 * np.ones(n_lanes)\n",
    "    prev_car_lane[0] = 0.0\n",
    "    initial_vehicle_positions = []\n",
    "    for (lane, x) in all_vehicle_positions:\n",
    "        if x > prev_car_lane[lane] + 1.1*car_length:\n",
    "            initial_vehicle_positions += [(lane, float(x))]\n",
    "            prev_car_lane[lane] = x\n",
    "\n",
    "    return initial_vehicle_positions\n",
    "    # counter = 0\n",
    "    # for x in all_vehicle_distances:\n",
    "    #     if counter == 0:\n",
    "    #         lane = 0\n",
    "    #     elif x > (all_vehicle_positions[counter - 1][0] + 1.1*amb_MPC.L):\n",
    "    #         # Vehicle is sufficiently far away, place in lane 0\n",
    "    #         lane = rng.integers(0, 2)\n",
    "    #     else:\n",
    "    #         lane = 1 - all_vehicle_positions[counter-1][1]\n",
    "    #     all_vehicle_positions += [(x, lane)]\n",
    "    #     counter += 1"
   ]
  },
  {
   "cell_type": "code",
   "execution_count": 104,
   "metadata": {},
   "outputs": [],
   "source": [
    "params[\"n_lanes\"] = 2\n",
    "world = tw.TrafficWorld(params[\"n_lanes\"], 0, 999999)"
   ]
  },
  {
   "cell_type": "code",
   "execution_count": 105,
   "metadata": {},
   "outputs": [],
   "source": [
    "initial_vehicle_positions = poission_positions(3000, 5 * 60, params[\"n_lanes\"] , all_other_x0[0][4], all_other_MPC[0].L)\n",
    "amb_MPC, x0_amb, all_other_MPC, all_other_x0 = helper.initialize_cars_from_positions(params[\"N\"], params[\"dt\"], world, params[\"svo_theta\"], \n",
    "                                                               no_grass, \n",
    "                                                               initial_vehicle_positions)"
   ]
  },
  {
   "cell_type": "code",
   "execution_count": 106,
   "metadata": {},
   "outputs": [
    {
     "data": {
      "image/png": "[encoded data removed]",
      "text/plain": [
       "<Figure size 1920x1080 with 1 Axes>"
      ]
     },
     "metadata": {
      "needs_background": "light"
     },
     "output_type": "display_data"
    }
   ],
   "source": [
    "x0_amb = x0_amb.reshape(6,1)\n",
    "all_other_x0 = [x.reshape(6,1) for x in all_other_x0]\n",
    "\n",
    "cmplot.plot_multiple_cars(0, world, amb_MPC, x0_amb, all_other_x0, None)\n",
    "plt.show()"
   ]
  },
  {
   "cell_type": "code",
   "execution_count": 107,
   "metadata": {},
   "outputs": [
    {
     "data": {
      "text/plain": [
       "195"
      ]
     },
     "execution_count": 107,
     "metadata": {},
     "output_type": "execute_result"
    }
   ],
   "source": [
    "len(all_other_x0)"
   ]
  },
  {
   "cell_type": "code",
   "execution_count": 108,
   "metadata": {},
   "outputs": [
    {
     "data": {
      "text/plain": [
       "250.0"
      ]
     },
     "execution_count": 108,
     "metadata": {},
     "output_type": "execute_result"
    }
   ],
   "source": [
    "3000 / 60 * 5"
   ]
  },
  {
   "cell_type": "code",
   "execution_count": null,
   "metadata": {},
   "outputs": [],
   "source": []
  }
 ],
 "metadata": {
  "kernelspec": {
   "display_name": "Python 3",
   "language": "python",
   "name": "python3"
  },
  "language_info": {
   "codemirror_mode": {
    "name": "ipython",
    "version": 3
   },
   "file_extension": ".py",
   "mimetype": "text/x-python",
   "name": "python",
   "nbconvert_exporter": "python",
   "pygments_lexer": "ipython3",
   "version": "3.7.4"
  }
 },
 "nbformat": 4,
 "nbformat_minor": 4
}
