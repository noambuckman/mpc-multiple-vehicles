{
 "cells": [
  {
   "cell_type": "code",
   "execution_count": 2,
   "metadata": {},
   "outputs": [
    {
     "name": "stdout",
     "output_type": "stream",
     "text": [
      "The autoreload extension is already loaded. To reload it, use:\n",
      "  %reload_ext autoreload\n"
     ]
    }
   ],
   "source": [
    "%load_ext autoreload\n",
    "%autoreload 2\n",
    "\n",
    "import datetime\n",
    "import os, sys\n",
    "import numpy as np\n",
    "import matplotlib.pyplot as plt\n",
    "import matplotlib.patches as patches\n",
    "\n",
    "import casadi as cas\n",
    "import pickle\n",
    "import copy as cp\n",
    "import scipy.optimize\n",
    "\n",
    "import argparse\n",
    "\n",
    "\n",
    "import src.multiagent_mpc as mpc\n",
    "import src.traffic_world as tw\n",
    "import src.utils.plotting.car_plotting as cmplot\n",
    "\n",
    "np.set_printoptions(precision=2)"
   ]
  },
  {
   "cell_type": "code",
   "execution_count": 3,
   "metadata": {},
   "outputs": [],
   "source": [
    "x_e, y_e = 0,0\n",
    "r = 1.5"
   ]
  },
  {
   "cell_type": "code",
   "execution_count": 5,
   "metadata": {},
   "outputs": [],
   "source": [
    "W = 1.8\n",
    "L = 4.5\n",
    "\n",
    "n_circles = 3"
   ]
  },
  {
   "cell_type": "markdown",
   "metadata": {},
   "source": [
    "## Calculate Circles"
   ]
  },
  {
   "cell_type": "code",
   "execution_count": 6,
   "metadata": {},
   "outputs": [
    {
     "name": "stdout",
     "output_type": "stream",
     "text": [
      "\n",
      "******************************************************************************\n",
      "This program contains Ipopt, a library for large-scale nonlinear optimization.\n",
      " Ipopt is released as open source code under the Eclipse Public License (EPL).\n",
      "         For more information visit https://github.com/coin-or/Ipopt\n",
      "******************************************************************************\n",
      "\n",
      "      solver  :   t_proc      (avg)   t_wall      (avg)    n_eval\n",
      "       nlp_f  |  52.00us (  2.08us)  50.63us (  2.03us)        25\n",
      "       nlp_g  |  99.00us (  3.96us)  95.08us (  3.80us)        25\n",
      "  nlp_grad_f  |  64.00us (  3.37us)  59.54us (  3.13us)        19\n",
      "  nlp_hess_l  |  95.00us (  5.59us)  93.87us (  5.52us)        17\n",
      "   nlp_jac_g  | 128.00us (  6.74us) 128.63us (  6.77us)        19\n",
      "       total  |   7.99ms (  7.99ms)   7.60ms (  7.60ms)         1\n",
      "1.1715374503193001 1.5000000000029359\n"
     ]
    }
   ],
   "source": [
    "opti = cas.Opti()\n",
    "r = opti.variable()\n",
    "dx = opti.variable()\n",
    "x_overlap = opti.variable()\n",
    "opti.minimize(r**2)\n",
    "\n",
    "opti.subject_to((W/2-0)**2 + (0-0)**2 <= r**2)\n",
    "opti.subject_to((W/2-0)**2 + (x_overlap-0)**2 <= r**2)\n",
    "opti.subject_to((W/2-0)**2 + (x_overlap-dx)**2 <= r**2)\n",
    "opti.subject_to((W/2-0)**2 + (L/2-dx)**2 <= r**2)\n",
    "\n",
    "opti.subject_to(opti.bounded(0,dx,L/2))\n",
    "opti.subject_to(r>0)\n",
    "opti.subject_to(opti.bounded(0,x_overlap, L/2))\n",
    "\n",
    "\n",
    "# opt.subject_to(opti.bounded(0, x_c1, x_overlap))\n",
    "# opt.subject_to(opti.bounded(x_overlap, x_c2, x_overlap))\n",
    "\n",
    "opti.solver('ipopt',{},{'print_level':1})\n",
    "sol = opti.solve()\n",
    "r_opt = sol.value(r)\n",
    "dx_opt = sol.value(dx)\n",
    "print(r_opt, dx_opt)"
   ]
  },
  {
   "cell_type": "code",
   "execution_count": 7,
   "metadata": {},
   "outputs": [
    {
     "data": {
      "text/plain": [
       "(-3.25, 3.25)"
      ]
     },
     "execution_count": 7,
     "metadata": {},
     "output_type": "execute_result"
    },
    {
     "data": {
      "image/png": "[encoded data removed]",
      "text/plain": [
       "<Figure size 432x288 with 1 Axes>"
      ]
     },
     "metadata": {
      "needs_background": "light"
     },
     "output_type": "display_data"
    }
   ],
   "source": [
    "x_e, y_e = 0, 0\n",
    "plt.plot(x_e, y_e)\n",
    "\n",
    "c1 = patches.Circle((x_e, y_e), radius=r_opt)\n",
    "c2 = patches.Circle((x_e+dx_opt, y_e), radius=r_opt)\n",
    "c3 = patches.Circle((x_e-dx_opt, y_e), radius=r_opt)\n",
    "\n",
    "ax = plt.gca()\n",
    "ax.axis('square')\n",
    "ax.add_patch(c1)\n",
    "ax.add_patch(c2)\n",
    "ax.add_patch(c3)\n",
    "rec = patches.Rectangle((x_e-L/2, y_e-W/2), L, W, fill=None, edgecolor='blue')\n",
    "ax.add_patch(rec)\n",
    "ax.set_ylim([-W/2-1, W/2+1])\n",
    "ax.set_xlim([-L/2-1, L/2+1])\n",
    "\n",
    "# ax.set_ylim([-10, 10])\n",
    "# ax.set_xlim([-10, 10])"
   ]
  },
  {
   "cell_type": "code",
   "execution_count": 8,
   "metadata": {},
   "outputs": [
    {
     "name": "stdout",
     "output_type": "stream",
     "text": [
      "      solver  :   t_proc      (avg)   t_wall      (avg)    n_eval\n",
      "       nlp_f  |  26.00us (  2.89us)  24.29us (  2.70us)         9\n",
      "       nlp_g  |  50.00us (  5.56us)  47.87us (  5.32us)         9\n",
      "    nlp_grad  |   7.00us (  7.00us)   6.78us (  6.78us)         1\n",
      "  nlp_grad_f  |  40.00us (  4.00us)  37.82us (  3.78us)        10\n",
      "  nlp_hess_l  |  45.00us (  5.63us)  43.94us (  5.49us)         8\n",
      "   nlp_jac_g  |  61.00us (  6.10us)  62.10us (  6.21us)        10\n",
      "       total  |   4.46ms (  4.46ms)   4.43ms (  4.43ms)         1\n",
      "1.464421812899125 1.0947808598616502\n"
     ]
    }
   ],
   "source": [
    "opti = cas.Opti()\n",
    "r = opti.parameter()\n",
    "dx = opti.variable()\n",
    "x_overlap = opti.variable()\n",
    "opti.minimize(dx)\n",
    "\n",
    "# opti.subject_to((W/2-0)**2 + (0-0)**2 <= r**2)\n",
    "opti.subject_to((W/2-0)**2 + (x_overlap-0)**2 <= r**2)\n",
    "opti.subject_to((W/2-0)**2 + (x_overlap-dx)**2 <= r**2)\n",
    "opti.subject_to((W/2-0)**2 + (L/2-dx)**2 <= r**2)\n",
    "\n",
    "opti.subject_to(opti.bounded(0,dx,L/2))\n",
    "# opti.subject_to(r>0)\n",
    "opti.subject_to(opti.bounded(0,x_overlap, L/2))\n",
    "\n",
    "\n",
    "opti.set_value(r, 1.25*r_opt)\n",
    "\n",
    "opti.solver('ipopt',{},{'print_level':1})\n",
    "sol = opti.solve()\n",
    "r_opt = sol.value(r)\n",
    "dx_opt = sol.value(dx)\n",
    "print(r_opt, dx_opt)"
   ]
  },
  {
   "cell_type": "code",
   "execution_count": 9,
   "metadata": {},
   "outputs": [
    {
     "data": {
      "text/plain": [
       "(-3.25, 3.25)"
      ]
     },
     "execution_count": 9,
     "metadata": {},
     "output_type": "execute_result"
    },
    {
     "data": {
      "image/png": "[encoded data removed]",
      "text/plain": [
       "<Figure size 432x288 with 1 Axes>"
      ]
     },
     "metadata": {
      "needs_background": "light"
     },
     "output_type": "display_data"
    }
   ],
   "source": [
    "x_e, y_e = 0, 0\n",
    "plt.plot(x_e, y_e)\n",
    "r, dx = 1.47, 1.15\n",
    "\n",
    "c1 = patches.Circle((x_e, y_e), radius=r)\n",
    "c2 = patches.Circle((x_e+dx, y_e), radius=r)\n",
    "c3 = patches.Circle((x_e-dx, y_e), radius=r)\n",
    "\n",
    "ax = plt.gca()\n",
    "ax.axis('square')\n",
    "ax.add_patch(c1)\n",
    "ax.add_patch(c2)\n",
    "ax.add_patch(c3)\n",
    "rec = patches.Rectangle((x_e-L/2, y_e-W/2), L, W, fill=None, edgecolor='blue')\n",
    "ax.add_patch(rec)\n",
    "ax.set_ylim([-W/2-1, W/2+1])\n",
    "ax.set_xlim([-L/2-1, L/2+1])\n",
    "\n",
    "# ax.set_ylim([-10, 10])\n",
    "# ax.set_xlim([-10, 10])"
   ]
  },
  {
   "cell_type": "code",
   "execution_count": 10,
   "metadata": {},
   "outputs": [
    {
     "name": "stdout",
     "output_type": "stream",
     "text": [
      "      solver  :   t_proc      (avg)   t_wall      (avg)    n_eval\n",
      "       nlp_f  | 129.00us (  2.69us) 124.92us (  2.60us)        48\n",
      "       nlp_g  | 264.00us (  5.08us) 256.02us (  4.92us)        52\n",
      "  nlp_grad_f  |  96.00us (  3.84us)  99.22us (  3.97us)        25\n",
      "  nlp_hess_l  | 154.00us (  5.50us) 156.54us (  5.59us)        28\n",
      "   nlp_jac_g  | 245.00us (  7.21us) 245.42us (  7.22us)        34\n",
      "       total  |  18.68ms ( 18.68ms)  18.56ms ( 18.56ms)         1\n",
      "1.4407029516912184 1.125\n"
     ]
    }
   ],
   "source": [
    "opti = cas.Opti()\n",
    "r = opti.variable()\n",
    "dx = opti.variable()\n",
    "# x_overlap = opti.variable()\n",
    "opti.minimize(r**2)\n",
    "\n",
    "opti.subject_to((W/2-0)**2 + (0-dx)**2 <= r**2)\n",
    "# opti.subject_to((W/2-0)**2 + (x_overlap-0)**2 <= r**2)\n",
    "# opti.subject_to((W/2-0)**2 + (x_overlap-dx)**2 <= r**2)\n",
    "opti.subject_to((W/2-0)**2 + (L/2-dx)**2 <= r**2)\n",
    "\n",
    "opti.subject_to(opti.bounded(0,dx,L/2))\n",
    "opti.subject_to(r>0)\n",
    "# opti.subject_to(opti.bounded(0,x_overlap, L/2))\n",
    "\n",
    "\n",
    "# opt.subject_to(opti.bounded(0, x_c1, x_overlap))\n",
    "# opt.subject_to(opti.bounded(x_overlap, x_c2, x_overlap))\n",
    "\n",
    "opti.solver('ipopt',{},{'print_level':1})\n",
    "sol = opti.solve()\n",
    "r_opt = sol.value(r)\n",
    "dx_opt = sol.value(dx)\n",
    "print(r_opt, dx_opt)"
   ]
  },
  {
   "cell_type": "code",
   "execution_count": 11,
   "metadata": {},
   "outputs": [
    {
     "data": {
      "text/plain": [
       "(-3.25, 3.25)"
      ]
     },
     "execution_count": 11,
     "metadata": {},
     "output_type": "execute_result"
    },
    {
     "data": {
      "image/png": "[encoded data removed]",
      "text/plain": [
       "<Figure size 432x288 with 1 Axes>"
      ]
     },
     "metadata": {
      "needs_background": "light"
     },
     "output_type": "display_data"
    }
   ],
   "source": [
    "x_e, y_e = 0, 0\n",
    "plt.plot(x_e, y_e)\n",
    "\n",
    "c1 = patches.Circle((x_e-dx_opt, y_e), radius=r_opt)\n",
    "c2 = patches.Circle((x_e+dx_opt, y_e), radius=r_opt)\n",
    "ax = plt.gca()\n",
    "ax.axis('square')\n",
    "ax.add_patch(c1)\n",
    "ax.add_patch(c2)\n",
    "# ax.add_patch(c3)\n",
    "rec = patches.Rectangle((x_e-L/2, y_e-W/2), L, W, fill=None, edgecolor='blue')\n",
    "ax.add_patch(rec)\n",
    "ax.set_ylim([-W/2-1, W/2+1])\n",
    "ax.set_xlim([-L/2-1, L/2+1])\n",
    "\n",
    "# ax.set_ylim([-10, 10])\n",
    "# ax.set_xlim([-10, 10])"
   ]
  },
  {
   "cell_type": "code",
   "execution_count": 33,
   "metadata": {},
   "outputs": [
    {
     "data": {
      "text/plain": [
       "(-3.25, 3.25)"
      ]
     },
     "execution_count": 33,
     "metadata": {},
     "output_type": "execute_result"
    },
    {
     "data": {
      "image/png": "[encoded data removed]",
      "text/plain": [
       "<Figure size 432x288 with 1 Axes>"
      ]
     },
     "metadata": {
      "needs_background": "light"
     },
     "output_type": "display_data"
    }
   ],
   "source": [
    "x_e, y_e = 0, 0\n",
    "plt.plot(x_e, y_e)\n",
    "r, dx = 1.75, 0.77389\n",
    "c1 = patches.Circle((x_e-dx, y_e), radius=r)\n",
    "c2 = patches.Circle((x_e+dx, y_e), radius=r)\n",
    "ax = plt.gca()\n",
    "ax.axis('square')\n",
    "ax.add_patch(c1)\n",
    "ax.add_patch(c2)\n",
    "# ax.add_patch(c3)\n",
    "rec = patches.Rectangle((x_e-L/2, y_e-W/2), L, W, fill=None, edgecolor='blue')\n",
    "ax.add_patch(rec)\n",
    "ax.set_ylim([-W/2-1, W/2+1])\n",
    "ax.set_xlim([-L/2-1, L/2+1])\n",
    "\n",
    "# ax.set_ylim([-10, 10])\n",
    "# ax.set_xlim([-10, 10])"
   ]
  },
  {
   "cell_type": "markdown",
   "metadata": {},
   "source": [
    "## Calculate the Ellipse Obstacle"
   ]
  },
  {
   "cell_type": "code",
   "execution_count": 14,
   "metadata": {},
   "outputs": [],
   "source": [
    "def get_ellipse(L, W):\n",
    "    min_elipse_a =  lambda a: (1 - L**2/(2*a)**2 - W**2/(2*a + W - L)**2)\n",
    "    \n",
    "    ax = scipy.optimize.fsolve(min_elipse_a, L/2.0)\n",
    "    by = ax + .5*(W-L)\n",
    "    return ax, by"
   ]
  },
  {
   "cell_type": "code",
   "execution_count": 25,
   "metadata": {},
   "outputs": [],
   "source": [
    "a, b = get_ellipse(L, W)"
   ]
  },
  {
   "cell_type": "markdown",
   "metadata": {},
   "source": [
    "## Draw Ellipse"
   ]
  },
  {
   "cell_type": "code",
   "execution_count": 92,
   "metadata": {},
   "outputs": [
    {
     "name": "stdout",
     "output_type": "stream",
     "text": [
      "      solver  :   t_proc      (avg)   t_wall      (avg)    n_eval\n",
      "       nlp_f  | 236.00us (  4.14us) 233.12us (  4.09us)        57\n",
      "       nlp_g  | 505.00us (  8.86us) 495.21us (  8.69us)        57\n",
      "  nlp_grad_f  | 246.00us (  6.15us) 243.09us (  6.08us)        40\n",
      "  nlp_hess_l  | 298.00us (  7.64us) 299.32us (  7.67us)        39\n",
      "   nlp_jac_g  | 498.00us ( 10.60us) 497.42us ( 10.58us)        47\n",
      "       total  |  40.29ms ( 40.29ms)  40.10ms ( 40.10ms)         1\n",
      "2.5348413508498657 2.0564654362975143\n"
     ]
    }
   ],
   "source": [
    "a, b = get_ellipse(L, W)\n",
    "\n",
    "opti = cas.Opti()\n",
    "r = opti.variable()\n",
    "dx = opti.variable()\n",
    "opti.minimize(r**2 + dx**2)\n",
    "\n",
    "# opti.subject_to(r>=a)\n",
    "# opti.subject_to(r>=b)\n",
    "opti.subject_to(dx>=0)\n",
    "# opti.subject_to(opti.bounded(0,dx,b))\n",
    "\n",
    "costheta = opti.variable()\n",
    "sintheta = opti.variable()\n",
    "opti.subject_to(costheta == a*dx/(a**2-b**2))\n",
    "opti.subject_to(costheta**2 + sintheta**2 == 1)\n",
    "\n",
    "\n",
    "# opti.subject_to(a**2 * costheta**2 - 2*a*costheta*dx + dx**2 + b**2*sintheta**2 <= r**2)\n",
    "opti.subject_to(dx**2 + b**2 <=r**2)\n",
    "\n",
    "opti.subject_to((a-dx)**2 <= r**2)\n",
    "\n",
    "# opti.subject_to(opti.bounded(0,dx,L/2))\n",
    "# opti.subject_to(r>0)\n",
    "# opti.subject_to(opti.bounded(0,x_overlap, L/2))\n",
    "\n",
    "\n",
    "# opt.subject_to(opti.bounded(0, x_c1, x_overlap))\n",
    "# opt.subject_to(opti.bounded(x_overlap, x_c2, x_overlap))\n",
    "\n",
    "opti.solver('ipopt',{},{'print_level':1})\n",
    "opti.set_initial(r, W/2.0)\n",
    "opti.set_initial(dx, 0)\n",
    "sol = opti.solve()\n",
    "r_opt = sol.value(r)\n",
    "dx_opt = sol.value(dx)\n",
    "print(r_opt, dx_opt)"
   ]
  },
  {
   "cell_type": "code",
   "execution_count": 93,
   "metadata": {},
   "outputs": [
    {
     "data": {
      "text/plain": [
       "array([6.43])"
      ]
     },
     "execution_count": 93,
     "metadata": {},
     "output_type": "execute_result"
    }
   ],
   "source": [
    "(0,b), (dx,0)\n",
    "b**2 + dx_opt**2"
   ]
  },
  {
   "cell_type": "code",
   "execution_count": 113,
   "metadata": {},
   "outputs": [
    {
     "data": {
      "text/plain": [
       "<matplotlib.patches.Circle at 0x7f90dc09efd0>"
      ]
     },
     "execution_count": 113,
     "metadata": {},
     "output_type": "execute_result"
    },
    {
     "data": {
      "image/png": "[encoded data removed]",
      "text/plain": [
       "<Figure size 432x288 with 1 Axes>"
      ]
     },
     "metadata": {
      "needs_background": "light"
     },
     "output_type": "display_data"
    }
   ],
   "source": [
    "plt.plot(x_e, y_e)\n",
    "ax = plt.gca()\n",
    "ax.axis('square')\n",
    "plt.xlim([-5, 5])\n",
    "plt.ylim([-3, 3])\n",
    "\n",
    "W = 1.8\n",
    "L = 4.5\n",
    "x_o, y_o = 0, 0\n",
    "rec = patches.Rectangle((x_e-L/2, x_e-W/2), L, W, fill=None, edgecolor='blue')\n",
    "ax.add_patch(rec)\n",
    "e = patches.Ellipse((x_e, x_e), 2*a, 2*b, fill=False, edgecolor='red')\n",
    "ax.add_patch(e)\n",
    "\n",
    "\n",
    "e1 = patches.Circle((x_e+dx_opt/2, y_e), r_opt/1.35, fill=False, edgecolor='green')\n",
    "e2 = patches.Circle((x_e-dx_opt/2, y_e), r_opt/1.35, fill=False, edgecolor='green')\n",
    "\n",
    "ax.add_patch(e1)\n",
    "ax.add_patch(e2)"
   ]
  },
  {
   "cell_type": "code",
   "execution_count": 117,
   "metadata": {},
   "outputs": [
    {
     "data": {
      "text/plain": [
       "<matplotlib.patches.Circle at 0x7f90dc78deb0>"
      ]
     },
     "execution_count": 117,
     "metadata": {},
     "output_type": "execute_result"
    },
    {
     "data": {
      "image/png": "[encoded data removed]",
      "text/plain": [
       "<Figure size 432x288 with 1 Axes>"
      ]
     },
     "metadata": {
      "needs_background": "light"
     },
     "output_type": "display_data"
    }
   ],
   "source": [
    "plt.plot(x_e, y_e)\n",
    "ax = plt.gca()\n",
    "ax.axis('square')\n",
    "plt.xlim([-5, 5])\n",
    "plt.ylim([-3, 3])\n",
    "\n",
    "W = 1.8\n",
    "L = 4.5\n",
    "x_o, y_o = 0, 0\n",
    "rec = patches.Rectangle((x_e-L/2, x_e-W/2), L, W, fill=None, edgecolor='blue')\n",
    "ax.add_patch(rec)\n",
    "e = patches.Ellipse((x_e, x_e), 2*a, 2*b, fill=False, edgecolor='red')\n",
    "ax.add_patch(e)\n",
    "\n",
    "dx = 1.028\n",
    "r = 1.878\n",
    "e1 = patches.Circle((x_e+dx, y_e), r, fill=False, edgecolor='green')\n",
    "e2 = patches.Circle((x_e-dx, y_e), r, fill=False, edgecolor='green')\n",
    "\n",
    "ax.add_patch(e1)\n",
    "ax.add_patch(e2)"
   ]
  },
  {
   "cell_type": "code",
   "execution_count": 114,
   "metadata": {},
   "outputs": [
    {
     "data": {
      "text/plain": [
       "(2.0564654362975143, 2.5348413508498657)"
      ]
     },
     "execution_count": 114,
     "metadata": {},
     "output_type": "execute_result"
    }
   ],
   "source": [
    "dx_opt, r_opt"
   ]
  },
  {
   "cell_type": "code",
   "execution_count": 116,
   "metadata": {},
   "outputs": [
    {
     "data": {
      "text/plain": [
       "1.8776602598887893"
      ]
     },
     "execution_count": 116,
     "metadata": {},
     "output_type": "execute_result"
    }
   ],
   "source": [
    "r_opt/1.35"
   ]
  },
  {
   "cell_type": "markdown",
   "metadata": {},
   "source": [
    "# "
   ]
  },
  {
   "cell_type": "code",
   "execution_count": 16,
   "metadata": {},
   "outputs": [],
   "source": [
    "def get_collision_ellipse(r, L, W):\n",
    "    a, b = get_ellipse(L, W)\n",
    "    minimal_positive_root = lambda delta: (2*(delta + r)**2*(2*a*b + a*(delta + r) + b*(delta + r)))/((a + b)*(a + b + 2*delta + 2*r))-r**2\n",
    "    delta = scipy.optimize.fsolve(minimal_positive_root, r)\n",
    "    a_new = a+delta+r\n",
    "    b_new = b+delta+r\n",
    "    return a_new, b_new, delta, a, b"
   ]
  },
  {
   "cell_type": "code",
   "execution_count": 17,
   "metadata": {},
   "outputs": [],
   "source": [
    "x_o, y_o = 4,0\n",
    "phi_o = 0.0 * np.pi/180"
   ]
  },
  {
   "cell_type": "code",
   "execution_count": 18,
   "metadata": {},
   "outputs": [],
   "source": [
    "dx = x_o - x_e\n",
    "dy = y_o - y_o"
   ]
  },
  {
   "cell_type": "code",
   "execution_count": 19,
   "metadata": {},
   "outputs": [],
   "source": [
    "alpha = 4.3767\n",
    "beta = 3.0267"
   ]
  },
  {
   "cell_type": "code",
   "execution_count": 20,
   "metadata": {},
   "outputs": [],
   "source": [
    "def R(phi):\n",
    "    return np.array([[np.cos(phi), 0],[0, np.sin(phi)]])"
   ]
  },
  {
   "cell_type": "code",
   "execution_count": 21,
   "metadata": {},
   "outputs": [],
   "source": [
    "R_o = R(phi_o)"
   ]
  },
  {
   "cell_type": "code",
   "execution_count": 22,
   "metadata": {},
   "outputs": [],
   "source": [
    "collision_free = (np.array([[dx],[dy]]).T @ R_o.T @ np.array([[1/alpha**2, 0],[0, 1/beta**2]]) @ R_o @ np.array([[dx],[dy]])) > 1"
   ]
  },
  {
   "cell_type": "code",
   "execution_count": 23,
   "metadata": {},
   "outputs": [
    {
     "data": {
      "text/plain": [
       "array([[False]])"
      ]
     },
     "execution_count": 23,
     "metadata": {},
     "output_type": "execute_result"
    }
   ],
   "source": [
    "collision_free"
   ]
  },
  {
   "cell_type": "code",
   "execution_count": 24,
   "metadata": {},
   "outputs": [
    {
     "data": {
      "text/plain": [
       "<matplotlib.patches.Ellipse at 0x7f90dd1f2f40>"
      ]
     },
     "execution_count": 24,
     "metadata": {},
     "output_type": "execute_result"
    },
    {
     "data": {
      "image/png": "[encoded data removed]",
      "text/plain": [
       "<Figure size 432x288 with 1 Axes>"
      ]
     },
     "metadata": {
      "needs_background": "light"
     },
     "output_type": "display_data"
    }
   ],
   "source": [
    "plt.plot(x_e, y_e)\n",
    "c = patches.Circle((x_e, y_e), radius=r)\n",
    "ax = plt.gca()\n",
    "ax.axis('square')\n",
    "ax.add_patch(c)\n",
    "plt.xlim([-5, 10])\n",
    "plt.ylim([-2.5, 7.5])\n",
    "\n",
    "plt.plot(x_o, y_o)\n",
    "a = 2.832\n",
    "b = 1.4820\n",
    "\n",
    "\n",
    "# a_val = 4.5\n",
    "# b_val = 1.8\n",
    "W = 1.8\n",
    "L = 4.5\n",
    "rec = patches.Rectangle((x_o-L/2, y_o-W/2), L, W, fill=None, edgecolor='blue')\n",
    "ax.add_patch(rec)\n",
    "a_val = 2.832\n",
    "b_val = 1.4820\n",
    "# a_val, b_val = 3.897114298575689, 1.1022703788869466\n",
    "e = patches.Ellipse((x_o, y_o), 2*a_val, 2*b_val, fill=False, edgecolor='red')\n",
    "ax.add_patch(e)"
   ]
  },
  {
   "cell_type": "code",
   "execution_count": 13,
   "metadata": {},
   "outputs": [
    {
     "name": "stdout",
     "output_type": "stream",
     "text": [
      "[[False]]\n"
     ]
    },
    {
     "data": {
      "image/png": "[encoded data removed]",
      "text/plain": [
       "<Figure size 432x288 with 1 Axes>"
      ]
     },
     "metadata": {
      "needs_background": "light"
     },
     "output_type": "display_data"
    }
   ],
   "source": [
    "### Another way to see it as following\n",
    "plt.plot(x_e, y_e,'o')\n",
    "c = patches.Circle((x_e, y_e), radius=r, fill=None)\n",
    "ax = plt.gca()\n",
    "ax.axis('square')\n",
    "ax.add_patch(c)\n",
    "plt.xlim([-5, 10])\n",
    "plt.ylim([-2.5, 7.5])\n",
    "\n",
    "plt.plot(x_o, y_o)\n",
    "a = 2.832\n",
    "b = 1.4820\n",
    "\n",
    "\n",
    "# a_val = 4.5\n",
    "# b_val = 1.8\n",
    "W = 1.8\n",
    "L = 4.5\n",
    "rec = patches.Rectangle((x_o-L/2, y_o-W/2), L, W, fill=None, edgecolor='blue')\n",
    "ax.add_patch(rec)\n",
    "a_val = 2.832\n",
    "b_val = 1.4820\n",
    "\n",
    "delta = 0.0447\n",
    "\n",
    "\n",
    "# a_val, b_val = 3.897114298575689, 1.1022703788869466\n",
    "e = patches.Ellipse((x_o, y_o), 2*(a_val), 2*(b_val), fill=False, edgecolor='green')\n",
    "e_b = patches.Ellipse((x_o, y_o), 2*(a_val+delta+r), 2*(b_val+delta+r), fill=False, edgecolor='red')\n",
    "ax.add_patch(e)\n",
    "ax.add_patch(e_b)\n",
    "\n",
    "collision_free = (np.array([[dx],[dy]]).T @ R_o.T @ np.array([[1/alpha**2, 0],[0, 1/beta**2]]) @ R_o @ np.array([[dx],[dy]])) > 1\n",
    "print(collision_free)"
   ]
  },
  {
   "cell_type": "code",
   "execution_count": 47,
   "metadata": {},
   "outputs": [
    {
     "data": {
      "text/plain": [
       "array([[4.0, 0],\n",
       "       [0, array([0.])]], dtype=object)"
      ]
     },
     "execution_count": 47,
     "metadata": {},
     "output_type": "execute_result"
    }
   ],
   "source": []
  },
  {
   "cell_type": "code",
   "execution_count": 96,
   "metadata": {},
   "outputs": [],
   "source": [
    "import casadi as cas"
   ]
  },
  {
   "cell_type": "code",
   "execution_count": 153,
   "metadata": {},
   "outputs": [],
   "source": [
    "opti = cas.Opti()\n",
    "a = opti.variable()\n",
    "b = opti.variable()\n",
    "opti.minimize(a*b**2)\n",
    "opti.subject_to( ((L/2)**2/a**2 + (W/2)**2/b**2) <= 1)\n",
    "opti.subject_to(a>0)\n",
    "opti.subject_to(b>0)\n",
    "opti.solver('ipopt')"
   ]
  },
  {
   "cell_type": "code",
   "execution_count": 154,
   "metadata": {},
   "outputs": [
    {
     "name": "stdout",
     "output_type": "stream",
     "text": [
      "This is Ipopt version 3.12.3, running with linear solver mumps.\n",
      "NOTE: Other linear solvers might be more efficient (see Ipopt documentation).\n",
      "\n",
      "Number of nonzeros in equality constraint Jacobian...:        0\n",
      "Number of nonzeros in inequality constraint Jacobian.:        4\n",
      "Number of nonzeros in Lagrangian Hessian.............:        3\n",
      "\n",
      "Total number of variables............................:        2\n",
      "                     variables with only lower bounds:        0\n",
      "                variables with lower and upper bounds:        0\n",
      "                     variables with only upper bounds:        0\n",
      "Total number of equality constraints.................:        0\n",
      "Total number of inequality constraints...............:        3\n",
      "        inequality constraints with only lower bounds:        2\n",
      "   inequality constraints with lower and upper bounds:        0\n",
      "        inequality constraints with only upper bounds:        1\n",
      "\n",
      "iter    objective    inf_pr   inf_du lg(mu)  ||d||  lg(rg) alpha_du alpha_pr  ls\n",
      "   0  2.2500000e+00 4.42e+00 9.64e-01  -1.0 0.00e+00    -  0.00e+00 0.00e+00   0\n",
      "   1  3.3439692e-04 3.60e+03 1.60e+04  -1.0 1.60e+00    -  6.96e-01 9.29e-01f  1\n",
      "   2  1.2741030e-03 1.60e+03 7.12e+03  -1.0 1.03e+00    -  1.00e+00 1.00e+00h  1\n",
      "   3  4.4591153e-03 7.10e+02 3.16e+03  -1.0 1.40e+00    -  1.00e+00 1.00e+00h  1\n",
      "   4  1.9602138e-02 3.15e+02 1.41e+03  -1.0 3.74e+00    -  1.00e+00 1.00e+00h  1\n",
      "   5  6.3106820e-02 1.40e+02 6.23e+02  -1.0 3.31e+00    -  1.00e+00 1.00e+00h  1\n",
      "   6  1.3437035e-01 6.18e+01 2.76e+02  -1.0 5.54e-01    -  1.00e+00 1.00e+00h  1\n",
      "   7  6.3614341e-02 2.81e+01 1.24e+02  -1.0 8.20e+00    -  1.00e+00 1.00e+00h  1\n",
      "   8  2.0649093e-01 1.22e+01 5.41e+01  -1.0 1.04e+00    -  1.00e+00 1.00e+00h  1\n",
      "   9  5.7324261e-01 5.15e+00 2.25e+01  -1.0 9.02e-01    -  1.00e+00 1.00e+00h  1\n",
      "iter    objective    inf_pr   inf_du lg(mu)  ||d||  lg(rg) alpha_du alpha_pr  ls\n",
      "  10  9.9280567e-01 2.21e+00 8.98e+00  -1.0 7.51e-01    -  1.00e+00 1.00e+00h  1\n",
      "  11  1.9841142e+00 8.32e-01 2.19e+00  -1.0 2.19e-01    -  1.00e+00 1.00e+00h  1\n",
      "  12  3.3671491e+00 2.55e-01 6.74e-01  -1.0 2.29e-01    -  1.00e+00 1.00e+00h  1\n",
      "  13  4.1988711e+00 8.34e-02 5.83e-01  -1.7 3.94e-01    -  1.00e+00 7.66e-01h  1\n",
      "  14  4.7237722e+00 1.58e-03 1.80e-01  -1.7 1.52e-01    -  1.00e+00 1.00e+00h  1\n",
      "  15  4.7371887e+00 0.00e+00 8.70e-04  -2.5 3.05e-03    -  1.00e+00 1.00e+00h  1\n",
      "  16  4.7351443e+00 0.00e+00 3.43e-07  -3.8 8.23e-04    -  1.00e+00 1.00e+00h  1\n",
      "  17  4.7349957e+00 0.00e+00 4.22e-09  -5.7 6.11e-05    -  1.00e+00 1.00e+00h  1\n",
      "  18  4.7349938e+00 0.00e+00 6.52e-13  -8.6 7.59e-07    -  1.00e+00 1.00e+00h  1\n",
      "\n",
      "Number of Iterations....: 18\n",
      "\n",
      "                                   (scaled)                 (unscaled)\n",
      "Objective...............:   4.7349938266727287e+00    4.7349938266727287e+00\n",
      "Dual infeasibility......:   6.5192296005989192e-13    6.5192296005989192e-13\n",
      "Constraint violation....:   0.0000000000000000e+00    0.0000000000000000e+00\n",
      "Complementarity.........:   2.5066230233939084e-09    2.5066230233939084e-09\n",
      "Overall NLP error.......:   2.5066230233939084e-09    2.5066230233939084e-09\n",
      "\n",
      "\n",
      "Number of objective function evaluations             = 19\n",
      "Number of objective gradient evaluations             = 19\n",
      "Number of equality constraint evaluations            = 0\n",
      "Number of inequality constraint evaluations          = 19\n",
      "Number of equality constraint Jacobian evaluations   = 0\n",
      "Number of inequality constraint Jacobian evaluations = 19\n",
      "Number of Lagrangian Hessian evaluations             = 18\n",
      "Total CPU secs in IPOPT (w/o function evaluations)   =      0.002\n",
      "Total CPU secs in NLP function evaluations           =      0.000\n",
      "\n",
      "EXIT: Optimal Solution Found.\n",
      "      solver  :   t_proc      (avg)   t_wall      (avg)    n_eval\n",
      "       nlp_f  |  68.00us (  3.58us)  79.40us (  4.18us)        19\n",
      "       nlp_g  | 148.00us (  7.79us) 141.04us (  7.42us)        19\n",
      "  nlp_grad_f  |  95.00us (  4.75us)  91.45us (  4.57us)        20\n",
      "  nlp_hess_l  | 228.00us ( 12.67us) 228.68us ( 12.70us)        18\n",
      "   nlp_jac_g  | 185.00us (  9.25us) 188.26us (  9.41us)        20\n",
      "       total  |  20.12ms ( 20.12ms)  17.84ms ( 17.84ms)         1\n"
     ]
    }
   ],
   "source": [
    "opti.set_initial(a, 1)\n",
    "opti.set_initial(b, 1.5)\n",
    "solution = opti.solve()"
   ]
  },
  {
   "cell_type": "code",
   "execution_count": 157,
   "metadata": {},
   "outputs": [
    {
     "name": "stdout",
     "output_type": "stream",
     "text": [
      "3.897114298575689 1.1022703788869466\n"
     ]
    }
   ],
   "source": [
    "a_val = solution.value(a)\n",
    "b_val = solution.value(b)\n",
    "print(a_val, b_val)"
   ]
  },
  {
   "cell_type": "code",
   "execution_count": 156,
   "metadata": {},
   "outputs": [
    {
     "data": {
      "text/plain": [
       "1.0000000096471355"
      ]
     },
     "execution_count": 156,
     "metadata": {},
     "output_type": "execute_result"
    }
   ],
   "source": [
    "(L/2)**2/a_val**2 + (W/2)**2/b_val**2"
   ]
  },
  {
   "cell_type": "code",
   "execution_count": 152,
   "metadata": {},
   "outputs": [
    {
     "data": {
      "text/plain": [
       "[<matplotlib.lines.Line2D at 0x7f6f43462ed0>]"
      ]
     },
     "execution_count": 152,
     "metadata": {},
     "output_type": "execute_result"
    },
    {
     "data": {
      "image/png": "[encoded data removed]",
      "text/plain": [
       "<Figure size 432x288 with 1 Axes>"
      ]
     },
     "metadata": {
      "needs_background": "light"
     },
     "output_type": "display_data"
    }
   ],
   "source": [
    "plt.plot([a_val*np.cos(t) for t in np.linspace(0, 2*np.pi, 50)], [b_val*np.sin(t) for t in np.linspace(0, 2*np.pi, 50)])"
   ]
  },
  {
   "cell_type": "markdown",
   "metadata": {},
   "source": [
    "## From MATLAB"
   ]
  },
  {
   "cell_type": "code",
   "execution_count": null,
   "metadata": {},
   "outputs": [],
   "source": []
  },
  {
   "cell_type": "code",
   "execution_count": null,
   "metadata": {},
   "outputs": [],
   "source": [
    "clear all \n",
    "close all\n",
    "clc \n",
    "\n",
    "%% \n",
    "W = 1.8;\n",
    "L = 4.5;\n",
    "\n",
    "min_elipse_box = @(a) (1 - L^2/(2*a)^2 - W^2/(2*a + W - L)^2) ;\n",
    "a = fzero(min_elipse_box, 10)\n",
    "b = a + 1/2*(W-L)\n",
    "t = 0:.1:2*pi;\n",
    "x = a*cos(t);\n",
    "y = b*sin(t);\n",
    "plot(x,y)\n",
    "rectangle('Position',[-L/2 -W/2 L W])\n",
    "axis('equal')\n",
    "hold on\n",
    " \n",
    "%% ellipsoid and circle dimensions\n",
    "%a = 10; \n",
    "%b = 2; \n",
    "r = 1.5;\n",
    " \n",
    "M = 400; \n",
    "dtheta = 2*pi / M; \n",
    "theta_M = (0 : dtheta : 2*pi)'; \n",
    "\n",
    "\n",
    "minimal_positive_root = @(delta) (2*(delta + r)^2*(2*a*b + a*(delta + r) + b*(delta + r)))/((a + b)*(a + b + 2*delta + 2*r))-r^2; \n",
    "x0 = 1.5; % initial guess must be always positive\n",
    "delta = fzero(minimal_positive_root,x0)\n",
    "disp(delta)\n",
    "a_new = a+delta+r\n",
    "b_new = b+delta+r\n",
    "\n",
    "x = a_new*cos(t);\n",
    "y = b_new*sin(t);\n",
    "plot(x,y)\n",
    "\n",
    "%%\n",
    "\n",
    "for i = 1 : M+1 \n",
    "    theta = theta_M(i); \n",
    "    \n",
    "    %% ellipse coordinates\n",
    "    x_M(i) = a * cos(theta); \n",
    "    y_M(i) = b * sin(theta); \n",
    "     \n",
    "    alpha = a+delta+r; \n",
    "    beta = b+delta+r; \n",
    "\n",
    "    %% bounding ellipse\n",
    "    \n",
    "    x_1_M(i) = alpha * cos(theta); \n",
    "    y_1_M(i) = beta * sin(theta); \n",
    "    \n",
    "    %% Minkowsky sum of ellipse (a,b) and circle r\n",
    "    x_2_M(i) = a*cos(theta) + r*cos(theta)/(sqrt((cos(theta))^2 + (a^2/b^2)*(sin(theta))^2)); \n",
    "    y_2_M(i) = b*sin(theta) + r*sin(theta)/(sqrt((b^2/a^2)*(cos(theta))^2 + (sin(theta))^2));    \n",
    "     \n",
    "\n",
    "    %% previously used bounding ellipse\n",
    "    a_3 = a + r; \n",
    "    b_3 = b + r; \n",
    "    x_3_M(i) = a_3 * cos(theta); \n",
    "    y_3_M(i) = b_3 * sin(theta); \n",
    "     \n",
    "    %% circle coordinates\n",
    "    x_4_M(i) = r * cos(theta); \n",
    "    y_4_M(i) = r * sin(theta); \n",
    "end \n",
    "\n",
    "h=figure; \n",
    "hold all; \n",
    "box on; \n",
    "grid on; \n",
    "axis equal; \n",
    "plot(x_M, y_M, '-r') \n",
    "\n",
    "plot(x_1_M, y_1_M, '-k') \n",
    "plot(x_2_M, y_2_M, '-b') \n",
    "plot(x_3_M, y_3_M, '-r')\n",
    "legend(\"Ellipse\",\"Minimal Bounding ellipse\",\"Minkowski Sum\",\"Bound Ellipse + Circle\",\"Circle\")\n",
    "% legend(h,'off')\n",
    "plot(x_4_M, y_4_M, '-g') \n",
    "% circle(0,0,a+r)\n",
    "\n",
    "\n",
    "K = randi([floor(M/4/4), ceil(M/4/2)]); \n",
    "theta = theta_M(K); \n",
    "x = a * cos(theta); \n",
    "y = b * sin(theta); \n",
    "plot([0,x], [0, y], '-k') \n",
    "normal = r*[2*cos(theta)/a; 2*sin(theta)/b] / norm([2*cos(theta)/a; 2*sin(theta)/b]); \n",
    "plot([0, normal(1)], [0, normal(2)], '-b') \n",
    "plot([x, normal(1)+x], [y, normal(2)+y], '-b')\n",
    "circle(normal(1)+x, normal(2)+y, r)\n",
    "hold all\n",
    " \n",
    "% theta_T = theta_M(1 : ceil(M/2)+1); \n",
    "% theta_T = theta_M; \n",
    "% delta_x_T = cos(theta_T) .* (r ./ (sqrt((cos(theta_T)).^2 + (a^2/b^2)*(sin(theta_T)).^2)) - 1); \n",
    "% delta_y_T = sin(theta_T) .* (r ./ (sqrt((b^2/a^2)*(cos(theta_T)).^2 + (sin(theta_T)).^2)) - 1); \n",
    "% figure; \n",
    "% hold all; \n",
    "% grid on; \n",
    "% box on; \n",
    "% plot(delta_x_T, '-k'); \n",
    "% plot(delta_y_T, '-r'); \n",
    "%  \n",
    "% delta_a_T = r ./ (sqrt((cos(theta_T)).^2 + (a^2/b^2)*(sin(theta_T)).^2)); \n",
    "% delta_b_T = r ./ (sqrt((b^2/a^2)*(cos(theta_T)).^2 + (sin(theta_T)).^2)); \n",
    "% figure; \n",
    "% hold all; \n",
    "% grid on; \n",
    "% box on; \n",
    "% plot(delta_a_T, '-k'); \n",
    "% plot(delta_b_T, '-r'); \n",
    "\n",
    "%%Curvature calculation\n",
    "% k=a*b/(sqrt(a^2/2+b^2/2)^3)\n",
    "% k_r=(a+r)*(b+r)/(sqrt((a+r)^2/2+(b+r)^2/2)^3)\n",
    "% t=0:0.01:2*pi\n",
    "% figure;\n",
    "% plot(t,a.*b./(sqrt(a.^2.*cos(t).^2+b.^2.*sin(t).^2).^3))\n",
    "% hold on;\n",
    "% ar=a+r;\n",
    "% br=b+r;\n",
    "% plot(t,ar.*br./(sqrt(ar.^2.*cos(t).^2+br.^2.*sin(t).^2).^3),'b')\n",
    "% figure;\n",
    "% plot(t,a^2.*cos(t).^2+b^2.*sin(t).^2)\n",
    "\n",
    "function h = circle(x,y,r)\n",
    "    hold on\n",
    "    th = 0:pi/50:2*pi;\n",
    "    xunit = r * cos(th) + x;\n",
    "    yunit = r * sin(th) + y;\n",
    "    h = plot(xunit, yunit);\n",
    "%     hold off\n",
    "end\n",
    "\n",
    "\n",
    "\n"
   ]
  }
 ],
 "metadata": {
  "kernelspec": {
   "display_name": "Python 3",
   "language": "python",
   "name": "python3"
  },
  "language_info": {
   "codemirror_mode": {
    "name": "ipython",
    "version": 3
   },
   "file_extension": ".py",
   "mimetype": "text/x-python",
   "name": "python",
   "nbconvert_exporter": "python",
   "pygments_lexer": "ipython3",
   "version": "3.8.3"
  }
 },
 "nbformat": 4,
 "nbformat_minor": 4
}
