{
 "cells": [
  {
   "cell_type": "code",
   "execution_count": 15,
   "metadata": {},
   "outputs": [
    {
     "name": "stdout",
     "output_type": "stream",
     "text": [
      "The autoreload extension is already loaded. To reload it, use:\n",
      "  %reload_ext autoreload\n"
     ]
    }
   ],
   "source": [
    "%load_ext autoreload\n",
    "%autoreload 2\n",
    "\n",
    "import datetime\n",
    "import os, sys\n",
    "import numpy as np\n",
    "import matplotlib.pyplot as plt\n",
    "import matplotlib.patches as patches\n",
    "from matplotlib.transforms import Affine2D\n",
    "import pickle\n",
    "import copy as cp\n",
    "import scipy.optimize\n",
    "import casadi as cas\n",
    "\n",
    "\n",
    "PROJECT_PATH = '/home/nbuckman/Dropbox (MIT)/DRL/2020_01_cooperative_mpc/mpc-multiple-vehicles/'\n",
    "sys.path.append(PROJECT_PATH)\n",
    "\n",
    "import src.vehicle as veh\n",
    "import src.traffic_world as tw\n",
    "# import src.IterativeBestResponseMPCMultiple as mibr\n",
    "# import src.car_plotting_multiple as cmplot\n",
    "import src.multiagent_mpc as mpc\n",
    "np.set_printoptions(precision=2)"
   ]
  },
  {
   "cell_type": "code",
   "execution_count": 16,
   "metadata": {},
   "outputs": [],
   "source": [
    "ego_veh = veh.Vehicle(.1)\n",
    "ado_veh = veh.Vehicle(.1)"
   ]
  },
  {
   "cell_type": "code",
   "execution_count": null,
   "metadata": {},
   "outputs": [],
   "source": []
  },
  {
   "cell_type": "code",
   "execution_count": 25,
   "metadata": {},
   "outputs": [],
   "source": [
    "def get_ellipse(L, W):\n",
    "    min_elipse_a =  lambda a: (1 - L**2/(2*a)**2 - W**2/(2*a + W - L)**2)\n",
    "    \n",
    "    ax = scipy.optimize.fsolve(min_elipse_a, L/2.0)\n",
    "    by = ax + .5*(W-L)\n",
    "    return ax, by\n",
    "\n",
    "def R(phi):\n",
    "    return np.array([[np.cos(phi), np.sin(phi)],[-np.sin(phi), np.cos(phi)]])\n",
    "\n",
    "\n",
    "def Q_minkowski(R_e, M_e, R_a, M_a):\n",
    "    '''Aaron's Code'''\n",
    "    M_e_curr = R_e @ M_e\n",
    "    M_a_curr = R_a @ M_a\n",
    "    Q1 = M_e_curr @ M_e_curr.T\n",
    "    Q2 = M_a_curr @ M_a_curr.T\n",
    "    beta = np.sqrt(np.trace(Q1) / np.trace(Q2))\n",
    "    Q_minkowski = (1+1/beta) * Q1 + (1+beta) * Q2\n",
    "    return Q_minkowski\n",
    "\n",
    "def dist_squared(Xe, Xa, Q_minkowski):\n",
    "    ### Ellipse is Ego centered\n",
    "    return (Xa - Xe).T @ np.linalg.inv(Q_minkowski) @ (Xa - Xe)"
   ]
  },
  {
   "cell_type": "code",
   "execution_count": 26,
   "metadata": {},
   "outputs": [],
   "source": [
    "R_e = np.eye(2)\n",
    "M_e = np.eye(2)*2\n",
    "R_a = np.eye(2)\n",
    "M_a = np.eye(2)*3"
   ]
  },
  {
   "cell_type": "code",
   "execution_count": 27,
   "metadata": {},
   "outputs": [
    {
     "data": {
      "text/plain": [
       "array([[25.,  0.],\n",
       "       [ 0., 25.]])"
      ]
     },
     "execution_count": 27,
     "metadata": {},
     "output_type": "execute_result"
    }
   ],
   "source": [
    "Q = Q_minkowski(R_e, M_e, R_a, M_a)\n",
    "Q"
   ]
  },
  {
   "cell_type": "code",
   "execution_count": 28,
   "metadata": {},
   "outputs": [],
   "source": [
    "c = np.array([[0],[0]])"
   ]
  },
  {
   "cell_type": "code",
   "execution_count": 29,
   "metadata": {},
   "outputs": [
    {
     "data": {
      "text/plain": [
       "array([[ True]])"
      ]
     },
     "execution_count": 29,
     "metadata": {},
     "output_type": "execute_result"
    }
   ],
   "source": [
    "xt = np.array([[4],[0]])\n",
    "xt.T @ np.linalg.inv(Q) @ xt <= 1"
   ]
  },
  {
   "cell_type": "code",
   "execution_count": 30,
   "metadata": {},
   "outputs": [],
   "source": [
    "W = 1.8\n",
    "L = 4.5\n",
    "\n",
    "\n",
    "phi_e = 0 * np.pi/180\n",
    "phi_a = 5 * np.pi/180\n",
    "\n",
    "a_e, b_e = get_ellipse(ego_veh.L, ego_veh.W)\n",
    "a_a, b_a = get_ellipse(ado_veh.L, ado_veh.W)\n",
    "\n",
    "# M_e =  np.array([[1/a_e**2, 0],[0, 1/b_e**2]], dtype=float)\n",
    "# M_a =  np.array([[1/a_a**2, 0],[0, 1/b_a**2]], dtype=float)\n",
    "M_e =  np.array([[a_e, 0],[0, b_e]], dtype=float)\n",
    "M_a =  np.array([[a_a, 0],[0, b_a]], dtype=float)\n",
    "\n",
    "\n",
    "R_e = R(phi_e)\n",
    "R_a = R(phi_a)\n",
    "\n",
    "x_e, y_e = 0, 1\n",
    "x_a, y_a = 6.5, 0\n",
    "Xe = np.array([[x_e],[y_e]])\n",
    "Xa = np.array([[x_a], [y_a]])"
   ]
  },
  {
   "cell_type": "code",
   "execution_count": null,
   "metadata": {},
   "outputs": [],
   "source": []
  },
  {
   "cell_type": "markdown",
   "metadata": {},
   "source": [
    "## Calculate the Ellipse Obstacle"
   ]
  },
  {
   "cell_type": "markdown",
   "metadata": {},
   "source": [
    "### Plot the Ellipses"
   ]
  },
  {
   "cell_type": "code",
   "execution_count": 47,
   "metadata": {},
   "outputs": [
    {
     "name": "stdout",
     "output_type": "stream",
     "text": [
      "[[1.85]] 1.846\n",
      "[[0.19]] 0.185417\n",
      "[[2.34]] 2.344\n",
      "[[0.86]] 0.857124\n",
      "[[4.01]] 4.00818\n",
      "[[0.01]] 0.0137891\n",
      "[[3.04]] 3.04406\n",
      "[[1.14]] 1.13683\n",
      "[[1.26]] 1.25892\n",
      "[[0.61]] 0.610925\n",
      "[[0.51]] 0.505016\n",
      "[[3.63]] 3.6321\n",
      "[[2.]] 1.99898\n",
      "[[1.49]] 1.49227\n",
      "[[0.3]] 0.299739\n",
      "[[2.15]] 2.15404\n",
      "[[2.44]] 2.44295\n",
      "[[0.51]] 0.506502\n",
      "[[0.57]] 0.569699\n",
      "[[3.43]] 3.42954\n",
      "[[5.05]] 5.04896\n",
      "[[1.08]] 1.07959\n",
      "[[0.67]] 0.667422\n",
      "[[3.22]] 3.21974\n",
      "[[1.93]] 1.93343\n",
      "[[1.35]] 1.34791\n",
      "[[0.41]] 0.406179\n",
      "[[1.23]] 1.22973\n",
      "[[0.63]] 0.627548\n",
      "[[0.86]] 0.855966\n"
     ]
    },
    {
     "data": {
      "image/png": "[encoded data removed]",
      "text/plain": [
       "<Figure size 576x576 with 1 Axes>"
      ]
     },
     "metadata": {
      "needs_background": "light"
     },
     "output_type": "display_data"
    }
   ],
   "source": [
    "fig, ax = plt.subplots(1,1,figsize=(8,8))\n",
    "for i_test_point in range(30):\n",
    "#     fig = plt.figure(edgecolor='red')\n",
    "    x_e = x_a + np.random.uniform(-6,6)\n",
    "    y_e = y_a + np.random.uniform(-6, 6)    \n",
    "    phi_e = 0 * np.pi/180\n",
    "    \n",
    "    \n",
    "    \n",
    "    Xa = np.array([[x_a], [y_a]])\n",
    "    \n",
    "    Xe = np.array([[x_e],[y_e]])\n",
    "    plt.plot(x_a, y_a, 'x', color='blue')\n",
    "\n",
    "    ax = plt.gca()\n",
    "    ax.axis('square')\n",
    "    # ax.add_patch(c)\n",
    "    plt.xlim([0, 20])\n",
    "    plt.ylim([-10.5, 7.5])\n",
    "    \n",
    "    e2 = patches.Ellipse((x_a, y_a), 2*a_a, 2*b_a, angle=np.rad2deg(phi_a), fill=False, edgecolor='blue')\n",
    "    ax.add_patch(e2)\n",
    "\n",
    "    Q_m = Q_minkowski(R_e, M_e, R_a, M_a)\n",
    "    d = dist_squared(Xa, Xe, Q_m)\n",
    "    collision = d <= 1\n",
    "    dist_squared1 = mpc.minkowski_ellipse_collision_distance(ego_veh, ado_veh, x_e, y_e, phi_e, x_a, y_a, phi_a)\n",
    "    collision1 = dist_squared1 <= 1\n",
    "    if collision1:\n",
    "        color = 'red'\n",
    "    else:\n",
    "        color = 'green'\n",
    "    plt.plot(x_e, y_e, 'x', color=color)\n",
    "    if not collision1:\n",
    "        e1 = patches.Ellipse((x_e, y_e), 2*a_e, 2*b_e, angle=np.rad2deg(phi_e), fill=False, edgecolor=color)\n",
    "        ax.add_patch(e1)\n",
    "    print(d, dist_squared1)\n",
    "\n",
    "\n",
    "    w, v = np.linalg.eig(Q_m)\n",
    "    a_q, b_q = np.sqrt(w[0]), np.sqrt(w[1])\n",
    "    v = v.T\n",
    "    phi_q = np.arctan2(v[1,0], v[0,0])\n",
    "    qp = patches.Ellipse((x_a, y_a), 2*a_q, 2*b_q, angle=np.rad2deg(phi_q), fill=False, edgecolor='blue', linestyle='--')\n",
    "    ax.add_patch(qp)\n",
    "    \n",
    "\n",
    "#     plt.setp(ax.spines.values(), color=color)    \n",
    "#     fig.set_edgecolor('red')\n",
    "plt.show()"
   ]
  },
  {
   "cell_type": "code",
   "execution_count": 43,
   "metadata": {},
   "outputs": [],
   "source": [
    "dist_squared1 = mpc.minkowski_ellipse_collision_distance(ego_veh, ado_veh, x_e, y_e, phi_e, x_a, y_a, phi_a, numpy=False)\n"
   ]
  },
  {
   "cell_type": "code",
   "execution_count": 45,
   "metadata": {},
   "outputs": [
    {
     "data": {
      "text/plain": [
       "2.5142104068070137"
      ]
     },
     "execution_count": 45,
     "metadata": {},
     "output_type": "execute_result"
    }
   ],
   "source": [
    "float(dist_squared1)"
   ]
  },
  {
   "cell_type": "code",
   "execution_count": 204,
   "metadata": {},
   "outputs": [],
   "source": [
    "Q = Q_minkowski(R_e, M_e, R_a, M_a)\n"
   ]
  },
  {
   "cell_type": "code",
   "execution_count": 206,
   "metadata": {},
   "outputs": [],
   "source": [
    "e = np.linalg.eig(np.linalg.inv(Q))"
   ]
  },
  {
   "cell_type": "code",
   "execution_count": 207,
   "metadata": {},
   "outputs": [
    {
     "data": {
      "text/plain": [
       "(array([0.04, 0.08]), array([[-0.91, -0.42],\n",
       "        [ 0.42, -0.91]]))"
      ]
     },
     "execution_count": 207,
     "metadata": {},
     "output_type": "execute_result"
    }
   ],
   "source": [
    "e"
   ]
  },
  {
   "cell_type": "code",
   "execution_count": 117,
   "metadata": {},
   "outputs": [
    {
     "data": {
      "text/plain": [
       "array([[0.75]])"
      ]
     },
     "execution_count": 117,
     "metadata": {},
     "output_type": "execute_result"
    }
   ],
   "source": [
    "(Xa - Xe).T @ np.linalg.inv(Q_m) @ (Xa-Xe)"
   ]
  },
  {
   "cell_type": "code",
   "execution_count": 166,
   "metadata": {},
   "outputs": [
    {
     "name": "stdout",
     "output_type": "stream",
     "text": [
      "[[ True]]\n"
     ]
    },
    {
     "data": {
      "image/png": "[encoded data removed]",
      "text/plain": [
       "<Figure size 432x288 with 1 Axes>"
      ]
     },
     "metadata": {
      "needs_background": "light"
     },
     "output_type": "display_data"
    }
   ],
   "source": [
    "phi_e = 0 * np.pi/180\n",
    "\n",
    "Xe = np.array([[x_e],[y_e]])\n",
    "plt.plot(x_e, y_e, 'x', color='green')\n",
    "plt.plot(x_a, y_a, 'x', color='red')\n",
    "\n",
    "ax = plt.gca()\n",
    "ax.axis('equal')\n",
    "# ax.add_patch(c)\n",
    "plt.xlim([-5, 15])\n",
    "plt.ylim([-5, 7.5])\n",
    "\n",
    "\n",
    "e1 = patches.Ellipse((x_e, y_e), 2*a_e, 2*b_e, angle=np.rad2deg(phi_e), fill=False, edgecolor='green')\n",
    "ax.add_patch(e1)\n",
    "\n",
    "e2 = patches.Ellipse((x_a, y_a), 2*a_a, 2*b_a, angle=np.rad2deg(phi_a), fill=False, edgecolor='red')\n",
    "ax.add_patch(e2)\n",
    "\n",
    "Q_m = Q_minkowski(R_e, M_e, R_a, M_a)\n",
    "w, v = np.linalg.eig(Q_m)\n",
    "a_q, b_q = np.sqrt(w[0]), np.sqrt(w[1])\n",
    "# v = v.T\n",
    "phi_q = np.arctan2(v[1,0], v[0,0])\n",
    "qp = patches.Ellipse((x_e, y_e), 2*a_q, 2*b_q, angle=np.rad2deg(phi_q), fill=False, edgecolor='blue', linestyle='--')\n",
    "ax.add_patch(qp)\n",
    "\n",
    "collision = dist_squared(Xa, Xe, Q_m) <= 1\n",
    "print(collision)\n",
    "if collision:\n",
    "    color = 'red'\n",
    "else:\n",
    "    color = 'green'\n",
    "plt.setp(ax.spines.values(), color=color)    \n",
    "#     fig.set_edgecolor('red')\n",
    "plt.show()"
   ]
  },
  {
   "cell_type": "code",
   "execution_count": 149,
   "metadata": {},
   "outputs": [],
   "source": [
    "t = np.linspace(0, 2*np.pi)\n",
    "n = len(t)\n",
    "x1 = np.cos(t).reshape(1,n)\n",
    "x2 = np.sin(t).reshape(1,n)\n",
    "X = np.concatenate((x1,x2), axis=0)\n",
    "Y = Q_m @ (X - Xe)"
   ]
  },
  {
   "cell_type": "code",
   "execution_count": 150,
   "metadata": {},
   "outputs": [
    {
     "data": {
      "text/plain": [
       "(-208.71155052182945,\n",
       " -151.7843897134392,\n",
       " -17.956463477796415,\n",
       " 18.615679010588213)"
      ]
     },
     "execution_count": 150,
     "metadata": {},
     "output_type": "execute_result"
    },
    {
     "data": {
      "image/png": "[encoded data removed]",
      "text/plain": [
       "<Figure size 432x288 with 1 Axes>"
      ]
     },
     "metadata": {
      "needs_background": "light"
     },
     "output_type": "display_data"
    }
   ],
   "source": [
    "plt.plot(Y[0,:], Y[1,:])\n",
    "ax = plt.gca()\n",
    "ax.axis('equal')\n"
   ]
  },
  {
   "cell_type": "code",
   "execution_count": 103,
   "metadata": {},
   "outputs": [
    {
     "data": {
      "text/plain": [
       "25.000000000000004"
      ]
     },
     "execution_count": 103,
     "metadata": {},
     "output_type": "execute_result"
    }
   ],
   "source": [
    "np.rad2deg(phi_q)"
   ]
  },
  {
   "cell_type": "code",
   "execution_count": 265,
   "metadata": {},
   "outputs": [
    {
     "data": {
      "text/plain": [
       "(array([[0],\n",
       "        [1]]), array([[6.5],\n",
       "        [0. ]]), array([[1.69]]))"
      ]
     },
     "execution_count": 265,
     "metadata": {},
     "output_type": "execute_result"
    }
   ],
   "source": [
    "Xe, Xa,((Xa - Xe).T @ np.linalg.inv(Q_minkowski) @ (Xa - Xe))\n"
   ]
  },
  {
   "cell_type": "code",
   "execution_count": 255,
   "metadata": {},
   "outputs": [
    {
     "data": {
      "text/plain": [
       "array([[ 1.83, -0.1 ],\n",
       "       [-0.1 ,  0.07]])"
      ]
     },
     "execution_count": 255,
     "metadata": {},
     "output_type": "execute_result"
    }
   ],
   "source": [
    "((Xe - Xa)/T * np.linalg.inv(Q_minkowski) * (Xe - Xa).T) "
   ]
  },
  {
   "cell_type": "code",
   "execution_count": null,
   "metadata": {},
   "outputs": [],
   "source": []
  },
  {
   "cell_type": "code",
   "execution_count": 16,
   "metadata": {},
   "outputs": [
    {
     "name": "stdout",
     "output_type": "stream",
     "text": [
      "[[False]]\n"
     ]
    },
    {
     "data": {
      "image/png": "[encoded data removed]",
      "text/plain": [
       "<Figure size 432x288 with 1 Axes>"
      ]
     },
     "metadata": {
      "needs_background": "light"
     },
     "output_type": "display_data"
    }
   ],
   "source": [
    "### Another way to see it as following\n",
    "plt.plot(x_e, y_e,'o')\n",
    "c = patches.Circle((x_e, y_e), radius=r, fill=None)\n",
    "ax = plt.gca()\n",
    "ax.axis('square')\n",
    "ax.add_patch(c)\n",
    "plt.xlim([-5, 10])\n",
    "plt.ylim([-2.5, 7.5])\n",
    "\n",
    "plt.plot(x_o, y_o)\n",
    "a = 2.832\n",
    "b = 1.4820\n",
    "\n",
    "\n",
    "# a_val = 4.5\n",
    "# b_val = 1.8\n",
    "W = 1.8\n",
    "L = 4.5\n",
    "rec = patches.Rectangle((x_o-L/2, y_o-W/2), L, W, fill=None, edgecolor='blue')\n",
    "ax.add_patch(rec)\n",
    "a_val = 2.832\n",
    "b_val = 1.4820\n",
    "\n",
    "delta = 0.0447\n",
    "\n",
    "\n",
    "# a_val, b_val = 3.897114298575689, 1.1022703788869466\n",
    "e = patches.Ellipse((x_o, y_o), 2*(a_val), 2*(b_val), fill=False, edgecolor='green')\n",
    "e_b = patches.Ellipse((x_o, y_o), 2*(a_val+delta+r), 2*(b_val+delta+r), fill=False, edgecolor='red')\n",
    "ax.add_patch(e)\n",
    "ax.add_patch(e_b)\n",
    "\n",
    "collision_free = (np.array([[dx],[dy]]).T @ R_o.T @ np.array([[1/alpha**2, 0],[0, 1/beta**2]]) @ R_o @ np.array([[dx],[dy]])) > 1\n",
    "print(collision_free)"
   ]
  },
  {
   "cell_type": "code",
   "execution_count": null,
   "metadata": {},
   "outputs": [],
   "source": []
  },
  {
   "cell_type": "code",
   "execution_count": null,
   "metadata": {},
   "outputs": [],
   "source": [
    "import casadi as cas"
   ]
  },
  {
   "cell_type": "code",
   "execution_count": null,
   "metadata": {},
   "outputs": [],
   "source": [
    "opti = cas.Opti()\n",
    "a = opti.variable()\n",
    "b = opti.variable()\n",
    "opti.minimize(a*b**2)\n",
    "opti.subject_to( ((L/2)**2/a**2 + (W/2)**2/b**2) <= 1)\n",
    "opti.subject_to(a>0)\n",
    "opti.subject_to(b>0)\n",
    "opti.solver('ipopt')"
   ]
  },
  {
   "cell_type": "code",
   "execution_count": null,
   "metadata": {},
   "outputs": [],
   "source": [
    "opti.set_initial(a, 1)\n",
    "opti.set_initial(b, 1.5)\n",
    "solution = opti.solve()"
   ]
  },
  {
   "cell_type": "code",
   "execution_count": null,
   "metadata": {},
   "outputs": [],
   "source": [
    "a_val = solution.value(a)\n",
    "b_val = solution.value(b)\n",
    "print(a_val, b_val)"
   ]
  },
  {
   "cell_type": "code",
   "execution_count": null,
   "metadata": {},
   "outputs": [],
   "source": [
    "(L/2)**2/a_val**2 + (W/2)**2/b_val**2"
   ]
  },
  {
   "cell_type": "code",
   "execution_count": null,
   "metadata": {},
   "outputs": [],
   "source": [
    "plt.plot([a_val*np.cos(t) for t in np.linspace(0, 2*np.pi, 50)], [b_val*np.sin(t) for t in np.linspace(0, 2*np.pi, 50)])"
   ]
  },
  {
   "cell_type": "markdown",
   "metadata": {},
   "source": [
    "## From MATLAB"
   ]
  },
  {
   "cell_type": "code",
   "execution_count": null,
   "metadata": {},
   "outputs": [],
   "source": []
  },
  {
   "cell_type": "code",
   "execution_count": null,
   "metadata": {},
   "outputs": [],
   "source": [
    "clear all \n",
    "close all\n",
    "clc \n",
    "\n",
    "%% \n",
    "W = 1.8;\n",
    "L = 4.5;\n",
    "\n",
    "min_elipse_box = @(a) (1 - L^2/(2*a)^2 - W^2/(2*a + W - L)^2) ;\n",
    "a = fzero(min_elipse_box, 10)\n",
    "b = a + 1/2*(W-L)\n",
    "t = 0:.1:2*pi;\n",
    "x = a*cos(t);\n",
    "y = b*sin(t);\n",
    "plot(x,y)\n",
    "rectangle('Position',[-L/2 -W/2 L W])\n",
    "axis('equal')\n",
    "hold on\n",
    " \n",
    "%% ellipsoid and circle dimensions\n",
    "%a = 10; \n",
    "%b = 2; \n",
    "r = 1.5;\n",
    " \n",
    "M = 400; \n",
    "dtheta = 2*pi / M; \n",
    "theta_M = (0 : dtheta : 2*pi)'; \n",
    "\n",
    "\n",
    "minimal_positive_root = @(delta) (2*(delta + r)^2*(2*a*b + a*(delta + r) + b*(delta + r)))/((a + b)*(a + b + 2*delta + 2*r))-r^2; \n",
    "x0 = 1.5; % initial guess must be always positive\n",
    "delta = fzero(minimal_positive_root,x0)\n",
    "disp(delta)\n",
    "a_new = a+delta+r\n",
    "b_new = b+delta+r\n",
    "\n",
    "x = a_new*cos(t);\n",
    "y = b_new*sin(t);\n",
    "plot(x,y)\n",
    "\n",
    "%%\n",
    "\n",
    "for i = 1 : M+1 \n",
    "    theta = theta_M(i); \n",
    "    \n",
    "    %% ellipse coordinates\n",
    "    x_M(i) = a * cos(theta); \n",
    "    y_M(i) = b * sin(theta); \n",
    "     \n",
    "    alpha = a+delta+r; \n",
    "    beta = b+delta+r; \n",
    "\n",
    "    %% bounding ellipse\n",
    "    \n",
    "    x_1_M(i) = alpha * cos(theta); \n",
    "    y_1_M(i) = beta * sin(theta); \n",
    "    \n",
    "    %% Minkowsky sum of ellipse (a,b) and circle r\n",
    "    x_2_M(i) = a*cos(theta) + r*cos(theta)/(sqrt((cos(theta))^2 + (a^2/b^2)*(sin(theta))^2)); \n",
    "    y_2_M(i) = b*sin(theta) + r*sin(theta)/(sqrt((b^2/a^2)*(cos(theta))^2 + (sin(theta))^2));    \n",
    "     \n",
    "\n",
    "    %% previously used bounding ellipse\n",
    "    a_3 = a + r; \n",
    "    b_3 = b + r; \n",
    "    x_3_M(i) = a_3 * cos(theta); \n",
    "    y_3_M(i) = b_3 * sin(theta); \n",
    "     \n",
    "    %% circle coordinates\n",
    "    x_4_M(i) = r * cos(theta); \n",
    "    y_4_M(i) = r * sin(theta); \n",
    "end \n",
    "\n",
    "h=figure; \n",
    "hold all; \n",
    "box on; \n",
    "grid on; \n",
    "axis equal; \n",
    "plot(x_M, y_M, '-r') \n",
    "\n",
    "plot(x_1_M, y_1_M, '-k') \n",
    "plot(x_2_M, y_2_M, '-b') \n",
    "plot(x_3_M, y_3_M, '-r')\n",
    "legend(\"Ellipse\",\"Minimal Bounding ellipse\",\"Minkowski Sum\",\"Bound Ellipse + Circle\",\"Circle\")\n",
    "% legend(h,'off')\n",
    "plot(x_4_M, y_4_M, '-g') \n",
    "% circle(0,0,a+r)\n",
    "\n",
    "\n",
    "K = randi([floor(M/4/4), ceil(M/4/2)]); \n",
    "theta = theta_M(K); \n",
    "x = a * cos(theta); \n",
    "y = b * sin(theta); \n",
    "plot([0,x], [0, y], '-k') \n",
    "normal = r*[2*cos(theta)/a; 2*sin(theta)/b] / norm([2*cos(theta)/a; 2*sin(theta)/b]); \n",
    "plot([0, normal(1)], [0, normal(2)], '-b') \n",
    "plot([x, normal(1)+x], [y, normal(2)+y], '-b')\n",
    "circle(normal(1)+x, normal(2)+y, r)\n",
    "hold all\n",
    " \n",
    "% theta_T = theta_M(1 : ceil(M/2)+1); \n",
    "% theta_T = theta_M; \n",
    "% delta_x_T = cos(theta_T) .* (r ./ (sqrt((cos(theta_T)).^2 + (a^2/b^2)*(sin(theta_T)).^2)) - 1); \n",
    "% delta_y_T = sin(theta_T) .* (r ./ (sqrt((b^2/a^2)*(cos(theta_T)).^2 + (sin(theta_T)).^2)) - 1); \n",
    "% figure; \n",
    "% hold all; \n",
    "% grid on; \n",
    "% box on; \n",
    "% plot(delta_x_T, '-k'); \n",
    "% plot(delta_y_T, '-r'); \n",
    "%  \n",
    "% delta_a_T = r ./ (sqrt((cos(theta_T)).^2 + (a^2/b^2)*(sin(theta_T)).^2)); \n",
    "% delta_b_T = r ./ (sqrt((b^2/a^2)*(cos(theta_T)).^2 + (sin(theta_T)).^2)); \n",
    "% figure; \n",
    "% hold all; \n",
    "% grid on; \n",
    "% box on; \n",
    "% plot(delta_a_T, '-k'); \n",
    "% plot(delta_b_T, '-r'); \n",
    "\n",
    "%%Curvature calculation\n",
    "% k=a*b/(sqrt(a^2/2+b^2/2)^3)\n",
    "% k_r=(a+r)*(b+r)/(sqrt((a+r)^2/2+(b+r)^2/2)^3)\n",
    "% t=0:0.01:2*pi\n",
    "% figure;\n",
    "% plot(t,a.*b./(sqrt(a.^2.*cos(t).^2+b.^2.*sin(t).^2).^3))\n",
    "% hold on;\n",
    "% ar=a+r;\n",
    "% br=b+r;\n",
    "% plot(t,ar.*br./(sqrt(ar.^2.*cos(t).^2+br.^2.*sin(t).^2).^3),'b')\n",
    "% figure;\n",
    "% plot(t,a^2.*cos(t).^2+b^2.*sin(t).^2)\n",
    "\n",
    "function h = circle(x,y,r)\n",
    "    hold on\n",
    "    th = 0:pi/50:2*pi;\n",
    "    xunit = r * cos(th) + x;\n",
    "    yunit = r * sin(th) + y;\n",
    "    h = plot(xunit, yunit);\n",
    "%     hold off\n",
    "end\n",
    "\n",
    "\n",
    "\n"
   ]
  }
 ],
 "metadata": {
  "kernelspec": {
   "display_name": "Python 3",
   "language": "python",
   "name": "python3"
  },
  "language_info": {
   "codemirror_mode": {
    "name": "ipython",
    "version": 3
   },
   "file_extension": ".py",
   "mimetype": "text/x-python",
   "name": "python",
   "nbconvert_exporter": "python",
   "pygments_lexer": "ipython3",
   "version": "3.7.4"
  }
 },
 "nbformat": 4,
 "nbformat_minor": 4
}
