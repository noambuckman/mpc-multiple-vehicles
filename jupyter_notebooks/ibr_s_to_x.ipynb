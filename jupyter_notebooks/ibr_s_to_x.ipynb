{
 "cells": [
  {
   "cell_type": "code",
   "execution_count": 53,
   "metadata": {
    "scrolled": true
   },
   "outputs": [
    {
     "name": "stdout",
     "output_type": "stream",
     "text": [
      "The autoreload extension is already loaded. To reload it, use:\n",
      "  %reload_ext autoreload\n"
     ]
    }
   ],
   "source": [
    "%load_ext autoreload\n",
    "%autoreload 2\n",
    "import datetime\n",
    "import os\n",
    "import numpy as np\n",
    "import matplotlib.pyplot as plt\n",
    "\n",
    "import casadi as cas\n",
    "\n",
    "##### For viewing the videos in Jupyter Notebook\n",
    "import io\n",
    "import base64\n",
    "from IPython.display import HTML\n",
    "\n",
    "import car_plotting as cplot\n",
    "import MPC_Casadi as mpc\n",
    "\n",
    "\n",
    "%matplotlib inline"
   ]
  },
  {
   "cell_type": "markdown",
   "metadata": {},
   "source": [
    "# Vehicle Dynamics $\\frac{d}{dt} \\vec{x} = f(\\vec{x}, \\vec{u})$"
   ]
  },
  {
   "cell_type": "code",
   "execution_count": null,
   "metadata": {},
   "outputs": [],
   "source": []
  },
  {
   "cell_type": "markdown",
   "metadata": {},
   "source": [
    "def gen_x_next(x_k, u_k, dt):\n",
    "    k1 = f(x_k, u_k)\n",
    "    k2 = f(x_k+dt/2*k1, u_k)\n",
    "    k3 = f(x_k+dt/2*k2, u_k)\n",
    "    k4 = f(x_k+dt*k3,   u_k)\n",
    "    x_next = x_k + dt/6*(k1+2*k2+2*k3+k4) \n",
    "    return x_next\n",
    "# F = cas.Function('F',[x,u,t],[ode],)"
   ]
  },
  {
   "cell_type": "markdown",
   "metadata": {},
   "source": [
    "#  States\n",
    "\n",
    "$\\vec{x}$ = $[x, y, \\phi, \\delta, V, s]^T$\n",
    "\n",
    "$\\vec{u}$ = $[\\delta^u, v^u]^T$"
   ]
  },
  {
   "cell_type": "markdown",
   "metadata": {},
   "source": [
    "# Discrete (integrated) dynamics $\\vec{x}_{t+1} = F(\\vec{x}_{t}, \\vec{u}_{t})$"
   ]
  },
  {
   "cell_type": "code",
   "execution_count": 54,
   "metadata": {},
   "outputs": [],
   "source": [
    "T = 10 #numbr of time horizons\n",
    "dt = 0.1\n",
    "N = int(T/dt) #Number of control intervals"
   ]
  },
  {
   "cell_type": "markdown",
   "metadata": {},
   "source": [
    "intg_options = {}\n",
    "intg_options['tf'] = dt # from dt\n",
    "intg_options['simplify'] = True\n",
    "intg_options['number_of_finite_elements'] = 6  #from 4\n",
    "\n",
    "dae = {}  #What's a DAE?\n",
    "dae['x'] = x\n",
    "dae['p'] = u\n",
    "dae['ode'] = f(x,u)\n",
    "intg = cas.integrator('intg','rk', dae, intg_options)\n",
    "res = intg(x0=x,p=u)\n",
    "x_next = res['xf']\n",
    "F = cas.Function('F',[x,u],[x_next],['x','u'],['x_next'])"
   ]
  },
  {
   "cell_type": "markdown",
   "metadata": {},
   "source": [
    "# Problem Definition\n",
    "### Parameterization of Desired Trajectory ($\\vec{x}_d = f_d(s)$)"
   ]
  },
  {
   "cell_type": "code",
   "execution_count": 55,
   "metadata": {},
   "outputs": [],
   "source": [
    "s = cas.MX.sym('s')\n",
    "xd = s\n",
    "yd = 0\n",
    "phid = 0\n",
    "des_traj = cas.vertcat(xd, yd, phid)\n",
    "fd = cas.Function('fd',[s],[des_traj],['s'],['des_traj'])"
   ]
  },
  {
   "cell_type": "code",
   "execution_count": 56,
   "metadata": {},
   "outputs": [],
   "source": [
    "#Globally true information\n",
    "min_dist = 2 * (2 * .5**2)**.5\n",
    "\n",
    "initial_speed = 6.7 \n",
    "# Initial Conditions\n",
    "x0 = np.array([2*min_dist, .6*min_dist, 0, 0, initial_speed, 0]).T\n",
    "x0_2 = np.array([2*min_dist,-.6*min_dist, .0, 0, initial_speed, 0]).T\n",
    "x0_amb = np.array([0, 0.0, 0, 0, 1.25 * initial_speed,0]).T"
   ]
  },
  {
   "cell_type": "markdown",
   "metadata": {},
   "source": [
    "### Solve it centrally just to warm start the solution"
   ]
  },
  {
   "cell_type": "code",
   "execution_count": 57,
   "metadata": {},
   "outputs": [],
   "source": [
    "x1_MPC = mpc.MPC()\n",
    "x2_MPC = mpc.MPC()\n",
    "\n",
    "x1_MPC.k_s = -1.0\n",
    "x2_MPC.k_s = -1.0\n",
    "\n",
    "amb_MPC = mpc.MPC()\n",
    "amb_MPC.theta_iamb = 0.0\n",
    "amb_MPC.k_u_v = 0.10\n",
    "# amb_MPC.k_u_change = 1.0\n",
    "amb_MPC.k_s = -1.0\n",
    "amb_MPC.max_v = 20.0\n",
    "amb_MPC.max_X_dev = 5.0\n"
   ]
  },
  {
   "cell_type": "code",
   "execution_count": 58,
   "metadata": {},
   "outputs": [],
   "source": [
    "opt =  mpc.OptimizationMPC(x1_MPC, x2_MPC,amb_MPC)\n",
    "opt.generate_optimization(N, dt, min_dist, fd, T, x0, x0_2, x0_amb, 2)"
   ]
  },
  {
   "cell_type": "code",
   "execution_count": 59,
   "metadata": {},
   "outputs": [
    {
     "name": "stdout",
     "output_type": "stream",
     "text": [
      "      solver  :   t_proc      (avg)   t_wall      (avg)    n_eval\n",
      "       nlp_f  | 210.98ms (  1.05ms) 209.76ms (  1.04ms)       201\n",
      "       nlp_g  | 361.47ms (  1.80ms) 359.29ms (  1.79ms)       201\n",
      "    nlp_grad  |   7.99ms (  7.99ms)   7.95ms (  7.95ms)         1\n",
      "  nlp_grad_f  | 203.52ms (  1.25ms) 202.27ms (  1.24ms)       163\n",
      "  nlp_hess_l  |   4.61 s ( 23.64ms)   4.58 s ( 23.46ms)       195\n",
      "   nlp_jac_g  |   2.19 s ( 10.99ms)   2.17 s ( 10.91ms)       199\n",
      "       total  |  10.43 s ( 10.43 s)  10.35 s ( 10.35 s)         1\n"
     ]
    }
   ],
   "source": [
    "x1, u1, x1_des, x2, u2, x2_des, xamb, uamb, xamb_des = opt.get_solution()"
   ]
  },
  {
   "cell_type": "code",
   "execution_count": 60,
   "metadata": {},
   "outputs": [
    {
     "name": "stdout",
     "output_type": "stream",
     "text": [
      "results/20200214-101746_newsclassesibr/\n"
     ]
    }
   ],
   "source": [
    "optional_suffix = \"_newsclassesibr\"\n",
    "subdir_name = datetime.datetime.now().strftime(\"%Y%m%d-%H%M%S\") + optional_suffix\n",
    "folder = \"results/\" + subdir_name + \"/\"\n",
    "os.makedirs(folder)\n",
    "os.makedirs(folder+\"imgs/\")\n",
    "print(folder)"
   ]
  },
  {
   "cell_type": "code",
   "execution_count": 61,
   "metadata": {
    "scrolled": true
   },
   "outputs": [
    {
     "name": "stderr",
     "output_type": "stream",
     "text": [
      "Clipping input data to the valid range for imshow with RGB data ([0..1] for floats or [0..255] for integers).\n",
      "Clipping input data to the valid range for imshow with RGB data ([0..1] for floats or [0..255] for integers).\n",
      "Clipping input data to the valid range for imshow with RGB data ([0..1] for floats or [0..255] for integers).\n",
      "Clipping input data to the valid range for imshow with RGB data ([0..1] for floats or [0..255] for integers).\n",
      "Clipping input data to the valid range for imshow with RGB data ([0..1] for floats or [0..255] for integers).\n",
      "Clipping input data to the valid range for imshow with RGB data ([0..1] for floats or [0..255] for integers).\n",
      "Clipping input data to the valid range for imshow with RGB data ([0..1] for floats or [0..255] for integers).\n",
      "Clipping input data to the valid range for imshow with RGB data ([0..1] for floats or [0..255] for integers).\n",
      "Clipping input data to the valid range for imshow with RGB data ([0..1] for floats or [0..255] for integers).\n",
      "Clipping input data to the valid range for imshow with RGB data ([0..1] for floats or [0..255] for integers).\n",
      "Clipping input data to the valid range for imshow with RGB data ([0..1] for floats or [0..255] for integers).\n",
      "Clipping input data to the valid range for imshow with RGB data ([0..1] for floats or [0..255] for integers).\n",
      "Clipping input data to the valid range for imshow with RGB data ([0..1] for floats or [0..255] for integers).\n",
      "Clipping input data to the valid range for imshow with RGB data ([0..1] for floats or [0..255] for integers).\n",
      "Clipping input data to the valid range for imshow with RGB data ([0..1] for floats or [0..255] for integers).\n",
      "Clipping input data to the valid range for imshow with RGB data ([0..1] for floats or [0..255] for integers).\n",
      "Clipping input data to the valid range for imshow with RGB data ([0..1] for floats or [0..255] for integers).\n",
      "Clipping input data to the valid range for imshow with RGB data ([0..1] for floats or [0..255] for integers).\n",
      "Clipping input data to the valid range for imshow with RGB data ([0..1] for floats or [0..255] for integers).\n",
      "Clipping input data to the valid range for imshow with RGB data ([0..1] for floats or [0..255] for integers).\n",
      "Clipping input data to the valid range for imshow with RGB data ([0..1] for floats or [0..255] for integers).\n",
      "Clipping input data to the valid range for imshow with RGB data ([0..1] for floats or [0..255] for integers).\n",
      "Clipping input data to the valid range for imshow with RGB data ([0..1] for floats or [0..255] for integers).\n",
      "Clipping input data to the valid range for imshow with RGB data ([0..1] for floats or [0..255] for integers).\n",
      "Clipping input data to the valid range for imshow with RGB data ([0..1] for floats or [0..255] for integers).\n",
      "Clipping input data to the valid range for imshow with RGB data ([0..1] for floats or [0..255] for integers).\n",
      "Clipping input data to the valid range for imshow with RGB data ([0..1] for floats or [0..255] for integers).\n",
      "Clipping input data to the valid range for imshow with RGB data ([0..1] for floats or [0..255] for integers).\n",
      "Clipping input data to the valid range for imshow with RGB data ([0..1] for floats or [0..255] for integers).\n",
      "Clipping input data to the valid range for imshow with RGB data ([0..1] for floats or [0..255] for integers).\n",
      "Clipping input data to the valid range for imshow with RGB data ([0..1] for floats or [0..255] for integers).\n",
      "Clipping input data to the valid range for imshow with RGB data ([0..1] for floats or [0..255] for integers).\n",
      "Clipping input data to the valid range for imshow with RGB data ([0..1] for floats or [0..255] for integers).\n",
      "Clipping input data to the valid range for imshow with RGB data ([0..1] for floats or [0..255] for integers).\n",
      "Clipping input data to the valid range for imshow with RGB data ([0..1] for floats or [0..255] for integers).\n",
      "Clipping input data to the valid range for imshow with RGB data ([0..1] for floats or [0..255] for integers).\n",
      "Clipping input data to the valid range for imshow with RGB data ([0..1] for floats or [0..255] for integers).\n",
      "Clipping input data to the valid range for imshow with RGB data ([0..1] for floats or [0..255] for integers).\n",
      "Clipping input data to the valid range for imshow with RGB data ([0..1] for floats or [0..255] for integers).\n",
      "Clipping input data to the valid range for imshow with RGB data ([0..1] for floats or [0..255] for integers).\n",
      "Clipping input data to the valid range for imshow with RGB data ([0..1] for floats or [0..255] for integers).\n",
      "Clipping input data to the valid range for imshow with RGB data ([0..1] for floats or [0..255] for integers).\n",
      "Clipping input data to the valid range for imshow with RGB data ([0..1] for floats or [0..255] for integers).\n",
      "Clipping input data to the valid range for imshow with RGB data ([0..1] for floats or [0..255] for integers).\n",
      "Clipping input data to the valid range for imshow with RGB data ([0..1] for floats or [0..255] for integers).\n",
      "Clipping input data to the valid range for imshow with RGB data ([0..1] for floats or [0..255] for integers).\n",
      "Clipping input data to the valid range for imshow with RGB data ([0..1] for floats or [0..255] for integers).\n",
      "Clipping input data to the valid range for imshow with RGB data ([0..1] for floats or [0..255] for integers).\n",
      "Clipping input data to the valid range for imshow with RGB data ([0..1] for floats or [0..255] for integers).\n",
      "Clipping input data to the valid range for imshow with RGB data ([0..1] for floats or [0..255] for integers).\n",
      "Clipping input data to the valid range for imshow with RGB data ([0..1] for floats or [0..255] for integers).\n",
      "Clipping input data to the valid range for imshow with RGB data ([0..1] for floats or [0..255] for integers).\n",
      "Clipping input data to the valid range for imshow with RGB data ([0..1] for floats or [0..255] for integers).\n",
      "Clipping input data to the valid range for imshow with RGB data ([0..1] for floats or [0..255] for integers).\n",
      "Clipping input data to the valid range for imshow with RGB data ([0..1] for floats or [0..255] for integers).\n",
      "Clipping input data to the valid range for imshow with RGB data ([0..1] for floats or [0..255] for integers).\n",
      "Clipping input data to the valid range for imshow with RGB data ([0..1] for floats or [0..255] for integers).\n",
      "Clipping input data to the valid range for imshow with RGB data ([0..1] for floats or [0..255] for integers).\n",
      "Clipping input data to the valid range for imshow with RGB data ([0..1] for floats or [0..255] for integers).\n",
      "Clipping input data to the valid range for imshow with RGB data ([0..1] for floats or [0..255] for integers).\n",
      "Clipping input data to the valid range for imshow with RGB data ([0..1] for floats or [0..255] for integers).\n",
      "Clipping input data to the valid range for imshow with RGB data ([0..1] for floats or [0..255] for integers).\n",
      "Clipping input data to the valid range for imshow with RGB data ([0..1] for floats or [0..255] for integers).\n",
      "Clipping input data to the valid range for imshow with RGB data ([0..1] for floats or [0..255] for integers).\n",
      "Clipping input data to the valid range for imshow with RGB data ([0..1] for floats or [0..255] for integers).\n",
      "Clipping input data to the valid range for imshow with RGB data ([0..1] for floats or [0..255] for integers).\n",
      "Clipping input data to the valid range for imshow with RGB data ([0..1] for floats or [0..255] for integers).\n",
      "Clipping input data to the valid range for imshow with RGB data ([0..1] for floats or [0..255] for integers).\n",
      "Clipping input data to the valid range for imshow with RGB data ([0..1] for floats or [0..255] for integers).\n",
      "Clipping input data to the valid range for imshow with RGB data ([0..1] for floats or [0..255] for integers).\n",
      "Clipping input data to the valid range for imshow with RGB data ([0..1] for floats or [0..255] for integers).\n",
      "Clipping input data to the valid range for imshow with RGB data ([0..1] for floats or [0..255] for integers).\n",
      "Clipping input data to the valid range for imshow with RGB data ([0..1] for floats or [0..255] for integers).\n",
      "Clipping input data to the valid range for imshow with RGB data ([0..1] for floats or [0..255] for integers).\n",
      "Clipping input data to the valid range for imshow with RGB data ([0..1] for floats or [0..255] for integers).\n"
     ]
    },
    {
     "name": "stderr",
     "output_type": "stream",
     "text": [
      "Clipping input data to the valid range for imshow with RGB data ([0..1] for floats or [0..255] for integers).\n",
      "Clipping input data to the valid range for imshow with RGB data ([0..1] for floats or [0..255] for integers).\n",
      "Clipping input data to the valid range for imshow with RGB data ([0..1] for floats or [0..255] for integers).\n",
      "Clipping input data to the valid range for imshow with RGB data ([0..1] for floats or [0..255] for integers).\n",
      "Clipping input data to the valid range for imshow with RGB data ([0..1] for floats or [0..255] for integers).\n",
      "Clipping input data to the valid range for imshow with RGB data ([0..1] for floats or [0..255] for integers).\n",
      "Clipping input data to the valid range for imshow with RGB data ([0..1] for floats or [0..255] for integers).\n",
      "Clipping input data to the valid range for imshow with RGB data ([0..1] for floats or [0..255] for integers).\n",
      "Clipping input data to the valid range for imshow with RGB data ([0..1] for floats or [0..255] for integers).\n",
      "Clipping input data to the valid range for imshow with RGB data ([0..1] for floats or [0..255] for integers).\n",
      "Clipping input data to the valid range for imshow with RGB data ([0..1] for floats or [0..255] for integers).\n",
      "Clipping input data to the valid range for imshow with RGB data ([0..1] for floats or [0..255] for integers).\n",
      "Clipping input data to the valid range for imshow with RGB data ([0..1] for floats or [0..255] for integers).\n",
      "Clipping input data to the valid range for imshow with RGB data ([0..1] for floats or [0..255] for integers).\n",
      "Clipping input data to the valid range for imshow with RGB data ([0..1] for floats or [0..255] for integers).\n",
      "Clipping input data to the valid range for imshow with RGB data ([0..1] for floats or [0..255] for integers).\n",
      "Clipping input data to the valid range for imshow with RGB data ([0..1] for floats or [0..255] for integers).\n",
      "Clipping input data to the valid range for imshow with RGB data ([0..1] for floats or [0..255] for integers).\n",
      "Clipping input data to the valid range for imshow with RGB data ([0..1] for floats or [0..255] for integers).\n",
      "Clipping input data to the valid range for imshow with RGB data ([0..1] for floats or [0..255] for integers).\n",
      "Clipping input data to the valid range for imshow with RGB data ([0..1] for floats or [0..255] for integers).\n",
      "Clipping input data to the valid range for imshow with RGB data ([0..1] for floats or [0..255] for integers).\n",
      "Clipping input data to the valid range for imshow with RGB data ([0..1] for floats or [0..255] for integers).\n",
      "Clipping input data to the valid range for imshow with RGB data ([0..1] for floats or [0..255] for integers).\n",
      "Clipping input data to the valid range for imshow with RGB data ([0..1] for floats or [0..255] for integers).\n",
      "Clipping input data to the valid range for imshow with RGB data ([0..1] for floats or [0..255] for integers).\n",
      "Clipping input data to the valid range for imshow with RGB data ([0..1] for floats or [0..255] for integers).\n",
      "Clipping input data to the valid range for imshow with RGB data ([0..1] for floats or [0..255] for integers).\n",
      "Clipping input data to the valid range for imshow with RGB data ([0..1] for floats or [0..255] for integers).\n",
      "Clipping input data to the valid range for imshow with RGB data ([0..1] for floats or [0..255] for integers).\n",
      "Clipping input data to the valid range for imshow with RGB data ([0..1] for floats or [0..255] for integers).\n",
      "Clipping input data to the valid range for imshow with RGB data ([0..1] for floats or [0..255] for integers).\n",
      "Clipping input data to the valid range for imshow with RGB data ([0..1] for floats or [0..255] for integers).\n",
      "Clipping input data to the valid range for imshow with RGB data ([0..1] for floats or [0..255] for integers).\n",
      "Clipping input data to the valid range for imshow with RGB data ([0..1] for floats or [0..255] for integers).\n",
      "Clipping input data to the valid range for imshow with RGB data ([0..1] for floats or [0..255] for integers).\n",
      "Clipping input data to the valid range for imshow with RGB data ([0..1] for floats or [0..255] for integers).\n",
      "Clipping input data to the valid range for imshow with RGB data ([0..1] for floats or [0..255] for integers).\n",
      "Clipping input data to the valid range for imshow with RGB data ([0..1] for floats or [0..255] for integers).\n",
      "Clipping input data to the valid range for imshow with RGB data ([0..1] for floats or [0..255] for integers).\n",
      "Clipping input data to the valid range for imshow with RGB data ([0..1] for floats or [0..255] for integers).\n",
      "Clipping input data to the valid range for imshow with RGB data ([0..1] for floats or [0..255] for integers).\n",
      "Clipping input data to the valid range for imshow with RGB data ([0..1] for floats or [0..255] for integers).\n",
      "Clipping input data to the valid range for imshow with RGB data ([0..1] for floats or [0..255] for integers).\n",
      "Clipping input data to the valid range for imshow with RGB data ([0..1] for floats or [0..255] for integers).\n",
      "Clipping input data to the valid range for imshow with RGB data ([0..1] for floats or [0..255] for integers).\n",
      "Clipping input data to the valid range for imshow with RGB data ([0..1] for floats or [0..255] for integers).\n",
      "Clipping input data to the valid range for imshow with RGB data ([0..1] for floats or [0..255] for integers).\n",
      "Clipping input data to the valid range for imshow with RGB data ([0..1] for floats or [0..255] for integers).\n",
      "Clipping input data to the valid range for imshow with RGB data ([0..1] for floats or [0..255] for integers).\n",
      "Clipping input data to the valid range for imshow with RGB data ([0..1] for floats or [0..255] for integers).\n",
      "Clipping input data to the valid range for imshow with RGB data ([0..1] for floats or [0..255] for integers).\n",
      "Clipping input data to the valid range for imshow with RGB data ([0..1] for floats or [0..255] for integers).\n",
      "Clipping input data to the valid range for imshow with RGB data ([0..1] for floats or [0..255] for integers).\n",
      "Clipping input data to the valid range for imshow with RGB data ([0..1] for floats or [0..255] for integers).\n",
      "Clipping input data to the valid range for imshow with RGB data ([0..1] for floats or [0..255] for integers).\n",
      "Clipping input data to the valid range for imshow with RGB data ([0..1] for floats or [0..255] for integers).\n",
      "Clipping input data to the valid range for imshow with RGB data ([0..1] for floats or [0..255] for integers).\n",
      "Clipping input data to the valid range for imshow with RGB data ([0..1] for floats or [0..255] for integers).\n",
      "Clipping input data to the valid range for imshow with RGB data ([0..1] for floats or [0..255] for integers).\n",
      "Clipping input data to the valid range for imshow with RGB data ([0..1] for floats or [0..255] for integers).\n",
      "Clipping input data to the valid range for imshow with RGB data ([0..1] for floats or [0..255] for integers).\n",
      "Clipping input data to the valid range for imshow with RGB data ([0..1] for floats or [0..255] for integers).\n",
      "Clipping input data to the valid range for imshow with RGB data ([0..1] for floats or [0..255] for integers).\n",
      "Clipping input data to the valid range for imshow with RGB data ([0..1] for floats or [0..255] for integers).\n",
      "Clipping input data to the valid range for imshow with RGB data ([0..1] for floats or [0..255] for integers).\n",
      "Clipping input data to the valid range for imshow with RGB data ([0..1] for floats or [0..255] for integers).\n",
      "Clipping input data to the valid range for imshow with RGB data ([0..1] for floats or [0..255] for integers).\n",
      "Clipping input data to the valid range for imshow with RGB data ([0..1] for floats or [0..255] for integers).\n",
      "Clipping input data to the valid range for imshow with RGB data ([0..1] for floats or [0..255] for integers).\n",
      "Clipping input data to the valid range for imshow with RGB data ([0..1] for floats or [0..255] for integers).\n",
      "Clipping input data to the valid range for imshow with RGB data ([0..1] for floats or [0..255] for integers).\n",
      "Clipping input data to the valid range for imshow with RGB data ([0..1] for floats or [0..255] for integers).\n",
      "Clipping input data to the valid range for imshow with RGB data ([0..1] for floats or [0..255] for integers).\n",
      "Clipping input data to the valid range for imshow with RGB data ([0..1] for floats or [0..255] for integers).\n"
     ]
    },
    {
     "name": "stderr",
     "output_type": "stream",
     "text": [
      "Clipping input data to the valid range for imshow with RGB data ([0..1] for floats or [0..255] for integers).\n",
      "Clipping input data to the valid range for imshow with RGB data ([0..1] for floats or [0..255] for integers).\n",
      "Clipping input data to the valid range for imshow with RGB data ([0..1] for floats or [0..255] for integers).\n",
      "Clipping input data to the valid range for imshow with RGB data ([0..1] for floats or [0..255] for integers).\n",
      "Clipping input data to the valid range for imshow with RGB data ([0..1] for floats or [0..255] for integers).\n",
      "Clipping input data to the valid range for imshow with RGB data ([0..1] for floats or [0..255] for integers).\n",
      "Clipping input data to the valid range for imshow with RGB data ([0..1] for floats or [0..255] for integers).\n",
      "Clipping input data to the valid range for imshow with RGB data ([0..1] for floats or [0..255] for integers).\n",
      "Clipping input data to the valid range for imshow with RGB data ([0..1] for floats or [0..255] for integers).\n",
      "Clipping input data to the valid range for imshow with RGB data ([0..1] for floats or [0..255] for integers).\n",
      "Clipping input data to the valid range for imshow with RGB data ([0..1] for floats or [0..255] for integers).\n",
      "Clipping input data to the valid range for imshow with RGB data ([0..1] for floats or [0..255] for integers).\n",
      "Clipping input data to the valid range for imshow with RGB data ([0..1] for floats or [0..255] for integers).\n",
      "Clipping input data to the valid range for imshow with RGB data ([0..1] for floats or [0..255] for integers).\n",
      "Clipping input data to the valid range for imshow with RGB data ([0..1] for floats or [0..255] for integers).\n",
      "Clipping input data to the valid range for imshow with RGB data ([0..1] for floats or [0..255] for integers).\n",
      "Clipping input data to the valid range for imshow with RGB data ([0..1] for floats or [0..255] for integers).\n",
      "Clipping input data to the valid range for imshow with RGB data ([0..1] for floats or [0..255] for integers).\n",
      "Clipping input data to the valid range for imshow with RGB data ([0..1] for floats or [0..255] for integers).\n",
      "Clipping input data to the valid range for imshow with RGB data ([0..1] for floats or [0..255] for integers).\n",
      "Clipping input data to the valid range for imshow with RGB data ([0..1] for floats or [0..255] for integers).\n",
      "Clipping input data to the valid range for imshow with RGB data ([0..1] for floats or [0..255] for integers).\n",
      "Clipping input data to the valid range for imshow with RGB data ([0..1] for floats or [0..255] for integers).\n",
      "Clipping input data to the valid range for imshow with RGB data ([0..1] for floats or [0..255] for integers).\n",
      "Clipping input data to the valid range for imshow with RGB data ([0..1] for floats or [0..255] for integers).\n",
      "Clipping input data to the valid range for imshow with RGB data ([0..1] for floats or [0..255] for integers).\n",
      "Clipping input data to the valid range for imshow with RGB data ([0..1] for floats or [0..255] for integers).\n",
      "Clipping input data to the valid range for imshow with RGB data ([0..1] for floats or [0..255] for integers).\n",
      "Clipping input data to the valid range for imshow with RGB data ([0..1] for floats or [0..255] for integers).\n",
      "Clipping input data to the valid range for imshow with RGB data ([0..1] for floats or [0..255] for integers).\n",
      "Clipping input data to the valid range for imshow with RGB data ([0..1] for floats or [0..255] for integers).\n",
      "Clipping input data to the valid range for imshow with RGB data ([0..1] for floats or [0..255] for integers).\n",
      "Clipping input data to the valid range for imshow with RGB data ([0..1] for floats or [0..255] for integers).\n",
      "Clipping input data to the valid range for imshow with RGB data ([0..1] for floats or [0..255] for integers).\n",
      "Clipping input data to the valid range for imshow with RGB data ([0..1] for floats or [0..255] for integers).\n",
      "Clipping input data to the valid range for imshow with RGB data ([0..1] for floats or [0..255] for integers).\n",
      "Clipping input data to the valid range for imshow with RGB data ([0..1] for floats or [0..255] for integers).\n",
      "Clipping input data to the valid range for imshow with RGB data ([0..1] for floats or [0..255] for integers).\n",
      "Clipping input data to the valid range for imshow with RGB data ([0..1] for floats or [0..255] for integers).\n",
      "Clipping input data to the valid range for imshow with RGB data ([0..1] for floats or [0..255] for integers).\n",
      "Clipping input data to the valid range for imshow with RGB data ([0..1] for floats or [0..255] for integers).\n",
      "Clipping input data to the valid range for imshow with RGB data ([0..1] for floats or [0..255] for integers).\n",
      "Clipping input data to the valid range for imshow with RGB data ([0..1] for floats or [0..255] for integers).\n",
      "Clipping input data to the valid range for imshow with RGB data ([0..1] for floats or [0..255] for integers).\n",
      "Clipping input data to the valid range for imshow with RGB data ([0..1] for floats or [0..255] for integers).\n",
      "Clipping input data to the valid range for imshow with RGB data ([0..1] for floats or [0..255] for integers).\n",
      "Clipping input data to the valid range for imshow with RGB data ([0..1] for floats or [0..255] for integers).\n",
      "Clipping input data to the valid range for imshow with RGB data ([0..1] for floats or [0..255] for integers).\n",
      "Clipping input data to the valid range for imshow with RGB data ([0..1] for floats or [0..255] for integers).\n",
      "Clipping input data to the valid range for imshow with RGB data ([0..1] for floats or [0..255] for integers).\n",
      "Clipping input data to the valid range for imshow with RGB data ([0..1] for floats or [0..255] for integers).\n",
      "Clipping input data to the valid range for imshow with RGB data ([0..1] for floats or [0..255] for integers).\n",
      "Clipping input data to the valid range for imshow with RGB data ([0..1] for floats or [0..255] for integers).\n",
      "Clipping input data to the valid range for imshow with RGB data ([0..1] for floats or [0..255] for integers).\n",
      "Clipping input data to the valid range for imshow with RGB data ([0..1] for floats or [0..255] for integers).\n",
      "Clipping input data to the valid range for imshow with RGB data ([0..1] for floats or [0..255] for integers).\n",
      "Clipping input data to the valid range for imshow with RGB data ([0..1] for floats or [0..255] for integers).\n",
      "Clipping input data to the valid range for imshow with RGB data ([0..1] for floats or [0..255] for integers).\n",
      "Clipping input data to the valid range for imshow with RGB data ([0..1] for floats or [0..255] for integers).\n",
      "Clipping input data to the valid range for imshow with RGB data ([0..1] for floats or [0..255] for integers).\n",
      "Clipping input data to the valid range for imshow with RGB data ([0..1] for floats or [0..255] for integers).\n",
      "Clipping input data to the valid range for imshow with RGB data ([0..1] for floats or [0..255] for integers).\n",
      "Clipping input data to the valid range for imshow with RGB data ([0..1] for floats or [0..255] for integers).\n",
      "Clipping input data to the valid range for imshow with RGB data ([0..1] for floats or [0..255] for integers).\n",
      "Clipping input data to the valid range for imshow with RGB data ([0..1] for floats or [0..255] for integers).\n",
      "Clipping input data to the valid range for imshow with RGB data ([0..1] for floats or [0..255] for integers).\n",
      "Clipping input data to the valid range for imshow with RGB data ([0..1] for floats or [0..255] for integers).\n",
      "Clipping input data to the valid range for imshow with RGB data ([0..1] for floats or [0..255] for integers).\n",
      "Clipping input data to the valid range for imshow with RGB data ([0..1] for floats or [0..255] for integers).\n",
      "Clipping input data to the valid range for imshow with RGB data ([0..1] for floats or [0..255] for integers).\n",
      "Clipping input data to the valid range for imshow with RGB data ([0..1] for floats or [0..255] for integers).\n",
      "Clipping input data to the valid range for imshow with RGB data ([0..1] for floats or [0..255] for integers).\n",
      "Clipping input data to the valid range for imshow with RGB data ([0..1] for floats or [0..255] for integers).\n",
      "Clipping input data to the valid range for imshow with RGB data ([0..1] for floats or [0..255] for integers).\n",
      "Clipping input data to the valid range for imshow with RGB data ([0..1] for floats or [0..255] for integers).\n"
     ]
    },
    {
     "name": "stderr",
     "output_type": "stream",
     "text": [
      "Clipping input data to the valid range for imshow with RGB data ([0..1] for floats or [0..255] for integers).\n",
      "Clipping input data to the valid range for imshow with RGB data ([0..1] for floats or [0..255] for integers).\n",
      "Clipping input data to the valid range for imshow with RGB data ([0..1] for floats or [0..255] for integers).\n",
      "Clipping input data to the valid range for imshow with RGB data ([0..1] for floats or [0..255] for integers).\n",
      "Clipping input data to the valid range for imshow with RGB data ([0..1] for floats or [0..255] for integers).\n",
      "Clipping input data to the valid range for imshow with RGB data ([0..1] for floats or [0..255] for integers).\n",
      "Clipping input data to the valid range for imshow with RGB data ([0..1] for floats or [0..255] for integers).\n",
      "Clipping input data to the valid range for imshow with RGB data ([0..1] for floats or [0..255] for integers).\n",
      "Clipping input data to the valid range for imshow with RGB data ([0..1] for floats or [0..255] for integers).\n",
      "Clipping input data to the valid range for imshow with RGB data ([0..1] for floats or [0..255] for integers).\n",
      "Clipping input data to the valid range for imshow with RGB data ([0..1] for floats or [0..255] for integers).\n",
      "Clipping input data to the valid range for imshow with RGB data ([0..1] for floats or [0..255] for integers).\n",
      "Clipping input data to the valid range for imshow with RGB data ([0..1] for floats or [0..255] for integers).\n",
      "Clipping input data to the valid range for imshow with RGB data ([0..1] for floats or [0..255] for integers).\n",
      "Clipping input data to the valid range for imshow with RGB data ([0..1] for floats or [0..255] for integers).\n",
      "Clipping input data to the valid range for imshow with RGB data ([0..1] for floats or [0..255] for integers).\n",
      "Clipping input data to the valid range for imshow with RGB data ([0..1] for floats or [0..255] for integers).\n",
      "Clipping input data to the valid range for imshow with RGB data ([0..1] for floats or [0..255] for integers).\n",
      "Clipping input data to the valid range for imshow with RGB data ([0..1] for floats or [0..255] for integers).\n",
      "Clipping input data to the valid range for imshow with RGB data ([0..1] for floats or [0..255] for integers).\n",
      "Clipping input data to the valid range for imshow with RGB data ([0..1] for floats or [0..255] for integers).\n",
      "Clipping input data to the valid range for imshow with RGB data ([0..1] for floats or [0..255] for integers).\n",
      "Clipping input data to the valid range for imshow with RGB data ([0..1] for floats or [0..255] for integers).\n",
      "Clipping input data to the valid range for imshow with RGB data ([0..1] for floats or [0..255] for integers).\n",
      "Clipping input data to the valid range for imshow with RGB data ([0..1] for floats or [0..255] for integers).\n",
      "Clipping input data to the valid range for imshow with RGB data ([0..1] for floats or [0..255] for integers).\n",
      "Clipping input data to the valid range for imshow with RGB data ([0..1] for floats or [0..255] for integers).\n",
      "Clipping input data to the valid range for imshow with RGB data ([0..1] for floats or [0..255] for integers).\n",
      "Clipping input data to the valid range for imshow with RGB data ([0..1] for floats or [0..255] for integers).\n",
      "Clipping input data to the valid range for imshow with RGB data ([0..1] for floats or [0..255] for integers).\n",
      "Clipping input data to the valid range for imshow with RGB data ([0..1] for floats or [0..255] for integers).\n",
      "Clipping input data to the valid range for imshow with RGB data ([0..1] for floats or [0..255] for integers).\n",
      "Clipping input data to the valid range for imshow with RGB data ([0..1] for floats or [0..255] for integers).\n",
      "Clipping input data to the valid range for imshow with RGB data ([0..1] for floats or [0..255] for integers).\n",
      "Clipping input data to the valid range for imshow with RGB data ([0..1] for floats or [0..255] for integers).\n",
      "Clipping input data to the valid range for imshow with RGB data ([0..1] for floats or [0..255] for integers).\n",
      "Clipping input data to the valid range for imshow with RGB data ([0..1] for floats or [0..255] for integers).\n",
      "Clipping input data to the valid range for imshow with RGB data ([0..1] for floats or [0..255] for integers).\n",
      "Clipping input data to the valid range for imshow with RGB data ([0..1] for floats or [0..255] for integers).\n",
      "Clipping input data to the valid range for imshow with RGB data ([0..1] for floats or [0..255] for integers).\n",
      "Clipping input data to the valid range for imshow with RGB data ([0..1] for floats or [0..255] for integers).\n",
      "Clipping input data to the valid range for imshow with RGB data ([0..1] for floats or [0..255] for integers).\n",
      "Clipping input data to the valid range for imshow with RGB data ([0..1] for floats or [0..255] for integers).\n",
      "Clipping input data to the valid range for imshow with RGB data ([0..1] for floats or [0..255] for integers).\n",
      "Clipping input data to the valid range for imshow with RGB data ([0..1] for floats or [0..255] for integers).\n",
      "Clipping input data to the valid range for imshow with RGB data ([0..1] for floats or [0..255] for integers).\n",
      "Clipping input data to the valid range for imshow with RGB data ([0..1] for floats or [0..255] for integers).\n",
      "Clipping input data to the valid range for imshow with RGB data ([0..1] for floats or [0..255] for integers).\n",
      "Clipping input data to the valid range for imshow with RGB data ([0..1] for floats or [0..255] for integers).\n",
      "Clipping input data to the valid range for imshow with RGB data ([0..1] for floats or [0..255] for integers).\n",
      "Clipping input data to the valid range for imshow with RGB data ([0..1] for floats or [0..255] for integers).\n",
      "Clipping input data to the valid range for imshow with RGB data ([0..1] for floats or [0..255] for integers).\n",
      "Clipping input data to the valid range for imshow with RGB data ([0..1] for floats or [0..255] for integers).\n",
      "Clipping input data to the valid range for imshow with RGB data ([0..1] for floats or [0..255] for integers).\n",
      "Clipping input data to the valid range for imshow with RGB data ([0..1] for floats or [0..255] for integers).\n",
      "Clipping input data to the valid range for imshow with RGB data ([0..1] for floats or [0..255] for integers).\n",
      "Clipping input data to the valid range for imshow with RGB data ([0..1] for floats or [0..255] for integers).\n",
      "Clipping input data to the valid range for imshow with RGB data ([0..1] for floats or [0..255] for integers).\n",
      "Clipping input data to the valid range for imshow with RGB data ([0..1] for floats or [0..255] for integers).\n",
      "Clipping input data to the valid range for imshow with RGB data ([0..1] for floats or [0..255] for integers).\n",
      "Clipping input data to the valid range for imshow with RGB data ([0..1] for floats or [0..255] for integers).\n",
      "Clipping input data to the valid range for imshow with RGB data ([0..1] for floats or [0..255] for integers).\n",
      "Clipping input data to the valid range for imshow with RGB data ([0..1] for floats or [0..255] for integers).\n",
      "Clipping input data to the valid range for imshow with RGB data ([0..1] for floats or [0..255] for integers).\n",
      "Clipping input data to the valid range for imshow with RGB data ([0..1] for floats or [0..255] for integers).\n",
      "Clipping input data to the valid range for imshow with RGB data ([0..1] for floats or [0..255] for integers).\n",
      "Clipping input data to the valid range for imshow with RGB data ([0..1] for floats or [0..255] for integers).\n",
      "Clipping input data to the valid range for imshow with RGB data ([0..1] for floats or [0..255] for integers).\n",
      "Clipping input data to the valid range for imshow with RGB data ([0..1] for floats or [0..255] for integers).\n",
      "Clipping input data to the valid range for imshow with RGB data ([0..1] for floats or [0..255] for integers).\n",
      "Clipping input data to the valid range for imshow with RGB data ([0..1] for floats or [0..255] for integers).\n",
      "Clipping input data to the valid range for imshow with RGB data ([0..1] for floats or [0..255] for integers).\n",
      "Clipping input data to the valid range for imshow with RGB data ([0..1] for floats or [0..255] for integers).\n",
      "Clipping input data to the valid range for imshow with RGB data ([0..1] for floats or [0..255] for integers).\n",
      "Clipping input data to the valid range for imshow with RGB data ([0..1] for floats or [0..255] for integers).\n"
     ]
    },
    {
     "name": "stderr",
     "output_type": "stream",
     "text": [
      "Clipping input data to the valid range for imshow with RGB data ([0..1] for floats or [0..255] for integers).\n",
      "Clipping input data to the valid range for imshow with RGB data ([0..1] for floats or [0..255] for integers).\n",
      "Clipping input data to the valid range for imshow with RGB data ([0..1] for floats or [0..255] for integers).\n"
     ]
    }
   ],
   "source": [
    "cplot.plot_cars(x1, x2, xamb, folder)"
   ]
  },
  {
   "cell_type": "code",
   "execution_count": 62,
   "metadata": {},
   "outputs": [
    {
     "name": "stdout",
     "output_type": "stream",
     "text": [
      "Saving video to: results/20200214-101746_newsclassesibr/20200214-101746_newsclassesibrcar.mp4\n"
     ]
    }
   ],
   "source": [
    "CIRCLES = False\n",
    "if CIRCLES:\n",
    "    vid_fname = folder + subdir_name + 'circle.mp4'\n",
    "else:\n",
    "    vid_fname = folder + subdir_name + 'car.mp4'   \n",
    "if os.path.exists(vid_fname):\n",
    "    os.remove(vid_fname)\n",
    "cmd = 'ffmpeg -r 16 -f image2 -i {}imgs/%03d.png -vcodec libx264 -crf 25  -pix_fmt yuv420p {}'.format(folder, vid_fname)\n",
    "os.system(cmd)\n",
    "print('Saving video to: {}'.format(vid_fname))"
   ]
  },
  {
   "cell_type": "code",
   "execution_count": 63,
   "metadata": {
    "scrolled": true
   },
   "outputs": [
    {
     "data": {
      "text/html": [
       "<video alt=\"test\" controls>\n",
       "                <source src=\"data:video/mp4;base64,AAAAIGZ0eXBpc29tAAACAGlzb21pc28yYXZjMW1wNDEAAAAIZnJlZQAAKVxtZGF0AAACoAYF//+c3EXpvebZSLeWLNgg2SPu73gyNjQgLSBjb3JlIDE1MiAtIEguMjY0L01QRUctNCBBVkMgY29kZWMgLSBDb3B5bGVmdCAyMDAzLTIwMTcgLSBodHRwOi8vd3d3LnZpZGVvbGFuLm9yZy94MjY0Lmh0bWwgLSBvcHRpb25zOiBjYWJhYz0xIHJlZj0zIGRlYmxvY2s9MTowOjAgYW5hbHlzZT0weDM6MHgxMTMgbWU9aGV4IHN1Ym1lPTcgcHN5PTEgcHN5X3JkPTEuMDA6MC4wMCBtaXhlZF9yZWY9MSBtZV9yYW5nZT0xNiBjaHJvbWFfbWU9MSB0cmVsbGlzPTEgOHg4ZGN0PTEgY3FtPTAgZGVhZHpvbmU9MjEsMTEgZmFzdF9wc2tpcD0xIGNocm9tYV9xcF9vZmZzZXQ9LTIgdGhyZWFkcz05IGxvb2thaGVhZF90aHJlYWRzPTEgc2xpY2VkX3RocmVhZHM9MCBucj0wIGRlY2ltYXRlPTEgaW50ZXJsYWNlZD0wIGJsdXJheV9jb21wYXQ9MCBjb25zdHJhaW5lZF9pbnRyYT0wIGJmcmFtZXM9MyBiX3B5cmFtaWQ9MiBiX2FkYXB0PTEgYl9iaWFzPTAgZGlyZWN0PTEgd2VpZ2h0Yj0xIG9wZW5fZ29wPTAgd2VpZ2h0cD0yIGtleWludD0yNTAga2V5aW50X21pbj0xNiBzY2VuZWN1dD00MCBpbnRyYV9yZWZyZXNoPTAgcmNfbG9va2FoZWFkPTQwIHJjPWNyZiBtYnRyZWU9MSBjcmY9MjUuMCBxY29tcD0wLjYwIHFwbWluPTAgcXBtYXg9NjkgcXBzdGVwPTQgaXBfcmF0aW89MS40MCBhcT0xOjEuMDAAgAAABWtliIQAN//+9q78yytHC5UuHVl7s1Hy6Ely/YgwfWgAAAMAAAMAAAMAAAMAAVdmYZGd67ZtuoAAAAMAAAMAfAAAAwDqAAADA3QAABMwAAB9AAADA1GzeB1PzAxAMxRlNaVyo9ny2Kyn+jStqoJ1vBRaPiRLrEZXrRQjBrXZsJ9k+goLfik7rD4lAd/GJvVyTZZ8KcwVjjnU1C7a7sZZQCttEkyaCWr7S44/qXdTLdNAca3eu6hAAAAOYAMm2MGdKrnAwiCIual8VSRJ9kyMWM8snyPAAA0PKsPmPEvKV6/mpjzdaLObYL8DjyLRW2gAXEMpflfR7E1gVPY97ONm/vjrF6gVT/ULte/dR+ZM1DVH+qV9tD2yUeRmQa047Rgvn/y3gPRcBm1waV2xqUlVbY6oVRxv1w1W+xsbbLU58l5rlijE2xMv56CtYqu4ziD2m/DJpVmTkBZiJxEtrml4rQu6Kiteo2lUZuU0/IRfjAclm3rGDOfFZJ3j7aciKVcZpLY0rUdJNdXocA66j9sw+CBAgxBLOvqFd6SgpME9WUS92AAAAwAAAwDn8Avextf1VzrltZ1D3wyNzM6cMviMY0OGpY+7cuQTciFoqSWDc6iCi/g1Qzj0HiI1ReIDEZFufzmSuU6w1vBxSR8nqqxJOZCek6l4hAMLNu4p5biqWJxs52hQX6rcvsE7bPP6AiBJJ81OD/R1iDpsKTDrJsjwdAsyCeYXi+iekjjvBjABw1gzQ66Mt/kTN3jMtf7dDw0cgahXkfeRGvu1trcM3MVaABLMETrW9Y1vwbGdWlmhn5ysUn2+QV8dUXZKv0KKJUNDuDcYVdJr+4vi+qKlRJdxVW/ZK2wAAAMAuhN0cx9UinuHnVfl+ug+AjgVPZjRIjdfGBcjfxwyPeWEMiUvfY4LA/0UA0JGpTvPl/R6zigUIatX7N2GCqM7vfPBTMRMlEEvPEmiFJ5qFNVkFysdSMS5P1CKEX5PugAuK6awedQvqwv0WcP1I6PEN8AdcYA2nYd/eW35clggH7O77O20TOHEGh4L29oFXxyjPeAYCI773ybBkshOj0fWAKXcP+BF6UCgTmkFwDGlAHVcIRQUCxwVpDeJZZLOv9/jU8Oc24VynguEIXBfj8lt/05y+PPFLbLpN3DMuF3/6GBfWDfJv3+k3qGFy9P61bmNQ+XlDzQ551UgzxgXzWebnYaO7eOlsObcUlyPQGkpE+fID/9wrZidajizVp+mMMn8o5LgAREmWkZzFOE3IzxUYwTInYO4WVqYLtycztDGhigXMvr6TEY/UFqKEyq9dNM76Rmqn8J5KvsyzPcX/CW3kMwuKbEmo63NhFjfJ+D1kJzfqmrdoroc+FtXm3mOVav1VwmtR4Eqo3mC68GmIEsDZLQXhUMinPo0PhKiqn+whnuQJYCYfi0M4cEm3wMUAAguY6eYRvRd8m/wqO3DijQ4SZMVuGhPV4tLNbVV7VpsajkMOejs84JeZFZFhAfMkQM73VGPD9UPmPyPkfRgObtEvhgNVS/CvLaztXH6nCdrtUn5iuOywCWVIk8EB+saCETX2c6VfJKRC731P0UD0vGLQR6C+gm2jnBPeaxxbJd0yM1k7tBFxhUilbImqzmOluTyI2DuyRdFGadsYzx0i2fb9kUQ2xBL8u1anqk5bBfjShkzz2A/ayKU7b9MNpqWwUwgndvURmI/7YcVrlsWKXKVHKdbGEeMH07li2lV1ShRtKE9joPxK2WO47kuYm2NSqzXMXdjjAD1mOkMevTi/jcinV4KUAAAAwAkI8HfxGdYAAADAAADAAADAAADAAADAAADAAADAAADAAADAAADAAADAAADABbxAAAAw0GaIWxDf/6MsAAAAwABOCBfX2PAAKUPS4iArzlCu3/2027/Pu98yGDl+fdQJ7qVvr/2lGMyWUn95Y5vFL94Opjj+4OQOus4dQH/2lxFopbqBKHkV8/FxVL/WS4gstwwrYW9tmNOvio5iMcV7xLYbNRFP9VUsvnmOnhzeSQDSKg7pF8yB38oA8Yqu+/YleWVUXCQvrdMxxiBWnkxhhV3HXx9GNB4/8zyexDAu3724yXXoiRzVQndL+IZi2gW6WqdK7W/wAAAAFpBmkI8IZMphDf//oywAAADAAEx+hUlcLd6KcttUt1r3lsYmAHzc1cwzkbwFOidosUj2hw8vREyIoTaD+T4dQqBSX91J2Kc9TryG+ktpJyT9kM5BLkn6FfdfWEAAABbQZpjSeEPJlMCG//+jLAAAAMAABQvcuDCqTEQCK0JicaX2ylIAbUm5lPwUmyJr+N6F3Zzr35vWKzgp3JRw7qBKvV/bCJpm1lcgiKANDclZIG0hMp4mhmlV3PhRQAAAFNBmoRJ4Q8mUwIb//6MsAAAAwAAE56bz/dgAg5wBHre8vHFu91dpO3+SRDqAO66SNNDgAom3iQq9TyExt0B4ovv4N8rGNZJcirQEHs6GXw/yoT3gQAAADVBmqVJ4Q8mUwIb//6MsAAAAwAAEwBs2+yVpGMod/UmnxgDfY0AUIXf7kou/o1RayXPQpjLgQAAAEZBmsZJ4Q8mUwIb//6MsAAAAwAAEx+0+VtyUAHQxG8G2Jge0R7jy8G2xnrX34kaUoFfFfUgtskcH5RdykdDaULy75jy3OOJAAAAOkGa50nhDyZTAhv//oywAAADAAASn6EDWbWcJ3BC87UAJQMO5P8WTGyucMEbCSxlsJT6KYyF2+ug7GcAAAA4QZsISeEPJlMCG//+jLAAAAMAABIem891trv2cSNweACufQavaJ1+PwDfqdR45Z53QIrs7FZ5zHwAAAA6QZspSeEPJlMCG//+jLAAAAMAABGAbNrX23oQGQ6DXgBmxTGgG8ADvjtxDR+sU4kPQDlksKMgsWQx4gAAAFdBm0pJ4Q8mUwIb//6MsAAAAwAAEZ+Je1m1P7b+DNNPjfAB8Iow3h2QmPCRf+tMUEw6RDBFnO05S6Nts1t7t0BxodI3mmL7NQaLPWhPvbcqfXyuVewvGMkAAAA6QZtrSeEPJlMCG//+jLAAAAMAABEfiXtZtzgNk+33I4fFpVY+gF+DLCHj8g/JICIU/vO0zlCySo+hEAAAAFdBm4xJ4Q8mUwIb//6MsAAAAwAAEJ6bz3WWMYATfyHMXupx6UsBu7UnY5BsQJwWV1BjXxODDwlpUGRD3dFan2AkRl9fP24VBjV/kg6dx9M5mWbhmfyy32AAAABAQZutSeEPJlMCG//+jLAAAAMAABAFFkl5Ett43/wAA/LVxgqiWplwqGgl0nPFCi8jIn0gnup+eGeBqrioeEfEwQAAAF9Bm85J4Q8mUwIb//6MsAAAAwAAEB+Je1m+hAL83wXvNPcCj1kUY9tvgkq8m9j6ra/I/xucgppqzSpSWEu81t7gXoeeM8d0su7rYTyQVyyVC30ftrh5wWGwKW2QKDQMDwAAAK5Bm+9J4Q8mUwIb//6MsAAAAwAA7oUVgBbPUoTLvTCd7ybu7Ond+txx11ed+tujPosZJbtCT2a7b/bLyOlL2HWoci4NXjkhXRbncn5sx4UhLlhORGZI1zk9yJTIqR8I52u6O62fdsaYcHXtV378ednOIamwDJk2kMdmDztz5EThhabAWYsS5z2L7jPDflxt9gBF5SXZ6aF79tRH1WcZ4hLRbJUYLkWW49VR2NJIGsEAAABRQZoQSeEPJlMCG//+jLAAAAMAAO6jF/dPjBvuPcLk6OU/XAMn0AFyOD0jyZf4rp+Pl77AXqL/DASDVnGbU3H+go/Ls9qmeCb9eQNUUgAAAwE7AAAAYEGaMUnhDyZTAhv//oywAAADAADpLdb5uswwzxkNhPlqMe0bIVQkUD2A0tBn9XCd55SO1HbcxTbHIoLKr6N1vEIy95r8xASOO9OtknGMFf44EE9E/KCeKC2FhtJ4AAAI+AAAAE1BmlJJ4Q8mUwIb//6MsAAAAwAA5HqXeLcOZ/q9ZL8VZebeAlFPQAaCj1T0IF+sP6epQ/te2E4rsQGFeC6crH4zToDkLa0F3JuH8IZRFwAAAFlBmnNJ4Q8mUwIb//6MsAAAAwAA462bNJv2kw0/F7bIurO/bKjgBW9DlKNQwShHorrR6kwAji4TLPmmZEkt99FtLtKYnEIqW/UWR9b5Da5lwmHuSeURawCsgAAAAEtBmpRJ4Q8mUwIb//6MsAAAAwAA3wpXeMkwAZ8ntyQL4Wy0cBzdonk821aw66WX69Fd4sAw2rceBLJRTt0b8I8dnc/E2aWI2AI31W4AAABdQZq1SeEPJlMCG//+jLAAAAMAAN972ZWVlgqzo8mka+unZl+AIyPXCZJ8N/bkbaJbbUVXVBWRCEj7EdXIp3CJBRHnPQvlmYPPmZ4yho99gbl6IArrHyVqkioOxjNBAAAAREGa1knhDyZTAhv//oywAAADAADZXoObzVXVFd6b2IZg1NS1zhoANBR3oa8Vlyvr3s8KN/v6AuGERDWruty509GvwaVwAAAARkGa90nhDyZTAhv//oywAAADAADULP6Z3N/NXsTbMX1VwkARfFEpYc2njMmWr87hz0mhGrW/nVqXvMnaCaBiruXcfVYP3l0AAACAQZsYSeEPJlMCG//+jLAAAAMAANV73VL3wTwcAIwNKEysuvwFAAmzk1ikMn16HuWiIZ9SOx6GBYyID2pXVF8KuEiok3ebHc90azxc0OibsAwFqqMPBu1j50duDE0AiQLnOKBaZEQzS5Mf8Dc4EXVDervljl/JhSqdNA7yIoAAA1MAAABOQZs5SeEPJlMCG//+jLAAAAMAANB72ZWVlgqzo8mka+zJcAl6ZIORndusLHyDpKFY11Vwuor5fsrb/8h+opvevFbV4nJ110SRRkAAAOmAAAAAMUGbWknhDyZTAhv//oywAAADAADKXoikbuWn4TyiWJAAzXjSHTI7C46JQ3+AYAAAFJEAAABBQZt7SeEPJlMCG//+jLAAAAMAAMUs8qDcmYC0odjfIBGP1w0OGSO/abSE5Rie9F6u47LlsyPAzLLSvNty+oAABSQAAABAQZucSeEPJlMCG//+jLAAAAMAAMZ72oQdD66BY+xnsMxV/QNIBma8VqV2FG4WH38xxKnpHatkl/+Vzbc4N5PlwwAAAD1Bm71J4Q8mUwIb//6MsAAAAwAAwF6Io87lp+E8JuaZtTxgkLH7Rrir3NAASfMKihdOkN1K0h3vlsjddR1HAAAAL0Gb3knhDyZTAhv//oywAAADAAC7VP6cli6sk6CzCPnN7Lx+5priXo/9Q6OQc46gAAAAQEGb/0nhDyZTAhv//oywAAADAAC8fHLazbKXzjPYY9OwARJEeSJWYbYEWrgBOuOSOO2IrgNS7vc/3W1aevs1EDQAAAA3QZoASeEPJlMCG//+jLAAAAMAALcGiKRuURijPz8dJgC/AJ7kCjKEI/FFinO37m4u8z11o0M+6QAAAD5BmiFJ4Q8mUwIb//6MsAAAAwAAsoaIo87lp+E8JuZEzgBskooXSzEAuSKsEJveOiIOXBEkp9EXROUFTVPywAAAAExBmkJJ4Q8mUwIb//6MsAAAAwAArdT+nJY8BEAIUmy0SnaUMNcinmovSlu5JGOEfdXIWC/mHf12wFXToy0zZ5ktROvsrrESPBaaMkfhAAAAYkGaY0nhDyZTAhv//oywAAADAACu/HMa+gggBMpU4BN3mf3Lp5cbd0X/qdromnQXLMXCaE0ZZ8I8MX4EfJDPq3Xkddw5aHfuc0wtDga7IO591f33ZEG9mox6sGx1gaBq4I5gAAAAQ0GahEnhDyZTAhv//oywAAADAACk1P7aAgBm8gKTdN42lDH2U4PETDCLT23riSoiA2EWLjuziB6CbIGGmU1S8MhJqYEAAABKQZqlSeEPJlMCG//+jLAAAAMAAKUGhB80ALXWox7OzqpbPN5/CTfP2vqL3rQOskFh3pKFvsHJyCvO44C+7ehesFhgDXy0f1qdDzEAAABaQZrGSeEPJlMCG//+jLAAAAMAAKCGiZPoAFs9ShMlLk/L53YufuUuIEC3KT9+i7ESSzPW9tGOauEmJZj2xZAXfTqp0MEhqy0D2/DYVZd5ALBsVxU5nwSzPdynAAAAPkGa50nhDyZTAhv//oywAAADAACcI2Mn0AC11qMeo/RHL53Yvwl3aegMNtd4taHRiDeBXf36z7wTU3IJwtNRAAAAMUGbCEnhDyZTAhv//oywAAADAACYA2bjEm+Jd2NBuVSvwcaeFoVsALV+GnKvwjOdEL0AAABFQZspSeEPJlMCG//+jLAAAAMAAJgpk2DUALSHbF0o82+gu5CAlwi09h5ftEbZoDw/xxRcMHOihwU1oNDIMDrqFAxcuyLQAAAAS0GbSknhDyZTAhv//oywAAADAACUI37BqAFpWoGE2SgpPCeYHrU0mu7cswqt9KKjakpp2ELV8nWvDFBXb3PaW+tBYeonOL817BPNXwAAAExBm2tJ4Q8mUwIb//6MsAAAAwAAkCN+wagBaX6xdKPN/HDWrDRdS6/9kuMbUgvxYBI917fLH+1rMi775kr0aWmn8smy37W277e0ScEgAAAAVEGbjEnhDyZTAhv//oywAAADAACMgwO24QA279YulHmpTz3Jptipdf+wrTnCKwnK/8ZjXbnJ0LRBP+GR9MAoU4YlINIcgUHNFsrFTdFFoG7XRXkVvwAAAFlBm61J4Q8mUwIb//6MsAAAAwAAiCOAP7wngQsLBUYUI/VdnMMoAheFtW8jEUfbph4inApBuCM32ShJkt/2Z6q108njvNHX3d6iHC1OUwh5SVCq0th8AAAbMQAAAEJBm85J4Q8mUwIb//6MsAAAAwAACMA2bWvtvRlYoANWC27bTAtlYNlU52QeVgZdtus/0eXarTrpPHlyEoT4y/n+K28AAABSQZvvSeEPJlMCG//+jLAAAAMAAAjPwQhhWHIIbU2UgDMlQX3fG6VXNh+cjwpM877KLJxo+77awMQ/GbWQNaODYQ5vCv7IL39GNxMXVnp4wJpceQAAADxBmhBJ4Q8mUwIb//6MsAAAAwAACI/EwW1F9CAiRZbAdmXpw+qr93KnbgRXY8snx4EOnHgBmcNrjKAAAS8AAAAwQZoxSeEPJlMCG//+jLAAAAMAAAhP0IGs2twa+Xk8DqN/jeF1DHnUctqbCKoAABHwAAAAN0GaUknhDyZTAhv//oywAAADAAAID03nuuw4wBEb4vXnnVGnhwCgxYaTIBjQe7Kj+bUdrQAADlkAAAApQZpzSeEPJlMCG//+jLAAAAMAAAfM/JDhqZ/PENLXmBCTSbhvAAADAXsAAAA3QZqUSeEPJlMCG//+jLAAAAMAAAfX1syuvmVUK6XEBAEPX2IyYydmqN72m82OI/7ULQAAAwB8wAAAAC9BmrVJ4Q8mUwIb//6MsAAAAwAAB6vWz9xFqO5l+6kqVd7YAZiZxL02v00AAAMBtwAAAFpBmtZJ4Q8mUwIb//6MsAAAAwAAB3/Wz9xFppn1MKDdubhCCAAqWUZGWe01Yfa7pqEVkA8rkDqb9DAxCixKFb5qVJmtF3+6REHXBu56/bTaHDOG2MoZHyxJlfAAAAA+QZr3SeEPJlMCG//+jLAAAAMAAAdT1s/cRakK1oAbeN8vxy8VtEIbkA8enMpQT3kMracwQ4GFIvVNAAADAc0AAAA6QZsYSeEPJlMCG//+jLAAAAMAAAcnhOftxFwvNXiqADQgeCtvWzjnMDmUjFviZX2lZiBRxcIDSGXytwAAAEpBmzlJ4Q8mUwIb//6MsAAAAwAABvKREPlAO3JEvCB6tyYefaLOo7gCAur6htKGkE4wBfwvhpW4ogwrUz6VRvBQ2T8eBc2o0bdCPgAAADJBm1pJ4Q8mUwIb//6MsAAAAwAABvvWzK/Hb/M7ZHRAO832gHo9yhM9X1GfXMmMd1QDgQAAADlBm3tJ4Q8mUwIb//6MsAAAAwAABtPW0LsFHMADiXYKYSn6Slw1ZAPK7WbMLmXyZuYj1AhzaAAACvgAAAAsQZucSeEPJlMCG//+jLAAAAMAAAar1s/cRamcMpyNAdSVfJ00ULE0AAADAl8AAAAyQZu9SeEPJlMCG//+jLAAAAMAAAaD1syvx2/zO3AeB1J33xZQJ1qK6MaQNxbODv9ZR+8AAAAxQZveSeEPJlMCG//+jLAAAAMAAAZbhMhZZT1FQyTJsY8vPN7w6nrWsOTjAY0rX7BALgAAAC5Bm/9J4Q8mUwIb//6MsAAAAwAABilotOTMjJ7DGvkz/bftJ5p3vmykYCX8noBAAAAASEGaAEnhDyZTAhv//oywAAADAAAGM9bQuwUXVF4jzAE470Jo+JKKra7QYIxrXI1k+hjjEZPd68OD3iqzizAEdjunuxQAAAMCkwAAAC9BmiFJ4Q8mUwIb//6MsAAAAwAABgvWzK/HPOS+vl6dSeXLkJoWoBhr3TpWrZ6TygAAADBBmkJJ4Q8mUwId//6eEAAAAwAABdfd6UY0ZJM9RhxGi062gjee13My/ZuO6GXFIqEAAAAvQZpjSeEPJlMCHf/+nhAAAAMAAAWz3elGNGSTRPZ7a32toI2v7+2pXUwjLtyr5HQAAABJQZqESeEPJlMCHf/+nhAAAAMAAAWP3elFuZIAM326WQb6Xg/QaasQ37FXTM/BTo05cn3IE5d0TV96flxm8FBApLyA5fWox93fQQAAADNBmqVJ4Q8mUwId//6eEAAAAwAABWuZc61nG0k0TqIGiQzbaCN+Mlm4kCXIP+DmUfYY0E0AAAAtQZrGSeEPJlMCHf/+nhAAAAMAAAU+vTT/I0vFC22IOiOWj+0EdtpejnUAAB3RAAAAK0Ga50nhDyZTAh3//p4QAAADAAAFR93pRjRkkz1GHEb9GwBoRy/VXAAAjYEAAAApQZsISeEPJlMCH//+p4QAAAMAAAMBUfeAdihksaoFPH7/Bg6saAAADpgAAAEdQZsrSeEPJlMCHf/+nhAAAAMAAAT/3frBocP34GYgAC6j7haSAi6SBP9AO60xsvMtpnNzUvWrtXLZ6y95zjLZJrIxsMWnrjDLU7bmGPRaXYtAuhdd4omcVMF+d1ohsOBTugwwOf7u6qnJt7EG05NOO9oGfD01+EAq42spRQ24jjbFa1ZcPiua8xu1/v9c9WTdzTJYh+1CmjeKcED/J37LU+FFa5R/7UrdVBc7PF608TWhX8L3/9YQwJKDpTmcUj9P+nMyP+8zvR6Yc4P2b69lcIiFQkAhjPqaKmTtudGe/u912WS59Mvfvsz2x8NxDTvaru7t4ZxUYTbizZg5lMCUR0Ccl/Ea796+Ft6zOoa3KuD/c3+PPMWDV0AAABewAAAAK0GfSUURPDP/AAADAAADAQWQgTQvPy/tPrtKMZ0IZtNFYjDG8l76/IPAAl8AAAAkAZ9qakL/AAADAAADAVBlJQGnCXlbliKxa0WYm71/CwAAAwIeAAABYUGbbkmoQWiZTAh3//6eEAAAAwAABJvixMGL+EDgLpKAIvkXlfmNURX1GXFdjRTO+iiZaJXEEwlVi7IwNY8KJO3MkWYOXCSJ6hG0l1SiX1cgPbYFSVx/S+9HTE/Hh2X3ogQANJt+f6KM7YzgNmvo3XzOYSirbssEUeNf9OqQNy25Op9HN4KzWzC9Ga6WWTwjAnegFtDMBinkffAL1a4I39Csh5U/VPNQE2QwTC4lCVYDzfzLLvQUF3gWe311FEf+37MKnzdsvxOjn/qYC8H+RkQ+A6aewdg6VbsrTsLoL5qGpqorltHmXmwteCSR+OHvwzj4tHoIUi/CsFUv5FzZ6K3dtMa7l/iNe0no1ineebqOI2vEt2UfnIxxlkEEY+BG6E3V2so/8jTST+1w35fcWdebQC6naLkiinq9mOxBCaeWoEjj043J/02GaYANv0EAp+5PGss4wd0npF3PWsAAAARMAAAAKEGfjEURLDP/AAADAAADAPMBE0QsWK40znr/YOLRTuYvliAXD6AAZUEAAAAkAZ+takL/AAADAAADATWIlF6lyupjguGEGEHqpeSS222AAAEnAAAAQkGbr0moQWyZTAh3//6eEAAAAwAABDRDWHpQmeADMZ5XSGo9150ZXcYs4XVtIRHLt7Dynzg+Ulqax1Q8Um74ycrFdwAAAEFBm9BJ4QpSZTAh3/6eEAAAAwAABDvitVT+8CQBPnQcgLVOCO0GmbTXXOXWbqnysgI4dqu4UR1Y+cYEjdaUhiqTgAAAADhBm/FJ4Q6JlMCHf/6eEAAAAwAABBvis0aw5KE0AAZ+w2UDdzMUzTUenOXIUTq0Shb2JSOglsS8gAAAADlBmhJJ4Q8mUwId//6eEAAAAwAAAwP77Gob8aWH1HVtwAf7+/9I5sVcomzd7I6a4yJKViHNoAAASMEAAAA/QZozSeEPJlMCHf/+nhAAAAMAAAMD5exo0s//AOkSAB/wLfaTpM17uzGdNBSiQNRxj+R8z263haIdZBds3rkgAAAAOkGaVEnhDyZTAh///qeEAAADAAADAPl7Jv9yzoADuIIjvjXm88+x7kI+y7Pu4FvnYODvw8BACf3mpxAAAAD+QZp4SeEPJlMCHf/+nhAAAAMAAAMDuex3OlsBOrvwkqUAAOz+JyvlLt1DplHZid8EPm9XjVxxN+kaACahHiagCRcRa2VbG7jsxHFPGNpW9SmQ8gaQuutlGirz16Ut3iuV9qBERAKRuDnwEQ7QqBtdgzwTeSoJFwfUsO5z2BHBB1zK/yN/a3Z7jzA/CvNUUv2/YBNgUBcbU3TOyrhxYtI0C0qUNAMcRnWKXWGgkiN2DfXUllyx4S4Cq/m0kTwN3oaFqptqncKCHMTnpD9HZSWw4vh0s1S1K2/00uRoggsnMbo90ppeVwQD3EvOLQRh3fJYT5Ta2NfKWDkA6AAANWEAAAA+QZ6WRRE8M/8AAAMAAAMAyQ/3oSFmBAD4moPR0SUjFWCdRD+YP82ZxP6tsOSC/KtsPNI47XhUaW9kCjgAKCAAAAAlAZ61dEL/AAADAAADAP3sMdBwfzUc+gHBQkBvLqd0ZQXCAAAPmQAAACkBnrdqQv8AAAMAAAMA8wONEHhp7Nq1eAD6DpgNazMUAuHA8WwWgAADZwAAAXNBmrpJqEFomUwU8N/+jLAAAAMAAAMDaetoDy6+DVSYAHQNKEy8CxwSXbVJL/aCvw/yduldQBdqJjqbDwFnPh429NNVbYcvKchGcU1IF738TrydawKgw7eYj4j8pxfl9UwxDO7XoreIOu15nmku+ZGR6KpKZjzVPbzUVZsqiA6+fmRehSmc6iUcT4LTjDul1Q042/v0/jCczDvZX16gN2xGx+gqPcu5+1deefreBdakHZW+lb6WX1jhiCv7494IuVVWtkZxnARhhfOVG16YOkRBoUz/oT0eNZou2mrFrPwibZIZmLm4VHn1Un+wcHf3kcvk9YK5ZwKcH4vrtXll+OCHAspXxQ3y4aDx9Bqg1LGzOCJ79j1VRtiyJEe2S+QjZYw36VHUsmDsukLobJ5lKm37we1BdcObiKwN7KLkgTL0FH9k++6KH5Yvi2omcIpIQve6MhlpKOx3dBgrUUIbVdgg5hXeh329dOPoTOrIe7i8AAAVMAAAADQBntlqQv8AAAMAAAMA6AMqYVj3J8byIAIbzfnFZENL/TGMXRipxlgUW0H424FVnVwsABlRAAAATkGa20nhClJlMCG//oywAAADAAADA0HrZljtBpapzJiq401sR+YAFq8oTLa9g6Betzgc7hMq1ha+oI1MXF2B5p934j8jy1/9D2oQAAAm4AAAADxBmvxJ4Q6JlMCG//6MsAAAAwAAAwMt62ZYaFfCMKWgBLEEhd+lrWXLlTv0OYJsziqR8qhOeBG0uMAACvkAAABXQZsdSeEPJlMCG//+jLAAAAMAAAMDGeo0mtWPveCYEh0AEzugmXrVn/gf667mYxDdpgXG558GT22OoN6BLWtGOtwYbQce7GoAfz/FanrYrq6Y1PCsAA8ZAAAAkkGbPknhDyZTAhv//oywAAADAAAt+8O+CoKgA4tFwmTs6m31BDL9vizc+GoROYaIPPRiHZbYQfFSolZx9pc/gXKs0k779qBJrfZWOzsgbldRjtrFZgwXJQb91HuMEOanEMNWhQyuAwsKPaVcAHt3vjoYAM02sCcbKXvdPtMFYd95QJkvhIU9CCEaAoLDysQMABJwAAAAbUGbX0nhDyZTAhv//oywAAADAAAttT+p47zO9kmHVkTAG3zdGz4u/ZlM7bOeaMputUlnWVBkIDWGoONkhGY+jFg6tXZpc759nO0u8I+X8bdzbObS675PXfwEydI5uNww31ycE9fpYUbi/bcw2F4AAABRQZtgSeEPJlMCG//+jLAAAAMAAC3BoimTeOKunR+OUjDYNeDaAA7x3sI7+m96r7jFyU/2LKPYdGLOOYFJMkfBoNreXnHMfwKq0lOdZJ6F39TPAAAAUkGbgUnhDyZTAh3//p4QAAADAAAsfxfG1xStXMr7h03mb0sPQAM4zC0yoXSvVXue7Vg/srYm6xYT9nskmcy7a7RMoi5aRu8m2ZRgfUWBKsNBpsAAAAEsQZukSeEPJlMCF//98QAAAwAAAwGbqW5X7S+8GL6TACBYVCo2A86PxYsXrk5k0M4uZ0hAzj9CPNv3+PxzBjhCIzHLoxpyeRA8BecyDst7fgPUBsqyAvc62n5ExanzXmgntSBtCw93Ftek778yL0sx2+xUfEbFUuCEHcdmzazKMFy67jX3N/S/NdXOa90UD6MYSa6pde//uuUFdID8WX575mkpOTncNgK9vDCQWEtla+aOVsPXLtPENOLrZEWE4duuA/u/sHnXiQYa4LUG4XLW1GD/pFVb+pZ2zH0N2I9GTn3Ih2udoR1V0WxqJrRTG3mjpCSrCAC8HZ0kSuOgSzwkF0YVvwGVwtP59EVjon79AX1bAIBrgzAAtUGEqYFWUnQmFYakneQt2/0AAH+BAAAASUGfwkURPDP/AAADAAAI7H1lSs1EwAZsoM99+T4I45qu6XjA6VrzKejz5mZySg03dfoMRyKT6ZmGFGqUX8isIl7chmAtRZgAAk4AAABHAZ/jakL/AAADAAALWx0eQ2yzwXoAH9/870nL1LeMa5ODCI3JHPc3ce/P8wmwLQikQDq5x2RrJd6ytBuy1eY5E4w3zsgAF3EAAAUubW9vdgAAAGxtdmhkAAAAAAAAAAAAAAAAAAAD6AAAGKkAAQAAAQAAAAAAAAAAAAAAAAEAAAAAAAAAAAAAAAAAAAABAAAAAAAAAAAAAAAAAABAAAAAAAAAAAAAAAAAAAAAAAAAAAAAAAAAAAAAAAAAAgAABFh0cmFrAAAAXHRraGQAAAADAAAAAAAAAAAAAAABAAAAAAAAGKkAAAAAAAAAAAAAAAAAAAAAAAEAAAAAAAAAAAAAAAAAAAABAAAAAAAAAAAAAAAAAABAAAAABsAAAAEgAAAAAAAkZWR0cwAAABxlbHN0AAAAAAAAAAEAABipAAAIAAABAAAAAAPQbWRpYQAAACBtZGhkAAAAAAAAAAAAAAAAAABAAAABlABVxAAAAAAALWhkbHIAAAAAAAAAAHZpZGUAAAAAAAAAAAAAAABWaWRlb0hhbmRsZXIAAAADe21pbmYAAAAUdm1oZAAAAAEAAAAAAAAAAAAAACRkaW5mAAAAHGRyZWYAAAAAAAAAAQAAAAx1cmwgAAAAAQAAAztzdGJsAAAAp3N0c2QAAAAAAAAAAQAAAJdhdmMxAAAAAAAAAAEAAAAAAAAAAAAAAAAAAAAABsABIABIAAAASAAAAAAAAAABAAAAAAAAAAAAAAAAAAAAAAAAAAAAAAAAAAAAAAAAAAAAGP//AAAAMWF2Y0MBZAAf/+EAGWdkAB+s2UBsCWwEQAAAAwBAAAAIA8YMZYABAAVo6+csiwAAABBwYXNwAAAAAQAAAAEAAAAYc3R0cwAAAAAAAAABAAAAZQAABAAAAAAUc3RzcwAAAAAAAAABAAAAAQAAAIhjdHRzAAAAAAAAAA8AAABJAAAIAAAAAAEAABAAAAAAAgAABAAAAAABAAAQAAAAAAIAAAQAAAAABgAACAAAAAABAAAUAAAAAAEAAAgAAAAAAQAAAAAAAAABAAAEAAAAAAEAAAwAAAAAAQAABAAAAAAHAAAIAAAAAAEAABAAAAAAAgAABAAAAAAcc3RzYwAAAAAAAAABAAAAAQAAAGUAAAABAAABqHN0c3oAAAAAAAAAAAAAAGUAAAgTAAAAxwAAAF4AAABfAAAAVwAAADkAAABKAAAAPgAAADwAAAA+AAAAWwAAAD4AAABbAAAARAAAAGMAAACyAAAAVQAAAGQAAABRAAAAXQAAAE8AAABhAAAASAAAAEoAAACEAAAAUgAAADUAAABFAAAARAAAAEEAAAAzAAAARAAAADsAAABCAAAAUAAAAGYAAABHAAAATgAAAF4AAABCAAAANQAAAEkAAABPAAAAUAAAAFgAAABdAAAARgAAAFYAAABAAAAANAAAADsAAAAtAAAAOwAAADMAAABeAAAAQgAAAD4AAABOAAAANgAAAD0AAAAwAAAANgAAADUAAAAyAAAATAAAADMAAAA0AAAAMwAAAE0AAAA3AAAAMQAAAC8AAAAtAAABIQAAAC8AAAAoAAABZQAAACwAAAAoAAAARgAAAEUAAAA8AAAAPQAAAEMAAAA+AAABAgAAAEIAAAApAAAALQAAAXcAAAA4AAAAUgAAAEAAAABbAAAAlgAAAHEAAABVAAAAVgAAATAAAABNAAAASwAAABRzdGNvAAAAAAAAAAEAAAAwAAAAYnVkdGEAAABabWV0YQAAAAAAAAAhaGRscgAAAAAAAAAAbWRpcmFwcGwAAAAAAAAAAAAAAAAtaWxzdAAAACWpdG9vAAAAHWRhdGEAAAABAAAAAExhdmY1OC4xMi4xMDA=\" type=\"video/mp4\" />\n",
       "             </video>"
      ],
      "text/plain": [
       "<IPython.core.display.HTML object>"
      ]
     },
     "execution_count": 63,
     "metadata": {},
     "output_type": "execute_result"
    }
   ],
   "source": [
    "video = io.open(vid_fname, 'r+b').read()\n",
    "encoded = base64.b64encode(video)\n",
    "HTML(data='''<video alt=\"test\" controls>\n",
    "                <source src=\"data:video/mp4;base64,{0}\" type=\"video/mp4\" />\n",
    "             </video>'''.format(encoded.decode('ascii')))\n"
   ]
  },
  {
   "cell_type": "markdown",
   "metadata": {},
   "source": [
    "## IBR"
   ]
  },
  {
   "cell_type": "code",
   "execution_count": 64,
   "metadata": {},
   "outputs": [],
   "source": [
    "br1 = mpc.IterativeBestResponseMPC(x1_MPC, x2_MPC, amb_MPC)\n",
    "br1.generate_optimization(N, dt, min_dist, fd, T, x0, x0_2, x0_amb, 2)"
   ]
  },
  {
   "cell_type": "code",
   "execution_count": 65,
   "metadata": {},
   "outputs": [
    {
     "name": "stdout",
     "output_type": "stream",
     "text": [
      "      solver  :   t_proc      (avg)   t_wall      (avg)    n_eval\n",
      "       nlp_f  | 214.32ms (518.93us) 213.53ms (517.01us)       413\n",
      "       nlp_g  | 268.59ms (650.33us) 267.41ms (647.47us)       413\n",
      "    nlp_grad  |   4.10ms (  4.10ms)   4.08ms (  4.08ms)         1\n",
      "  nlp_grad_f  | 198.48ms (945.16us) 197.48ms (940.37us)       210\n",
      "  nlp_hess_l  |   2.89 s (  8.27ms)   2.87 s (  8.21ms)       350\n",
      "   nlp_jac_g  |   1.83 s (  5.09ms)   1.82 s (  5.06ms)       360\n",
      "       total  |   7.22 s (  7.22 s)   7.18 s (  7.18 s)         1\n"
     ]
    }
   ],
   "source": [
    "x1r1, u1r1, x1_desr1 = br1.get_solution(x2, u2, x2_des, xamb, uamb, xamb_des)"
   ]
  },
  {
   "cell_type": "code",
   "execution_count": 66,
   "metadata": {
    "scrolled": true
   },
   "outputs": [
    {
     "name": "stderr",
     "output_type": "stream",
     "text": [
      "Clipping input data to the valid range for imshow with RGB data ([0..1] for floats or [0..255] for integers).\n",
      "Clipping input data to the valid range for imshow with RGB data ([0..1] for floats or [0..255] for integers).\n",
      "Clipping input data to the valid range for imshow with RGB data ([0..1] for floats or [0..255] for integers).\n",
      "Clipping input data to the valid range for imshow with RGB data ([0..1] for floats or [0..255] for integers).\n",
      "Clipping input data to the valid range for imshow with RGB data ([0..1] for floats or [0..255] for integers).\n",
      "Clipping input data to the valid range for imshow with RGB data ([0..1] for floats or [0..255] for integers).\n",
      "Clipping input data to the valid range for imshow with RGB data ([0..1] for floats or [0..255] for integers).\n",
      "Clipping input data to the valid range for imshow with RGB data ([0..1] for floats or [0..255] for integers).\n",
      "Clipping input data to the valid range for imshow with RGB data ([0..1] for floats or [0..255] for integers).\n",
      "Clipping input data to the valid range for imshow with RGB data ([0..1] for floats or [0..255] for integers).\n",
      "Clipping input data to the valid range for imshow with RGB data ([0..1] for floats or [0..255] for integers).\n",
      "Clipping input data to the valid range for imshow with RGB data ([0..1] for floats or [0..255] for integers).\n",
      "Clipping input data to the valid range for imshow with RGB data ([0..1] for floats or [0..255] for integers).\n",
      "Clipping input data to the valid range for imshow with RGB data ([0..1] for floats or [0..255] for integers).\n",
      "Clipping input data to the valid range for imshow with RGB data ([0..1] for floats or [0..255] for integers).\n",
      "Clipping input data to the valid range for imshow with RGB data ([0..1] for floats or [0..255] for integers).\n",
      "Clipping input data to the valid range for imshow with RGB data ([0..1] for floats or [0..255] for integers).\n",
      "Clipping input data to the valid range for imshow with RGB data ([0..1] for floats or [0..255] for integers).\n",
      "Clipping input data to the valid range for imshow with RGB data ([0..1] for floats or [0..255] for integers).\n",
      "Clipping input data to the valid range for imshow with RGB data ([0..1] for floats or [0..255] for integers).\n",
      "Clipping input data to the valid range for imshow with RGB data ([0..1] for floats or [0..255] for integers).\n",
      "Clipping input data to the valid range for imshow with RGB data ([0..1] for floats or [0..255] for integers).\n",
      "Clipping input data to the valid range for imshow with RGB data ([0..1] for floats or [0..255] for integers).\n",
      "Clipping input data to the valid range for imshow with RGB data ([0..1] for floats or [0..255] for integers).\n",
      "Clipping input data to the valid range for imshow with RGB data ([0..1] for floats or [0..255] for integers).\n",
      "Clipping input data to the valid range for imshow with RGB data ([0..1] for floats or [0..255] for integers).\n",
      "Clipping input data to the valid range for imshow with RGB data ([0..1] for floats or [0..255] for integers).\n",
      "Clipping input data to the valid range for imshow with RGB data ([0..1] for floats or [0..255] for integers).\n",
      "Clipping input data to the valid range for imshow with RGB data ([0..1] for floats or [0..255] for integers).\n",
      "Clipping input data to the valid range for imshow with RGB data ([0..1] for floats or [0..255] for integers).\n",
      "Clipping input data to the valid range for imshow with RGB data ([0..1] for floats or [0..255] for integers).\n",
      "Clipping input data to the valid range for imshow with RGB data ([0..1] for floats or [0..255] for integers).\n",
      "Clipping input data to the valid range for imshow with RGB data ([0..1] for floats or [0..255] for integers).\n",
      "Clipping input data to the valid range for imshow with RGB data ([0..1] for floats or [0..255] for integers).\n",
      "Clipping input data to the valid range for imshow with RGB data ([0..1] for floats or [0..255] for integers).\n",
      "Clipping input data to the valid range for imshow with RGB data ([0..1] for floats or [0..255] for integers).\n",
      "Clipping input data to the valid range for imshow with RGB data ([0..1] for floats or [0..255] for integers).\n",
      "Clipping input data to the valid range for imshow with RGB data ([0..1] for floats or [0..255] for integers).\n",
      "Clipping input data to the valid range for imshow with RGB data ([0..1] for floats or [0..255] for integers).\n",
      "Clipping input data to the valid range for imshow with RGB data ([0..1] for floats or [0..255] for integers).\n",
      "Clipping input data to the valid range for imshow with RGB data ([0..1] for floats or [0..255] for integers).\n",
      "Clipping input data to the valid range for imshow with RGB data ([0..1] for floats or [0..255] for integers).\n",
      "Clipping input data to the valid range for imshow with RGB data ([0..1] for floats or [0..255] for integers).\n",
      "Clipping input data to the valid range for imshow with RGB data ([0..1] for floats or [0..255] for integers).\n",
      "Clipping input data to the valid range for imshow with RGB data ([0..1] for floats or [0..255] for integers).\n",
      "Clipping input data to the valid range for imshow with RGB data ([0..1] for floats or [0..255] for integers).\n",
      "Clipping input data to the valid range for imshow with RGB data ([0..1] for floats or [0..255] for integers).\n",
      "Clipping input data to the valid range for imshow with RGB data ([0..1] for floats or [0..255] for integers).\n",
      "Clipping input data to the valid range for imshow with RGB data ([0..1] for floats or [0..255] for integers).\n",
      "Clipping input data to the valid range for imshow with RGB data ([0..1] for floats or [0..255] for integers).\n",
      "Clipping input data to the valid range for imshow with RGB data ([0..1] for floats or [0..255] for integers).\n",
      "Clipping input data to the valid range for imshow with RGB data ([0..1] for floats or [0..255] for integers).\n",
      "Clipping input data to the valid range for imshow with RGB data ([0..1] for floats or [0..255] for integers).\n",
      "Clipping input data to the valid range for imshow with RGB data ([0..1] for floats or [0..255] for integers).\n",
      "Clipping input data to the valid range for imshow with RGB data ([0..1] for floats or [0..255] for integers).\n",
      "Clipping input data to the valid range for imshow with RGB data ([0..1] for floats or [0..255] for integers).\n",
      "Clipping input data to the valid range for imshow with RGB data ([0..1] for floats or [0..255] for integers).\n",
      "Clipping input data to the valid range for imshow with RGB data ([0..1] for floats or [0..255] for integers).\n",
      "Clipping input data to the valid range for imshow with RGB data ([0..1] for floats or [0..255] for integers).\n",
      "Clipping input data to the valid range for imshow with RGB data ([0..1] for floats or [0..255] for integers).\n",
      "Clipping input data to the valid range for imshow with RGB data ([0..1] for floats or [0..255] for integers).\n",
      "Clipping input data to the valid range for imshow with RGB data ([0..1] for floats or [0..255] for integers).\n",
      "Clipping input data to the valid range for imshow with RGB data ([0..1] for floats or [0..255] for integers).\n",
      "Clipping input data to the valid range for imshow with RGB data ([0..1] for floats or [0..255] for integers).\n",
      "Clipping input data to the valid range for imshow with RGB data ([0..1] for floats or [0..255] for integers).\n",
      "Clipping input data to the valid range for imshow with RGB data ([0..1] for floats or [0..255] for integers).\n",
      "Clipping input data to the valid range for imshow with RGB data ([0..1] for floats or [0..255] for integers).\n",
      "Clipping input data to the valid range for imshow with RGB data ([0..1] for floats or [0..255] for integers).\n",
      "Clipping input data to the valid range for imshow with RGB data ([0..1] for floats or [0..255] for integers).\n",
      "Clipping input data to the valid range for imshow with RGB data ([0..1] for floats or [0..255] for integers).\n",
      "Clipping input data to the valid range for imshow with RGB data ([0..1] for floats or [0..255] for integers).\n",
      "Clipping input data to the valid range for imshow with RGB data ([0..1] for floats or [0..255] for integers).\n",
      "Clipping input data to the valid range for imshow with RGB data ([0..1] for floats or [0..255] for integers).\n",
      "Clipping input data to the valid range for imshow with RGB data ([0..1] for floats or [0..255] for integers).\n",
      "Clipping input data to the valid range for imshow with RGB data ([0..1] for floats or [0..255] for integers).\n"
     ]
    },
    {
     "name": "stderr",
     "output_type": "stream",
     "text": [
      "Clipping input data to the valid range for imshow with RGB data ([0..1] for floats or [0..255] for integers).\n",
      "Clipping input data to the valid range for imshow with RGB data ([0..1] for floats or [0..255] for integers).\n",
      "Clipping input data to the valid range for imshow with RGB data ([0..1] for floats or [0..255] for integers).\n",
      "Clipping input data to the valid range for imshow with RGB data ([0..1] for floats or [0..255] for integers).\n",
      "Clipping input data to the valid range for imshow with RGB data ([0..1] for floats or [0..255] for integers).\n",
      "Clipping input data to the valid range for imshow with RGB data ([0..1] for floats or [0..255] for integers).\n",
      "Clipping input data to the valid range for imshow with RGB data ([0..1] for floats or [0..255] for integers).\n",
      "Clipping input data to the valid range for imshow with RGB data ([0..1] for floats or [0..255] for integers).\n",
      "Clipping input data to the valid range for imshow with RGB data ([0..1] for floats or [0..255] for integers).\n",
      "Clipping input data to the valid range for imshow with RGB data ([0..1] for floats or [0..255] for integers).\n",
      "Clipping input data to the valid range for imshow with RGB data ([0..1] for floats or [0..255] for integers).\n",
      "Clipping input data to the valid range for imshow with RGB data ([0..1] for floats or [0..255] for integers).\n",
      "Clipping input data to the valid range for imshow with RGB data ([0..1] for floats or [0..255] for integers).\n",
      "Clipping input data to the valid range for imshow with RGB data ([0..1] for floats or [0..255] for integers).\n",
      "Clipping input data to the valid range for imshow with RGB data ([0..1] for floats or [0..255] for integers).\n",
      "Clipping input data to the valid range for imshow with RGB data ([0..1] for floats or [0..255] for integers).\n",
      "Clipping input data to the valid range for imshow with RGB data ([0..1] for floats or [0..255] for integers).\n",
      "Clipping input data to the valid range for imshow with RGB data ([0..1] for floats or [0..255] for integers).\n",
      "Clipping input data to the valid range for imshow with RGB data ([0..1] for floats or [0..255] for integers).\n",
      "Clipping input data to the valid range for imshow with RGB data ([0..1] for floats or [0..255] for integers).\n",
      "Clipping input data to the valid range for imshow with RGB data ([0..1] for floats or [0..255] for integers).\n",
      "Clipping input data to the valid range for imshow with RGB data ([0..1] for floats or [0..255] for integers).\n",
      "Clipping input data to the valid range for imshow with RGB data ([0..1] for floats or [0..255] for integers).\n",
      "Clipping input data to the valid range for imshow with RGB data ([0..1] for floats or [0..255] for integers).\n",
      "Clipping input data to the valid range for imshow with RGB data ([0..1] for floats or [0..255] for integers).\n",
      "Clipping input data to the valid range for imshow with RGB data ([0..1] for floats or [0..255] for integers).\n",
      "Clipping input data to the valid range for imshow with RGB data ([0..1] for floats or [0..255] for integers).\n",
      "Clipping input data to the valid range for imshow with RGB data ([0..1] for floats or [0..255] for integers).\n",
      "Clipping input data to the valid range for imshow with RGB data ([0..1] for floats or [0..255] for integers).\n",
      "Clipping input data to the valid range for imshow with RGB data ([0..1] for floats or [0..255] for integers).\n",
      "Clipping input data to the valid range for imshow with RGB data ([0..1] for floats or [0..255] for integers).\n",
      "Clipping input data to the valid range for imshow with RGB data ([0..1] for floats or [0..255] for integers).\n",
      "Clipping input data to the valid range for imshow with RGB data ([0..1] for floats or [0..255] for integers).\n",
      "Clipping input data to the valid range for imshow with RGB data ([0..1] for floats or [0..255] for integers).\n",
      "Clipping input data to the valid range for imshow with RGB data ([0..1] for floats or [0..255] for integers).\n",
      "Clipping input data to the valid range for imshow with RGB data ([0..1] for floats or [0..255] for integers).\n",
      "Clipping input data to the valid range for imshow with RGB data ([0..1] for floats or [0..255] for integers).\n",
      "Clipping input data to the valid range for imshow with RGB data ([0..1] for floats or [0..255] for integers).\n",
      "Clipping input data to the valid range for imshow with RGB data ([0..1] for floats or [0..255] for integers).\n",
      "Clipping input data to the valid range for imshow with RGB data ([0..1] for floats or [0..255] for integers).\n",
      "Clipping input data to the valid range for imshow with RGB data ([0..1] for floats or [0..255] for integers).\n",
      "Clipping input data to the valid range for imshow with RGB data ([0..1] for floats or [0..255] for integers).\n",
      "Clipping input data to the valid range for imshow with RGB data ([0..1] for floats or [0..255] for integers).\n",
      "Clipping input data to the valid range for imshow with RGB data ([0..1] for floats or [0..255] for integers).\n",
      "Clipping input data to the valid range for imshow with RGB data ([0..1] for floats or [0..255] for integers).\n",
      "Clipping input data to the valid range for imshow with RGB data ([0..1] for floats or [0..255] for integers).\n",
      "Clipping input data to the valid range for imshow with RGB data ([0..1] for floats or [0..255] for integers).\n",
      "Clipping input data to the valid range for imshow with RGB data ([0..1] for floats or [0..255] for integers).\n",
      "Clipping input data to the valid range for imshow with RGB data ([0..1] for floats or [0..255] for integers).\n",
      "Clipping input data to the valid range for imshow with RGB data ([0..1] for floats or [0..255] for integers).\n",
      "Clipping input data to the valid range for imshow with RGB data ([0..1] for floats or [0..255] for integers).\n",
      "Clipping input data to the valid range for imshow with RGB data ([0..1] for floats or [0..255] for integers).\n",
      "Clipping input data to the valid range for imshow with RGB data ([0..1] for floats or [0..255] for integers).\n",
      "Clipping input data to the valid range for imshow with RGB data ([0..1] for floats or [0..255] for integers).\n",
      "Clipping input data to the valid range for imshow with RGB data ([0..1] for floats or [0..255] for integers).\n",
      "Clipping input data to the valid range for imshow with RGB data ([0..1] for floats or [0..255] for integers).\n",
      "Clipping input data to the valid range for imshow with RGB data ([0..1] for floats or [0..255] for integers).\n",
      "Clipping input data to the valid range for imshow with RGB data ([0..1] for floats or [0..255] for integers).\n",
      "Clipping input data to the valid range for imshow with RGB data ([0..1] for floats or [0..255] for integers).\n",
      "Clipping input data to the valid range for imshow with RGB data ([0..1] for floats or [0..255] for integers).\n",
      "Clipping input data to the valid range for imshow with RGB data ([0..1] for floats or [0..255] for integers).\n",
      "Clipping input data to the valid range for imshow with RGB data ([0..1] for floats or [0..255] for integers).\n",
      "Clipping input data to the valid range for imshow with RGB data ([0..1] for floats or [0..255] for integers).\n",
      "Clipping input data to the valid range for imshow with RGB data ([0..1] for floats or [0..255] for integers).\n",
      "Clipping input data to the valid range for imshow with RGB data ([0..1] for floats or [0..255] for integers).\n",
      "Clipping input data to the valid range for imshow with RGB data ([0..1] for floats or [0..255] for integers).\n",
      "Clipping input data to the valid range for imshow with RGB data ([0..1] for floats or [0..255] for integers).\n",
      "Clipping input data to the valid range for imshow with RGB data ([0..1] for floats or [0..255] for integers).\n",
      "Clipping input data to the valid range for imshow with RGB data ([0..1] for floats or [0..255] for integers).\n",
      "Clipping input data to the valid range for imshow with RGB data ([0..1] for floats or [0..255] for integers).\n",
      "Clipping input data to the valid range for imshow with RGB data ([0..1] for floats or [0..255] for integers).\n",
      "Clipping input data to the valid range for imshow with RGB data ([0..1] for floats or [0..255] for integers).\n",
      "Clipping input data to the valid range for imshow with RGB data ([0..1] for floats or [0..255] for integers).\n",
      "Clipping input data to the valid range for imshow with RGB data ([0..1] for floats or [0..255] for integers).\n",
      "Clipping input data to the valid range for imshow with RGB data ([0..1] for floats or [0..255] for integers).\n"
     ]
    },
    {
     "name": "stderr",
     "output_type": "stream",
     "text": [
      "Clipping input data to the valid range for imshow with RGB data ([0..1] for floats or [0..255] for integers).\n",
      "Clipping input data to the valid range for imshow with RGB data ([0..1] for floats or [0..255] for integers).\n",
      "Clipping input data to the valid range for imshow with RGB data ([0..1] for floats or [0..255] for integers).\n",
      "Clipping input data to the valid range for imshow with RGB data ([0..1] for floats or [0..255] for integers).\n",
      "Clipping input data to the valid range for imshow with RGB data ([0..1] for floats or [0..255] for integers).\n",
      "Clipping input data to the valid range for imshow with RGB data ([0..1] for floats or [0..255] for integers).\n",
      "Clipping input data to the valid range for imshow with RGB data ([0..1] for floats or [0..255] for integers).\n",
      "Clipping input data to the valid range for imshow with RGB data ([0..1] for floats or [0..255] for integers).\n",
      "Clipping input data to the valid range for imshow with RGB data ([0..1] for floats or [0..255] for integers).\n",
      "Clipping input data to the valid range for imshow with RGB data ([0..1] for floats or [0..255] for integers).\n",
      "Clipping input data to the valid range for imshow with RGB data ([0..1] for floats or [0..255] for integers).\n",
      "Clipping input data to the valid range for imshow with RGB data ([0..1] for floats or [0..255] for integers).\n",
      "Clipping input data to the valid range for imshow with RGB data ([0..1] for floats or [0..255] for integers).\n",
      "Clipping input data to the valid range for imshow with RGB data ([0..1] for floats or [0..255] for integers).\n",
      "Clipping input data to the valid range for imshow with RGB data ([0..1] for floats or [0..255] for integers).\n",
      "Clipping input data to the valid range for imshow with RGB data ([0..1] for floats or [0..255] for integers).\n",
      "Clipping input data to the valid range for imshow with RGB data ([0..1] for floats or [0..255] for integers).\n",
      "Clipping input data to the valid range for imshow with RGB data ([0..1] for floats or [0..255] for integers).\n",
      "Clipping input data to the valid range for imshow with RGB data ([0..1] for floats or [0..255] for integers).\n",
      "Clipping input data to the valid range for imshow with RGB data ([0..1] for floats or [0..255] for integers).\n",
      "Clipping input data to the valid range for imshow with RGB data ([0..1] for floats or [0..255] for integers).\n",
      "Clipping input data to the valid range for imshow with RGB data ([0..1] for floats or [0..255] for integers).\n",
      "Clipping input data to the valid range for imshow with RGB data ([0..1] for floats or [0..255] for integers).\n",
      "Clipping input data to the valid range for imshow with RGB data ([0..1] for floats or [0..255] for integers).\n",
      "Clipping input data to the valid range for imshow with RGB data ([0..1] for floats or [0..255] for integers).\n",
      "Clipping input data to the valid range for imshow with RGB data ([0..1] for floats or [0..255] for integers).\n",
      "Clipping input data to the valid range for imshow with RGB data ([0..1] for floats or [0..255] for integers).\n",
      "Clipping input data to the valid range for imshow with RGB data ([0..1] for floats or [0..255] for integers).\n",
      "Clipping input data to the valid range for imshow with RGB data ([0..1] for floats or [0..255] for integers).\n",
      "Clipping input data to the valid range for imshow with RGB data ([0..1] for floats or [0..255] for integers).\n",
      "Clipping input data to the valid range for imshow with RGB data ([0..1] for floats or [0..255] for integers).\n",
      "Clipping input data to the valid range for imshow with RGB data ([0..1] for floats or [0..255] for integers).\n",
      "Clipping input data to the valid range for imshow with RGB data ([0..1] for floats or [0..255] for integers).\n",
      "Clipping input data to the valid range for imshow with RGB data ([0..1] for floats or [0..255] for integers).\n",
      "Clipping input data to the valid range for imshow with RGB data ([0..1] for floats or [0..255] for integers).\n",
      "Clipping input data to the valid range for imshow with RGB data ([0..1] for floats or [0..255] for integers).\n",
      "Clipping input data to the valid range for imshow with RGB data ([0..1] for floats or [0..255] for integers).\n",
      "Clipping input data to the valid range for imshow with RGB data ([0..1] for floats or [0..255] for integers).\n",
      "Clipping input data to the valid range for imshow with RGB data ([0..1] for floats or [0..255] for integers).\n",
      "Clipping input data to the valid range for imshow with RGB data ([0..1] for floats or [0..255] for integers).\n",
      "Clipping input data to the valid range for imshow with RGB data ([0..1] for floats or [0..255] for integers).\n",
      "Clipping input data to the valid range for imshow with RGB data ([0..1] for floats or [0..255] for integers).\n",
      "Clipping input data to the valid range for imshow with RGB data ([0..1] for floats or [0..255] for integers).\n",
      "Clipping input data to the valid range for imshow with RGB data ([0..1] for floats or [0..255] for integers).\n",
      "Clipping input data to the valid range for imshow with RGB data ([0..1] for floats or [0..255] for integers).\n",
      "Clipping input data to the valid range for imshow with RGB data ([0..1] for floats or [0..255] for integers).\n",
      "Clipping input data to the valid range for imshow with RGB data ([0..1] for floats or [0..255] for integers).\n",
      "Clipping input data to the valid range for imshow with RGB data ([0..1] for floats or [0..255] for integers).\n",
      "Clipping input data to the valid range for imshow with RGB data ([0..1] for floats or [0..255] for integers).\n",
      "Clipping input data to the valid range for imshow with RGB data ([0..1] for floats or [0..255] for integers).\n",
      "Clipping input data to the valid range for imshow with RGB data ([0..1] for floats or [0..255] for integers).\n",
      "Clipping input data to the valid range for imshow with RGB data ([0..1] for floats or [0..255] for integers).\n",
      "Clipping input data to the valid range for imshow with RGB data ([0..1] for floats or [0..255] for integers).\n",
      "Clipping input data to the valid range for imshow with RGB data ([0..1] for floats or [0..255] for integers).\n",
      "Clipping input data to the valid range for imshow with RGB data ([0..1] for floats or [0..255] for integers).\n",
      "Clipping input data to the valid range for imshow with RGB data ([0..1] for floats or [0..255] for integers).\n",
      "Clipping input data to the valid range for imshow with RGB data ([0..1] for floats or [0..255] for integers).\n",
      "Clipping input data to the valid range for imshow with RGB data ([0..1] for floats or [0..255] for integers).\n",
      "Clipping input data to the valid range for imshow with RGB data ([0..1] for floats or [0..255] for integers).\n",
      "Clipping input data to the valid range for imshow with RGB data ([0..1] for floats or [0..255] for integers).\n",
      "Clipping input data to the valid range for imshow with RGB data ([0..1] for floats or [0..255] for integers).\n",
      "Clipping input data to the valid range for imshow with RGB data ([0..1] for floats or [0..255] for integers).\n",
      "Clipping input data to the valid range for imshow with RGB data ([0..1] for floats or [0..255] for integers).\n",
      "Clipping input data to the valid range for imshow with RGB data ([0..1] for floats or [0..255] for integers).\n",
      "Clipping input data to the valid range for imshow with RGB data ([0..1] for floats or [0..255] for integers).\n",
      "Clipping input data to the valid range for imshow with RGB data ([0..1] for floats or [0..255] for integers).\n",
      "Clipping input data to the valid range for imshow with RGB data ([0..1] for floats or [0..255] for integers).\n",
      "Clipping input data to the valid range for imshow with RGB data ([0..1] for floats or [0..255] for integers).\n",
      "Clipping input data to the valid range for imshow with RGB data ([0..1] for floats or [0..255] for integers).\n",
      "Clipping input data to the valid range for imshow with RGB data ([0..1] for floats or [0..255] for integers).\n",
      "Clipping input data to the valid range for imshow with RGB data ([0..1] for floats or [0..255] for integers).\n",
      "Clipping input data to the valid range for imshow with RGB data ([0..1] for floats or [0..255] for integers).\n",
      "Clipping input data to the valid range for imshow with RGB data ([0..1] for floats or [0..255] for integers).\n",
      "Clipping input data to the valid range for imshow with RGB data ([0..1] for floats or [0..255] for integers).\n",
      "Clipping input data to the valid range for imshow with RGB data ([0..1] for floats or [0..255] for integers).\n"
     ]
    },
    {
     "name": "stderr",
     "output_type": "stream",
     "text": [
      "Clipping input data to the valid range for imshow with RGB data ([0..1] for floats or [0..255] for integers).\n",
      "Clipping input data to the valid range for imshow with RGB data ([0..1] for floats or [0..255] for integers).\n",
      "Clipping input data to the valid range for imshow with RGB data ([0..1] for floats or [0..255] for integers).\n",
      "Clipping input data to the valid range for imshow with RGB data ([0..1] for floats or [0..255] for integers).\n",
      "Clipping input data to the valid range for imshow with RGB data ([0..1] for floats or [0..255] for integers).\n",
      "Clipping input data to the valid range for imshow with RGB data ([0..1] for floats or [0..255] for integers).\n",
      "Clipping input data to the valid range for imshow with RGB data ([0..1] for floats or [0..255] for integers).\n",
      "Clipping input data to the valid range for imshow with RGB data ([0..1] for floats or [0..255] for integers).\n",
      "Clipping input data to the valid range for imshow with RGB data ([0..1] for floats or [0..255] for integers).\n",
      "Clipping input data to the valid range for imshow with RGB data ([0..1] for floats or [0..255] for integers).\n",
      "Clipping input data to the valid range for imshow with RGB data ([0..1] for floats or [0..255] for integers).\n",
      "Clipping input data to the valid range for imshow with RGB data ([0..1] for floats or [0..255] for integers).\n",
      "Clipping input data to the valid range for imshow with RGB data ([0..1] for floats or [0..255] for integers).\n",
      "Clipping input data to the valid range for imshow with RGB data ([0..1] for floats or [0..255] for integers).\n",
      "Clipping input data to the valid range for imshow with RGB data ([0..1] for floats or [0..255] for integers).\n",
      "Clipping input data to the valid range for imshow with RGB data ([0..1] for floats or [0..255] for integers).\n",
      "Clipping input data to the valid range for imshow with RGB data ([0..1] for floats or [0..255] for integers).\n",
      "Clipping input data to the valid range for imshow with RGB data ([0..1] for floats or [0..255] for integers).\n",
      "Clipping input data to the valid range for imshow with RGB data ([0..1] for floats or [0..255] for integers).\n",
      "Clipping input data to the valid range for imshow with RGB data ([0..1] for floats or [0..255] for integers).\n",
      "Clipping input data to the valid range for imshow with RGB data ([0..1] for floats or [0..255] for integers).\n",
      "Clipping input data to the valid range for imshow with RGB data ([0..1] for floats or [0..255] for integers).\n",
      "Clipping input data to the valid range for imshow with RGB data ([0..1] for floats or [0..255] for integers).\n",
      "Clipping input data to the valid range for imshow with RGB data ([0..1] for floats or [0..255] for integers).\n",
      "Clipping input data to the valid range for imshow with RGB data ([0..1] for floats or [0..255] for integers).\n",
      "Clipping input data to the valid range for imshow with RGB data ([0..1] for floats or [0..255] for integers).\n",
      "Clipping input data to the valid range for imshow with RGB data ([0..1] for floats or [0..255] for integers).\n",
      "Clipping input data to the valid range for imshow with RGB data ([0..1] for floats or [0..255] for integers).\n",
      "Clipping input data to the valid range for imshow with RGB data ([0..1] for floats or [0..255] for integers).\n",
      "Clipping input data to the valid range for imshow with RGB data ([0..1] for floats or [0..255] for integers).\n",
      "Clipping input data to the valid range for imshow with RGB data ([0..1] for floats or [0..255] for integers).\n",
      "Clipping input data to the valid range for imshow with RGB data ([0..1] for floats or [0..255] for integers).\n",
      "Clipping input data to the valid range for imshow with RGB data ([0..1] for floats or [0..255] for integers).\n",
      "Clipping input data to the valid range for imshow with RGB data ([0..1] for floats or [0..255] for integers).\n",
      "Clipping input data to the valid range for imshow with RGB data ([0..1] for floats or [0..255] for integers).\n",
      "Clipping input data to the valid range for imshow with RGB data ([0..1] for floats or [0..255] for integers).\n",
      "Clipping input data to the valid range for imshow with RGB data ([0..1] for floats or [0..255] for integers).\n",
      "Clipping input data to the valid range for imshow with RGB data ([0..1] for floats or [0..255] for integers).\n",
      "Clipping input data to the valid range for imshow with RGB data ([0..1] for floats or [0..255] for integers).\n",
      "Clipping input data to the valid range for imshow with RGB data ([0..1] for floats or [0..255] for integers).\n",
      "Clipping input data to the valid range for imshow with RGB data ([0..1] for floats or [0..255] for integers).\n",
      "Clipping input data to the valid range for imshow with RGB data ([0..1] for floats or [0..255] for integers).\n",
      "Clipping input data to the valid range for imshow with RGB data ([0..1] for floats or [0..255] for integers).\n",
      "Clipping input data to the valid range for imshow with RGB data ([0..1] for floats or [0..255] for integers).\n",
      "Clipping input data to the valid range for imshow with RGB data ([0..1] for floats or [0..255] for integers).\n",
      "Clipping input data to the valid range for imshow with RGB data ([0..1] for floats or [0..255] for integers).\n",
      "Clipping input data to the valid range for imshow with RGB data ([0..1] for floats or [0..255] for integers).\n",
      "Clipping input data to the valid range for imshow with RGB data ([0..1] for floats or [0..255] for integers).\n",
      "Clipping input data to the valid range for imshow with RGB data ([0..1] for floats or [0..255] for integers).\n",
      "Clipping input data to the valid range for imshow with RGB data ([0..1] for floats or [0..255] for integers).\n",
      "Clipping input data to the valid range for imshow with RGB data ([0..1] for floats or [0..255] for integers).\n",
      "Clipping input data to the valid range for imshow with RGB data ([0..1] for floats or [0..255] for integers).\n",
      "Clipping input data to the valid range for imshow with RGB data ([0..1] for floats or [0..255] for integers).\n",
      "Clipping input data to the valid range for imshow with RGB data ([0..1] for floats or [0..255] for integers).\n",
      "Clipping input data to the valid range for imshow with RGB data ([0..1] for floats or [0..255] for integers).\n",
      "Clipping input data to the valid range for imshow with RGB data ([0..1] for floats or [0..255] for integers).\n",
      "Clipping input data to the valid range for imshow with RGB data ([0..1] for floats or [0..255] for integers).\n",
      "Clipping input data to the valid range for imshow with RGB data ([0..1] for floats or [0..255] for integers).\n",
      "Clipping input data to the valid range for imshow with RGB data ([0..1] for floats or [0..255] for integers).\n",
      "Clipping input data to the valid range for imshow with RGB data ([0..1] for floats or [0..255] for integers).\n",
      "Clipping input data to the valid range for imshow with RGB data ([0..1] for floats or [0..255] for integers).\n",
      "Clipping input data to the valid range for imshow with RGB data ([0..1] for floats or [0..255] for integers).\n",
      "Clipping input data to the valid range for imshow with RGB data ([0..1] for floats or [0..255] for integers).\n",
      "Clipping input data to the valid range for imshow with RGB data ([0..1] for floats or [0..255] for integers).\n",
      "Clipping input data to the valid range for imshow with RGB data ([0..1] for floats or [0..255] for integers).\n",
      "Clipping input data to the valid range for imshow with RGB data ([0..1] for floats or [0..255] for integers).\n",
      "Clipping input data to the valid range for imshow with RGB data ([0..1] for floats or [0..255] for integers).\n",
      "Clipping input data to the valid range for imshow with RGB data ([0..1] for floats or [0..255] for integers).\n",
      "Clipping input data to the valid range for imshow with RGB data ([0..1] for floats or [0..255] for integers).\n",
      "Clipping input data to the valid range for imshow with RGB data ([0..1] for floats or [0..255] for integers).\n",
      "Clipping input data to the valid range for imshow with RGB data ([0..1] for floats or [0..255] for integers).\n",
      "Clipping input data to the valid range for imshow with RGB data ([0..1] for floats or [0..255] for integers).\n",
      "Clipping input data to the valid range for imshow with RGB data ([0..1] for floats or [0..255] for integers).\n",
      "Clipping input data to the valid range for imshow with RGB data ([0..1] for floats or [0..255] for integers).\n",
      "Clipping input data to the valid range for imshow with RGB data ([0..1] for floats or [0..255] for integers).\n"
     ]
    },
    {
     "name": "stderr",
     "output_type": "stream",
     "text": [
      "Clipping input data to the valid range for imshow with RGB data ([0..1] for floats or [0..255] for integers).\n",
      "Clipping input data to the valid range for imshow with RGB data ([0..1] for floats or [0..255] for integers).\n",
      "Clipping input data to the valid range for imshow with RGB data ([0..1] for floats or [0..255] for integers).\n"
     ]
    }
   ],
   "source": [
    "cplot.plot_cars(x1r1, x2, xamb, folder)"
   ]
  },
  {
   "cell_type": "code",
   "execution_count": 67,
   "metadata": {},
   "outputs": [
    {
     "name": "stdout",
     "output_type": "stream",
     "text": [
      "Saving video to: results/20200214-101746_newsclassesibr/20200214-101746_newsclassesibrcar1.mp4\n"
     ]
    }
   ],
   "source": [
    "CIRCLES = False\n",
    "if CIRCLES:\n",
    "    vid_fname = folder + subdir_name + 'circle1.mp4'\n",
    "else:\n",
    "    vid_fname = folder + subdir_name + 'car1.mp4'    \n",
    "if os.path.exists(vid_fname):\n",
    "    os.remove(vid_fname)\n",
    "cmd = 'ffmpeg -r 16 -f image2 -i {}imgs/%03d.png -vcodec libx264 -crf 25  -pix_fmt yuv420p {}'.format(folder, vid_fname)\n",
    "os.system(cmd)\n",
    "print('Saving video to: {}'.format(vid_fname))"
   ]
  },
  {
   "cell_type": "code",
   "execution_count": 68,
   "metadata": {
    "scrolled": false
   },
   "outputs": [
    {
     "data": {
      "text/html": [
       "<video alt=\"test\" controls>\n",
       "                <source src=\"data:video/mp4;base64,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\" type=\"video/mp4\" />\n",
       "             </video>"
      ],
      "text/plain": [
       "<IPython.core.display.HTML object>"
      ]
     },
     "execution_count": 68,
     "metadata": {},
     "output_type": "execute_result"
    }
   ],
   "source": [
    "video = io.open(vid_fname, 'r+b').read()\n",
    "encoded = base64.b64encode(video)\n",
    "HTML(data='''<video alt=\"test\" controls>\n",
    "                <source src=\"data:video/mp4;base64,{0}\" type=\"video/mp4\" />\n",
    "             </video>'''.format(encoded.decode('ascii')))\n"
   ]
  },
  {
   "cell_type": "code",
   "execution_count": 52,
   "metadata": {},
   "outputs": [
    {
     "data": {
      "text/plain": [
       "58.896117373621344"
      ]
     },
     "execution_count": 52,
     "metadata": {},
     "output_type": "execute_result"
    }
   ],
   "source": [
    "br1.solution.value(x1_MPC.lat_cost)"
   ]
  },
  {
   "cell_type": "code",
   "execution_count": 18,
   "metadata": {},
   "outputs": [
    {
     "data": {
      "text/plain": [
       "322.85037918972546"
      ]
     },
     "execution_count": 18,
     "metadata": {},
     "output_type": "execute_result"
    }
   ],
   "source": [
    "br1.solution.value(x1_MPC.lon_cost)"
   ]
  },
  {
   "cell_type": "code",
   "execution_count": 19,
   "metadata": {},
   "outputs": [
    {
     "ename": "NameError",
     "evalue": "name 'car1_s_cost' is not defined",
     "output_type": "error",
     "traceback": [
      "\u001b[0;31m---------------------------------------------------------------------------\u001b[0m",
      "\u001b[0;31mNameError\u001b[0m                                 Traceback (most recent call last)",
      "\u001b[0;32m<ipython-input-19-abd5039f5fec>\u001b[0m in \u001b[0;36m<module>\u001b[0;34m\u001b[0m\n\u001b[0;32m----> 1\u001b[0;31m \u001b[0mcar1_v_cost\u001b[0m \u001b[0;34m=\u001b[0m \u001b[0mcar1_s_cost\u001b[0m\u001b[0;34m\u001b[0m\u001b[0;34m\u001b[0m\u001b[0m\n\u001b[0m\u001b[1;32m      2\u001b[0m \u001b[0mcar2_v_cost\u001b[0m \u001b[0;34m=\u001b[0m \u001b[0mcar2_s_cost\u001b[0m\u001b[0;34m\u001b[0m\u001b[0;34m\u001b[0m\u001b[0m\n\u001b[1;32m      3\u001b[0m \u001b[0mamb_v_cost\u001b[0m \u001b[0;34m=\u001b[0m \u001b[0mamb_s_cost\u001b[0m\u001b[0;34m\u001b[0m\u001b[0;34m\u001b[0m\u001b[0m\n",
      "\u001b[0;31mNameError\u001b[0m: name 'car1_s_cost' is not defined"
     ]
    }
   ],
   "source": [
    "car1_v_cost = car1_s_cost\n",
    "car2_v_cost = car2_s_cost\n",
    "amb_v_cost = amb_s_cost"
   ]
  },
  {
   "cell_type": "code",
   "execution_count": null,
   "metadata": {},
   "outputs": [],
   "source": [
    "car1_sub_costs = [car1_u_delta_cost, car1_u_v_cost, k_lat1*car1_lat_cost, k_lon1*car1_lon_cost, k_phi1*car1_phi_cost, k_phid1*phid1_cost, q_v*car1_v_cost] \n",
    "car1_sub_costs_labels = ['udel1', 'uv1', 'elat1', 'lon1', 'ephi1', 'v1']\n",
    "plt.bar(range(len(car1_sub_costs)), [sol.value(c) for c in car1_sub_costs])\n",
    "plt.xticks(range(len(car1_sub_costs)), car1_sub_costs_labels,rotation=45)\n",
    "plt.title('Car 1')\n",
    "plt.xlabel(\"Subcost\")\n",
    "plt.ylabel(\"Cost Value\")\n",
    "plt.show()\n",
    "\n",
    "car2_sub_costs = [car2_u_delta_cost, car2_u_v_cost, 10*car2_lat_cost, 10*car2_lon_cost, k_phi2*car2_phi_cost, k_phid2*phid2_cost, q_v*car2_v_cost] \n",
    "car2_sub_costs_labels = ['udel2', 'uv2', 'elat2', 'lon2', 'ephi2', 'v2']\n",
    "plt.bar(range(len(car2_sub_costs)), [sol.value(c) for c in car2_sub_costs])\n",
    "plt.xticks(range(len(car2_sub_costs)), car2_sub_costs_labels,rotation=45)\n",
    "plt.title('Car 2')\n",
    "plt.xlabel(\"Subcost\")\n",
    "plt.ylabel(\"Cost Value\")\n",
    "plt.show()\n",
    "\n",
    "amb_sub_costs = [amb_u_delta_cost, amb_u_v_cost, 10*amb_lat_cost, 10*amb_lon_cost,k_phiamb*amb_phi_cost, k_phidamb*phidamb_cost, q_v*amb_v_cost] \n",
    "amb_sub_costs_labels = ['udelA', 'uvA', 'elatA', 'lonA', 'ephiA', 'vA']\n",
    "plt.bar(range(len(amb_sub_costs)), [sol.value(c) for c in amb_sub_costs])\n",
    "plt.xticks(range(len(amb_sub_costs)), amb_sub_costs_labels,rotation=45)\n",
    "\n",
    "plt.title('Amb')\n",
    "plt.xlabel(\"Subcost\")\n",
    "plt.ylabel(\"Cost Value\")\n",
    "plt.show()\n",
    "\n",
    "all_costs = [0.1*c for c in car1_sub_costs] + [0.1 for c in car2_sub_costs] + [10*c for c in amb_sub_costs]\n",
    "all_labels = car1_sub_costs_labels + car2_sub_costs_labels + amb_sub_costs_labels\n",
    "plt.bar(range(len(all_costs)), [sol.value(c) for c in all_costs])\n",
    "plt.xticks(range(len(all_labels)), all_labels,rotation=90)\n",
    "plt.title('All Cars')\n",
    "plt.xlabel(\"Subcost\")\n",
    "plt.ylabel(\"Cost Value\")"
   ]
  },
  {
   "cell_type": "code",
   "execution_count": null,
   "metadata": {},
   "outputs": [],
   "source": []
  },
  {
   "cell_type": "code",
   "execution_count": null,
   "metadata": {},
   "outputs": [],
   "source": [
    "for BR_iteration in range(20):\n",
    "    opti2.set_value(x_opt2, sol.value(x_opt))\n",
    "    opti2.set_value(u_opt2, sol.value(u_opt))\n",
    "\n",
    "    opti2.set_value(xamb_opt2, sol.value(xamb_opt))\n",
    "    opti2.set_value(uamb_opt2, sol.value(uamb_opt))\n",
    "\n",
    "    opti2.set_initial(x2_opt2, sol.value(x2_opt))\n",
    "    opti2.set_initial(u2_opt2, sol.value(u2_opt))\n",
    "    sol2 = opti2.solve()\n",
    "\n",
    "    opti3.set_value(x_opt3, sol2.value(x_opt2))\n",
    "    opti3.set_value(u_opt3, sol2.value(u_opt2))\n",
    "\n",
    "    opti3.set_value(x2_opt3, sol2.value(x2_opt2))\n",
    "    opti3.set_value(u2_opt3, sol2.value(uamb_opt2))\n",
    "\n",
    "    opti3.set_initial(xamb_opt3, sol2.value(xamb_opt2))\n",
    "    opti3.set_initial(uamb_opt3, sol2.value(uamb_opt2))    \n",
    "    sol3 = opti3.solve()\n",
    "    \n",
    "    \n",
    "    opti.set_value(x2_opt, sol3.value(x2_opt3))\n",
    "    opti.set_value(xamb_opt, sol3.value(xamb_opt3))\n",
    "    opti.set_value(u2_opt, sol3.value(u2_opt3))\n",
    "    opti.set_value(uamb_opt, sol3.value(uamb_opt3))\n",
    "\n",
    "    opti.set_initial(x_opt, sol3.value(x_opt3))\n",
    "    opti.set_initial(u_opt, sol3.value(u_opt3))    \n",
    "    sol = opti.solve()\n",
    "    \n",
    "    x_warm = sol.value(x_opt)\n",
    "    u_warm = sol.value(u_opt)\n",
    "    x2_warm = sol.value(x2_opt)\n",
    "    u2_warm = sol.value(u2_opt)\n",
    "    xamb_warm = sol.value(xamb_opt)\n",
    "    uamb_warm = sol.value(uamb_opt)\n",
    "\n",
    "#     x_des = sol/\n",
    "\n",
    "    for k in range(N+1):\n",
    "\n",
    "        fig, ax = ego_car.get_frame(x_warm[:,k])\n",
    "        fig, ax = ego_car.get_frame(x2_warm[:,k], ax)\n",
    "        fig, ax = ego_car.get_frame(xamb_warm[:,k], ax, amb=True)\n",
    "\n",
    "\n",
    "#         ax.plot(x_des[0,:], x_des[1,:], '--')\n",
    "#         ax.plot(x2_des[0,:], x2_des[1,:], '--')        \n",
    "\n",
    "        ax = plt.gca()\n",
    "        window_width = 24\n",
    "        window_height = window_width\n",
    "        xmin, xmax = -1, -1+window_width\n",
    "        ymin, ymax = -int(window_height/4.0), int(window_height/4.0)\n",
    "        ax.set_ylim((ymin, ymax))\n",
    "        ax.set_xlim((xmin, xmax))\n",
    "\n",
    "        fig.savefig(folder + 'imgs/' '{:03d}.png'.format(k))\n",
    "        plt.close(fig)         \n",
    "\n",
    "    vid_fname = folder + '%02d'%BR_iteration + 'car.mp4'\n",
    "    if os.path.exists(vid_fname):\n",
    "        os.remove(vid_fname)\n",
    "    cmd = 'ffmpeg -r 16 -f image2 -i {}imgs/%03d.png -vcodec libx264 -crf 25  -pix_fmt yuv420p {}'.format(folder, vid_fname)\n",
    "    os.system(cmd)\n",
    "    print('Saving video to: {}'.format(vid_fname))"
   ]
  },
  {
   "cell_type": "code",
   "execution_count": null,
   "metadata": {},
   "outputs": [],
   "source": []
  },
  {
   "cell_type": "code",
   "execution_count": null,
   "metadata": {},
   "outputs": [],
   "source": [
    "for BR_iteration in range(20):        \n",
    "    vid_fname = folder + '%02d'%BR_iteration + 'car.mp4'\n",
    "    \n",
    "    print('Saving video to: {}'.format(vid_fname))"
   ]
  },
  {
   "cell_type": "code",
   "execution_count": null,
   "metadata": {},
   "outputs": [],
   "source": []
  },
  {
   "cell_type": "markdown",
   "metadata": {},
   "source": [
    "## Best Response V2"
   ]
  },
  {
   "cell_type": "code",
   "execution_count": null,
   "metadata": {},
   "outputs": [],
   "source": []
  },
  {
   "cell_type": "code",
   "execution_count": null,
   "metadata": {
    "scrolled": true
   },
   "outputs": [],
   "source": []
  },
  {
   "cell_type": "code",
   "execution_count": null,
   "metadata": {},
   "outputs": [],
   "source": []
  },
  {
   "cell_type": "code",
   "execution_count": null,
   "metadata": {
    "scrolled": false
   },
   "outputs": [],
   "source": []
  },
  {
   "cell_type": "code",
   "execution_count": null,
   "metadata": {},
   "outputs": [],
   "source": []
  },
  {
   "cell_type": "code",
   "execution_count": null,
   "metadata": {},
   "outputs": [],
   "source": [
    "x1 = sol3.value(x_opt3)\n",
    "x2 = sol3.value(x2_opt3)\n",
    "xamb = sol3.value(xamb_opt3)\n",
    "x_des = sol3.value(xamb_desired_3)\n",
    "\n",
    "for k in range(N+1):\n",
    "\n",
    "    fig, ax = ego_car.get_frame(x1[:,k])\n",
    "    fig, ax = ego_car.get_frame(x2[:,k], ax)\n",
    "    fig, ax = ego_car.get_frame(xamb[:,k], ax, amb=True)\n",
    "\n",
    "    \n",
    "    ax.plot(x_des[0,:], x_des[1,:], '--')\n",
    "#     ax.plot(x2_des[0,:], x2_des[1,:], '--')        \n",
    "\n",
    "    ax = plt.gca()\n",
    "    window_width = 24\n",
    "    window_height = window_width\n",
    "    xmin, xmax = -1, -1+window_width\n",
    "    ymin, ymax = -int(window_height/4.0), int(window_height/4.0)\n",
    "    ax.set_ylim((ymin, ymax))\n",
    "    ax.set_xlim((xmin, xmax))\n",
    "\n",
    "    fig.savefig(folder + 'imgs/' '{:03d}.png'.format(k))\n",
    "    plt.close(fig)     \n",
    "    \n",
    "vid_fname = folder + 'caramb.mp4'\n",
    "if os.path.exists(vid_fname):\n",
    "    os.remove(vid_fname)\n",
    "cmd = 'ffmpeg -r 16 -f image2 -i {}imgs/%03d.png -vcodec libx264 -crf 25  -pix_fmt yuv420p {}'.format(folder, vid_fname)\n",
    "os.system(cmd)\n",
    "print('Saving video to: {}'.format(vid_fname))"
   ]
  },
  {
   "cell_type": "code",
   "execution_count": null,
   "metadata": {},
   "outputs": [],
   "source": []
  },
  {
   "cell_type": "code",
   "execution_count": null,
   "metadata": {},
   "outputs": [],
   "source": []
  },
  {
   "cell_type": "code",
   "execution_count": null,
   "metadata": {},
   "outputs": [],
   "source": []
  },
  {
   "cell_type": "code",
   "execution_count": null,
   "metadata": {},
   "outputs": [],
   "source": []
  },
  {
   "cell_type": "code",
   "execution_count": null,
   "metadata": {
    "scrolled": false
   },
   "outputs": [],
   "source": [
    "car1_sub_costs = [car1_u_delta_cost, car1_u_v_cost, 10*car1_lat_cost, 10*car1_lon_cost, car1_phi_cost, phid1_cost, q_v*car1_v_cost] \n",
    "car1_sub_costs_labels = ['udel1', 'uv1', 'elat1', 'lon1', 'ephi1', 'v1']\n",
    "plt.bar(range(len(car1_sub_costs)), [sol.value(c) for c in car1_sub_costs])\n",
    "plt.xticks(range(len(car1_sub_costs)), car1_sub_costs_labels,rotation=45)\n",
    "plt.title('Car 1')\n",
    "plt.xlabel(\"Subcost\")\n",
    "plt.ylabel(\"Cost Value\")\n",
    "plt.show()\n",
    "\n",
    "car2_sub_costs = [car2_u_delta_cost, car2_u_v_cost, 10*car2_lat_cost, 10*car2_lon_cost, car2_phi_cost, phid2_cost, q_v*car2_v_cost] \n",
    "car2_sub_costs_labels = ['udel2', 'uv2', 'elat2', 'lon2', 'ephi2', 'v2']\n",
    "plt.bar(range(len(car2_sub_costs)), [sol.value(c) for c in car2_sub_costs])\n",
    "plt.xticks(range(len(car2_sub_costs)), car2_sub_costs_labels,rotation=45)\n",
    "plt.title('Car 2')\n",
    "plt.xlabel(\"Subcost\")\n",
    "plt.ylabel(\"Cost Value\")\n",
    "plt.show()\n",
    "\n",
    "amb_sub_costs = [amb_u_delta_cost, amb_u_v_cost, 10*amb_lat_cost, 10*amb_lon_cost, amb_phi_cost, phidamb_cost, q_v*amb_v_cost] \n",
    "amb_sub_costs_labels = ['udelA', 'uvA', 'elatA', 'lonA', 'ephiA', 'vA']\n",
    "plt.bar(range(len(amb_sub_costs)), [sol.value(c) for c in amb_sub_costs])\n",
    "plt.xticks(range(len(amb_sub_costs)), amb_sub_costs_labels,rotation=45)\n",
    "\n",
    "plt.title('Amb')\n",
    "plt.xlabel(\"Subcost\")\n",
    "plt.ylabel(\"Cost Value\")\n",
    "plt.show()\n",
    "\n",
    "all_costs = [0.1*c for c in car1_sub_costs] + [0.1 for c in car2_sub_costs] + [10*c for c in amb_sub_costs]\n",
    "all_labels = car1_sub_costs_labels + car2_sub_costs_labels + amb_sub_costs_labels\n",
    "plt.bar(range(len(all_costs)), [sol.value(c) for c in all_costs])\n",
    "plt.xticks(range(len(all_labels)), all_labels,rotation=90)\n",
    "plt.title('All Cars')\n",
    "plt.xlabel(\"Subcost\")\n",
    "plt.ylabel(\"Cost Value\")"
   ]
  },
  {
   "cell_type": "code",
   "execution_count": null,
   "metadata": {},
   "outputs": [],
   "source": [
    "sol.value(x_opt)[3:5, 10:20]"
   ]
  },
  {
   "cell_type": "code",
   "execution_count": null,
   "metadata": {},
   "outputs": [],
   "source": [
    "dt"
   ]
  },
  {
   "cell_type": "code",
   "execution_count": null,
   "metadata": {},
   "outputs": [],
   "source": [
    "plt.plot(opti.debug.value(x_opt)[4,:],'o',c='b')\n",
    "plt.plot(opti.debug.value(x2_opt)[4,:],'o',c='g')\n",
    "plt.plot(opti.debug.value(xamb_opt)[4,:],'o',c='r')\n",
    "plt.ylabel(\"Velocity\")\n",
    "plt.show()"
   ]
  },
  {
   "cell_type": "code",
   "execution_count": null,
   "metadata": {},
   "outputs": [],
   "source": [
    "plt.plot(opti.debug.value(u_opt)[1,:],'o',c='b')\n",
    "plt.plot(opti.debug.value(u2_opt)[1,:],'o',c='g')\n",
    "plt.plot(opti.debug.value(uamb_opt)[1,:],'o',c='r')\n",
    "plt.ylabel(\"Acceleration $\\delta V_u$\")\n",
    "plt.show()"
   ]
  },
  {
   "cell_type": "code",
   "execution_count": null,
   "metadata": {},
   "outputs": [],
   "source": [
    "plt.plot([np.sqrt(opti.debug.value(cas.sumsqr(x_opt[0:2,k] - x2_opt[0:2,k]))) for k in range(opti.debug.value(x_opt).shape[1])],'o',c='b')\n",
    "plt.plot([np.sqrt(opti.debug.value(cas.sumsqr(x_opt[0:2,k] - x2_opt[0:2,k]))) for k in range(opti.debug.value(x_opt).shape[1])],'x',c='g')\n",
    "\n",
    "plt.plot([np.sqrt(opti.debug.value(cas.sumsqr(x_opt[0:2,k] - xamb_opt[0:2,k]))) for k in range(opti.debug.value(x_opt).shape[1])],'o',c='b')\n",
    "plt.plot([np.sqrt(opti.debug.value(cas.sumsqr(x_opt[0:2,k] - xamb_opt[0:2,k]))) for k in range(opti.debug.value(x_opt).shape[1])],'x',c='r')\n",
    "\n",
    "plt.plot([np.sqrt(opti.debug.value(cas.sumsqr(xamb_opt[0:2,k] - x2_opt[0:2,k]))) for k in range(opti.debug.value(x_opt).shape[1])],'o',c='g')\n",
    "plt.plot([np.sqrt(opti.debug.value(cas.sumsqr(xamb_opt[0:2,k] - x2_opt[0:2,k]))) for k in range(opti.debug.value(x_opt).shape[1])],'x',c='r')\n",
    "\n",
    "plt.hlines(min_dist,0,50)\n",
    "plt.ylabel('Intervehicle Distance')\n",
    "plt.ylim([-.1, 2*min_dist])"
   ]
  },
  {
   "cell_type": "code",
   "execution_count": null,
   "metadata": {},
   "outputs": [],
   "source": [
    "plt.plot([opti.debug.value(slack1) for k in range(opti.debug.value(x_opt).shape[1])],'.',c='b')\n",
    "plt.plot([opti.debug.value(slack2) for k in range(opti.debug.value(x_opt).shape[1])],'.',c='r')\n",
    "plt.plot([opti.debug.value(slack3) for k in range(opti.debug.value(x_opt).shape[1])],'.',c='g')\n",
    "\n",
    "\n",
    "# plt.plot([np.sqrt(opti.debug.value(cas.sumsqr(x_opt[0:2,k] - x2_opt[0:2,k]))) for k in range(opti.debug.value(x_opt).shape[1])],'o',c='b')\n",
    "# plt.plot([np.sqrt(opti.debug.value(cas.sumsqr(x_opt[0:2,k] - x2_opt[0:2,k]))) for k in range(opti.debug.value(x_opt).shape[1])],'x',c='g')\n",
    "\n",
    "# plt.plot([np.sqrt(opti.debug.value(cas.sumsqr(x_opt[0:2,k] - xamb_opt[0:2,k]))) for k in range(opti.debug.value(x_opt).shape[1])],'o',c='b')\n",
    "# plt.plot([np.sqrt(opti.debug.value(cas.sumsqr(x_opt[0:2,k] - xamb_opt[0:2,k]))) for k in range(opti.debug.value(x_opt).shape[1])],'x',c='r')\n",
    "\n",
    "# plt.plot([np.sqrt(opti.debug.value(cas.sumsqr(xamb_opt[0:2,k] - x2_opt[0:2,k]))) for k in range(opti.debug.value(x_opt).shape[1])],'o',c='g')\n",
    "# plt.plot([np.sqrt(opti.debug.value(cas.sumsqr(xamb_opt[0:2,k] - x2_opt[0:2,k]))) for k in range(opti.debug.value(x_opt).shape[1])],'x',c='r')\n",
    "\n",
    "plt.ylabel('slack')\n",
    "# plt.ylim([.7,.71])"
   ]
  },
  {
   "cell_type": "code",
   "execution_count": null,
   "metadata": {
    "scrolled": true
   },
   "outputs": [],
   "source": [
    "if not PLOT_LIVE:\n",
    "    for k in range(N+1):\n",
    "        \n",
    "        fig, ax = ego_car.get_frame(x_mpc[:,k])\n",
    "        fig, ax = ego_car.get_frame(x2_mpc[:,k], ax)\n",
    "        fig, ax = ego_car.get_frame(xamb_mpc[:,k], ax, amb=True)\n",
    "        \n",
    "        ax.plot(x_des[0,:], x_des[1,:], '--')\n",
    "        ax.plot(x2_des[0,:], x2_des[1,:], '--')        \n",
    "        \n",
    "        ax = plt.gca()\n",
    "        window_width = 24\n",
    "        window_height = window_width\n",
    "        xmin, xmax = -1, -1+window_width\n",
    "        ymin, ymax = -int(window_height/4.0), int(window_height/4.0)\n",
    "        ax.set_ylim((ymin, ymax))\n",
    "        ax.set_xlim((xmin, xmax))\n",
    "        \n",
    "        fig.savefig(folder + 'imgs/' '{:03d}.png'.format(k))\n",
    "        plt.close(fig)     "
   ]
  }
 ],
 "metadata": {
  "kernelspec": {
   "display_name": "Python 3",
   "language": "python",
   "name": "python3"
  },
  "language_info": {
   "codemirror_mode": {
    "name": "ipython",
    "version": 3
   },
   "file_extension": ".py",
   "mimetype": "text/x-python",
   "name": "python",
   "nbconvert_exporter": "python",
   "pygments_lexer": "ipython3",
   "version": "3.7.4"
  }
 },
 "nbformat": 4,
 "nbformat_minor": 2
}
