{
 "cells": [
  {
   "cell_type": "code",
   "execution_count": 1,
   "metadata": {
    "scrolled": true
   },
   "outputs": [],
   "source": [
    "%load_ext autoreload\n",
    "%autoreload 2\n",
    "import datetime\n",
    "import os\n",
    "import numpy as np\n",
    "import matplotlib.pyplot as plt\n",
    "\n",
    "import casadi as cas\n",
    "\n",
    "##### For viewing the videos in Jupyter Notebook\n",
    "import io\n",
    "import base64\n",
    "from IPython.display import HTML\n",
    "\n",
    "import car_plotting as cplot\n",
    "import MPC_Casadi as mpc\n",
    "\n",
    "\n",
    "%matplotlib inline"
   ]
  },
  {
   "cell_type": "markdown",
   "metadata": {},
   "source": [
    "# Vehicle Dynamics $\\frac{d}{dt} \\vec{x} = f(\\vec{x}, \\vec{u})$"
   ]
  },
  {
   "cell_type": "code",
   "execution_count": null,
   "metadata": {},
   "outputs": [],
   "source": []
  },
  {
   "cell_type": "markdown",
   "metadata": {},
   "source": [
    "def gen_x_next(x_k, u_k, dt):\n",
    "    k1 = f(x_k, u_k)\n",
    "    k2 = f(x_k+dt/2*k1, u_k)\n",
    "    k3 = f(x_k+dt/2*k2, u_k)\n",
    "    k4 = f(x_k+dt*k3,   u_k)\n",
    "    x_next = x_k + dt/6*(k1+2*k2+2*k3+k4) \n",
    "    return x_next\n",
    "# F = cas.Function('F',[x,u,t],[ode],)"
   ]
  },
  {
   "cell_type": "markdown",
   "metadata": {},
   "source": [
    "#  States\n",
    "\n",
    "$\\vec{x}$ = $[x, y, \\phi, \\delta, V, s]^T$\n",
    "\n",
    "$\\vec{u}$ = $[\\delta^u, v^u]^T$"
   ]
  },
  {
   "cell_type": "markdown",
   "metadata": {},
   "source": [
    "# Discrete (integrated) dynamics $\\vec{x}_{t+1} = F(\\vec{x}_{t}, \\vec{u}_{t})$"
   ]
  },
  {
   "cell_type": "code",
   "execution_count": 2,
   "metadata": {},
   "outputs": [],
   "source": [
    "T = 4 #numbr of time horizons\n",
    "dt = 0.1\n",
    "N = int(T/dt) #Number of control intervals"
   ]
  },
  {
   "cell_type": "markdown",
   "metadata": {},
   "source": [
    "intg_options = {}\n",
    "intg_options['tf'] = dt # from dt\n",
    "intg_options['simplify'] = True\n",
    "intg_options['number_of_finite_elements'] = 6  #from 4\n",
    "\n",
    "dae = {}  #What's a DAE?\n",
    "dae['x'] = x\n",
    "dae['p'] = u\n",
    "dae['ode'] = f(x,u)\n",
    "intg = cas.integrator('intg','rk', dae, intg_options)\n",
    "res = intg(x0=x,p=u)\n",
    "x_next = res['xf']\n",
    "F = cas.Function('F',[x,u],[x_next],['x','u'],['x_next'])"
   ]
  },
  {
   "cell_type": "markdown",
   "metadata": {},
   "source": [
    "# Problem Definition\n",
    "### Parameterization of Desired Trajectory ($\\vec{x}_d = f_d(s)$)"
   ]
  },
  {
   "cell_type": "code",
   "execution_count": 3,
   "metadata": {},
   "outputs": [],
   "source": [
    "s = cas.MX.sym('s')\n",
    "xd = s\n",
    "yd = 0\n",
    "phid = 0\n",
    "des_traj = cas.vertcat(xd, yd, phid)\n",
    "fd = cas.Function('fd',[s],[des_traj],['s'],['des_traj'])"
   ]
  },
  {
   "cell_type": "code",
   "execution_count": 4,
   "metadata": {},
   "outputs": [],
   "source": [
    "#Globally true information\n",
    "min_dist = 2 * (2 * .5**2)**.5\n",
    "\n",
    "initial_speed = 6.7 \n",
    "# Initial Conditions\n",
    "x0 = np.array([2*min_dist, .6*min_dist, 0, 0, initial_speed, 0]).T\n",
    "x0_2 = np.array([2*min_dist,-.6*min_dist, .0, 0, initial_speed, 0]).T\n",
    "x0_amb = np.array([0, 0.0, 0, 0, 1.25 * initial_speed,0]).T"
   ]
  },
  {
   "cell_type": "markdown",
   "metadata": {},
   "source": [
    "### Solve it centrally just to warm start the solution"
   ]
  },
  {
   "cell_type": "code",
   "execution_count": 5,
   "metadata": {},
   "outputs": [],
   "source": [
    "x1_MPC = mpc.MPC()\n",
    "x2_MPC = mpc.MPC()\n",
    "\n",
    "x1_MPC.k_s = -1.0\n",
    "x2_MPC.k_s = -1.0\n",
    "\n",
    "amb_MPC = mpc.MPC()\n",
    "amb_MPC.theta_iamb = 0.0\n",
    "amb_MPC.k_u_v = 0.10\n",
    "# amb_MPC.k_u_change = 1.0\n",
    "amb_MPC.k_s = -1.0\n",
    "amb_MPC.max_v = 20.0\n",
    "amb_MPC.max_X_dev = 5.0\n"
   ]
  },
  {
   "cell_type": "code",
   "execution_count": 6,
   "metadata": {},
   "outputs": [],
   "source": [
    "opt =  mpc.OptimizationMPC(x1_MPC, x2_MPC,amb_MPC)\n",
    "opt.generate_optimization(N, dt, min_dist, fd, T, x0, x0_2, x0_amb, 2)"
   ]
  },
  {
   "cell_type": "code",
   "execution_count": 7,
   "metadata": {},
   "outputs": [
    {
     "name": "stdout",
     "output_type": "stream",
     "text": [
      "\n",
      "******************************************************************************\n",
      "This program contains Ipopt, a library for large-scale nonlinear optimization.\n",
      " Ipopt is released as open source code under the Eclipse Public License (EPL).\n",
      "         For more information visit http://projects.coin-or.org/Ipopt\n",
      "******************************************************************************\n",
      "\n",
      "      solver  :   t_proc      (avg)   t_wall      (avg)    n_eval\n",
      "       nlp_f  |   7.50ms (101.31us)   7.30ms ( 98.58us)        74\n",
      "       nlp_g  |  31.77ms (429.32us)  31.47ms (425.31us)        74\n",
      "    nlp_grad  |   1.40ms (  1.40ms)   1.40ms (  1.40ms)         1\n",
      "  nlp_grad_f  |  12.09ms (281.14us)  11.80ms (274.33us)        43\n",
      "  nlp_hess_l  | 495.28ms (  7.74ms) 490.07ms (  7.66ms)        64\n",
      "   nlp_jac_g  | 255.45ms (  3.76ms) 252.93ms (  3.72ms)        68\n",
      "       total  |   1.22 s (  1.22 s)   1.21 s (  1.21 s)         1\n"
     ]
    }
   ],
   "source": [
    "x1, u1, x1_des, x2, u2, x2_des, xamb, uamb, xamb_des = opt.get_solution()"
   ]
  },
  {
   "cell_type": "code",
   "execution_count": 8,
   "metadata": {},
   "outputs": [
    {
     "name": "stdout",
     "output_type": "stream",
     "text": [
      "results/20200214-102602_newsclassesibr/\n"
     ]
    }
   ],
   "source": [
    "optional_suffix = \"_newsclassesibr\"\n",
    "subdir_name = datetime.datetime.now().strftime(\"%Y%m%d-%H%M%S\") + optional_suffix\n",
    "folder = \"results/\" + subdir_name + \"/\"\n",
    "os.makedirs(folder)\n",
    "os.makedirs(folder+\"imgs/\")\n",
    "print(folder)"
   ]
  },
  {
   "cell_type": "code",
   "execution_count": 9,
   "metadata": {
    "scrolled": true
   },
   "outputs": [
    {
     "name": "stderr",
     "output_type": "stream",
     "text": [
      "Clipping input data to the valid range for imshow with RGB data ([0..1] for floats or [0..255] for integers).\n",
      "Clipping input data to the valid range for imshow with RGB data ([0..1] for floats or [0..255] for integers).\n",
      "Clipping input data to the valid range for imshow with RGB data ([0..1] for floats or [0..255] for integers).\n",
      "Clipping input data to the valid range for imshow with RGB data ([0..1] for floats or [0..255] for integers).\n",
      "Clipping input data to the valid range for imshow with RGB data ([0..1] for floats or [0..255] for integers).\n",
      "Clipping input data to the valid range for imshow with RGB data ([0..1] for floats or [0..255] for integers).\n",
      "Clipping input data to the valid range for imshow with RGB data ([0..1] for floats or [0..255] for integers).\n",
      "Clipping input data to the valid range for imshow with RGB data ([0..1] for floats or [0..255] for integers).\n",
      "Clipping input data to the valid range for imshow with RGB data ([0..1] for floats or [0..255] for integers).\n",
      "Clipping input data to the valid range for imshow with RGB data ([0..1] for floats or [0..255] for integers).\n",
      "Clipping input data to the valid range for imshow with RGB data ([0..1] for floats or [0..255] for integers).\n",
      "Clipping input data to the valid range for imshow with RGB data ([0..1] for floats or [0..255] for integers).\n",
      "Clipping input data to the valid range for imshow with RGB data ([0..1] for floats or [0..255] for integers).\n",
      "Clipping input data to the valid range for imshow with RGB data ([0..1] for floats or [0..255] for integers).\n",
      "Clipping input data to the valid range for imshow with RGB data ([0..1] for floats or [0..255] for integers).\n",
      "Clipping input data to the valid range for imshow with RGB data ([0..1] for floats or [0..255] for integers).\n",
      "Clipping input data to the valid range for imshow with RGB data ([0..1] for floats or [0..255] for integers).\n",
      "Clipping input data to the valid range for imshow with RGB data ([0..1] for floats or [0..255] for integers).\n",
      "Clipping input data to the valid range for imshow with RGB data ([0..1] for floats or [0..255] for integers).\n",
      "Clipping input data to the valid range for imshow with RGB data ([0..1] for floats or [0..255] for integers).\n",
      "Clipping input data to the valid range for imshow with RGB data ([0..1] for floats or [0..255] for integers).\n",
      "Clipping input data to the valid range for imshow with RGB data ([0..1] for floats or [0..255] for integers).\n",
      "Clipping input data to the valid range for imshow with RGB data ([0..1] for floats or [0..255] for integers).\n",
      "Clipping input data to the valid range for imshow with RGB data ([0..1] for floats or [0..255] for integers).\n",
      "Clipping input data to the valid range for imshow with RGB data ([0..1] for floats or [0..255] for integers).\n",
      "Clipping input data to the valid range for imshow with RGB data ([0..1] for floats or [0..255] for integers).\n",
      "Clipping input data to the valid range for imshow with RGB data ([0..1] for floats or [0..255] for integers).\n",
      "Clipping input data to the valid range for imshow with RGB data ([0..1] for floats or [0..255] for integers).\n",
      "Clipping input data to the valid range for imshow with RGB data ([0..1] for floats or [0..255] for integers).\n",
      "Clipping input data to the valid range for imshow with RGB data ([0..1] for floats or [0..255] for integers).\n",
      "Clipping input data to the valid range for imshow with RGB data ([0..1] for floats or [0..255] for integers).\n",
      "Clipping input data to the valid range for imshow with RGB data ([0..1] for floats or [0..255] for integers).\n",
      "Clipping input data to the valid range for imshow with RGB data ([0..1] for floats or [0..255] for integers).\n",
      "Clipping input data to the valid range for imshow with RGB data ([0..1] for floats or [0..255] for integers).\n",
      "Clipping input data to the valid range for imshow with RGB data ([0..1] for floats or [0..255] for integers).\n",
      "Clipping input data to the valid range for imshow with RGB data ([0..1] for floats or [0..255] for integers).\n",
      "Clipping input data to the valid range for imshow with RGB data ([0..1] for floats or [0..255] for integers).\n",
      "Clipping input data to the valid range for imshow with RGB data ([0..1] for floats or [0..255] for integers).\n",
      "Clipping input data to the valid range for imshow with RGB data ([0..1] for floats or [0..255] for integers).\n",
      "Clipping input data to the valid range for imshow with RGB data ([0..1] for floats or [0..255] for integers).\n",
      "Clipping input data to the valid range for imshow with RGB data ([0..1] for floats or [0..255] for integers).\n",
      "Clipping input data to the valid range for imshow with RGB data ([0..1] for floats or [0..255] for integers).\n",
      "Clipping input data to the valid range for imshow with RGB data ([0..1] for floats or [0..255] for integers).\n",
      "Clipping input data to the valid range for imshow with RGB data ([0..1] for floats or [0..255] for integers).\n",
      "Clipping input data to the valid range for imshow with RGB data ([0..1] for floats or [0..255] for integers).\n",
      "Clipping input data to the valid range for imshow with RGB data ([0..1] for floats or [0..255] for integers).\n",
      "Clipping input data to the valid range for imshow with RGB data ([0..1] for floats or [0..255] for integers).\n",
      "Clipping input data to the valid range for imshow with RGB data ([0..1] for floats or [0..255] for integers).\n",
      "Clipping input data to the valid range for imshow with RGB data ([0..1] for floats or [0..255] for integers).\n",
      "Clipping input data to the valid range for imshow with RGB data ([0..1] for floats or [0..255] for integers).\n",
      "Clipping input data to the valid range for imshow with RGB data ([0..1] for floats or [0..255] for integers).\n",
      "Clipping input data to the valid range for imshow with RGB data ([0..1] for floats or [0..255] for integers).\n",
      "Clipping input data to the valid range for imshow with RGB data ([0..1] for floats or [0..255] for integers).\n",
      "Clipping input data to the valid range for imshow with RGB data ([0..1] for floats or [0..255] for integers).\n",
      "Clipping input data to the valid range for imshow with RGB data ([0..1] for floats or [0..255] for integers).\n",
      "Clipping input data to the valid range for imshow with RGB data ([0..1] for floats or [0..255] for integers).\n",
      "Clipping input data to the valid range for imshow with RGB data ([0..1] for floats or [0..255] for integers).\n",
      "Clipping input data to the valid range for imshow with RGB data ([0..1] for floats or [0..255] for integers).\n",
      "Clipping input data to the valid range for imshow with RGB data ([0..1] for floats or [0..255] for integers).\n",
      "Clipping input data to the valid range for imshow with RGB data ([0..1] for floats or [0..255] for integers).\n",
      "Clipping input data to the valid range for imshow with RGB data ([0..1] for floats or [0..255] for integers).\n",
      "Clipping input data to the valid range for imshow with RGB data ([0..1] for floats or [0..255] for integers).\n",
      "Clipping input data to the valid range for imshow with RGB data ([0..1] for floats or [0..255] for integers).\n",
      "Clipping input data to the valid range for imshow with RGB data ([0..1] for floats or [0..255] for integers).\n",
      "Clipping input data to the valid range for imshow with RGB data ([0..1] for floats or [0..255] for integers).\n",
      "Clipping input data to the valid range for imshow with RGB data ([0..1] for floats or [0..255] for integers).\n",
      "Clipping input data to the valid range for imshow with RGB data ([0..1] for floats or [0..255] for integers).\n",
      "Clipping input data to the valid range for imshow with RGB data ([0..1] for floats or [0..255] for integers).\n",
      "Clipping input data to the valid range for imshow with RGB data ([0..1] for floats or [0..255] for integers).\n",
      "Clipping input data to the valid range for imshow with RGB data ([0..1] for floats or [0..255] for integers).\n",
      "Clipping input data to the valid range for imshow with RGB data ([0..1] for floats or [0..255] for integers).\n",
      "Clipping input data to the valid range for imshow with RGB data ([0..1] for floats or [0..255] for integers).\n",
      "Clipping input data to the valid range for imshow with RGB data ([0..1] for floats or [0..255] for integers).\n",
      "Clipping input data to the valid range for imshow with RGB data ([0..1] for floats or [0..255] for integers).\n",
      "Clipping input data to the valid range for imshow with RGB data ([0..1] for floats or [0..255] for integers).\n"
     ]
    },
    {
     "name": "stderr",
     "output_type": "stream",
     "text": [
      "Clipping input data to the valid range for imshow with RGB data ([0..1] for floats or [0..255] for integers).\n",
      "Clipping input data to the valid range for imshow with RGB data ([0..1] for floats or [0..255] for integers).\n",
      "Clipping input data to the valid range for imshow with RGB data ([0..1] for floats or [0..255] for integers).\n",
      "Clipping input data to the valid range for imshow with RGB data ([0..1] for floats or [0..255] for integers).\n",
      "Clipping input data to the valid range for imshow with RGB data ([0..1] for floats or [0..255] for integers).\n",
      "Clipping input data to the valid range for imshow with RGB data ([0..1] for floats or [0..255] for integers).\n",
      "Clipping input data to the valid range for imshow with RGB data ([0..1] for floats or [0..255] for integers).\n",
      "Clipping input data to the valid range for imshow with RGB data ([0..1] for floats or [0..255] for integers).\n",
      "Clipping input data to the valid range for imshow with RGB data ([0..1] for floats or [0..255] for integers).\n",
      "Clipping input data to the valid range for imshow with RGB data ([0..1] for floats or [0..255] for integers).\n",
      "Clipping input data to the valid range for imshow with RGB data ([0..1] for floats or [0..255] for integers).\n",
      "Clipping input data to the valid range for imshow with RGB data ([0..1] for floats or [0..255] for integers).\n",
      "Clipping input data to the valid range for imshow with RGB data ([0..1] for floats or [0..255] for integers).\n",
      "Clipping input data to the valid range for imshow with RGB data ([0..1] for floats or [0..255] for integers).\n",
      "Clipping input data to the valid range for imshow with RGB data ([0..1] for floats or [0..255] for integers).\n",
      "Clipping input data to the valid range for imshow with RGB data ([0..1] for floats or [0..255] for integers).\n",
      "Clipping input data to the valid range for imshow with RGB data ([0..1] for floats or [0..255] for integers).\n",
      "Clipping input data to the valid range for imshow with RGB data ([0..1] for floats or [0..255] for integers).\n",
      "Clipping input data to the valid range for imshow with RGB data ([0..1] for floats or [0..255] for integers).\n",
      "Clipping input data to the valid range for imshow with RGB data ([0..1] for floats or [0..255] for integers).\n",
      "Clipping input data to the valid range for imshow with RGB data ([0..1] for floats or [0..255] for integers).\n",
      "Clipping input data to the valid range for imshow with RGB data ([0..1] for floats or [0..255] for integers).\n",
      "Clipping input data to the valid range for imshow with RGB data ([0..1] for floats or [0..255] for integers).\n",
      "Clipping input data to the valid range for imshow with RGB data ([0..1] for floats or [0..255] for integers).\n",
      "Clipping input data to the valid range for imshow with RGB data ([0..1] for floats or [0..255] for integers).\n",
      "Clipping input data to the valid range for imshow with RGB data ([0..1] for floats or [0..255] for integers).\n",
      "Clipping input data to the valid range for imshow with RGB data ([0..1] for floats or [0..255] for integers).\n",
      "Clipping input data to the valid range for imshow with RGB data ([0..1] for floats or [0..255] for integers).\n",
      "Clipping input data to the valid range for imshow with RGB data ([0..1] for floats or [0..255] for integers).\n",
      "Clipping input data to the valid range for imshow with RGB data ([0..1] for floats or [0..255] for integers).\n",
      "Clipping input data to the valid range for imshow with RGB data ([0..1] for floats or [0..255] for integers).\n",
      "Clipping input data to the valid range for imshow with RGB data ([0..1] for floats or [0..255] for integers).\n",
      "Clipping input data to the valid range for imshow with RGB data ([0..1] for floats or [0..255] for integers).\n",
      "Clipping input data to the valid range for imshow with RGB data ([0..1] for floats or [0..255] for integers).\n",
      "Clipping input data to the valid range for imshow with RGB data ([0..1] for floats or [0..255] for integers).\n",
      "Clipping input data to the valid range for imshow with RGB data ([0..1] for floats or [0..255] for integers).\n",
      "Clipping input data to the valid range for imshow with RGB data ([0..1] for floats or [0..255] for integers).\n",
      "Clipping input data to the valid range for imshow with RGB data ([0..1] for floats or [0..255] for integers).\n",
      "Clipping input data to the valid range for imshow with RGB data ([0..1] for floats or [0..255] for integers).\n",
      "Clipping input data to the valid range for imshow with RGB data ([0..1] for floats or [0..255] for integers).\n",
      "Clipping input data to the valid range for imshow with RGB data ([0..1] for floats or [0..255] for integers).\n",
      "Clipping input data to the valid range for imshow with RGB data ([0..1] for floats or [0..255] for integers).\n",
      "Clipping input data to the valid range for imshow with RGB data ([0..1] for floats or [0..255] for integers).\n",
      "Clipping input data to the valid range for imshow with RGB data ([0..1] for floats or [0..255] for integers).\n",
      "Clipping input data to the valid range for imshow with RGB data ([0..1] for floats or [0..255] for integers).\n",
      "Clipping input data to the valid range for imshow with RGB data ([0..1] for floats or [0..255] for integers).\n",
      "Clipping input data to the valid range for imshow with RGB data ([0..1] for floats or [0..255] for integers).\n",
      "Clipping input data to the valid range for imshow with RGB data ([0..1] for floats or [0..255] for integers).\n"
     ]
    }
   ],
   "source": [
    "cplot.plot_cars(x1, x2, xamb, folder)"
   ]
  },
  {
   "cell_type": "code",
   "execution_count": 10,
   "metadata": {},
   "outputs": [
    {
     "name": "stdout",
     "output_type": "stream",
     "text": [
      "Saving video to: results/20200214-102602_newsclassesibr/20200214-102602_newsclassesibrcar.mp4\n"
     ]
    }
   ],
   "source": [
    "CIRCLES = False\n",
    "if CIRCLES:\n",
    "    vid_fname = folder + subdir_name + 'circle.mp4'\n",
    "else:\n",
    "    vid_fname = folder + subdir_name + 'car.mp4'   \n",
    "if os.path.exists(vid_fname):\n",
    "    os.remove(vid_fname)\n",
    "cmd = 'ffmpeg -r 16 -f image2 -i {}imgs/%03d.png -vcodec libx264 -crf 25  -pix_fmt yuv420p {}'.format(folder, vid_fname)\n",
    "os.system(cmd)\n",
    "print('Saving video to: {}'.format(vid_fname))"
   ]
  },
  {
   "cell_type": "code",
   "execution_count": 11,
   "metadata": {
    "scrolled": true
   },
   "outputs": [
    {
     "data": {
      "text/html": [
       "<video alt=\"test\" controls>\n",
       "                <source src=\"data:video/mp4;base64,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\" type=\"video/mp4\" />\n",
       "             </video>"
      ],
      "text/plain": [
       "<IPython.core.display.HTML object>"
      ]
     },
     "execution_count": 11,
     "metadata": {},
     "output_type": "execute_result"
    }
   ],
   "source": [
    "video = io.open(vid_fname, 'r+b').read()\n",
    "encoded = base64.b64encode(video)\n",
    "HTML(data='''<video alt=\"test\" controls>\n",
    "                <source src=\"data:video/mp4;base64,{0}\" type=\"video/mp4\" />\n",
    "             </video>'''.format(encoded.decode('ascii')))\n"
   ]
  },
  {
   "cell_type": "markdown",
   "metadata": {},
   "source": [
    "## IBR"
   ]
  },
  {
   "cell_type": "code",
   "execution_count": 12,
   "metadata": {},
   "outputs": [],
   "source": [
    "br1 = mpc.IterativeBestResponseMPC(x1_MPC, x2_MPC, amb_MPC)\n",
    "br1.generate_optimization(N, dt, min_dist, fd, T, x0, x0_2, x0_amb, 2)"
   ]
  },
  {
   "cell_type": "code",
   "execution_count": 13,
   "metadata": {},
   "outputs": [
    {
     "name": "stdout",
     "output_type": "stream",
     "text": [
      "      solver  :   t_proc      (avg)   t_wall      (avg)    n_eval\n",
      "       nlp_f  | 151.84ms ( 72.37us) 150.89ms ( 71.92us)      2098\n",
      "       nlp_g  | 328.34ms (156.50us) 325.31ms (155.06us)      2098\n",
      "    nlp_grad  | 895.00us (895.00us) 897.72us (897.72us)         1\n",
      "  nlp_grad_f  |  36.31ms (116.39us)  36.23ms (116.12us)       312\n",
      "  nlp_hess_l  | 848.50ms (  2.47ms) 840.57ms (  2.45ms)       343\n",
      "   nlp_jac_g  | 432.43ms (  1.23ms) 428.59ms (  1.22ms)       351\n",
      "       total  |   2.65 s (  2.65 s)   2.62 s (  2.62 s)         1\n"
     ]
    }
   ],
   "source": [
    "x1r1, u1r1, x1_desr1 = br1.get_solution(x2, u2, x2_des, xamb, uamb, xamb_des)"
   ]
  },
  {
   "cell_type": "code",
   "execution_count": 14,
   "metadata": {
    "scrolled": true
   },
   "outputs": [
    {
     "name": "stderr",
     "output_type": "stream",
     "text": [
      "Clipping input data to the valid range for imshow with RGB data ([0..1] for floats or [0..255] for integers).\n",
      "Clipping input data to the valid range for imshow with RGB data ([0..1] for floats or [0..255] for integers).\n",
      "Clipping input data to the valid range for imshow with RGB data ([0..1] for floats or [0..255] for integers).\n",
      "Clipping input data to the valid range for imshow with RGB data ([0..1] for floats or [0..255] for integers).\n",
      "Clipping input data to the valid range for imshow with RGB data ([0..1] for floats or [0..255] for integers).\n",
      "Clipping input data to the valid range for imshow with RGB data ([0..1] for floats or [0..255] for integers).\n",
      "Clipping input data to the valid range for imshow with RGB data ([0..1] for floats or [0..255] for integers).\n",
      "Clipping input data to the valid range for imshow with RGB data ([0..1] for floats or [0..255] for integers).\n",
      "Clipping input data to the valid range for imshow with RGB data ([0..1] for floats or [0..255] for integers).\n",
      "Clipping input data to the valid range for imshow with RGB data ([0..1] for floats or [0..255] for integers).\n",
      "Clipping input data to the valid range for imshow with RGB data ([0..1] for floats or [0..255] for integers).\n",
      "Clipping input data to the valid range for imshow with RGB data ([0..1] for floats or [0..255] for integers).\n",
      "Clipping input data to the valid range for imshow with RGB data ([0..1] for floats or [0..255] for integers).\n",
      "Clipping input data to the valid range for imshow with RGB data ([0..1] for floats or [0..255] for integers).\n",
      "Clipping input data to the valid range for imshow with RGB data ([0..1] for floats or [0..255] for integers).\n",
      "Clipping input data to the valid range for imshow with RGB data ([0..1] for floats or [0..255] for integers).\n",
      "Clipping input data to the valid range for imshow with RGB data ([0..1] for floats or [0..255] for integers).\n",
      "Clipping input data to the valid range for imshow with RGB data ([0..1] for floats or [0..255] for integers).\n",
      "Clipping input data to the valid range for imshow with RGB data ([0..1] for floats or [0..255] for integers).\n",
      "Clipping input data to the valid range for imshow with RGB data ([0..1] for floats or [0..255] for integers).\n",
      "Clipping input data to the valid range for imshow with RGB data ([0..1] for floats or [0..255] for integers).\n",
      "Clipping input data to the valid range for imshow with RGB data ([0..1] for floats or [0..255] for integers).\n",
      "Clipping input data to the valid range for imshow with RGB data ([0..1] for floats or [0..255] for integers).\n",
      "Clipping input data to the valid range for imshow with RGB data ([0..1] for floats or [0..255] for integers).\n",
      "Clipping input data to the valid range for imshow with RGB data ([0..1] for floats or [0..255] for integers).\n",
      "Clipping input data to the valid range for imshow with RGB data ([0..1] for floats or [0..255] for integers).\n",
      "Clipping input data to the valid range for imshow with RGB data ([0..1] for floats or [0..255] for integers).\n",
      "Clipping input data to the valid range for imshow with RGB data ([0..1] for floats or [0..255] for integers).\n",
      "Clipping input data to the valid range for imshow with RGB data ([0..1] for floats or [0..255] for integers).\n",
      "Clipping input data to the valid range for imshow with RGB data ([0..1] for floats or [0..255] for integers).\n",
      "Clipping input data to the valid range for imshow with RGB data ([0..1] for floats or [0..255] for integers).\n",
      "Clipping input data to the valid range for imshow with RGB data ([0..1] for floats or [0..255] for integers).\n",
      "Clipping input data to the valid range for imshow with RGB data ([0..1] for floats or [0..255] for integers).\n",
      "Clipping input data to the valid range for imshow with RGB data ([0..1] for floats or [0..255] for integers).\n",
      "Clipping input data to the valid range for imshow with RGB data ([0..1] for floats or [0..255] for integers).\n",
      "Clipping input data to the valid range for imshow with RGB data ([0..1] for floats or [0..255] for integers).\n",
      "Clipping input data to the valid range for imshow with RGB data ([0..1] for floats or [0..255] for integers).\n",
      "Clipping input data to the valid range for imshow with RGB data ([0..1] for floats or [0..255] for integers).\n",
      "Clipping input data to the valid range for imshow with RGB data ([0..1] for floats or [0..255] for integers).\n",
      "Clipping input data to the valid range for imshow with RGB data ([0..1] for floats or [0..255] for integers).\n",
      "Clipping input data to the valid range for imshow with RGB data ([0..1] for floats or [0..255] for integers).\n",
      "Clipping input data to the valid range for imshow with RGB data ([0..1] for floats or [0..255] for integers).\n",
      "Clipping input data to the valid range for imshow with RGB data ([0..1] for floats or [0..255] for integers).\n",
      "Clipping input data to the valid range for imshow with RGB data ([0..1] for floats or [0..255] for integers).\n",
      "Clipping input data to the valid range for imshow with RGB data ([0..1] for floats or [0..255] for integers).\n",
      "Clipping input data to the valid range for imshow with RGB data ([0..1] for floats or [0..255] for integers).\n",
      "Clipping input data to the valid range for imshow with RGB data ([0..1] for floats or [0..255] for integers).\n",
      "Clipping input data to the valid range for imshow with RGB data ([0..1] for floats or [0..255] for integers).\n",
      "Clipping input data to the valid range for imshow with RGB data ([0..1] for floats or [0..255] for integers).\n",
      "Clipping input data to the valid range for imshow with RGB data ([0..1] for floats or [0..255] for integers).\n",
      "Clipping input data to the valid range for imshow with RGB data ([0..1] for floats or [0..255] for integers).\n",
      "Clipping input data to the valid range for imshow with RGB data ([0..1] for floats or [0..255] for integers).\n",
      "Clipping input data to the valid range for imshow with RGB data ([0..1] for floats or [0..255] for integers).\n",
      "Clipping input data to the valid range for imshow with RGB data ([0..1] for floats or [0..255] for integers).\n",
      "Clipping input data to the valid range for imshow with RGB data ([0..1] for floats or [0..255] for integers).\n",
      "Clipping input data to the valid range for imshow with RGB data ([0..1] for floats or [0..255] for integers).\n",
      "Clipping input data to the valid range for imshow with RGB data ([0..1] for floats or [0..255] for integers).\n",
      "Clipping input data to the valid range for imshow with RGB data ([0..1] for floats or [0..255] for integers).\n",
      "Clipping input data to the valid range for imshow with RGB data ([0..1] for floats or [0..255] for integers).\n",
      "Clipping input data to the valid range for imshow with RGB data ([0..1] for floats or [0..255] for integers).\n",
      "Clipping input data to the valid range for imshow with RGB data ([0..1] for floats or [0..255] for integers).\n",
      "Clipping input data to the valid range for imshow with RGB data ([0..1] for floats or [0..255] for integers).\n",
      "Clipping input data to the valid range for imshow with RGB data ([0..1] for floats or [0..255] for integers).\n",
      "Clipping input data to the valid range for imshow with RGB data ([0..1] for floats or [0..255] for integers).\n",
      "Clipping input data to the valid range for imshow with RGB data ([0..1] for floats or [0..255] for integers).\n",
      "Clipping input data to the valid range for imshow with RGB data ([0..1] for floats or [0..255] for integers).\n",
      "Clipping input data to the valid range for imshow with RGB data ([0..1] for floats or [0..255] for integers).\n",
      "Clipping input data to the valid range for imshow with RGB data ([0..1] for floats or [0..255] for integers).\n",
      "Clipping input data to the valid range for imshow with RGB data ([0..1] for floats or [0..255] for integers).\n",
      "Clipping input data to the valid range for imshow with RGB data ([0..1] for floats or [0..255] for integers).\n",
      "Clipping input data to the valid range for imshow with RGB data ([0..1] for floats or [0..255] for integers).\n",
      "Clipping input data to the valid range for imshow with RGB data ([0..1] for floats or [0..255] for integers).\n",
      "Clipping input data to the valid range for imshow with RGB data ([0..1] for floats or [0..255] for integers).\n",
      "Clipping input data to the valid range for imshow with RGB data ([0..1] for floats or [0..255] for integers).\n",
      "Clipping input data to the valid range for imshow with RGB data ([0..1] for floats or [0..255] for integers).\n"
     ]
    },
    {
     "name": "stderr",
     "output_type": "stream",
     "text": [
      "Clipping input data to the valid range for imshow with RGB data ([0..1] for floats or [0..255] for integers).\n",
      "Clipping input data to the valid range for imshow with RGB data ([0..1] for floats or [0..255] for integers).\n",
      "Clipping input data to the valid range for imshow with RGB data ([0..1] for floats or [0..255] for integers).\n",
      "Clipping input data to the valid range for imshow with RGB data ([0..1] for floats or [0..255] for integers).\n",
      "Clipping input data to the valid range for imshow with RGB data ([0..1] for floats or [0..255] for integers).\n",
      "Clipping input data to the valid range for imshow with RGB data ([0..1] for floats or [0..255] for integers).\n",
      "Clipping input data to the valid range for imshow with RGB data ([0..1] for floats or [0..255] for integers).\n",
      "Clipping input data to the valid range for imshow with RGB data ([0..1] for floats or [0..255] for integers).\n",
      "Clipping input data to the valid range for imshow with RGB data ([0..1] for floats or [0..255] for integers).\n",
      "Clipping input data to the valid range for imshow with RGB data ([0..1] for floats or [0..255] for integers).\n",
      "Clipping input data to the valid range for imshow with RGB data ([0..1] for floats or [0..255] for integers).\n",
      "Clipping input data to the valid range for imshow with RGB data ([0..1] for floats or [0..255] for integers).\n",
      "Clipping input data to the valid range for imshow with RGB data ([0..1] for floats or [0..255] for integers).\n",
      "Clipping input data to the valid range for imshow with RGB data ([0..1] for floats or [0..255] for integers).\n",
      "Clipping input data to the valid range for imshow with RGB data ([0..1] for floats or [0..255] for integers).\n",
      "Clipping input data to the valid range for imshow with RGB data ([0..1] for floats or [0..255] for integers).\n",
      "Clipping input data to the valid range for imshow with RGB data ([0..1] for floats or [0..255] for integers).\n",
      "Clipping input data to the valid range for imshow with RGB data ([0..1] for floats or [0..255] for integers).\n",
      "Clipping input data to the valid range for imshow with RGB data ([0..1] for floats or [0..255] for integers).\n",
      "Clipping input data to the valid range for imshow with RGB data ([0..1] for floats or [0..255] for integers).\n",
      "Clipping input data to the valid range for imshow with RGB data ([0..1] for floats or [0..255] for integers).\n",
      "Clipping input data to the valid range for imshow with RGB data ([0..1] for floats or [0..255] for integers).\n",
      "Clipping input data to the valid range for imshow with RGB data ([0..1] for floats or [0..255] for integers).\n",
      "Clipping input data to the valid range for imshow with RGB data ([0..1] for floats or [0..255] for integers).\n",
      "Clipping input data to the valid range for imshow with RGB data ([0..1] for floats or [0..255] for integers).\n",
      "Clipping input data to the valid range for imshow with RGB data ([0..1] for floats or [0..255] for integers).\n",
      "Clipping input data to the valid range for imshow with RGB data ([0..1] for floats or [0..255] for integers).\n",
      "Clipping input data to the valid range for imshow with RGB data ([0..1] for floats or [0..255] for integers).\n",
      "Clipping input data to the valid range for imshow with RGB data ([0..1] for floats or [0..255] for integers).\n",
      "Clipping input data to the valid range for imshow with RGB data ([0..1] for floats or [0..255] for integers).\n",
      "Clipping input data to the valid range for imshow with RGB data ([0..1] for floats or [0..255] for integers).\n",
      "Clipping input data to the valid range for imshow with RGB data ([0..1] for floats or [0..255] for integers).\n",
      "Clipping input data to the valid range for imshow with RGB data ([0..1] for floats or [0..255] for integers).\n",
      "Clipping input data to the valid range for imshow with RGB data ([0..1] for floats or [0..255] for integers).\n",
      "Clipping input data to the valid range for imshow with RGB data ([0..1] for floats or [0..255] for integers).\n",
      "Clipping input data to the valid range for imshow with RGB data ([0..1] for floats or [0..255] for integers).\n",
      "Clipping input data to the valid range for imshow with RGB data ([0..1] for floats or [0..255] for integers).\n",
      "Clipping input data to the valid range for imshow with RGB data ([0..1] for floats or [0..255] for integers).\n",
      "Clipping input data to the valid range for imshow with RGB data ([0..1] for floats or [0..255] for integers).\n",
      "Clipping input data to the valid range for imshow with RGB data ([0..1] for floats or [0..255] for integers).\n",
      "Clipping input data to the valid range for imshow with RGB data ([0..1] for floats or [0..255] for integers).\n",
      "Clipping input data to the valid range for imshow with RGB data ([0..1] for floats or [0..255] for integers).\n",
      "Clipping input data to the valid range for imshow with RGB data ([0..1] for floats or [0..255] for integers).\n",
      "Clipping input data to the valid range for imshow with RGB data ([0..1] for floats or [0..255] for integers).\n",
      "Clipping input data to the valid range for imshow with RGB data ([0..1] for floats or [0..255] for integers).\n",
      "Clipping input data to the valid range for imshow with RGB data ([0..1] for floats or [0..255] for integers).\n",
      "Clipping input data to the valid range for imshow with RGB data ([0..1] for floats or [0..255] for integers).\n",
      "Clipping input data to the valid range for imshow with RGB data ([0..1] for floats or [0..255] for integers).\n"
     ]
    }
   ],
   "source": [
    "cplot.plot_cars(x1r1, x2, xamb, folder)"
   ]
  },
  {
   "cell_type": "code",
   "execution_count": 15,
   "metadata": {},
   "outputs": [
    {
     "name": "stdout",
     "output_type": "stream",
     "text": [
      "Saving video to: results/20200214-102602_newsclassesibr/20200214-102602_newsclassesibrcar1.mp4\n"
     ]
    }
   ],
   "source": [
    "CIRCLES = False\n",
    "if CIRCLES:\n",
    "    vid_fname = folder + subdir_name + 'circle1.mp4'\n",
    "else:\n",
    "    vid_fname = folder + subdir_name + 'car1.mp4'    \n",
    "if os.path.exists(vid_fname):\n",
    "    os.remove(vid_fname)\n",
    "cmd = 'ffmpeg -r 16 -f image2 -i {}imgs/%03d.png -vcodec libx264 -crf 25  -pix_fmt yuv420p {}'.format(folder, vid_fname)\n",
    "os.system(cmd)\n",
    "print('Saving video to: {}'.format(vid_fname))"
   ]
  },
  {
   "cell_type": "code",
   "execution_count": 16,
   "metadata": {
    "scrolled": true
   },
   "outputs": [
    {
     "data": {
      "text/html": [
       "<video alt=\"test\" controls>\n",
       "                <source src=\"data:video/mp4;base64,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\" type=\"video/mp4\" />\n",
       "             </video>"
      ],
      "text/plain": [
       "<IPython.core.display.HTML object>"
      ]
     },
     "execution_count": 16,
     "metadata": {},
     "output_type": "execute_result"
    }
   ],
   "source": [
    "video = io.open(vid_fname, 'r+b').read()\n",
    "encoded = base64.b64encode(video)\n",
    "HTML(data='''<video alt=\"test\" controls>\n",
    "                <source src=\"data:video/mp4;base64,{0}\" type=\"video/mp4\" />\n",
    "             </video>'''.format(encoded.decode('ascii')))\n"
   ]
  },
  {
   "cell_type": "code",
   "execution_count": 17,
   "metadata": {},
   "outputs": [],
   "source": [
    "br2 = mpc.IterativeBestResponseMPC(x2_MPC, x1_MPC, amb_MPC)\n",
    "br2.generate_optimization(N, dt, min_dist, fd, T, x0_2, x0, x0_amb, 2)"
   ]
  },
  {
   "cell_type": "code",
   "execution_count": 18,
   "metadata": {},
   "outputs": [
    {
     "name": "stdout",
     "output_type": "stream",
     "text": [
      "      solver  :   t_proc      (avg)   t_wall      (avg)    n_eval\n",
      "       nlp_f  | 213.89ms ( 88.20us) 213.83ms ( 88.18us)      2425\n",
      "       nlp_g  | 397.77ms (164.03us) 394.74ms (162.78us)      2425\n",
      "    nlp_grad  |   1.34ms (  1.34ms)   1.33ms (  1.33ms)         1\n",
      "  nlp_grad_f  |  50.55ms (129.28us)  50.53ms (129.24us)       391\n",
      "  nlp_hess_l  |   1.06 s (  2.56ms)   1.05 s (  2.54ms)       414\n",
      "   nlp_jac_g  | 536.49ms (  1.27ms) 532.25ms (  1.26ms)       424\n",
      "       total  |   3.45 s (  3.45 s)   3.42 s (  3.42 s)         1\n"
     ]
    }
   ],
   "source": [
    "x2r2, u2r2, x2_desr2 = br2.get_solution(x1r1, u1r1, x1_desr1, xamb, uamb, xamb_des)"
   ]
  },
  {
   "cell_type": "code",
   "execution_count": 19,
   "metadata": {},
   "outputs": [
    {
     "name": "stderr",
     "output_type": "stream",
     "text": [
      "Clipping input data to the valid range for imshow with RGB data ([0..1] for floats or [0..255] for integers).\n",
      "Clipping input data to the valid range for imshow with RGB data ([0..1] for floats or [0..255] for integers).\n",
      "Clipping input data to the valid range for imshow with RGB data ([0..1] for floats or [0..255] for integers).\n",
      "Clipping input data to the valid range for imshow with RGB data ([0..1] for floats or [0..255] for integers).\n",
      "Clipping input data to the valid range for imshow with RGB data ([0..1] for floats or [0..255] for integers).\n",
      "Clipping input data to the valid range for imshow with RGB data ([0..1] for floats or [0..255] for integers).\n",
      "Clipping input data to the valid range for imshow with RGB data ([0..1] for floats or [0..255] for integers).\n",
      "Clipping input data to the valid range for imshow with RGB data ([0..1] for floats or [0..255] for integers).\n",
      "Clipping input data to the valid range for imshow with RGB data ([0..1] for floats or [0..255] for integers).\n",
      "Clipping input data to the valid range for imshow with RGB data ([0..1] for floats or [0..255] for integers).\n",
      "Clipping input data to the valid range for imshow with RGB data ([0..1] for floats or [0..255] for integers).\n",
      "Clipping input data to the valid range for imshow with RGB data ([0..1] for floats or [0..255] for integers).\n",
      "Clipping input data to the valid range for imshow with RGB data ([0..1] for floats or [0..255] for integers).\n",
      "Clipping input data to the valid range for imshow with RGB data ([0..1] for floats or [0..255] for integers).\n",
      "Clipping input data to the valid range for imshow with RGB data ([0..1] for floats or [0..255] for integers).\n",
      "Clipping input data to the valid range for imshow with RGB data ([0..1] for floats or [0..255] for integers).\n",
      "Clipping input data to the valid range for imshow with RGB data ([0..1] for floats or [0..255] for integers).\n",
      "Clipping input data to the valid range for imshow with RGB data ([0..1] for floats or [0..255] for integers).\n",
      "Clipping input data to the valid range for imshow with RGB data ([0..1] for floats or [0..255] for integers).\n",
      "Clipping input data to the valid range for imshow with RGB data ([0..1] for floats or [0..255] for integers).\n",
      "Clipping input data to the valid range for imshow with RGB data ([0..1] for floats or [0..255] for integers).\n",
      "Clipping input data to the valid range for imshow with RGB data ([0..1] for floats or [0..255] for integers).\n",
      "Clipping input data to the valid range for imshow with RGB data ([0..1] for floats or [0..255] for integers).\n",
      "Clipping input data to the valid range for imshow with RGB data ([0..1] for floats or [0..255] for integers).\n",
      "Clipping input data to the valid range for imshow with RGB data ([0..1] for floats or [0..255] for integers).\n",
      "Clipping input data to the valid range for imshow with RGB data ([0..1] for floats or [0..255] for integers).\n",
      "Clipping input data to the valid range for imshow with RGB data ([0..1] for floats or [0..255] for integers).\n",
      "Clipping input data to the valid range for imshow with RGB data ([0..1] for floats or [0..255] for integers).\n",
      "Clipping input data to the valid range for imshow with RGB data ([0..1] for floats or [0..255] for integers).\n",
      "Clipping input data to the valid range for imshow with RGB data ([0..1] for floats or [0..255] for integers).\n",
      "Clipping input data to the valid range for imshow with RGB data ([0..1] for floats or [0..255] for integers).\n",
      "Clipping input data to the valid range for imshow with RGB data ([0..1] for floats or [0..255] for integers).\n",
      "Clipping input data to the valid range for imshow with RGB data ([0..1] for floats or [0..255] for integers).\n",
      "Clipping input data to the valid range for imshow with RGB data ([0..1] for floats or [0..255] for integers).\n",
      "Clipping input data to the valid range for imshow with RGB data ([0..1] for floats or [0..255] for integers).\n",
      "Clipping input data to the valid range for imshow with RGB data ([0..1] for floats or [0..255] for integers).\n",
      "Clipping input data to the valid range for imshow with RGB data ([0..1] for floats or [0..255] for integers).\n",
      "Clipping input data to the valid range for imshow with RGB data ([0..1] for floats or [0..255] for integers).\n",
      "Clipping input data to the valid range for imshow with RGB data ([0..1] for floats or [0..255] for integers).\n",
      "Clipping input data to the valid range for imshow with RGB data ([0..1] for floats or [0..255] for integers).\n",
      "Clipping input data to the valid range for imshow with RGB data ([0..1] for floats or [0..255] for integers).\n",
      "Clipping input data to the valid range for imshow with RGB data ([0..1] for floats or [0..255] for integers).\n",
      "Clipping input data to the valid range for imshow with RGB data ([0..1] for floats or [0..255] for integers).\n",
      "Clipping input data to the valid range for imshow with RGB data ([0..1] for floats or [0..255] for integers).\n",
      "Clipping input data to the valid range for imshow with RGB data ([0..1] for floats or [0..255] for integers).\n",
      "Clipping input data to the valid range for imshow with RGB data ([0..1] for floats or [0..255] for integers).\n",
      "Clipping input data to the valid range for imshow with RGB data ([0..1] for floats or [0..255] for integers).\n",
      "Clipping input data to the valid range for imshow with RGB data ([0..1] for floats or [0..255] for integers).\n",
      "Clipping input data to the valid range for imshow with RGB data ([0..1] for floats or [0..255] for integers).\n",
      "Clipping input data to the valid range for imshow with RGB data ([0..1] for floats or [0..255] for integers).\n",
      "Clipping input data to the valid range for imshow with RGB data ([0..1] for floats or [0..255] for integers).\n",
      "Clipping input data to the valid range for imshow with RGB data ([0..1] for floats or [0..255] for integers).\n",
      "Clipping input data to the valid range for imshow with RGB data ([0..1] for floats or [0..255] for integers).\n",
      "Clipping input data to the valid range for imshow with RGB data ([0..1] for floats or [0..255] for integers).\n",
      "Clipping input data to the valid range for imshow with RGB data ([0..1] for floats or [0..255] for integers).\n",
      "Clipping input data to the valid range for imshow with RGB data ([0..1] for floats or [0..255] for integers).\n",
      "Clipping input data to the valid range for imshow with RGB data ([0..1] for floats or [0..255] for integers).\n",
      "Clipping input data to the valid range for imshow with RGB data ([0..1] for floats or [0..255] for integers).\n",
      "Clipping input data to the valid range for imshow with RGB data ([0..1] for floats or [0..255] for integers).\n",
      "Clipping input data to the valid range for imshow with RGB data ([0..1] for floats or [0..255] for integers).\n",
      "Clipping input data to the valid range for imshow with RGB data ([0..1] for floats or [0..255] for integers).\n",
      "Clipping input data to the valid range for imshow with RGB data ([0..1] for floats or [0..255] for integers).\n",
      "Clipping input data to the valid range for imshow with RGB data ([0..1] for floats or [0..255] for integers).\n",
      "Clipping input data to the valid range for imshow with RGB data ([0..1] for floats or [0..255] for integers).\n",
      "Clipping input data to the valid range for imshow with RGB data ([0..1] for floats or [0..255] for integers).\n",
      "Clipping input data to the valid range for imshow with RGB data ([0..1] for floats or [0..255] for integers).\n",
      "Clipping input data to the valid range for imshow with RGB data ([0..1] for floats or [0..255] for integers).\n",
      "Clipping input data to the valid range for imshow with RGB data ([0..1] for floats or [0..255] for integers).\n",
      "Clipping input data to the valid range for imshow with RGB data ([0..1] for floats or [0..255] for integers).\n",
      "Clipping input data to the valid range for imshow with RGB data ([0..1] for floats or [0..255] for integers).\n",
      "Clipping input data to the valid range for imshow with RGB data ([0..1] for floats or [0..255] for integers).\n",
      "Clipping input data to the valid range for imshow with RGB data ([0..1] for floats or [0..255] for integers).\n",
      "Clipping input data to the valid range for imshow with RGB data ([0..1] for floats or [0..255] for integers).\n",
      "Clipping input data to the valid range for imshow with RGB data ([0..1] for floats or [0..255] for integers).\n",
      "Clipping input data to the valid range for imshow with RGB data ([0..1] for floats or [0..255] for integers).\n"
     ]
    },
    {
     "name": "stderr",
     "output_type": "stream",
     "text": [
      "Clipping input data to the valid range for imshow with RGB data ([0..1] for floats or [0..255] for integers).\n",
      "Clipping input data to the valid range for imshow with RGB data ([0..1] for floats or [0..255] for integers).\n",
      "Clipping input data to the valid range for imshow with RGB data ([0..1] for floats or [0..255] for integers).\n",
      "Clipping input data to the valid range for imshow with RGB data ([0..1] for floats or [0..255] for integers).\n",
      "Clipping input data to the valid range for imshow with RGB data ([0..1] for floats or [0..255] for integers).\n",
      "Clipping input data to the valid range for imshow with RGB data ([0..1] for floats or [0..255] for integers).\n",
      "Clipping input data to the valid range for imshow with RGB data ([0..1] for floats or [0..255] for integers).\n",
      "Clipping input data to the valid range for imshow with RGB data ([0..1] for floats or [0..255] for integers).\n",
      "Clipping input data to the valid range for imshow with RGB data ([0..1] for floats or [0..255] for integers).\n",
      "Clipping input data to the valid range for imshow with RGB data ([0..1] for floats or [0..255] for integers).\n",
      "Clipping input data to the valid range for imshow with RGB data ([0..1] for floats or [0..255] for integers).\n",
      "Clipping input data to the valid range for imshow with RGB data ([0..1] for floats or [0..255] for integers).\n",
      "Clipping input data to the valid range for imshow with RGB data ([0..1] for floats or [0..255] for integers).\n",
      "Clipping input data to the valid range for imshow with RGB data ([0..1] for floats or [0..255] for integers).\n",
      "Clipping input data to the valid range for imshow with RGB data ([0..1] for floats or [0..255] for integers).\n",
      "Clipping input data to the valid range for imshow with RGB data ([0..1] for floats or [0..255] for integers).\n",
      "Clipping input data to the valid range for imshow with RGB data ([0..1] for floats or [0..255] for integers).\n",
      "Clipping input data to the valid range for imshow with RGB data ([0..1] for floats or [0..255] for integers).\n",
      "Clipping input data to the valid range for imshow with RGB data ([0..1] for floats or [0..255] for integers).\n",
      "Clipping input data to the valid range for imshow with RGB data ([0..1] for floats or [0..255] for integers).\n",
      "Clipping input data to the valid range for imshow with RGB data ([0..1] for floats or [0..255] for integers).\n",
      "Clipping input data to the valid range for imshow with RGB data ([0..1] for floats or [0..255] for integers).\n",
      "Clipping input data to the valid range for imshow with RGB data ([0..1] for floats or [0..255] for integers).\n",
      "Clipping input data to the valid range for imshow with RGB data ([0..1] for floats or [0..255] for integers).\n",
      "Clipping input data to the valid range for imshow with RGB data ([0..1] for floats or [0..255] for integers).\n",
      "Clipping input data to the valid range for imshow with RGB data ([0..1] for floats or [0..255] for integers).\n",
      "Clipping input data to the valid range for imshow with RGB data ([0..1] for floats or [0..255] for integers).\n",
      "Clipping input data to the valid range for imshow with RGB data ([0..1] for floats or [0..255] for integers).\n",
      "Clipping input data to the valid range for imshow with RGB data ([0..1] for floats or [0..255] for integers).\n",
      "Clipping input data to the valid range for imshow with RGB data ([0..1] for floats or [0..255] for integers).\n",
      "Clipping input data to the valid range for imshow with RGB data ([0..1] for floats or [0..255] for integers).\n",
      "Clipping input data to the valid range for imshow with RGB data ([0..1] for floats or [0..255] for integers).\n",
      "Clipping input data to the valid range for imshow with RGB data ([0..1] for floats or [0..255] for integers).\n",
      "Clipping input data to the valid range for imshow with RGB data ([0..1] for floats or [0..255] for integers).\n",
      "Clipping input data to the valid range for imshow with RGB data ([0..1] for floats or [0..255] for integers).\n",
      "Clipping input data to the valid range for imshow with RGB data ([0..1] for floats or [0..255] for integers).\n",
      "Clipping input data to the valid range for imshow with RGB data ([0..1] for floats or [0..255] for integers).\n",
      "Clipping input data to the valid range for imshow with RGB data ([0..1] for floats or [0..255] for integers).\n",
      "Clipping input data to the valid range for imshow with RGB data ([0..1] for floats or [0..255] for integers).\n",
      "Clipping input data to the valid range for imshow with RGB data ([0..1] for floats or [0..255] for integers).\n",
      "Clipping input data to the valid range for imshow with RGB data ([0..1] for floats or [0..255] for integers).\n",
      "Clipping input data to the valid range for imshow with RGB data ([0..1] for floats or [0..255] for integers).\n",
      "Clipping input data to the valid range for imshow with RGB data ([0..1] for floats or [0..255] for integers).\n",
      "Clipping input data to the valid range for imshow with RGB data ([0..1] for floats or [0..255] for integers).\n",
      "Clipping input data to the valid range for imshow with RGB data ([0..1] for floats or [0..255] for integers).\n",
      "Clipping input data to the valid range for imshow with RGB data ([0..1] for floats or [0..255] for integers).\n",
      "Clipping input data to the valid range for imshow with RGB data ([0..1] for floats or [0..255] for integers).\n",
      "Clipping input data to the valid range for imshow with RGB data ([0..1] for floats or [0..255] for integers).\n"
     ]
    }
   ],
   "source": [
    "cplot.plot_cars(x1r1, x2r2, xamb, folder)"
   ]
  },
  {
   "cell_type": "code",
   "execution_count": 21,
   "metadata": {},
   "outputs": [
    {
     "name": "stdout",
     "output_type": "stream",
     "text": [
      "Saving video to: results/20200214-102602_newsclassesibr/20200214-102602_newsclassesibrcar2.mp4\n"
     ]
    }
   ],
   "source": [
    "CIRCLES = False\n",
    "if CIRCLES:\n",
    "    vid_fname = folder + subdir_name + 'circle2.mp4'\n",
    "else:\n",
    "    vid_fname = folder + subdir_name + 'car2.mp4'    \n",
    "if os.path.exists(vid_fname):\n",
    "    os.remove(vid_fname)\n",
    "cmd = 'ffmpeg -r 16 -f image2 -i {}imgs/%03d.png -vcodec libx264 -crf 25  -pix_fmt yuv420p {}'.format(folder, vid_fname)\n",
    "os.system(cmd)\n",
    "print('Saving video to: {}'.format(vid_fname))"
   ]
  },
  {
   "cell_type": "code",
   "execution_count": 20,
   "metadata": {},
   "outputs": [
    {
     "ename": "NameError",
     "evalue": "name 'car1_s_cost' is not defined",
     "output_type": "error",
     "traceback": [
      "\u001b[0;31m---------------------------------------------------------------------------\u001b[0m",
      "\u001b[0;31mNameError\u001b[0m                                 Traceback (most recent call last)",
      "\u001b[0;32m<ipython-input-20-abd5039f5fec>\u001b[0m in \u001b[0;36m<module>\u001b[0;34m\u001b[0m\n\u001b[0;32m----> 1\u001b[0;31m \u001b[0mcar1_v_cost\u001b[0m \u001b[0;34m=\u001b[0m \u001b[0mcar1_s_cost\u001b[0m\u001b[0;34m\u001b[0m\u001b[0;34m\u001b[0m\u001b[0m\n\u001b[0m\u001b[1;32m      2\u001b[0m \u001b[0mcar2_v_cost\u001b[0m \u001b[0;34m=\u001b[0m \u001b[0mcar2_s_cost\u001b[0m\u001b[0;34m\u001b[0m\u001b[0;34m\u001b[0m\u001b[0m\n\u001b[1;32m      3\u001b[0m \u001b[0mamb_v_cost\u001b[0m \u001b[0;34m=\u001b[0m \u001b[0mamb_s_cost\u001b[0m\u001b[0;34m\u001b[0m\u001b[0;34m\u001b[0m\u001b[0m\n",
      "\u001b[0;31mNameError\u001b[0m: name 'car1_s_cost' is not defined"
     ]
    }
   ],
   "source": [
    "car1_v_cost = car1_s_cost\n",
    "car2_v_cost = car2_s_cost\n",
    "amb_v_cost = amb_s_cost"
   ]
  },
  {
   "cell_type": "code",
   "execution_count": null,
   "metadata": {},
   "outputs": [],
   "source": [
    "car1_sub_costs = [car1_u_delta_cost, car1_u_v_cost, k_lat1*car1_lat_cost, k_lon1*car1_lon_cost, k_phi1*car1_phi_cost, k_phid1*phid1_cost, q_v*car1_v_cost] \n",
    "car1_sub_costs_labels = ['udel1', 'uv1', 'elat1', 'lon1', 'ephi1', 'v1']\n",
    "plt.bar(range(len(car1_sub_costs)), [sol.value(c) for c in car1_sub_costs])\n",
    "plt.xticks(range(len(car1_sub_costs)), car1_sub_costs_labels,rotation=45)\n",
    "plt.title('Car 1')\n",
    "plt.xlabel(\"Subcost\")\n",
    "plt.ylabel(\"Cost Value\")\n",
    "plt.show()\n",
    "\n",
    "car2_sub_costs = [car2_u_delta_cost, car2_u_v_cost, 10*car2_lat_cost, 10*car2_lon_cost, k_phi2*car2_phi_cost, k_phid2*phid2_cost, q_v*car2_v_cost] \n",
    "car2_sub_costs_labels = ['udel2', 'uv2', 'elat2', 'lon2', 'ephi2', 'v2']\n",
    "plt.bar(range(len(car2_sub_costs)), [sol.value(c) for c in car2_sub_costs])\n",
    "plt.xticks(range(len(car2_sub_costs)), car2_sub_costs_labels,rotation=45)\n",
    "plt.title('Car 2')\n",
    "plt.xlabel(\"Subcost\")\n",
    "plt.ylabel(\"Cost Value\")\n",
    "plt.show()\n",
    "\n",
    "amb_sub_costs = [amb_u_delta_cost, amb_u_v_cost, 10*amb_lat_cost, 10*amb_lon_cost,k_phiamb*amb_phi_cost, k_phidamb*phidamb_cost, q_v*amb_v_cost] \n",
    "amb_sub_costs_labels = ['udelA', 'uvA', 'elatA', 'lonA', 'ephiA', 'vA']\n",
    "plt.bar(range(len(amb_sub_costs)), [sol.value(c) for c in amb_sub_costs])\n",
    "plt.xticks(range(len(amb_sub_costs)), amb_sub_costs_labels,rotation=45)\n",
    "\n",
    "plt.title('Amb')\n",
    "plt.xlabel(\"Subcost\")\n",
    "plt.ylabel(\"Cost Value\")\n",
    "plt.show()\n",
    "\n",
    "all_costs = [0.1*c for c in car1_sub_costs] + [0.1 for c in car2_sub_costs] + [10*c for c in amb_sub_costs]\n",
    "all_labels = car1_sub_costs_labels + car2_sub_costs_labels + amb_sub_costs_labels\n",
    "plt.bar(range(len(all_costs)), [sol.value(c) for c in all_costs])\n",
    "plt.xticks(range(len(all_labels)), all_labels,rotation=90)\n",
    "plt.title('All Cars')\n",
    "plt.xlabel(\"Subcost\")\n",
    "plt.ylabel(\"Cost Value\")"
   ]
  },
  {
   "cell_type": "code",
   "execution_count": null,
   "metadata": {},
   "outputs": [],
   "source": []
  },
  {
   "cell_type": "code",
   "execution_count": null,
   "metadata": {},
   "outputs": [],
   "source": [
    "for BR_iteration in range(20):\n",
    "    opti2.set_value(x_opt2, sol.value(x_opt))\n",
    "    opti2.set_value(u_opt2, sol.value(u_opt))\n",
    "\n",
    "    opti2.set_value(xamb_opt2, sol.value(xamb_opt))\n",
    "    opti2.set_value(uamb_opt2, sol.value(uamb_opt))\n",
    "\n",
    "    opti2.set_initial(x2_opt2, sol.value(x2_opt))\n",
    "    opti2.set_initial(u2_opt2, sol.value(u2_opt))\n",
    "    sol2 = opti2.solve()\n",
    "\n",
    "    opti3.set_value(x_opt3, sol2.value(x_opt2))\n",
    "    opti3.set_value(u_opt3, sol2.value(u_opt2))\n",
    "\n",
    "    opti3.set_value(x2_opt3, sol2.value(x2_opt2))\n",
    "    opti3.set_value(u2_opt3, sol2.value(uamb_opt2))\n",
    "\n",
    "    opti3.set_initial(xamb_opt3, sol2.value(xamb_opt2))\n",
    "    opti3.set_initial(uamb_opt3, sol2.value(uamb_opt2))    \n",
    "    sol3 = opti3.solve()\n",
    "    \n",
    "    \n",
    "    opti.set_value(x2_opt, sol3.value(x2_opt3))\n",
    "    opti.set_value(xamb_opt, sol3.value(xamb_opt3))\n",
    "    opti.set_value(u2_opt, sol3.value(u2_opt3))\n",
    "    opti.set_value(uamb_opt, sol3.value(uamb_opt3))\n",
    "\n",
    "    opti.set_initial(x_opt, sol3.value(x_opt3))\n",
    "    opti.set_initial(u_opt, sol3.value(u_opt3))    \n",
    "    sol = opti.solve()\n",
    "    \n",
    "    x_warm = sol.value(x_opt)\n",
    "    u_warm = sol.value(u_opt)\n",
    "    x2_warm = sol.value(x2_opt)\n",
    "    u2_warm = sol.value(u2_opt)\n",
    "    xamb_warm = sol.value(xamb_opt)\n",
    "    uamb_warm = sol.value(uamb_opt)\n",
    "\n",
    "#     x_des = sol/\n",
    "\n",
    "    for k in range(N+1):\n",
    "\n",
    "        fig, ax = ego_car.get_frame(x_warm[:,k])\n",
    "        fig, ax = ego_car.get_frame(x2_warm[:,k], ax)\n",
    "        fig, ax = ego_car.get_frame(xamb_warm[:,k], ax, amb=True)\n",
    "\n",
    "\n",
    "#         ax.plot(x_des[0,:], x_des[1,:], '--')\n",
    "#         ax.plot(x2_des[0,:], x2_des[1,:], '--')        \n",
    "\n",
    "        ax = plt.gca()\n",
    "        window_width = 24\n",
    "        window_height = window_width\n",
    "        xmin, xmax = -1, -1+window_width\n",
    "        ymin, ymax = -int(window_height/4.0), int(window_height/4.0)\n",
    "        ax.set_ylim((ymin, ymax))\n",
    "        ax.set_xlim((xmin, xmax))\n",
    "\n",
    "        fig.savefig(folder + 'imgs/' '{:03d}.png'.format(k))\n",
    "        plt.close(fig)         \n",
    "\n",
    "    vid_fname = folder + '%02d'%BR_iteration + 'car.mp4'\n",
    "    if os.path.exists(vid_fname):\n",
    "        os.remove(vid_fname)\n",
    "    cmd = 'ffmpeg -r 16 -f image2 -i {}imgs/%03d.png -vcodec libx264 -crf 25  -pix_fmt yuv420p {}'.format(folder, vid_fname)\n",
    "    os.system(cmd)\n",
    "    print('Saving video to: {}'.format(vid_fname))"
   ]
  },
  {
   "cell_type": "code",
   "execution_count": null,
   "metadata": {},
   "outputs": [],
   "source": []
  },
  {
   "cell_type": "code",
   "execution_count": null,
   "metadata": {},
   "outputs": [],
   "source": [
    "for BR_iteration in range(20):        \n",
    "    vid_fname = folder + '%02d'%BR_iteration + 'car.mp4'\n",
    "    \n",
    "    print('Saving video to: {}'.format(vid_fname))"
   ]
  },
  {
   "cell_type": "code",
   "execution_count": null,
   "metadata": {},
   "outputs": [],
   "source": []
  },
  {
   "cell_type": "markdown",
   "metadata": {},
   "source": [
    "## Best Response V2"
   ]
  },
  {
   "cell_type": "code",
   "execution_count": null,
   "metadata": {},
   "outputs": [],
   "source": []
  },
  {
   "cell_type": "code",
   "execution_count": null,
   "metadata": {
    "scrolled": true
   },
   "outputs": [],
   "source": []
  },
  {
   "cell_type": "code",
   "execution_count": null,
   "metadata": {},
   "outputs": [],
   "source": []
  },
  {
   "cell_type": "code",
   "execution_count": null,
   "metadata": {
    "scrolled": false
   },
   "outputs": [],
   "source": []
  },
  {
   "cell_type": "code",
   "execution_count": null,
   "metadata": {},
   "outputs": [],
   "source": []
  },
  {
   "cell_type": "code",
   "execution_count": null,
   "metadata": {},
   "outputs": [],
   "source": [
    "x1 = sol3.value(x_opt3)\n",
    "x2 = sol3.value(x2_opt3)\n",
    "xamb = sol3.value(xamb_opt3)\n",
    "x_des = sol3.value(xamb_desired_3)\n",
    "\n",
    "for k in range(N+1):\n",
    "\n",
    "    fig, ax = ego_car.get_frame(x1[:,k])\n",
    "    fig, ax = ego_car.get_frame(x2[:,k], ax)\n",
    "    fig, ax = ego_car.get_frame(xamb[:,k], ax, amb=True)\n",
    "\n",
    "    \n",
    "    ax.plot(x_des[0,:], x_des[1,:], '--')\n",
    "#     ax.plot(x2_des[0,:], x2_des[1,:], '--')        \n",
    "\n",
    "    ax = plt.gca()\n",
    "    window_width = 24\n",
    "    window_height = window_width\n",
    "    xmin, xmax = -1, -1+window_width\n",
    "    ymin, ymax = -int(window_height/4.0), int(window_height/4.0)\n",
    "    ax.set_ylim((ymin, ymax))\n",
    "    ax.set_xlim((xmin, xmax))\n",
    "\n",
    "    fig.savefig(folder + 'imgs/' '{:03d}.png'.format(k))\n",
    "    plt.close(fig)     \n",
    "    \n",
    "vid_fname = folder + 'caramb.mp4'\n",
    "if os.path.exists(vid_fname):\n",
    "    os.remove(vid_fname)\n",
    "cmd = 'ffmpeg -r 16 -f image2 -i {}imgs/%03d.png -vcodec libx264 -crf 25  -pix_fmt yuv420p {}'.format(folder, vid_fname)\n",
    "os.system(cmd)\n",
    "print('Saving video to: {}'.format(vid_fname))"
   ]
  },
  {
   "cell_type": "code",
   "execution_count": null,
   "metadata": {},
   "outputs": [],
   "source": []
  },
  {
   "cell_type": "code",
   "execution_count": null,
   "metadata": {},
   "outputs": [],
   "source": []
  },
  {
   "cell_type": "code",
   "execution_count": null,
   "metadata": {},
   "outputs": [],
   "source": []
  },
  {
   "cell_type": "code",
   "execution_count": null,
   "metadata": {},
   "outputs": [],
   "source": []
  },
  {
   "cell_type": "code",
   "execution_count": null,
   "metadata": {
    "scrolled": false
   },
   "outputs": [],
   "source": [
    "car1_sub_costs = [car1_u_delta_cost, car1_u_v_cost, 10*car1_lat_cost, 10*car1_lon_cost, car1_phi_cost, phid1_cost, q_v*car1_v_cost] \n",
    "car1_sub_costs_labels = ['udel1', 'uv1', 'elat1', 'lon1', 'ephi1', 'v1']\n",
    "plt.bar(range(len(car1_sub_costs)), [sol.value(c) for c in car1_sub_costs])\n",
    "plt.xticks(range(len(car1_sub_costs)), car1_sub_costs_labels,rotation=45)\n",
    "plt.title('Car 1')\n",
    "plt.xlabel(\"Subcost\")\n",
    "plt.ylabel(\"Cost Value\")\n",
    "plt.show()\n",
    "\n",
    "car2_sub_costs = [car2_u_delta_cost, car2_u_v_cost, 10*car2_lat_cost, 10*car2_lon_cost, car2_phi_cost, phid2_cost, q_v*car2_v_cost] \n",
    "car2_sub_costs_labels = ['udel2', 'uv2', 'elat2', 'lon2', 'ephi2', 'v2']\n",
    "plt.bar(range(len(car2_sub_costs)), [sol.value(c) for c in car2_sub_costs])\n",
    "plt.xticks(range(len(car2_sub_costs)), car2_sub_costs_labels,rotation=45)\n",
    "plt.title('Car 2')\n",
    "plt.xlabel(\"Subcost\")\n",
    "plt.ylabel(\"Cost Value\")\n",
    "plt.show()\n",
    "\n",
    "amb_sub_costs = [amb_u_delta_cost, amb_u_v_cost, 10*amb_lat_cost, 10*amb_lon_cost, amb_phi_cost, phidamb_cost, q_v*amb_v_cost] \n",
    "amb_sub_costs_labels = ['udelA', 'uvA', 'elatA', 'lonA', 'ephiA', 'vA']\n",
    "plt.bar(range(len(amb_sub_costs)), [sol.value(c) for c in amb_sub_costs])\n",
    "plt.xticks(range(len(amb_sub_costs)), amb_sub_costs_labels,rotation=45)\n",
    "\n",
    "plt.title('Amb')\n",
    "plt.xlabel(\"Subcost\")\n",
    "plt.ylabel(\"Cost Value\")\n",
    "plt.show()\n",
    "\n",
    "all_costs = [0.1*c for c in car1_sub_costs] + [0.1 for c in car2_sub_costs] + [10*c for c in amb_sub_costs]\n",
    "all_labels = car1_sub_costs_labels + car2_sub_costs_labels + amb_sub_costs_labels\n",
    "plt.bar(range(len(all_costs)), [sol.value(c) for c in all_costs])\n",
    "plt.xticks(range(len(all_labels)), all_labels,rotation=90)\n",
    "plt.title('All Cars')\n",
    "plt.xlabel(\"Subcost\")\n",
    "plt.ylabel(\"Cost Value\")"
   ]
  },
  {
   "cell_type": "code",
   "execution_count": null,
   "metadata": {},
   "outputs": [],
   "source": [
    "sol.value(x_opt)[3:5, 10:20]"
   ]
  },
  {
   "cell_type": "code",
   "execution_count": null,
   "metadata": {},
   "outputs": [],
   "source": [
    "dt"
   ]
  },
  {
   "cell_type": "code",
   "execution_count": null,
   "metadata": {},
   "outputs": [],
   "source": [
    "plt.plot(opti.debug.value(x_opt)[4,:],'o',c='b')\n",
    "plt.plot(opti.debug.value(x2_opt)[4,:],'o',c='g')\n",
    "plt.plot(opti.debug.value(xamb_opt)[4,:],'o',c='r')\n",
    "plt.ylabel(\"Velocity\")\n",
    "plt.show()"
   ]
  },
  {
   "cell_type": "code",
   "execution_count": null,
   "metadata": {},
   "outputs": [],
   "source": [
    "plt.plot(opti.debug.value(u_opt)[1,:],'o',c='b')\n",
    "plt.plot(opti.debug.value(u2_opt)[1,:],'o',c='g')\n",
    "plt.plot(opti.debug.value(uamb_opt)[1,:],'o',c='r')\n",
    "plt.ylabel(\"Acceleration $\\delta V_u$\")\n",
    "plt.show()"
   ]
  },
  {
   "cell_type": "code",
   "execution_count": null,
   "metadata": {},
   "outputs": [],
   "source": [
    "plt.plot([np.sqrt(opti.debug.value(cas.sumsqr(x_opt[0:2,k] - x2_opt[0:2,k]))) for k in range(opti.debug.value(x_opt).shape[1])],'o',c='b')\n",
    "plt.plot([np.sqrt(opti.debug.value(cas.sumsqr(x_opt[0:2,k] - x2_opt[0:2,k]))) for k in range(opti.debug.value(x_opt).shape[1])],'x',c='g')\n",
    "\n",
    "plt.plot([np.sqrt(opti.debug.value(cas.sumsqr(x_opt[0:2,k] - xamb_opt[0:2,k]))) for k in range(opti.debug.value(x_opt).shape[1])],'o',c='b')\n",
    "plt.plot([np.sqrt(opti.debug.value(cas.sumsqr(x_opt[0:2,k] - xamb_opt[0:2,k]))) for k in range(opti.debug.value(x_opt).shape[1])],'x',c='r')\n",
    "\n",
    "plt.plot([np.sqrt(opti.debug.value(cas.sumsqr(xamb_opt[0:2,k] - x2_opt[0:2,k]))) for k in range(opti.debug.value(x_opt).shape[1])],'o',c='g')\n",
    "plt.plot([np.sqrt(opti.debug.value(cas.sumsqr(xamb_opt[0:2,k] - x2_opt[0:2,k]))) for k in range(opti.debug.value(x_opt).shape[1])],'x',c='r')\n",
    "\n",
    "plt.hlines(min_dist,0,50)\n",
    "plt.ylabel('Intervehicle Distance')\n",
    "plt.ylim([-.1, 2*min_dist])"
   ]
  },
  {
   "cell_type": "code",
   "execution_count": null,
   "metadata": {},
   "outputs": [],
   "source": [
    "plt.plot([opti.debug.value(slack1) for k in range(opti.debug.value(x_opt).shape[1])],'.',c='b')\n",
    "plt.plot([opti.debug.value(slack2) for k in range(opti.debug.value(x_opt).shape[1])],'.',c='r')\n",
    "plt.plot([opti.debug.value(slack3) for k in range(opti.debug.value(x_opt).shape[1])],'.',c='g')\n",
    "\n",
    "\n",
    "# plt.plot([np.sqrt(opti.debug.value(cas.sumsqr(x_opt[0:2,k] - x2_opt[0:2,k]))) for k in range(opti.debug.value(x_opt).shape[1])],'o',c='b')\n",
    "# plt.plot([np.sqrt(opti.debug.value(cas.sumsqr(x_opt[0:2,k] - x2_opt[0:2,k]))) for k in range(opti.debug.value(x_opt).shape[1])],'x',c='g')\n",
    "\n",
    "# plt.plot([np.sqrt(opti.debug.value(cas.sumsqr(x_opt[0:2,k] - xamb_opt[0:2,k]))) for k in range(opti.debug.value(x_opt).shape[1])],'o',c='b')\n",
    "# plt.plot([np.sqrt(opti.debug.value(cas.sumsqr(x_opt[0:2,k] - xamb_opt[0:2,k]))) for k in range(opti.debug.value(x_opt).shape[1])],'x',c='r')\n",
    "\n",
    "# plt.plot([np.sqrt(opti.debug.value(cas.sumsqr(xamb_opt[0:2,k] - x2_opt[0:2,k]))) for k in range(opti.debug.value(x_opt).shape[1])],'o',c='g')\n",
    "# plt.plot([np.sqrt(opti.debug.value(cas.sumsqr(xamb_opt[0:2,k] - x2_opt[0:2,k]))) for k in range(opti.debug.value(x_opt).shape[1])],'x',c='r')\n",
    "\n",
    "plt.ylabel('slack')\n",
    "# plt.ylim([.7,.71])"
   ]
  },
  {
   "cell_type": "code",
   "execution_count": null,
   "metadata": {
    "scrolled": true
   },
   "outputs": [],
   "source": [
    "if not PLOT_LIVE:\n",
    "    for k in range(N+1):\n",
    "        \n",
    "        fig, ax = ego_car.get_frame(x_mpc[:,k])\n",
    "        fig, ax = ego_car.get_frame(x2_mpc[:,k], ax)\n",
    "        fig, ax = ego_car.get_frame(xamb_mpc[:,k], ax, amb=True)\n",
    "        \n",
    "        ax.plot(x_des[0,:], x_des[1,:], '--')\n",
    "        ax.plot(x2_des[0,:], x2_des[1,:], '--')        \n",
    "        \n",
    "        ax = plt.gca()\n",
    "        window_width = 24\n",
    "        window_height = window_width\n",
    "        xmin, xmax = -1, -1+window_width\n",
    "        ymin, ymax = -int(window_height/4.0), int(window_height/4.0)\n",
    "        ax.set_ylim((ymin, ymax))\n",
    "        ax.set_xlim((xmin, xmax))\n",
    "        \n",
    "        fig.savefig(folder + 'imgs/' '{:03d}.png'.format(k))\n",
    "        plt.close(fig)     "
   ]
  }
 ],
 "metadata": {
  "kernelspec": {
   "display_name": "Python 3",
   "language": "python",
   "name": "python3"
  },
  "language_info": {
   "codemirror_mode": {
    "name": "ipython",
    "version": 3
   },
   "file_extension": ".py",
   "mimetype": "text/x-python",
   "name": "python",
   "nbconvert_exporter": "python",
   "pygments_lexer": "ipython3",
   "version": "3.7.4"
  }
 },
 "nbformat": 4,
 "nbformat_minor": 2
}
