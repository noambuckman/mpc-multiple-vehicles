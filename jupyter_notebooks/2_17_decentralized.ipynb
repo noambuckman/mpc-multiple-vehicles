{
 "cells": [
  {
   "cell_type": "code",
   "execution_count": 1,
   "metadata": {
    "scrolled": true
   },
   "outputs": [],
   "source": [
    "%load_ext autoreload\n",
    "%autoreload 2\n",
    "import datetime\n",
    "import os, sys\n",
    "import numpy as np\n",
    "import matplotlib.pyplot as plt\n",
    "\n",
    "import casadi as cas\n",
    "\n",
    "##### For viewing the videos in Jupyter Notebook\n",
    "import io\n",
    "import base64\n",
    "from IPython.display import HTML\n",
    "\n",
    "# from ..</src> import car_plotting\n",
    "# from .import src.car_plotting\n",
    "PROJECT_PATH = '/home/nbuckman/Dropbox (MIT)/DRL/2020_01_cooperative_mpc/mpc-multiple-vehicles/'\n",
    "sys.path.append(PROJECT_PATH)\n",
    "import src.MPC_Casadi as mpc\n",
    "import src.car_plotting as cplot\n",
    "\n",
    "%matplotlib inline"
   ]
  },
  {
   "cell_type": "markdown",
   "metadata": {},
   "source": [
    "# Vehicle Dynamics $\\frac{d}{dt} \\vec{x} = f(\\vec{x}, \\vec{u})$"
   ]
  },
  {
   "cell_type": "code",
   "execution_count": null,
   "metadata": {},
   "outputs": [],
   "source": []
  },
  {
   "cell_type": "markdown",
   "metadata": {},
   "source": [
    "def gen_x_next(x_k, u_k, dt):\n",
    "    k1 = f(x_k, u_k)\n",
    "    k2 = f(x_k+dt/2*k1, u_k)\n",
    "    k3 = f(x_k+dt/2*k2, u_k)\n",
    "    k4 = f(x_k+dt*k3,   u_k)\n",
    "    x_next = x_k + dt/6*(k1+2*k2+2*k3+k4) \n",
    "    return x_next\n",
    "# F = cas.Function('F',[x,u,t],[ode],)"
   ]
  },
  {
   "cell_type": "markdown",
   "metadata": {},
   "source": [
    "#  States\n",
    "\n",
    "$\\vec{x}$ = $[x, y, \\phi, \\delta, V, s]^T$\n",
    "\n",
    "$\\vec{u}$ = $[\\delta^u, v^u]^T$"
   ]
  },
  {
   "cell_type": "markdown",
   "metadata": {},
   "source": [
    "# Discrete (integrated) dynamics $\\vec{x}_{t+1} = F(\\vec{x}_{t}, \\vec{u}_{t})$"
   ]
  },
  {
   "cell_type": "code",
   "execution_count": 39,
   "metadata": {},
   "outputs": [],
   "source": [
    "T = 10 #numbr of time horizons\n",
    "dt = 0.1\n",
    "N = int(T/dt) #Number of control intervals"
   ]
  },
  {
   "cell_type": "markdown",
   "metadata": {},
   "source": [
    "intg_options = {}\n",
    "intg_options['tf'] = dt # from dt\n",
    "intg_options['simplify'] = True\n",
    "intg_options['number_of_finite_elements'] = 6  #from 4\n",
    "\n",
    "dae = {}  #What's a DAE?\n",
    "dae['x'] = x\n",
    "dae['p'] = u\n",
    "dae['ode'] = f(x,u)\n",
    "intg = cas.integrator('intg','rk', dae, intg_options)\n",
    "res = intg(x0=x,p=u)\n",
    "x_next = res['xf']\n",
    "F = cas.Function('F',[x,u],[x_next],['x','u'],['x_next'])"
   ]
  },
  {
   "cell_type": "markdown",
   "metadata": {},
   "source": [
    "# Problem Definition\n",
    "### Parameterization of Desired Trajectory ($\\vec{x}_d = f_d(s)$)"
   ]
  },
  {
   "cell_type": "code",
   "execution_count": 40,
   "metadata": {},
   "outputs": [],
   "source": [
    "s = cas.MX.sym('s')\n",
    "xd = s\n",
    "yd = 0\n",
    "phid = 0\n",
    "des_traj = cas.vertcat(xd, yd, phid)\n",
    "fd = cas.Function('fd',[s],[des_traj],['s'],['des_traj'])"
   ]
  },
  {
   "cell_type": "code",
   "execution_count": 41,
   "metadata": {},
   "outputs": [],
   "source": [
    "#Globally true information\n",
    "min_dist = 2 * (2 * .5**2)**.5\n",
    "\n",
    "# initial_speed = 6.7 \n",
    "initial_speed = 20 * 0.447 # m/s\n",
    "\n",
    "# Initial Conditions\n",
    "x0 = np.array([2*min_dist, 1.2*min_dist, 0, 0, initial_speed, 0]).T\n",
    "x0_2 = np.array([2*min_dist, 0, .0, 0, initial_speed, 0]).T\n",
    "x0_amb = np.array([0, 0.0, 0, 0, 1.1 * initial_speed , 0]).T"
   ]
  },
  {
   "cell_type": "code",
   "execution_count": 42,
   "metadata": {},
   "outputs": [],
   "source": [
    "LANE_WIDTH = min_dist\n",
    "xd2 = s\n",
    "yd2 = LANE_WIDTH\n",
    "phid = 0\n",
    "des_traj2 = cas.vertcat(xd2, yd2, phid)\n",
    "fd2 = cas.Function('fd',[s],[des_traj2],['s'],['des_traj2'])"
   ]
  },
  {
   "cell_type": "markdown",
   "metadata": {},
   "source": [
    "## IBR from Beginning"
   ]
  },
  {
   "cell_type": "markdown",
   "metadata": {},
   "source": [
    "### Solve it centrally just to warm start the solution"
   ]
  },
  {
   "cell_type": "code",
   "execution_count": 57,
   "metadata": {},
   "outputs": [],
   "source": [
    "x1_MPC = mpc.MPC(dt)\n",
    "x2_MPC = mpc.MPC(dt)\n",
    "\n",
    "x1_MPC.k_s = -1.0\n",
    "x2_MPC.k_s = -1.0\n",
    "\n",
    "amb_MPC = mpc.MPC(dt)\n",
    "amb_MPC.theta_iamb = 0.0\n",
    "amb_MPC.k_u_v = 0.10\n",
    "# amb_MPC.k_u_change = 1.0\n",
    "amb_MPC.k_s = -1.0\n",
    "amb_MPC.max_v = 40 * 0.447 # m/s\n",
    "amb_MPC.max_X_dev = 5.0\n",
    "\n",
    "\n",
    "x2_MPC.fd = fd\n",
    "amb_MPC.fd = fd\n",
    "x1_MPC.fd = fd2\n",
    "\n",
    "\n",
    "x1_MPC.min_y = -1.1 * LANE_WIDTH\n",
    "x2_MPC.min_y = -1.1 * LANE_WIDTH\n",
    "amb_MPC.min_y = -1.1 * LANE_WIDTH"
   ]
  },
  {
   "cell_type": "markdown",
   "metadata": {},
   "source": [
    "## Initialize values from the centralized version\n",
    "x1_current, u1_current, x1_desired_current = x1, u1, x1_des\n",
    "x2_current, u2_current, x2_desired_current = x2, u2, x2_des\n",
    "xamb_current, uamb_current, xamb_desired_current = xamb, uamb, xamb_des"
   ]
  },
  {
   "cell_type": "code",
   "execution_count": 108,
   "metadata": {},
   "outputs": [],
   "source": [
    "u2 = np.zeros((2,N))\n",
    "u1 = np.zeros((2,N))"
   ]
  },
  {
   "cell_type": "code",
   "execution_count": 109,
   "metadata": {
    "scrolled": true
   },
   "outputs": [
    {
     "name": "stdout",
     "output_type": "stream",
     "text": [
      "      solver  :   t_proc      (avg)   t_wall      (avg)    n_eval\n",
      "       nlp_f  |  13.88ms (210.29us)  13.92ms (210.94us)        66\n",
      "       nlp_g  | 102.42ms (  1.55ms) 102.19ms (  1.55ms)        66\n",
      "    nlp_grad  |   6.68ms (  6.68ms)   6.65ms (  6.65ms)         1\n",
      "  nlp_grad_f  |  13.35ms (360.81us)  13.37ms (361.39us)        37\n",
      "  nlp_hess_l  | 880.24ms ( 14.92ms) 877.23ms ( 14.87ms)        59\n",
      "   nlp_jac_g  | 581.68ms (  9.23ms) 579.81ms (  9.20ms)        63\n",
      "       total  |   2.31 s (  2.31 s)   2.30 s (  2.30 s)         1\n"
     ]
    }
   ],
   "source": [
    "br1 = mpc.IterativeBestResponseMPC(amb_MPC, x1_MPC, x2_MPC)\n",
    "br1.generate_optimization(N, min_dist, fd, T, x0_amb, x0, x0_2,  2)\n",
    "br1.solve(u1, u2)"
   ]
  },
  {
   "cell_type": "code",
   "execution_count": 110,
   "metadata": {},
   "outputs": [],
   "source": [
    "xamb, uamb, xamb_des, x1, u1, x1_des, x2, u2, x2_des = br1.get_solution()\n",
    "#  = x1r1, u1r1, x1_desr1"
   ]
  },
  {
   "cell_type": "code",
   "execution_count": 105,
   "metadata": {},
   "outputs": [
    {
     "name": "stdout",
     "output_type": "stream",
     "text": [
      "results/20200218-142841_ibramb_first/\n"
     ]
    }
   ],
   "source": [
    "optional_suffix = \"_ibramb_first\"\n",
    "subdir_name = datetime.datetime.now().strftime(\"%Y%m%d-%H%M%S\") + optional_suffix\n",
    "folder = \"results/\" + subdir_name + \"/\"\n",
    "os.makedirs(folder)\n",
    "os.makedirs(folder+\"imgs/\")\n",
    "print(folder)"
   ]
  },
  {
   "cell_type": "code",
   "execution_count": 119,
   "metadata": {
    "scrolled": true
   },
   "outputs": [
    {
     "name": "stdout",
     "output_type": "stream",
     "text": [
      "Saving video to: results/20200218-142841_ibramb_first/20200218-142841_ibramb_firstcircle1.mp4\n"
     ]
    }
   ],
   "source": [
    "cplot.plot_cars(x1, x2, xamb, folder, None, None, None, True, min_dist)\n",
    "CIRCLES = True\n",
    "if CIRCLES:\n",
    "    vid_fname = folder + subdir_name + 'circle1.mp4'\n",
    "else:\n",
    "    vid_fname = folder + subdir_name + 'car1.mp4'    \n",
    "if os.path.exists(vid_fname):\n",
    "    os.remove(vid_fname)\n",
    "cmd = 'ffmpeg -r 16 -f image2 -i {}imgs/%03d.png -vcodec libx264 -crf 25  -pix_fmt yuv420p {}'.format(folder, vid_fname)\n",
    "os.system(cmd)\n",
    "print('Saving video to: {}'.format(vid_fname))"
   ]
  },
  {
   "cell_type": "code",
   "execution_count": 116,
   "metadata": {},
   "outputs": [
    {
     "name": "stdout",
     "output_type": "stream",
     "text": [
      "      solver  :   t_proc      (avg)   t_wall      (avg)    n_eval\n",
      "       nlp_f  | 111.83ms (460.21us) 111.89ms (460.46us)       243\n",
      "       nlp_g  | 377.07ms (  1.55ms) 376.12ms (  1.55ms)       243\n",
      "    nlp_grad  |   6.10ms (  6.10ms)   6.08ms (  6.08ms)         1\n",
      "  nlp_grad_f  |  15.96ms (760.14us)  15.99ms (761.29us)        21\n",
      "  nlp_hess_l  |   3.35 s ( 17.99ms)   3.34 s ( 17.93ms)       186\n",
      "   nlp_jac_g  |   1.80 s (  9.11ms)   1.80 s (  9.08ms)       198\n",
      "       total  |   8.11 s (  8.11 s)   8.08 s (  8.08 s)         1\n"
     ]
    },
    {
     "ename": "RuntimeError",
     "evalue": "Error in Opti::solve [OptiNode] at .../casadi/core/optistack.cpp:159:\n.../casadi/core/optistack_internal.cpp:999: Assertion \"return_success(accept_limit)\" failed:\nSolver failed. You may use opti.debug.value to investigate the latest values of variables. return_status is 'Infeasible_Problem_Detected'",
     "output_type": "error",
     "traceback": [
      "\u001b[0;31m---------------------------------------------------------------------------\u001b[0m",
      "\u001b[0;31mRuntimeError\u001b[0m                              Traceback (most recent call last)",
      "\u001b[0;32m<ipython-input-116-1877b2809ce0>\u001b[0m in \u001b[0;36m<module>\u001b[0;34m\u001b[0m\n\u001b[1;32m      1\u001b[0m \u001b[0mbr2\u001b[0m \u001b[0;34m=\u001b[0m \u001b[0mmpc\u001b[0m\u001b[0;34m.\u001b[0m\u001b[0mIterativeBestResponseMPC\u001b[0m\u001b[0;34m(\u001b[0m\u001b[0mx2_MPC\u001b[0m\u001b[0;34m,\u001b[0m \u001b[0mx1_MPC\u001b[0m\u001b[0;34m,\u001b[0m \u001b[0mamb_MPC\u001b[0m \u001b[0;34m)\u001b[0m\u001b[0;34m\u001b[0m\u001b[0;34m\u001b[0m\u001b[0m\n\u001b[1;32m      2\u001b[0m \u001b[0mbr2\u001b[0m\u001b[0;34m.\u001b[0m\u001b[0mgenerate_optimization\u001b[0m\u001b[0;34m(\u001b[0m\u001b[0mN\u001b[0m\u001b[0;34m,\u001b[0m \u001b[0mmin_dist\u001b[0m\u001b[0;34m,\u001b[0m \u001b[0mfd\u001b[0m\u001b[0;34m,\u001b[0m \u001b[0mT\u001b[0m\u001b[0;34m,\u001b[0m \u001b[0mx0_2\u001b[0m\u001b[0;34m,\u001b[0m \u001b[0mx0\u001b[0m\u001b[0;34m,\u001b[0m \u001b[0mx0_amb\u001b[0m\u001b[0;34m,\u001b[0m \u001b[0;36m2\u001b[0m\u001b[0;34m)\u001b[0m\u001b[0;34m\u001b[0m\u001b[0;34m\u001b[0m\u001b[0m\n\u001b[0;32m----> 3\u001b[0;31m \u001b[0mbr2\u001b[0m\u001b[0;34m.\u001b[0m\u001b[0msolve\u001b[0m\u001b[0;34m(\u001b[0m\u001b[0mu1\u001b[0m\u001b[0;34m,\u001b[0m \u001b[0muamb\u001b[0m\u001b[0;34m)\u001b[0m\u001b[0;34m\u001b[0m\u001b[0;34m\u001b[0m\u001b[0m\n\u001b[0m",
      "\u001b[0;32m~/Dropbox (MIT)/DRL/2020_01_cooperative_mpc/mpc-multiple-vehicles/src/MPC_Casadi.py\u001b[0m in \u001b[0;36msolve\u001b[0;34m(self, u2, uamb)\u001b[0m\n\u001b[1;32m    349\u001b[0m         \u001b[0mself\u001b[0m\u001b[0;34m.\u001b[0m\u001b[0mopti\u001b[0m\u001b[0;34m.\u001b[0m\u001b[0mset_value\u001b[0m\u001b[0;34m(\u001b[0m\u001b[0mself\u001b[0m\u001b[0;34m.\u001b[0m\u001b[0mu2_opt\u001b[0m\u001b[0;34m,\u001b[0m \u001b[0mu2\u001b[0m\u001b[0;34m)\u001b[0m\u001b[0;34m\u001b[0m\u001b[0;34m\u001b[0m\u001b[0m\n\u001b[1;32m    350\u001b[0m         \u001b[0mself\u001b[0m\u001b[0;34m.\u001b[0m\u001b[0mopti\u001b[0m\u001b[0;34m.\u001b[0m\u001b[0mset_value\u001b[0m\u001b[0;34m(\u001b[0m\u001b[0mself\u001b[0m\u001b[0;34m.\u001b[0m\u001b[0muamb_opt\u001b[0m\u001b[0;34m,\u001b[0m \u001b[0muamb\u001b[0m\u001b[0;34m)\u001b[0m\u001b[0;34m\u001b[0m\u001b[0;34m\u001b[0m\u001b[0m\n\u001b[0;32m--> 351\u001b[0;31m         \u001b[0mself\u001b[0m\u001b[0;34m.\u001b[0m\u001b[0msolution\u001b[0m \u001b[0;34m=\u001b[0m \u001b[0mself\u001b[0m\u001b[0;34m.\u001b[0m\u001b[0mopti\u001b[0m\u001b[0;34m.\u001b[0m\u001b[0msolve\u001b[0m\u001b[0;34m(\u001b[0m\u001b[0;34m)\u001b[0m\u001b[0;34m\u001b[0m\u001b[0;34m\u001b[0m\u001b[0m\n\u001b[0m\u001b[1;32m    352\u001b[0m \u001b[0;34m\u001b[0m\u001b[0m\n\u001b[1;32m    353\u001b[0m     \u001b[0;32mdef\u001b[0m \u001b[0mget_bestresponse_solution\u001b[0m\u001b[0;34m(\u001b[0m\u001b[0mself\u001b[0m\u001b[0;34m)\u001b[0m\u001b[0;34m:\u001b[0m\u001b[0;34m\u001b[0m\u001b[0;34m\u001b[0m\u001b[0m\n",
      "\u001b[0;32m~/anaconda3/lib/python3.7/site-packages/casadi/casadi.py\u001b[0m in \u001b[0;36msolve\u001b[0;34m(self, *args)\u001b[0m\n\u001b[1;32m  27240\u001b[0m \u001b[0;34m\u001b[0m\u001b[0m\n\u001b[1;32m  27241\u001b[0m         \"\"\"\n\u001b[0;32m> 27242\u001b[0;31m         \u001b[0;32mreturn\u001b[0m \u001b[0m_casadi\u001b[0m\u001b[0;34m.\u001b[0m\u001b[0mOpti_solve\u001b[0m\u001b[0;34m(\u001b[0m\u001b[0mself\u001b[0m\u001b[0;34m,\u001b[0m \u001b[0;34m*\u001b[0m\u001b[0margs\u001b[0m\u001b[0;34m)\u001b[0m\u001b[0;34m\u001b[0m\u001b[0;34m\u001b[0m\u001b[0m\n\u001b[0m\u001b[1;32m  27243\u001b[0m \u001b[0;34m\u001b[0m\u001b[0m\n\u001b[1;32m  27244\u001b[0m \u001b[0;34m\u001b[0m\u001b[0m\n",
      "\u001b[0;31mRuntimeError\u001b[0m: Error in Opti::solve [OptiNode] at .../casadi/core/optistack.cpp:159:\n.../casadi/core/optistack_internal.cpp:999: Assertion \"return_success(accept_limit)\" failed:\nSolver failed. You may use opti.debug.value to investigate the latest values of variables. return_status is 'Infeasible_Problem_Detected'"
     ]
    }
   ],
   "source": [
    "br2 = mpc.IterativeBestResponseMPC(x2_MPC, x1_MPC, amb_MPC )\n",
    "br2.generate_optimization(N, min_dist, fd, T, x0_2, x0, x0_amb, 2)\n",
    "br2.solve(u1, uamb)"
   ]
  },
  {
   "cell_type": "code",
   "execution_count": 8,
   "metadata": {},
   "outputs": [
    {
     "name": "stdout",
     "output_type": "stream",
     "text": [
      "\n",
      "******************************************************************************\n",
      "This program contains Ipopt, a library for large-scale nonlinear optimization.\n",
      " Ipopt is released as open source code under the Eclipse Public License (EPL).\n",
      "         For more information visit http://projects.coin-or.org/Ipopt\n",
      "******************************************************************************\n",
      "\n",
      "      solver  :   t_proc      (avg)   t_wall      (avg)    n_eval\n",
      "       nlp_f  | 227.78ms (280.52us) 226.03ms (278.37us)       812\n",
      "       nlp_g  |   1.03 s (  1.27ms)   1.02 s (  1.25ms)       812\n",
      "    nlp_grad  |   3.71ms (  3.71ms)   3.65ms (  3.65ms)         1\n",
      "  nlp_grad_f  | 572.63ms (811.09us) 566.85ms (802.91us)       706\n",
      "  nlp_hess_l  |  17.49 s ( 22.90ms)  17.31 s ( 22.65ms)       764\n",
      "   nlp_jac_g  |   8.20 s ( 10.65ms)   8.11 s ( 10.54ms)       770\n",
      "       total  |  43.84 s ( 43.84 s)  43.37 s ( 43.37 s)         1\n"
     ]
    }
   ],
   "source": [
    "x2, u2, x2_des, x1, u1, x1_des, xamb, uamb, xamb_des = br2.get_solution()"
   ]
  },
  {
   "cell_type": "code",
   "execution_count": 19,
   "metadata": {},
   "outputs": [
    {
     "data": {
      "text/plain": [
       "'results/20200217-183819_decentral/'"
      ]
     },
     "execution_count": 19,
     "metadata": {},
     "output_type": "execute_result"
    }
   ],
   "source": [
    "opt.save_state(folder,x1, u1, x1_des, x2, u2, x2_des, xamb, uamb, xamb_des)"
   ]
  },
  {
   "cell_type": "code",
   "execution_count": 18,
   "metadata": {},
   "outputs": [],
   "source": [
    "x1, u1, x1_des, x2, u2, x2_des, xamb, uamb, xamb_des = opt.load_state(folder )"
   ]
  },
  {
   "cell_type": "code",
   "execution_count": null,
   "metadata": {
    "scrolled": true
   },
   "outputs": [],
   "source": [
    "cplot.plot_cars(x1, x2, xamb, folder,x1_des, x2_des, xamb_des)"
   ]
  },
  {
   "cell_type": "code",
   "execution_count": null,
   "metadata": {},
   "outputs": [],
   "source": [
    "CIRCLES = False\n",
    "if CIRCLES:\n",
    "    vid_fname = folder + subdir_name + 'circle_central.mp4'\n",
    "else:\n",
    "    vid_fname = folder + subdir_name + 'car_central.mp4'   \n",
    "if os.path.exists(vid_fname):\n",
    "    os.remove(vid_fname)\n",
    "cmd = 'ffmpeg -r 16 -f image2 -i {}imgs/%03d.png -vcodec libx264 -crf 25  -pix_fmt yuv420p {}'.format(folder, vid_fname)\n",
    "os.system(cmd)\n",
    "print('Saving video to: {}'.format(vid_fname))"
   ]
  },
  {
   "cell_type": "code",
   "execution_count": null,
   "metadata": {
    "scrolled": false
   },
   "outputs": [],
   "source": [
    "video = io.open(vid_fname, 'r+b').read()\n",
    "encoded = base64.b64encode(video)\n",
    "HTML(data='''<video alt=\"test\" controls>\n",
    "                <source src=\"data:video/mp4;base64,{0}\" type=\"video/mp4\" />\n",
    "             </video>'''.format(encoded.decode('ascii')))\n"
   ]
  },
  {
   "cell_type": "markdown",
   "metadata": {},
   "source": [
    "## Decentralized:  IBR to Converge"
   ]
  },
  {
   "cell_type": "code",
   "execution_count": null,
   "metadata": {},
   "outputs": [],
   "source": [
    "## Initialize values from the centralized version\n",
    "x1_current, u1_current, x1_desired_current = x1, u1, x1_des\n",
    "x2_current, u2_current, x2_desired_current = x2, u2, x2_des\n",
    "xamb_current, uamb_current, xamb_desired_current = xamb, uamb, xamb_des"
   ]
  },
  {
   "cell_type": "code",
   "execution_count": null,
   "metadata": {
    "scrolled": true
   },
   "outputs": [],
   "source": [
    "br1 = mpc.IterativeBestResponseMPC(x1_MPC, x2_MPC, amb_MPC)\n",
    "br1.generate_optimization(N, min_dist, fd, T, x0, x0_2, x0_amb, 2)\n",
    "\n",
    "x1r1, u1r1, x1_desr1 = br1.get_solution(x2_current, u2_current, x2_desired_current, xamb_current, uamb_current, xamb_desired_current)\n",
    "x1_current, u1_current, x1_desired_current = x1r1, u1r1, x1_desr1\n",
    "\n",
    "cplot.plot_cars(x1_current, x2_current, xamb_current, folder)\n",
    "CIRCLES = False\n",
    "if CIRCLES:\n",
    "    vid_fname = folder + subdir_name + 'circle1.mp4'\n",
    "else:\n",
    "    vid_fname = folder + subdir_name + 'car1.mp4'    \n",
    "if os.path.exists(vid_fname):\n",
    "    os.remove(vid_fname)\n",
    "cmd = 'ffmpeg -r 16 -f image2 -i {}imgs/%03d.png -vcodec libx264 -crf 25  -pix_fmt yuv420p {}'.format(folder, vid_fname)\n",
    "os.system(cmd)\n",
    "print('Saving video to: {}'.format(vid_fname))"
   ]
  },
  {
   "cell_type": "code",
   "execution_count": null,
   "metadata": {},
   "outputs": [],
   "source": []
  },
  {
   "cell_type": "code",
   "execution_count": null,
   "metadata": {},
   "outputs": [],
   "source": [
    "br2 = mpc.IterativeBestResponseMPC(x2_MPC, x1_MPC, amb_MPC)\n",
    "br2.generate_optimization(N, min_dist, fd, T, x0_2, x0, x0_amb, 2)\n",
    "br2.opti.set_initial(br2.x_opt, x2_current) # initialize it with the previous solution\n",
    "x2r2, u2r2, x2_desr2 = br2.get_solution(x1_current, u1_current, x1_desired_current, xamb_current, uamb_current, xamb_desired_current)\n",
    "x2_current, u2_current, x2_desired_current = x2r2, u2r2, x2_desr2"
   ]
  },
  {
   "cell_type": "code",
   "execution_count": null,
   "metadata": {},
   "outputs": [],
   "source": [
    "cplot.plot_cars(x1_current, x2_current, xamb_current, folder)"
   ]
  },
  {
   "cell_type": "code",
   "execution_count": null,
   "metadata": {},
   "outputs": [],
   "source": [
    "CIRCLES = False\n",
    "if CIRCLES:\n",
    "    vid_fname = folder + subdir_name + 'circle2.mp4'\n",
    "else:\n",
    "    vid_fname = folder + subdir_name + 'car2.mp4'    \n",
    "if os.path.exists(vid_fname):\n",
    "    os.remove(vid_fname)\n",
    "cmd = 'ffmpeg -r 16 -f image2 -i {}imgs/%03d.png -vcodec libx264 -crf 25  -pix_fmt yuv420p {}'.format(folder, vid_fname)\n",
    "os.system(cmd)\n",
    "print('Saving video to: {}'.format(vid_fname))"
   ]
  },
  {
   "cell_type": "code",
   "execution_count": null,
   "metadata": {},
   "outputs": [],
   "source": [
    "car1_v_cost = car1_s_cost\n",
    "car2_v_cost = car2_s_cost\n",
    "amb_v_cost = amb_s_cost"
   ]
  },
  {
   "cell_type": "code",
   "execution_count": null,
   "metadata": {},
   "outputs": [],
   "source": [
    "car1_sub_costs = [car1_u_delta_cost, car1_u_v_cost, k_lat1*car1_lat_cost, k_lon1*car1_lon_cost, k_phi1*car1_phi_cost, k_phid1*phid1_cost, q_v*car1_v_cost] \n",
    "car1_sub_costs_labels = ['udel1', 'uv1', 'elat1', 'lon1', 'ephi1', 'v1']\n",
    "plt.bar(range(len(car1_sub_costs)), [sol.value(c) for c in car1_sub_costs])\n",
    "plt.xticks(range(len(car1_sub_costs)), car1_sub_costs_labels,rotation=45)\n",
    "plt.title('Car 1')\n",
    "plt.xlabel(\"Subcost\")\n",
    "plt.ylabel(\"Cost Value\")\n",
    "plt.show()\n",
    "\n",
    "car2_sub_costs = [car2_u_delta_cost, car2_u_v_cost, 10*car2_lat_cost, 10*car2_lon_cost, k_phi2*car2_phi_cost, k_phid2*phid2_cost, q_v*car2_v_cost] \n",
    "car2_sub_costs_labels = ['udel2', 'uv2', 'elat2', 'lon2', 'ephi2', 'v2']\n",
    "plt.bar(range(len(car2_sub_costs)), [sol.value(c) for c in car2_sub_costs])\n",
    "plt.xticks(range(len(car2_sub_costs)), car2_sub_costs_labels,rotation=45)\n",
    "plt.title('Car 2')\n",
    "plt.xlabel(\"Subcost\")\n",
    "plt.ylabel(\"Cost Value\")\n",
    "plt.show()\n",
    "\n",
    "amb_sub_costs = [amb_u_delta_cost, amb_u_v_cost, 10*amb_lat_cost, 10*amb_lon_cost,k_phiamb*amb_phi_cost, k_phidamb*phidamb_cost, q_v*amb_v_cost] \n",
    "amb_sub_costs_labels = ['udelA', 'uvA', 'elatA', 'lonA', 'ephiA', 'vA']\n",
    "plt.bar(range(len(amb_sub_costs)), [sol.value(c) for c in amb_sub_costs])\n",
    "plt.xticks(range(len(amb_sub_costs)), amb_sub_costs_labels,rotation=45)\n",
    "\n",
    "plt.title('Amb')\n",
    "plt.xlabel(\"Subcost\")\n",
    "plt.ylabel(\"Cost Value\")\n",
    "plt.show()\n",
    "\n",
    "all_costs = [0.1*c for c in car1_sub_costs] + [0.1 for c in car2_sub_costs] + [10*c for c in amb_sub_costs]\n",
    "all_labels = car1_sub_costs_labels + car2_sub_costs_labels + amb_sub_costs_labels\n",
    "plt.bar(range(len(all_costs)), [sol.value(c) for c in all_costs])\n",
    "plt.xticks(range(len(all_labels)), all_labels,rotation=90)\n",
    "plt.title('All Cars')\n",
    "plt.xlabel(\"Subcost\")\n",
    "plt.ylabel(\"Cost Value\")"
   ]
  },
  {
   "cell_type": "code",
   "execution_count": null,
   "metadata": {},
   "outputs": [],
   "source": []
  },
  {
   "cell_type": "code",
   "execution_count": null,
   "metadata": {},
   "outputs": [],
   "source": [
    "for BR_iteration in range(20):\n",
    "    opti2.set_value(x_opt2, sol.value(x_opt))\n",
    "    opti2.set_value(u_opt2, sol.value(u_opt))\n",
    "\n",
    "    opti2.set_value(xamb_opt2, sol.value(xamb_opt))\n",
    "    opti2.set_value(uamb_opt2, sol.value(uamb_opt))\n",
    "\n",
    "    opti2.set_initial(x2_opt2, sol.value(x2_opt))\n",
    "    opti2.set_initial(u2_opt2, sol.value(u2_opt))\n",
    "    sol2 = opti2.solve()\n",
    "\n",
    "    opti3.set_value(x_opt3, sol2.value(x_opt2))\n",
    "    opti3.set_value(u_opt3, sol2.value(u_opt2))\n",
    "\n",
    "    opti3.set_value(x2_opt3, sol2.value(x2_opt2))\n",
    "    opti3.set_value(u2_opt3, sol2.value(uamb_opt2))\n",
    "\n",
    "    opti3.set_initial(xamb_opt3, sol2.value(xamb_opt2))\n",
    "    opti3.set_initial(uamb_opt3, sol2.value(uamb_opt2))    \n",
    "    sol3 = opti3.solve()\n",
    "    \n",
    "    \n",
    "    opti.set_value(x2_opt, sol3.value(x2_opt3))\n",
    "    opti.set_value(xamb_opt, sol3.value(xamb_opt3))\n",
    "    opti.set_value(u2_opt, sol3.value(u2_opt3))\n",
    "    opti.set_value(uamb_opt, sol3.value(uamb_opt3))\n",
    "\n",
    "    opti.set_initial(x_opt, sol3.value(x_opt3))\n",
    "    opti.set_initial(u_opt, sol3.value(u_opt3))    \n",
    "    sol = opti.solve()\n",
    "    \n",
    "    x_warm = sol.value(x_opt)\n",
    "    u_warm = sol.value(u_opt)\n",
    "    x2_warm = sol.value(x2_opt)\n",
    "    u2_warm = sol.value(u2_opt)\n",
    "    xamb_warm = sol.value(xamb_opt)\n",
    "    uamb_warm = sol.value(uamb_opt)\n",
    "\n",
    "#     x_des = sol/\n",
    "\n",
    "    for k in range(N+1):\n",
    "\n",
    "        fig, ax = ego_car.get_frame(x_warm[:,k])\n",
    "        fig, ax = ego_car.get_frame(x2_warm[:,k], ax)\n",
    "        fig, ax = ego_car.get_frame(xamb_warm[:,k], ax, amb=True)\n",
    "\n",
    "\n",
    "#         ax.plot(x_des[0,:], x_des[1,:], '--')\n",
    "#         ax.plot(x2_des[0,:], x2_des[1,:], '--')        \n",
    "\n",
    "        ax = plt.gca()\n",
    "        window_width = 24\n",
    "        window_height = window_width\n",
    "        xmin, xmax = -1, -1+window_width\n",
    "        ymin, ymax = -int(window_height/4.0), int(window_height/4.0)\n",
    "        ax.set_ylim((ymin, ymax))\n",
    "        ax.set_xlim((xmin, xmax))\n",
    "\n",
    "        fig.savefig(folder + 'imgs/' '{:03d}.png'.format(k))\n",
    "        plt.close(fig)         \n",
    "\n",
    "    vid_fname = folder + '%02d'%BR_iteration + 'car.mp4'\n",
    "    if os.path.exists(vid_fname):\n",
    "        os.remove(vid_fname)\n",
    "    cmd = 'ffmpeg -r 16 -f image2 -i {}imgs/%03d.png -vcodec libx264 -crf 25  -pix_fmt yuv420p {}'.format(folder, vid_fname)\n",
    "    os.system(cmd)\n",
    "    print('Saving video to: {}'.format(vid_fname))"
   ]
  },
  {
   "cell_type": "code",
   "execution_count": null,
   "metadata": {},
   "outputs": [],
   "source": []
  },
  {
   "cell_type": "code",
   "execution_count": null,
   "metadata": {},
   "outputs": [],
   "source": [
    "for BR_iteration in range(20):        \n",
    "    vid_fname = folder + '%02d'%BR_iteration + 'car.mp4'\n",
    "    \n",
    "    print('Saving video to: {}'.format(vid_fname))"
   ]
  },
  {
   "cell_type": "code",
   "execution_count": null,
   "metadata": {},
   "outputs": [],
   "source": []
  },
  {
   "cell_type": "markdown",
   "metadata": {},
   "source": [
    "## Best Response V2"
   ]
  },
  {
   "cell_type": "code",
   "execution_count": null,
   "metadata": {},
   "outputs": [],
   "source": []
  },
  {
   "cell_type": "code",
   "execution_count": null,
   "metadata": {
    "scrolled": true
   },
   "outputs": [],
   "source": []
  },
  {
   "cell_type": "code",
   "execution_count": null,
   "metadata": {},
   "outputs": [],
   "source": []
  },
  {
   "cell_type": "code",
   "execution_count": null,
   "metadata": {
    "scrolled": false
   },
   "outputs": [],
   "source": []
  },
  {
   "cell_type": "code",
   "execution_count": null,
   "metadata": {},
   "outputs": [],
   "source": []
  },
  {
   "cell_type": "code",
   "execution_count": null,
   "metadata": {},
   "outputs": [],
   "source": [
    "x1 = sol3.value(x_opt3)\n",
    "x2 = sol3.value(x2_opt3)\n",
    "xamb = sol3.value(xamb_opt3)\n",
    "x_des = sol3.value(xamb_desired_3)\n",
    "\n",
    "for k in range(N+1):\n",
    "\n",
    "    fig, ax = ego_car.get_frame(x1[:,k])\n",
    "    fig, ax = ego_car.get_frame(x2[:,k], ax)\n",
    "    fig, ax = ego_car.get_frame(xamb[:,k], ax, amb=True)\n",
    "\n",
    "    \n",
    "    ax.plot(x_des[0,:], x_des[1,:], '--')\n",
    "#     ax.plot(x2_des[0,:], x2_des[1,:], '--')        \n",
    "\n",
    "    ax = plt.gca()\n",
    "    window_width = 24\n",
    "    window_height = window_width\n",
    "    xmin, xmax = -1, -1+window_width\n",
    "    ymin, ymax = -int(window_height/4.0), int(window_height/4.0)\n",
    "    ax.set_ylim((ymin, ymax))\n",
    "    ax.set_xlim((xmin, xmax))\n",
    "\n",
    "    fig.savefig(folder + 'imgs/' '{:03d}.png'.format(k))\n",
    "    plt.close(fig)     \n",
    "    \n",
    "vid_fname = folder + 'caramb.mp4'\n",
    "if os.path.exists(vid_fname):\n",
    "    os.remove(vid_fname)\n",
    "cmd = 'ffmpeg -r 16 -f image2 -i {}imgs/%03d.png -vcodec libx264 -crf 25  -pix_fmt yuv420p {}'.format(folder, vid_fname)\n",
    "os.system(cmd)\n",
    "print('Saving video to: {}'.format(vid_fname))"
   ]
  },
  {
   "cell_type": "code",
   "execution_count": null,
   "metadata": {},
   "outputs": [],
   "source": []
  },
  {
   "cell_type": "code",
   "execution_count": null,
   "metadata": {},
   "outputs": [],
   "source": []
  },
  {
   "cell_type": "code",
   "execution_count": null,
   "metadata": {},
   "outputs": [],
   "source": []
  },
  {
   "cell_type": "code",
   "execution_count": null,
   "metadata": {},
   "outputs": [],
   "source": []
  },
  {
   "cell_type": "code",
   "execution_count": null,
   "metadata": {
    "scrolled": false
   },
   "outputs": [],
   "source": [
    "car1_sub_costs = [car1_u_delta_cost, car1_u_v_cost, 10*car1_lat_cost, 10*car1_lon_cost, car1_phi_cost, phid1_cost, q_v*car1_v_cost] \n",
    "car1_sub_costs_labels = ['udel1', 'uv1', 'elat1', 'lon1', 'ephi1', 'v1']\n",
    "plt.bar(range(len(car1_sub_costs)), [sol.value(c) for c in car1_sub_costs])\n",
    "plt.xticks(range(len(car1_sub_costs)), car1_sub_costs_labels,rotation=45)\n",
    "plt.title('Car 1')\n",
    "plt.xlabel(\"Subcost\")\n",
    "plt.ylabel(\"Cost Value\")\n",
    "plt.show()\n",
    "\n",
    "car2_sub_costs = [car2_u_delta_cost, car2_u_v_cost, 10*car2_lat_cost, 10*car2_lon_cost, car2_phi_cost, phid2_cost, q_v*car2_v_cost] \n",
    "car2_sub_costs_labels = ['udel2', 'uv2', 'elat2', 'lon2', 'ephi2', 'v2']\n",
    "plt.bar(range(len(car2_sub_costs)), [sol.value(c) for c in car2_sub_costs])\n",
    "plt.xticks(range(len(car2_sub_costs)), car2_sub_costs_labels,rotation=45)\n",
    "plt.title('Car 2')\n",
    "plt.xlabel(\"Subcost\")\n",
    "plt.ylabel(\"Cost Value\")\n",
    "plt.show()\n",
    "\n",
    "amb_sub_costs = [amb_u_delta_cost, amb_u_v_cost, 10*amb_lat_cost, 10*amb_lon_cost, amb_phi_cost, phidamb_cost, q_v*amb_v_cost] \n",
    "amb_sub_costs_labels = ['udelA', 'uvA', 'elatA', 'lonA', 'ephiA', 'vA']\n",
    "plt.bar(range(len(amb_sub_costs)), [sol.value(c) for c in amb_sub_costs])\n",
    "plt.xticks(range(len(amb_sub_costs)), amb_sub_costs_labels,rotation=45)\n",
    "\n",
    "plt.title('Amb')\n",
    "plt.xlabel(\"Subcost\")\n",
    "plt.ylabel(\"Cost Value\")\n",
    "plt.show()\n",
    "\n",
    "all_costs = [0.1*c for c in car1_sub_costs] + [0.1 for c in car2_sub_costs] + [10*c for c in amb_sub_costs]\n",
    "all_labels = car1_sub_costs_labels + car2_sub_costs_labels + amb_sub_costs_labels\n",
    "plt.bar(range(len(all_costs)), [sol.value(c) for c in all_costs])\n",
    "plt.xticks(range(len(all_labels)), all_labels,rotation=90)\n",
    "plt.title('All Cars')\n",
    "plt.xlabel(\"Subcost\")\n",
    "plt.ylabel(\"Cost Value\")"
   ]
  },
  {
   "cell_type": "code",
   "execution_count": null,
   "metadata": {},
   "outputs": [],
   "source": [
    "sol.value(x_opt)[3:5, 10:20]"
   ]
  },
  {
   "cell_type": "code",
   "execution_count": null,
   "metadata": {},
   "outputs": [],
   "source": [
    "dt"
   ]
  },
  {
   "cell_type": "code",
   "execution_count": null,
   "metadata": {},
   "outputs": [],
   "source": [
    "plt.plot(opti.debug.value(x_opt)[4,:],'o',c='b')\n",
    "plt.plot(opti.debug.value(x2_opt)[4,:],'o',c='g')\n",
    "plt.plot(opti.debug.value(xamb_opt)[4,:],'o',c='r')\n",
    "plt.ylabel(\"Velocity\")\n",
    "plt.show()"
   ]
  },
  {
   "cell_type": "code",
   "execution_count": null,
   "metadata": {},
   "outputs": [],
   "source": [
    "plt.plot(opti.debug.value(u_opt)[1,:],'o',c='b')\n",
    "plt.plot(opti.debug.value(u2_opt)[1,:],'o',c='g')\n",
    "plt.plot(opti.debug.value(uamb_opt)[1,:],'o',c='r')\n",
    "plt.ylabel(\"Acceleration $\\delta V_u$\")\n",
    "plt.show()"
   ]
  },
  {
   "cell_type": "code",
   "execution_count": null,
   "metadata": {},
   "outputs": [],
   "source": [
    "plt.plot([np.sqrt(opti.debug.value(cas.sumsqr(x_opt[0:2,k] - x2_opt[0:2,k]))) for k in range(opti.debug.value(x_opt).shape[1])],'o',c='b')\n",
    "plt.plot([np.sqrt(opti.debug.value(cas.sumsqr(x_opt[0:2,k] - x2_opt[0:2,k]))) for k in range(opti.debug.value(x_opt).shape[1])],'x',c='g')\n",
    "\n",
    "plt.plot([np.sqrt(opti.debug.value(cas.sumsqr(x_opt[0:2,k] - xamb_opt[0:2,k]))) for k in range(opti.debug.value(x_opt).shape[1])],'o',c='b')\n",
    "plt.plot([np.sqrt(opti.debug.value(cas.sumsqr(x_opt[0:2,k] - xamb_opt[0:2,k]))) for k in range(opti.debug.value(x_opt).shape[1])],'x',c='r')\n",
    "\n",
    "plt.plot([np.sqrt(opti.debug.value(cas.sumsqr(xamb_opt[0:2,k] - x2_opt[0:2,k]))) for k in range(opti.debug.value(x_opt).shape[1])],'o',c='g')\n",
    "plt.plot([np.sqrt(opti.debug.value(cas.sumsqr(xamb_opt[0:2,k] - x2_opt[0:2,k]))) for k in range(opti.debug.value(x_opt).shape[1])],'x',c='r')\n",
    "\n",
    "plt.hlines(min_dist,0,50)\n",
    "plt.ylabel('Intervehicle Distance')\n",
    "plt.ylim([-.1, 2*min_dist])"
   ]
  },
  {
   "cell_type": "code",
   "execution_count": null,
   "metadata": {},
   "outputs": [],
   "source": [
    "plt.plot([opti.debug.value(slack1) for k in range(opti.debug.value(x_opt).shape[1])],'.',c='b')\n",
    "plt.plot([opti.debug.value(slack2) for k in range(opti.debug.value(x_opt).shape[1])],'.',c='r')\n",
    "plt.plot([opti.debug.value(slack3) for k in range(opti.debug.value(x_opt).shape[1])],'.',c='g')\n",
    "\n",
    "\n",
    "# plt.plot([np.sqrt(opti.debug.value(cas.sumsqr(x_opt[0:2,k] - x2_opt[0:2,k]))) for k in range(opti.debug.value(x_opt).shape[1])],'o',c='b')\n",
    "# plt.plot([np.sqrt(opti.debug.value(cas.sumsqr(x_opt[0:2,k] - x2_opt[0:2,k]))) for k in range(opti.debug.value(x_opt).shape[1])],'x',c='g')\n",
    "\n",
    "# plt.plot([np.sqrt(opti.debug.value(cas.sumsqr(x_opt[0:2,k] - xamb_opt[0:2,k]))) for k in range(opti.debug.value(x_opt).shape[1])],'o',c='b')\n",
    "# plt.plot([np.sqrt(opti.debug.value(cas.sumsqr(x_opt[0:2,k] - xamb_opt[0:2,k]))) for k in range(opti.debug.value(x_opt).shape[1])],'x',c='r')\n",
    "\n",
    "# plt.plot([np.sqrt(opti.debug.value(cas.sumsqr(xamb_opt[0:2,k] - x2_opt[0:2,k]))) for k in range(opti.debug.value(x_opt).shape[1])],'o',c='g')\n",
    "# plt.plot([np.sqrt(opti.debug.value(cas.sumsqr(xamb_opt[0:2,k] - x2_opt[0:2,k]))) for k in range(opti.debug.value(x_opt).shape[1])],'x',c='r')\n",
    "\n",
    "plt.ylabel('slack')\n",
    "# plt.ylim([.7,.71])"
   ]
  },
  {
   "cell_type": "code",
   "execution_count": null,
   "metadata": {
    "scrolled": true
   },
   "outputs": [],
   "source": [
    "if not PLOT_LIVE:\n",
    "    for k in range(N+1):\n",
    "        \n",
    "        fig, ax = ego_car.get_frame(x_mpc[:,k])\n",
    "        fig, ax = ego_car.get_frame(x2_mpc[:,k], ax)\n",
    "        fig, ax = ego_car.get_frame(xamb_mpc[:,k], ax, amb=True)\n",
    "        \n",
    "        ax.plot(x_des[0,:], x_des[1,:], '--')\n",
    "        ax.plot(x2_des[0,:], x2_des[1,:], '--')        \n",
    "        \n",
    "        ax = plt.gca()\n",
    "        window_width = 24\n",
    "        window_height = window_width\n",
    "        xmin, xmax = -1, -1+window_width\n",
    "        ymin, ymax = -int(window_height/4.0), int(window_height/4.0)\n",
    "        ax.set_ylim((ymin, ymax))\n",
    "        ax.set_xlim((xmin, xmax))\n",
    "        \n",
    "        fig.savefig(folder + 'imgs/' '{:03d}.png'.format(k))\n",
    "        plt.close(fig)     "
   ]
  }
 ],
 "metadata": {
  "kernelspec": {
   "display_name": "Python 3",
   "language": "python",
   "name": "python3"
  },
  "language_info": {
   "codemirror_mode": {
    "name": "ipython",
    "version": 3
   },
   "file_extension": ".py",
   "mimetype": "text/x-python",
   "name": "python",
   "nbconvert_exporter": "python",
   "pygments_lexer": "ipython3",
   "version": "3.7.4"
  }
 },
 "nbformat": 4,
 "nbformat_minor": 2
}
